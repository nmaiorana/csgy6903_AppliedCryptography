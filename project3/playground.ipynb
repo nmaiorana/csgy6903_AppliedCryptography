{
 "cells": [
  {
   "metadata": {
    "ExecuteTime": {
     "end_time": "2025-03-07T00:53:04.613708Z",
     "start_time": "2025-03-07T00:53:04.603015Z"
    }
   },
   "cell_type": "code",
   "source": [
    "def split_binary_into_parts(binary, part_count=4):\n",
    "    \"\"\"Splits a binary number into equal parts, including leading zeros.\"\"\"\n",
    "    binary_str = f\"{binary:016b}\"\n",
    "    part_length = len(binary_str) // part_count\n",
    "    return [binary_str[i:i + part_length] for i in range(0, len(binary_str), part_length)]\n",
    "\n",
    "# Example usage\n",
    "binary_number = 0b1100110011001100\n",
    "parts = split_binary_into_parts(binary_number)\n",
    "print([f\"{part}\" for part in parts])\n",
    "\n",
    "# Another example with leading zeros\n",
    "binary_number_with_leading_zeros = 0b0000111100001111\n",
    "\n",
    "parts_with_leading_zeros = split_binary_into_parts(binary_number_with_leading_zeros)\n",
    "print([f\"{part}\" for part in parts_with_leading_zeros])"
   ],
   "id": "28af6cc1cb528cce",
   "outputs": [
    {
     "name": "stdout",
     "output_type": "stream",
     "text": [
      "['1100', '1100', '1100', '1100']\n",
      "['0000', '1111', '0000', '1111']\n"
     ]
    }
   ],
   "execution_count": 31
  },
  {
   "metadata": {
    "collapsed": true,
    "ExecuteTime": {
     "end_time": "2025-03-07T00:57:42.093828Z",
     "start_time": "2025-03-07T00:57:42.085649Z"
    }
   },
   "cell_type": "code",
   "source": [
    "key = 0b0101100101111010\n",
    "key_parts = split_binary_into_parts(key, 4)\n",
    "print([f\"{part}\" for part in key_parts])\n",
    "\n",
    "w0 = [key_parts[0], key_parts[1]]\n",
    "w1 = [key_parts[2], key_parts[3]]\n",
    "print(w0, w1)"
   ],
   "id": "initial_id",
   "outputs": [
    {
     "name": "stdout",
     "output_type": "stream",
     "text": [
      "['0101', '1001', '0111', '1010']\n",
      "['0101', '1001'] ['0111', '1010']\n"
     ]
    }
   ],
   "execution_count": 37
  },
  {
   "metadata": {
    "ExecuteTime": {
     "end_time": "2025-03-07T01:01:33.466896Z",
     "start_time": "2025-03-07T01:01:33.452388Z"
    }
   },
   "cell_type": "code",
   "source": [
    "def g_fun(w):\n",
    "    n0 = w[0]\n",
    "    n1 = w[1]\n",
    "    # swap\n",
    "    n0 = w[1]\n",
    "    n1 = w[0]\n",
    "    return [n0, n1]\n",
    "\n",
    "g_fun(w1)"
   ],
   "id": "5293b841e73d7c23",
   "outputs": [
    {
     "data": {
      "text/plain": [
       "['1010', '0111']"
      ]
     },
     "execution_count": 39,
     "metadata": {},
     "output_type": "execute_result"
    }
   ],
   "execution_count": 39
  }
 ],
 "metadata": {
  "kernelspec": {
   "display_name": "Python 3",
   "language": "python",
   "name": "python3"
  },
  "language_info": {
   "codemirror_mode": {
    "name": "ipython",
    "version": 2
   },
   "file_extension": ".py",
   "mimetype": "text/x-python",
   "name": "python",
   "nbconvert_exporter": "python",
   "pygments_lexer": "ipython2",
   "version": "2.7.6"
  }
 },
 "nbformat": 4,
 "nbformat_minor": 5
}
