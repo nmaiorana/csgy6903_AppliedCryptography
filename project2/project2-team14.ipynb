{
 "cells": [
  {
   "metadata": {},
   "cell_type": "markdown",
   "source": [
    "# Exploring the Security of One-Time and Many-Time Pads\n",
    "\n",
    "## Overview\n",
    "This team project investigates the cryptographic security of the one-time pad, known for its perfect security under certain conditions, and explores the implications of reusing a key, referred to as a many-time pad. We will examine the practical aspects of implementing these encryption methods, analyze their vulnerabilities, and develop strategies to exploit these vulnerabilities in a controlled environment. Here is some background story in signal intelligence. https://en.wikipedia.org/wiki/Venona_project\n",
    "## Objectives\n",
    "1. Understand One-Time Pad\n",
    "Examine the concept of the one-time pad, its implementation, and why it is considered perfectly secure.\n",
    "2. Implement One-Time Pad Encryption and Decryption\n",
    "Develop a Python program that simulates the encryption and decryption process between two parties.\n",
    "3. Explore Many-Time Pad\n",
    "Extend the one-time pad implementation to simulate a many-time pad scenario, where a single key is used to encrypt multiple messages.\n",
    "4. Cryptanalysis of Many-Time Pad\n",
    "Design and execute an attack strategy to decrypt messages encrypted with a many-time pad, focusing on exploiting the vulnerabilities introduced by key reuse."
   ],
   "id": "54478da58227b22"
  },
  {
   "metadata": {},
   "cell_type": "markdown",
   "source": [
    "## Problem 1: Understanding One-Time Pad\n",
    "Tasks:\n",
    "1. Research the theoretical basis of the one-time pad, including its requirements and operational principles."
   ],
   "id": "49c5c44a00b08972"
  },
  {
   "metadata": {},
   "cell_type": "markdown",
   "source": [
    "## Problem 2: One-Time Pad Implementation\n",
    "Tasks: the encryption and decryption process between two parties, Alice and Bob.\n",
    "1. Alice's Program\n",
    "Should prompt for a message input (plaintext), then display the ciphertext, and save both the ciphertext (in hex) and the key (in hex) in separate files.\n",
    "2. Bob's Program:\n",
    "Should read the key and ciphertext from their respective files and display the decrypted plaintext."
   ],
   "id": "be52fd7cedf2ae7f"
  },
  {
   "metadata": {
    "ExecuteTime": {
     "end_time": "2025-02-15T15:25:47.367412Z",
     "start_time": "2025-02-15T15:25:44.005973Z"
    }
   },
   "cell_type": "code",
   "source": [
    "from pathlib import Path\n",
    "import random\n",
    "import string\n",
    "\n",
    "Path('./mailbox/').mkdir(exist_ok=True)\n",
    "mailbox = Path('./mailbox/')\n",
    "print(f'Using mailbox: {mailbox}')\n",
    "\n",
    "def generate_key(length):\n",
    "    return ''.join(random.choices(string.ascii_lowercase, k=length))\n",
    "\n",
    "def vigenere_encrypt(text, key):\n",
    "    encrypted_text = []\n",
    "    n = len(text)\n",
    "    for i in range(n):\n",
    "        x = ord(text[i]) + ((ord(key[i]) % n) % 26)\n",
    "        encrypted_text.append(chr(x))\n",
    "    return \"\".join(encrypted_text)\n",
    "\n",
    "def vigenere_decrypt(encrypted_text, key):\n",
    "    decrypted_text = []\n",
    "    n = len(encrypted_text)\n",
    "    for i in range(n):\n",
    "        x = ord(encrypted_text[i]) - ((ord(key[i]) % n) % 26)\n",
    "        decrypted_text.append(chr(x))\n",
    "    return \"\".join(decrypted_text)\n",
    "\n",
    "def one_time_pad_encrypt(plaintext, key):\n",
    "    return vigenere_encrypt(plaintext, key)\n",
    "\n",
    "def one_time_pad_decrypt(ciphertext, key):\n",
    "    return vigenere_decrypt(ciphertext, key)\n",
    "\n",
    "def string_to_hex(s):\n",
    "    return s.encode('utf-8').hex()\n",
    "\n",
    "def hex_to_string(h):\n",
    "    return bytes.fromhex(h).decode('utf-8')\n",
    "\n",
    "def write_message(file_name, message):\n",
    "    mail_file = mailbox / f'{file_name}.txt'\n",
    "    with mail_file.open('w') as f:\n",
    "        f.write(string_to_hex(message))\n",
    "\n",
    "def read_message(file_name):\n",
    "    mail_file = mailbox / f'{file_name}.txt'\n",
    "    with mail_file.open() as f:\n",
    "        return hex_to_string(f.read())\n",
    "\n",
    "def alice_program(message_name):\n",
    "    # get user input\n",
    "    plaintext = input('Enter a message: ')\n",
    "    print(f'Plaintext : {plaintext}')\n",
    "    # encrypt the message\n",
    "    key = generate_key(len(plaintext))\n",
    "    ciphertext = one_time_pad_encrypt(plaintext, key)\n",
    "    print(f'Ciphertext: {ciphertext}')\n",
    "    write_message(message_name, ciphertext)\n",
    "    write_message(message_name+'_key', key)\n",
    "\n",
    "def bob_program(message_name):\n",
    "    ciphertext = read_message(message_name)\n",
    "    key = read_message(message_name+'_key')\n",
    "    message = one_time_pad_decrypt(ciphertext, key)\n",
    "    print(f'Plaintext : {message}')\n",
    "\n",
    "message_file_name = 'message1'\n",
    "alice_program(message_file_name)\n",
    "bob_program(message_file_name)"
   ],
   "id": "fc79e849767c8c1",
   "outputs": [
    {
     "name": "stdout",
     "output_type": "stream",
     "text": [
      "Using mailbox: mailbox\n",
      "Plaintext : Hello\n",
      "Ciphertext: Ieolp\n",
      "Plaintext : Hello\n"
     ]
    }
   ],
   "execution_count": 18
  },
  {
   "metadata": {},
   "cell_type": "code",
   "outputs": [],
   "execution_count": null,
   "source": "",
   "id": "dccab6f1b58b1b"
  }
 ],
 "metadata": {
  "kernelspec": {
   "display_name": "Python 3",
   "language": "python",
   "name": "python3"
  },
  "language_info": {
   "codemirror_mode": {
    "name": "ipython",
    "version": 2
   },
   "file_extension": ".py",
   "mimetype": "text/x-python",
   "name": "python",
   "nbconvert_exporter": "python",
   "pygments_lexer": "ipython2",
   "version": "2.7.6"
  }
 },
 "nbformat": 4,
 "nbformat_minor": 5
}
