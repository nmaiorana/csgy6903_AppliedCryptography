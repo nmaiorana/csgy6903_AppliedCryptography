{
 "cells": [
  {
   "metadata": {
    "id": "54478da58227b22"
   },
   "cell_type": "markdown",
   "source": [
    "# Exploring the Security of One-Time and Many-Time Pads\n",
    "\n",
    "## Overview\n",
    "This team project investigates the cryptographic security of the one-time pad, known for its perfect security under certain conditions, and explores the implications of reusing a key, referred to as a many-time pad. We will examine the practical aspects of implementing these encryption methods, analyze their vulnerabilities, and develop strategies to exploit these vulnerabilities in a controlled environment. Here is some background story in signal intelligence. https://en.wikipedia.org/wiki/Venona_project\n",
    "## Objectives\n",
    "1. Understand One-Time Pad\n",
    "Examine the concept of the one-time pad, its implementation, and why it is considered perfectly secure.\n",
    "2. Implement One-Time Pad Encryption and Decryption\n",
    "Develop a Python program that simulates the encryption and decryption process between two parties.\n",
    "3. Explore Many-Time Pad\n",
    "Extend the one-time pad implementation to simulate a many-time pad scenario, where a single key is used to encrypt multiple messages.\n",
    "4. Cryptanalysis of Many-Time Pad\n",
    "Design and execute an attack strategy to decrypt messages encrypted with a many-time pad, focusing on exploiting the vulnerabilities introduced by key reuse."
   ],
   "id": "54478da58227b22"
  },
  {
   "metadata": {
    "id": "49c5c44a00b08972"
   },
   "cell_type": "markdown",
   "source": [
    "## Problem 1: Understanding One-Time Pad\n",
    "Tasks:\n",
    "1. Research the theoretical basis of the one-time pad, including its requirements and operational principles."
   ],
   "id": "49c5c44a00b08972"
  },
  {
   "metadata": {
    "id": "be52fd7cedf2ae7f"
   },
   "cell_type": "markdown",
   "source": [
    "## Problem 2: One-Time Pad Implementation\n",
    "Tasks: the encryption and decryption process between two parties, Alice and Bob.\n",
    "1. Alice's Program\n",
    "Should prompt for a message input (plaintext), then display the ciphertext, and save both the ciphertext (in hex) and the key (in hex) in separate files.\n",
    "2. Bob's Program:\n",
    "Should read the key and ciphertext from their respective files and display the decrypted plaintext."
   ],
   "id": "be52fd7cedf2ae7f"
  },
  {
   "metadata": {
    "id": "fc79e849767c8c1",
    "outputId": "2ded13c3-66d0-4a41-a20e-3eae9ead6e71",
    "ExecuteTime": {
     "end_time": "2025-02-18T12:09:08.036622Z",
     "start_time": "2025-02-18T12:09:02.286735Z"
    }
   },
   "cell_type": "code",
   "source": [
    "from pathlib import Path\n",
    "import os\n",
    "import string\n",
    "\n",
    "# Print formatted output for better readability\n",
    "def print_formatted(description:str, data:str):\n",
    "    print(f'{description:<50}: {data}')\n",
    "\n",
    "# Create a mailbox directory to store messages\n",
    "def create_data_directory(directory_name:str) -> Path:\n",
    "    file_directory = Path(f'./{directory_name}/')\n",
    "    file_directory.mkdir(exist_ok=True)\n",
    "    print_formatted('Using data directory', file_directory.name)\n",
    "    return file_directory\n",
    "\n",
    "# For the one-time pad, the key must be as long as the plaintext and is different for each message.\n",
    "\n",
    "def string_to_bytes(text_string:str) -> bytes:\n",
    "    return text_string.encode('utf-8')\n",
    "\n",
    "def bytes_to_string(byte_data:bytes) -> str:\n",
    "    return byte_data.decode('utf-8')\n",
    "\n",
    "def xor_bytes(data:bytes, key:bytes) -> bytes:\n",
    "    return bytes(a ^ b for a, b in zip(data, key))\n",
    "\n",
    "# Generate a random key of a given length\n",
    "def generate_key(length:int) -> bytes:\n",
    "    return os.urandom(length)\n",
    "\n",
    "def one_time_pad_encrypt(plaintext:str) -> tuple:\n",
    "  key = generate_key(len(plaintext))\n",
    "  return xor_bytes(string_to_bytes(plaintext), key), key\n",
    "\n",
    "def one_time_pad_decrypt(ciphertext:bytes, key:bytes) -> bytes:\n",
    "  return xor_bytes(ciphertext, key)\n",
    "\n",
    "# Write and read data to/from files\n",
    "# Project requirements to store data as hex\n",
    "# Convert string to hex and vice versa\n",
    "def bytes_to_hex(byte_data: bytes) -> str:\n",
    "    return byte_data.hex()\n",
    "\n",
    "def hex_to_bytes(hex_string:str) -> bytes:\n",
    "    return bytes.fromhex(hex_string)\n",
    "\n",
    "def write_data(directory_path:Path, file_name:str, message:bytes) -> None:\n",
    "    data_file = directory_path / f'{file_name}.txt'\n",
    "    with data_file.open('w') as f:\n",
    "        f.write(bytes_to_hex(message))\n",
    "\n",
    "def read_data(directory_path:Path, file_name:str) -> bytes:\n",
    "    data_file = directory_path / f'{file_name}.txt'\n",
    "    with data_file.open() as f:\n",
    "        return hex_to_bytes(f.read())\n",
    "\n",
    "# Alice and Bob programs\n",
    "def alice_program(message_name:str, directory_path:Path) -> None:\n",
    "    # get user input\n",
    "    plaintext = input('Enter a message: ')\n",
    "    print_formatted('Plaintext', plaintext)\n",
    "    # encrypt the message using one-time pad\n",
    "    ciphertext, key = one_time_pad_encrypt(plaintext)\n",
    "    print_formatted('Alice sending message (Ciphertext)', ciphertext)\n",
    "    write_data(directory_path, message_name, ciphertext)\n",
    "    write_data(directory_path, message_name + '_key', key)\n",
    "\n",
    "def bob_program(message_name:str, directory_path:Path) -> None:\n",
    "    ciphertext = read_data(directory_path, message_name)\n",
    "    key = read_data(directory_path, message_name + '_key')\n",
    "    # decrypt the message using one-time pad\n",
    "    message = one_time_pad_decrypt(ciphertext, key)\n",
    "    print_formatted('Bob received message (Plaintext)', bytes_to_string(message))\n",
    "\n",
    "# Test the one-time pad implementation for alice and bob\n",
    "otp_data_directory = create_data_directory('otp_data')\n",
    "message_file_name = 'message1'\n",
    "alice_program(message_file_name, otp_data_directory)\n",
    "bob_program(message_file_name, otp_data_directory)"
   ],
   "id": "fc79e849767c8c1",
   "outputs": [
    {
     "name": "stdout",
     "output_type": "stream",
     "text": [
      "Using data directory                              : otp_data\n",
      "Plaintext                                         : Hello bob\n",
      "Alice sending message (Ciphertext)                : b'v\\x1a\\xb3\\xf9|\\x01:\\x8b\\x1f'\n",
      "Bob received message (Plaintext)                  : Hello bob\n"
     ]
    }
   ],
   "execution_count": 10
  },
  {
   "metadata": {
    "ExecuteTime": {
     "end_time": "2025-02-18T20:30:18.386063Z",
     "start_time": "2025-02-18T20:30:18.372989Z"
    }
   },
   "cell_type": "code",
   "source": [
    "\n",
    "data_file = otp_data_directory / f'{'message1'}.txt'\n",
    "with data_file.open() as f:\n",
    "    read_text = f.read()"
   ],
   "id": "727f4dd87db566b",
   "outputs": [],
   "execution_count": 20
  },
  {
   "metadata": {
    "ExecuteTime": {
     "end_time": "2025-02-18T20:30:29.144147Z",
     "start_time": "2025-02-18T20:30:29.127284Z"
    }
   },
   "cell_type": "code",
   "source": "ciphertext",
   "id": "a81982c58152e8b",
   "outputs": [
    {
     "data": {
      "text/plain": [
       "b'v\\x1a\\xb3\\xf9|\\x01:\\x8b\\x1f'"
      ]
     },
     "execution_count": 21,
     "metadata": {},
     "output_type": "execute_result"
    }
   ],
   "execution_count": 21
  },
  {
   "metadata": {
    "ExecuteTime": {
     "end_time": "2025-02-18T20:30:39.656414Z",
     "start_time": "2025-02-18T20:30:39.638677Z"
    }
   },
   "cell_type": "code",
   "source": "read_text",
   "id": "7e91d169ae1f3165",
   "outputs": [
    {
     "data": {
      "text/plain": [
       "'761ab3f97c013a8b1f'"
      ]
     },
     "execution_count": 22,
     "metadata": {},
     "output_type": "execute_result"
    }
   ],
   "execution_count": 22
  },
  {
   "metadata": {
    "id": "3909ccd8a51eaf0c"
   },
   "cell_type": "markdown",
   "source": [
    "## Problem 3: Exploring Many-Time Pad\n",
    "Tasks: Modify the one-time pad implementation to encrypt multiple messages with the same key, simulating a many-time pad scenario. The purpose of this problem is to see if there are any recognizable patterns by observing the outputs. You can gain insights by changing the plaintexts or the key to verify your findings. These findings would be useful in the next problem.\n",
    "1. The program should encrypt a list of 10 predefined plaintext messages with a single key, saving the plaintexts, key, and ciphertexts (all in hex) into a file. You can select 10 of your favorite messages. Assume the key is long enough to do encryption to all the 10 messages."
   ],
   "id": "3909ccd8a51eaf0c"
  },
  {
   "metadata": {
    "id": "dccab6f1b58b1b",
    "outputId": "83642c1a-71cd-499c-efb5-97a4d30e87e9",
    "ExecuteTime": {
     "end_time": "2025-02-18T19:01:25.723498Z",
     "start_time": "2025-02-18T19:01:25.657614Z"
    }
   },
   "cell_type": "code",
   "source": [
    "from pathlib import Path\n",
    "import os\n",
    "\n",
    "# Print formatted output for better readability\n",
    "def print_formatted(description:str, data:str):\n",
    "    print(f'{description:<50}: {data}')\n",
    "\n",
    "# Create a mailbox directory to store messages\n",
    "def create_data_directory(directory_name:str) -> Path:\n",
    "    file_directory = Path(f'./{directory_name}/')\n",
    "    file_directory.mkdir(exist_ok=True)\n",
    "    print_formatted('Using data directory', file_directory.name)\n",
    "    return file_directory\n",
    "\n",
    "def string_to_bytes(text_string:str) -> bytes:\n",
    "    return text_string.encode('utf-8')\n",
    "\n",
    "def bytes_to_string(byte_data:bytes) -> str:\n",
    "    return byte_data.decode('utf-8')\n",
    "\n",
    "# Generate a random key of a given length\n",
    "def generate_key(length:int) -> bytes:\n",
    "    return os.urandom(length)\n",
    "\n",
    "def xor_bytes(data:bytes, key:bytes) -> bytes:\n",
    "    return bytes(a ^ b for a, b in zip(data, key))\n",
    "\n",
    "# For storing and retreiving from file in hex\n",
    "def string_to_hex(string:str) -> str:\n",
    "    return string.encode('utf-8').hex()\n",
    "\n",
    "def hex_to_string(hex_string:str) -> str:\n",
    "    return bytes.fromhex(hex_string).decode('utf-8')\n",
    "\n",
    "# Many-time pad encryption for multiple plaintexts using the same key\n",
    "def many_time_pad_encrypt(plaintexts: list, key: bytes) -> list:\n",
    "    ciphertexts = []\n",
    "    for plaintext in plaintexts:\n",
    "        ciphertexts.append(xor_bytes(string_to_bytes(plaintext), key))\n",
    "    return ciphertexts\n",
    "\n",
    "# Many-time pad decryption for multiple ciphertexts using the same key\n",
    "def many_time_pad_decrypt(ciphertexts: list, keys: list) -> list:\n",
    "    plaintexts = []\n",
    "    for key, ciphertext in zip(keys, ciphertexts):\n",
    "        plaintexts.append(bytes_to_string(xor_bytes(ciphertext, key)))\n",
    "    return plaintexts\n",
    "\n",
    "# Write and read many-time pad data to/from files\n",
    "# The format of the files is key,plaintext,ciphertext\n",
    "# The key, plaintext, and ciphertext are in hex format\n",
    "\n",
    "# Write and read data to/from files\n",
    "# Project requirements to store data as hex\n",
    "# Convert string to hex and vice versa\n",
    "def bytes_to_hex(byte_data: bytes) -> str:\n",
    "    return byte_data.hex()\n",
    "\n",
    "def hex_to_bytes(hex_string:str) -> bytes:\n",
    "    return bytes.fromhex(hex_string)\n",
    "\n",
    "def write_many_time_pad_data(directory_path: Path, file_name:str, key: bytes, plaintexts:list, ciphertexts: list) -> None:\n",
    "    data_file = directory_path / f'{file_name}.txt'\n",
    "    with data_file.open('w') as f:\n",
    "        for plaintext, ciphertext in zip(plaintexts, ciphertexts):\n",
    "            f.write(f'{bytes_to_hex(key)},{string_to_hex(plaintext)},{bytes_to_hex(ciphertext)}\\n')\n",
    "\n",
    "def read_many_time_pad_data(directory_path: Path, file_name:str) -> tuple:\n",
    "    keys = []\n",
    "    plaintexts = []\n",
    "    ciphertexts = []\n",
    "    data_file = directory_path / f'{file_name}.txt'\n",
    "    with data_file.open() as f:\n",
    "        for line in f:\n",
    "            k, p, c = line.split(',')\n",
    "            keys.append(hex_to_bytes(k.strip()))\n",
    "            plaintexts.append(hex_to_string(p.strip()))\n",
    "            ciphertexts.append(hex_to_bytes(c.strip()))\n",
    "    return keys, plaintexts, ciphertexts\n",
    "\n",
    "# Many-time pad encryption and decryption for multiple messages\n",
    "# 10 even longer messages to test\n",
    "mtp_messages = [\n",
    "    'hello world, how are you doing today?',\n",
    "    'python programming is fun and challenging',\n",
    "    'data science is the future of technology',\n",
    "    'machine learning is a subset of artificial intelligence',\n",
    "    'deep neural network is a type of machine learning',\n",
    "    'cryptography is the practice and study of secure communication',\n",
    "    'information security is the protection of information',\n",
    "    'computer science is the study of computation',\n",
    "    'software engineering is the application of engineering to software',\n",
    "    'data analytics is the science of analyzing raw data'\n",
    "    ]\n",
    "\n",
    "mtp_key = generate_key(100)\n",
    "mtp_ciphertexts = many_time_pad_encrypt(mtp_messages, mtp_key)\n",
    "many_time_pad_data_directory = create_data_directory('mtp_data')\n",
    "many_time_pad_file_name = 'many_time_pad_data'\n",
    "write_many_time_pad_data(many_time_pad_data_directory, many_time_pad_file_name, mtp_key, mtp_messages, mtp_ciphertexts)\n",
    "mtp_keys, mtp_plaintexts, mtp_ciphertexts = read_many_time_pad_data(many_time_pad_data_directory, many_time_pad_file_name)\n",
    "print(\"Many-Time Pad Data:\")\n",
    "for i in range(len(mtp_messages)):\n",
    "    print_formatted('Message', str(i+1))\n",
    "    print_formatted('Many-Time Pad Key', mtp_keys[i])\n",
    "    print_formatted('Many-Time Pad Plaintext', mtp_plaintexts[i])\n",
    "    print_formatted('Many-Time Pad Ciphertext', mtp_ciphertexts[i])\n",
    "\n",
    "print(\"Many-Time Pad Data decrypted:\")\n",
    "mtp_plaintexts_2 = many_time_pad_decrypt(mtp_ciphertexts, mtp_keys)\n",
    "assert mtp_plaintexts == mtp_plaintexts_2\n",
    "for plaintext in mtp_plaintexts_2:\n",
    "    print_formatted('Many-Time Pad Decrypted Plaintext', plaintext)"
   ],
   "id": "dccab6f1b58b1b",
   "outputs": [
    {
     "name": "stdout",
     "output_type": "stream",
     "text": [
      "Using data directory                              : mtp_data\n",
      "Many-Time Pad Data:\n",
      "Message                                           : 1\n",
      "Many-Time Pad Key                                 : b\"\\xa9mdZ\\xd4\\xed\\xfe\\x17\\xec\\xafb\\x16K\\xa8'zKD=\\x16\\xb27\\xa1\\x94eLf\\xc7&\\xb1Dm\\x81\\x0c\\x954Y\\x05N\\xc7\\xd2\\xc2g\\xb2N\\xc2\\xc6J\\xed\\x90\\xd1\\xb3%\\x83\\x8b\\x8b\\xefp\\x8ez\\xc6Vdg%?\\xff\\xc7/\\x01\\x8b\\xa9Zy\\xf0\\xa3\\xea \\xf4\\xaf\\x9c\\n\\xc7\\x8f0Gg_U\\x16\\xe1\\x08H\\xb8\\xa1M?\\xe3Y\\xcb\"\n",
      "Many-Time Pad Plaintext                           : hello world, how are you doing today?\n",
      "Many-Time Pad Ciphertext                          : b'\\xc1\\x08\\x086\\xbb\\xcd\\x89x\\x9e\\xc3\\x06:k\\xc0H\\rk%Os\\x92N\\xce\\xe1E(\\t\\xaeH\\xd6d\\x19\\xeeh\\xf4Mf'\n",
      "Message                                           : 2\n",
      "Many-Time Pad Key                                 : b\"\\xa9mdZ\\xd4\\xed\\xfe\\x17\\xec\\xafb\\x16K\\xa8'zKD=\\x16\\xb27\\xa1\\x94eLf\\xc7&\\xb1Dm\\x81\\x0c\\x954Y\\x05N\\xc7\\xd2\\xc2g\\xb2N\\xc2\\xc6J\\xed\\x90\\xd1\\xb3%\\x83\\x8b\\x8b\\xefp\\x8ez\\xc6Vdg%?\\xff\\xc7/\\x01\\x8b\\xa9Zy\\xf0\\xa3\\xea \\xf4\\xaf\\x9c\\n\\xc7\\x8f0Gg_U\\x16\\xe1\\x08H\\xb8\\xa1M?\\xe3Y\\xcb\"\n",
      "Many-Time Pad Plaintext                           : python programming is fun and challenging\n",
      "Many-Time Pad Ciphertext                          : b\"\\xd9\\x14\\x102\\xbb\\x83\\xdeg\\x9e\\xc0\\x05d*\\xc5J\\x13%#\\x1d\\x7f\\xc1\\x17\\xc7\\xe1\\x0bl\\x07\\xa9B\\x91'\\x05\\xe0`\\xf9Q7b'\\xa9\\xb5\"\n",
      "Message                                           : 3\n",
      "Many-Time Pad Key                                 : b\"\\xa9mdZ\\xd4\\xed\\xfe\\x17\\xec\\xafb\\x16K\\xa8'zKD=\\x16\\xb27\\xa1\\x94eLf\\xc7&\\xb1Dm\\x81\\x0c\\x954Y\\x05N\\xc7\\xd2\\xc2g\\xb2N\\xc2\\xc6J\\xed\\x90\\xd1\\xb3%\\x83\\x8b\\x8b\\xefp\\x8ez\\xc6Vdg%?\\xff\\xc7/\\x01\\x8b\\xa9Zy\\xf0\\xa3\\xea \\xf4\\xaf\\x9c\\n\\xc7\\x8f0Gg_U\\x16\\xe1\\x08H\\xb8\\xa1M?\\xe3Y\\xcb\"\n",
      "Many-Time Pad Plaintext                           : data science is the future of technology\n",
      "Many-Time Pad Ciphertext                          : b'\\xcd\\x0c\\x10;\\xf4\\x9e\\x9d~\\x89\\xc1\\x01sk\\xc1TZ?,X6\\xd4B\\xd5\\xe1\\x17)F\\xa8@\\x910\\x08\\xe2d\\xfb[5j)\\xbe'\n",
      "Message                                           : 4\n",
      "Many-Time Pad Key                                 : b\"\\xa9mdZ\\xd4\\xed\\xfe\\x17\\xec\\xafb\\x16K\\xa8'zKD=\\x16\\xb27\\xa1\\x94eLf\\xc7&\\xb1Dm\\x81\\x0c\\x954Y\\x05N\\xc7\\xd2\\xc2g\\xb2N\\xc2\\xc6J\\xed\\x90\\xd1\\xb3%\\x83\\x8b\\x8b\\xefp\\x8ez\\xc6Vdg%?\\xff\\xc7/\\x01\\x8b\\xa9Zy\\xf0\\xa3\\xea \\xf4\\xaf\\x9c\\n\\xc7\\x8f0Gg_U\\x16\\xe1\\x08H\\xb8\\xa1M?\\xe3Y\\xcb\"\n",
      "Many-Time Pad Plaintext                           : machine learning is a subset of artificial intelligence\n",
      "Many-Time Pad Ciphertext                          : b'\\xc4\\x0c\\x072\\xbd\\x83\\x9b7\\x80\\xca\\x03d%\\xc1I\\x1dk-N6\\xd3\\x17\\xd2\\xe1\\x07?\\x03\\xb3\\x06\\xde\"M\\xe0~\\xe1]?l-\\xae\\xb3\\xaeG\\xdb \\xb6\\xa3&\\x81\\xf9\\xb6\\xd6K\\xe0\\xee'\n",
      "Message                                           : 5\n",
      "Many-Time Pad Key                                 : b\"\\xa9mdZ\\xd4\\xed\\xfe\\x17\\xec\\xafb\\x16K\\xa8'zKD=\\x16\\xb27\\xa1\\x94eLf\\xc7&\\xb1Dm\\x81\\x0c\\x954Y\\x05N\\xc7\\xd2\\xc2g\\xb2N\\xc2\\xc6J\\xed\\x90\\xd1\\xb3%\\x83\\x8b\\x8b\\xefp\\x8ez\\xc6Vdg%?\\xff\\xc7/\\x01\\x8b\\xa9Zy\\xf0\\xa3\\xea \\xf4\\xaf\\x9c\\n\\xc7\\x8f0Gg_U\\x16\\xe1\\x08H\\xb8\\xa1M?\\xe3Y\\xcb\"\n",
      "Many-Time Pad Plaintext                           : deep neural network is a type of machine learning\n",
      "Many-Time Pad Ciphertext                          : b'\\xcd\\x08\\x01*\\xf4\\x83\\x9bb\\x9e\\xce\\x0e6%\\xcdS\\r$6V6\\xdbD\\x81\\xf5E8\\x1f\\xb7C\\x91+\\x0b\\xa1a\\xf4W1l \\xa2\\xf2\\xae\\x02\\xd3<\\xac\\xaf$\\x8a'\n",
      "Message                                           : 6\n",
      "Many-Time Pad Key                                 : b\"\\xa9mdZ\\xd4\\xed\\xfe\\x17\\xec\\xafb\\x16K\\xa8'zKD=\\x16\\xb27\\xa1\\x94eLf\\xc7&\\xb1Dm\\x81\\x0c\\x954Y\\x05N\\xc7\\xd2\\xc2g\\xb2N\\xc2\\xc6J\\xed\\x90\\xd1\\xb3%\\x83\\x8b\\x8b\\xefp\\x8ez\\xc6Vdg%?\\xff\\xc7/\\x01\\x8b\\xa9Zy\\xf0\\xa3\\xea \\xf4\\xaf\\x9c\\n\\xc7\\x8f0Gg_U\\x16\\xe1\\x08H\\xb8\\xa1M?\\xe3Y\\xcb\"\n",
      "Many-Time Pad Plaintext                           : cryptography is the practice and study of secure communication\n",
      "Many-Time Pad Ciphertext                          : b'\\xca\\x1f\\x1d*\\xa0\\x82\\x99e\\x8d\\xdf\\nok\\xc1TZ?,X6\\xc2E\\xc0\\xf7\\x11%\\x05\\xa2\\x06\\xd0*\\t\\xa1\\x7f\\xe1A=|n\\xa8\\xb4\\xe2\\x14\\xd7-\\xb7\\xb4/\\xcd\\xf3\\xbe\\xdeH\\xf6\\xe5\\xe2\\x8c\\x11\\xfa\\x13\\xa98'\n",
      "Message                                           : 7\n",
      "Many-Time Pad Key                                 : b\"\\xa9mdZ\\xd4\\xed\\xfe\\x17\\xec\\xafb\\x16K\\xa8'zKD=\\x16\\xb27\\xa1\\x94eLf\\xc7&\\xb1Dm\\x81\\x0c\\x954Y\\x05N\\xc7\\xd2\\xc2g\\xb2N\\xc2\\xc6J\\xed\\x90\\xd1\\xb3%\\x83\\x8b\\x8b\\xefp\\x8ez\\xc6Vdg%?\\xff\\xc7/\\x01\\x8b\\xa9Zy\\xf0\\xa3\\xea \\xf4\\xaf\\x9c\\n\\xc7\\x8f0Gg_U\\x16\\xe1\\x08H\\xb8\\xa1M?\\xe3Y\\xcb\"\n",
      "Many-Time Pad Plaintext                           : information security is the protection of information\n",
      "Many-Time Pad Ciphertext                          : b\"\\xc0\\x03\\x025\\xa6\\x80\\x9fc\\x85\\xc0\\x0c68\\xcdD\\x0f9-Io\\x92^\\xd2\\xb4\\x11$\\x03\\xe7V\\xc3+\\x19\\xe4o\\xe1]6kn\\xa8\\xb4\\xe2\\x0e\\xdc(\\xad\\xb4'\\x8c\\xe4\\xb8\\xdcK\"\n",
      "Message                                           : 8\n",
      "Many-Time Pad Key                                 : b\"\\xa9mdZ\\xd4\\xed\\xfe\\x17\\xec\\xafb\\x16K\\xa8'zKD=\\x16\\xb27\\xa1\\x94eLf\\xc7&\\xb1Dm\\x81\\x0c\\x954Y\\x05N\\xc7\\xd2\\xc2g\\xb2N\\xc2\\xc6J\\xed\\x90\\xd1\\xb3%\\x83\\x8b\\x8b\\xefp\\x8ez\\xc6Vdg%?\\xff\\xc7/\\x01\\x8b\\xa9Zy\\xf0\\xa3\\xea \\xf4\\xaf\\x9c\\n\\xc7\\x8f0Gg_U\\x16\\xe1\\x08H\\xb8\\xa1M?\\xe3Y\\xcb\"\n",
      "Many-Time Pad Plaintext                           : computer science is the study of computation\n",
      "Many-Time Pad Ciphertext                          : b'\\xca\\x02\\t*\\xa1\\x99\\x9be\\xcc\\xdc\\x01\\x7f.\\xc6D\\x1fk-N6\\xc6_\\xc4\\xb4\\x168\\x13\\xa3_\\x91+\\x0b\\xa1o\\xfaY)p:\\xa6\\xa6\\xab\\x08\\xdc'\n",
      "Message                                           : 9\n",
      "Many-Time Pad Key                                 : b\"\\xa9mdZ\\xd4\\xed\\xfe\\x17\\xec\\xafb\\x16K\\xa8'zKD=\\x16\\xb27\\xa1\\x94eLf\\xc7&\\xb1Dm\\x81\\x0c\\x954Y\\x05N\\xc7\\xd2\\xc2g\\xb2N\\xc2\\xc6J\\xed\\x90\\xd1\\xb3%\\x83\\x8b\\x8b\\xefp\\x8ez\\xc6Vdg%?\\xff\\xc7/\\x01\\x8b\\xa9Zy\\xf0\\xa3\\xea \\xf4\\xaf\\x9c\\n\\xc7\\x8f0Gg_U\\x16\\xe1\\x08H\\xb8\\xa1M?\\xe3Y\\xcb\"\n",
      "Many-Time Pad Plaintext                           : software engineering is the application of engineering to software\n",
      "Many-Time Pad Ciphertext                          : b'\\xda\\x02\\x02.\\xa3\\x8c\\x8cr\\xcc\\xca\\x0cq\"\\xc6B\\x1f9-Sq\\x92^\\xd2\\xb4\\x11$\\x03\\xe7G\\xc14\\x01\\xe8o\\xf4@0j \\xe7\\xbd\\xa4G\\xd7 \\xa5\\xaf$\\x88\\xf5\\xa3\\xdaK\\xe4\\xab\\xff\\x80P\\xfd\\x15\\xa0\"\\x13\\x06WZ'\n",
      "Message                                           : 10\n",
      "Many-Time Pad Key                                 : b\"\\xa9mdZ\\xd4\\xed\\xfe\\x17\\xec\\xafb\\x16K\\xa8'zKD=\\x16\\xb27\\xa1\\x94eLf\\xc7&\\xb1Dm\\x81\\x0c\\x954Y\\x05N\\xc7\\xd2\\xc2g\\xb2N\\xc2\\xc6J\\xed\\x90\\xd1\\xb3%\\x83\\x8b\\x8b\\xefp\\x8ez\\xc6Vdg%?\\xff\\xc7/\\x01\\x8b\\xa9Zy\\xf0\\xa3\\xea \\xf4\\xaf\\x9c\\n\\xc7\\x8f0Gg_U\\x16\\xe1\\x08H\\xb8\\xa1M?\\xe3Y\\xcb\"\n",
      "Many-Time Pad Plaintext                           : data analytics is the science of analyzing raw data\n",
      "Many-Time Pad Ciphertext                          : b'\\xcd\\x0c\\x10;\\xf4\\x8c\\x90v\\x80\\xd6\\x16\\x7f(\\xdb\\x07\\x138dI~\\xd7\\x17\\xd2\\xf7\\x0c)\\x08\\xa4C\\x91+\\x0b\\xa1m\\xfbU5|4\\xae\\xbc\\xa5G\\xc0/\\xb5\\xe6.\\x8c\\xe4\\xb0'\n",
      "Many-Time Pad Data decrypted:\n",
      "Many-Time Pad Decrypted Plaintext                 : hello world, how are you doing today?\n",
      "Many-Time Pad Decrypted Plaintext                 : python programming is fun and challenging\n",
      "Many-Time Pad Decrypted Plaintext                 : data science is the future of technology\n",
      "Many-Time Pad Decrypted Plaintext                 : machine learning is a subset of artificial intelligence\n",
      "Many-Time Pad Decrypted Plaintext                 : deep neural network is a type of machine learning\n",
      "Many-Time Pad Decrypted Plaintext                 : cryptography is the practice and study of secure communication\n",
      "Many-Time Pad Decrypted Plaintext                 : information security is the protection of information\n",
      "Many-Time Pad Decrypted Plaintext                 : computer science is the study of computation\n",
      "Many-Time Pad Decrypted Plaintext                 : software engineering is the application of engineering to software\n",
      "Many-Time Pad Decrypted Plaintext                 : data analytics is the science of analyzing raw data\n"
     ]
    }
   ],
   "execution_count": 15
  },
  {
   "metadata": {
    "ExecuteTime": {
     "end_time": "2025-02-19T01:33:03.949661Z",
     "start_time": "2025-02-19T01:33:03.907813Z"
    }
   },
   "cell_type": "code",
   "source": [
    "from collections import Counter\n",
    "\n",
    "def string_to_bytes(text_string:str) -> bytes:\n",
    "    return text_string.encode('utf-8')\n",
    "\n",
    "def bytes_to_string(byte_data:bytes) -> str:\n",
    "    return byte_data.decode('utf-8')\n",
    "\n",
    "# Generate a random key of a given length\n",
    "def generate_key(length:int) -> bytes:\n",
    "    return os.urandom(length)\n",
    "\n",
    "def xor_bytes(data:bytes, key:bytes) -> bytes:\n",
    "    return bytes(a ^ b for a, b in zip(data, key))\n",
    "\n",
    "# For storing and retreiving from file in hex\n",
    "def string_to_hex(string:str) -> str:\n",
    "    return string.encode('utf-8').hex()\n",
    "\n",
    "def hex_to_string(hex_string:str) -> str:\n",
    "    return bytes.fromhex(hex_string).decode('utf-8')\n",
    "\n",
    "collected_cypertexts = [\n",
    "  \"71fe1ace4389087266117cd7c98c4182851b3acff3b086e3f83f94d6eb05c4ba85d8e1fa14f11d1c3b568ff6cff5c09c5d67ef5c9c71b7eeb3d45a5154ab17b83e071ce9d8988adb4afedf46a840\",\n",
    "  \"71fe1ace559a1e7266117cd7ce8745d7be2e74c3f0f68eeef57e8884e607debf81dfa0f012f95819681ae7f29fe4839b5175ef5e8760bef0b9d44b504eba12b22f5404f89dd085d550a48865a14f9b15a94dabe609ca2df2cccf210cefdb1af5389719795e1f0179cb77c5c456954d88f3\",\n",
    "  \"72fe069c51c81a20775928c7879d4fd2a93c3acff3f69fe5fe2e9493a303d9ea98c4e5b60ae40a146058e7c787fbd09a1474e25dc865b5e6af865d4a40a61bfd384e06e0cfc1ccd356ff8853ac438905fa5fe3fd41cb3bbc8ac9\",\n",
    "  \"67e543885b9a5b2267177084cf8453ccb8633ad7fdb39de5b13f8a93a304d6bf8bc4f4ef5def110b6f56a3e186e2c68c1470ef5c9c2ffbd6a291571e40ba1afd3b4b1fe0c4cbccc15df5dc07b043da01fa6ae4fd158f37b3c0cd\",\n",
    "  \"71fe029a148c1236320d7192878a59cfbc3a6ec5e7f68befb13196d6ea1ec4ea81d9e3fe50ea0f196d02a2f7cfe2c29c5577e35d8630baf6ea80465b01aa1abc394f57a1f4ccccda59ff8846e44b8805bb5cabe608c231f2dec8364ae7d90ab4358c5c3a421b06\",\n",
    "  \"6ef914ce5989152b321a769ad79c42c7be6f6ad2fab19de1fc339d84f04ad3a589dfa0ff09ab0c196f13e7e780b4c097556ded57c871fbeea393464a01aa0ab1381848cfd2d6898918efc046b00b8940bb08e3f313cb23b3dfd8645cfcd80ff82489\",\n",
    "  \"71fe1ace4389087266117cd7c4865bd2b93b7fd2b5a58ce9f4308c9ff01e97ab82cbf2ef5dfc101d6a56b3fb8ab4d08b4167ef5c9c30b8f0ab97455b45e81efd364605e49ddb83df48eedc42b60c900fb14db4b229ca74b6c4d96442e1c34df8288f5c3a450a527ecc7c82865b8e\",\n",
    "  \"71fe029a148c1437615978d7c58854dbec2c75cde5a39be5e37e9b97ef0697a285dfa0f01cff101d764983f29bf5\",\n",
    "  \"71fe1ace50875b31730d6ad7cb8640c7ec3c73d4e1bf81e7b13796d6e518d8a4988ceff05dff101d2415a8fe9fe1d79a4623eb5e8430bfe3b3d442514faf40fd18420be0c8cb89924cf3cd5ee448950efd5cabe500c120f2d9d26440ebc34de029811977430b01748276d79012955cc6a65aebb9054becda5c9278\"\n",
    "]\n",
    "\n",
    "def print_hex_only(description: str, data: bytes):\n",
    "    hex_data = data.hex()\n",
    "    hex_data = ''.join(['\\\\x' + (hex_data[i:i+2]) for i in range(0, len(hex_data), 2)])\n",
    "    print(f'{description:<50}: {hex_data}')\n",
    "\n",
    "# Example usage\n",
    "ciphertext = b'\\x48\\x65\\x6c\\x6c\\x6f'\n",
    "print_formatted('Ciphertext', ciphertext)\n",
    "\n",
    "letter_freq = Counter()\n",
    "max_len = 0\n",
    "byte_texts = []\n",
    "i = 1\n",
    "for c_text in collected_cypertexts:\n",
    "  print(f'hex       {i}: {c_text}')\n",
    "  print(f'bytes     {i}: {hex_to_bytes(c_text)}')\n",
    "  max_len = max(max_len, len(c_text))\n",
    "  byte_texts.append(hex_to_bytes(c_text))\n",
    "  i += 1\n",
    "\n",
    "print(f'Max length of key: {max_len}')\n",
    "print_hex_only(\"Bytes in hex\", byte_texts[8])\n",
    "\n",
    "print(letter_freq)\n",
    "\n",
    "print(byte_texts[7])\n",
    "print(byte_texts[8])\n",
    "byte_text_1 = byte_texts[7]\n",
    "print(byte_text_1)\n",
    "print(len(byte_text_1))\n",
    "byte_text_2 = byte_texts[8][0:len(byte_text_1)]\n",
    "print(byte_text_1)\n",
    "print(byte_text_2)\n",
    "\n",
    "one_time_pad = xor_bytes(byte_text_1, byte_text_2)\n",
    "print(f'One time pad: {one_time_pad}')\n",
    "xor_bytes(byte_text_1, one_time_pad)"
   ],
   "id": "afe817579e14e0f3",
   "outputs": [
    {
     "name": "stdout",
     "output_type": "stream",
     "text": [
      "Ciphertext                                        : b'Hello'\n",
      "hex       1: 71fe1ace4389087266117cd7c98c4182851b3acff3b086e3f83f94d6eb05c4ba85d8e1fa14f11d1c3b568ff6cff5c09c5d67ef5c9c71b7eeb3d45a5154ab17b83e071ce9d8988adb4afedf46a840\n",
      "bytes     1: b'q\\xfe\\x1a\\xceC\\x89\\x08rf\\x11|\\xd7\\xc9\\x8cA\\x82\\x85\\x1b:\\xcf\\xf3\\xb0\\x86\\xe3\\xf8?\\x94\\xd6\\xeb\\x05\\xc4\\xba\\x85\\xd8\\xe1\\xfa\\x14\\xf1\\x1d\\x1c;V\\x8f\\xf6\\xcf\\xf5\\xc0\\x9c]g\\xef\\\\\\x9cq\\xb7\\xee\\xb3\\xd4ZQT\\xab\\x17\\xb8>\\x07\\x1c\\xe9\\xd8\\x98\\x8a\\xdbJ\\xfe\\xdfF\\xa8@'\n",
      "hex       2: 71fe1ace559a1e7266117cd7ce8745d7be2e74c3f0f68eeef57e8884e607debf81dfa0f012f95819681ae7f29fe4839b5175ef5e8760bef0b9d44b504eba12b22f5404f89dd085d550a48865a14f9b15a94dabe609ca2df2cccf210cefdb1af5389719795e1f0179cb77c5c456954d88f3\n",
      "bytes     2: b'q\\xfe\\x1a\\xceU\\x9a\\x1erf\\x11|\\xd7\\xce\\x87E\\xd7\\xbe.t\\xc3\\xf0\\xf6\\x8e\\xee\\xf5~\\x88\\x84\\xe6\\x07\\xde\\xbf\\x81\\xdf\\xa0\\xf0\\x12\\xf9X\\x19h\\x1a\\xe7\\xf2\\x9f\\xe4\\x83\\x9bQu\\xef^\\x87`\\xbe\\xf0\\xb9\\xd4KPN\\xba\\x12\\xb2/T\\x04\\xf8\\x9d\\xd0\\x85\\xd5P\\xa4\\x88e\\xa1O\\x9b\\x15\\xa9M\\xab\\xe6\\t\\xca-\\xf2\\xcc\\xcf!\\x0c\\xef\\xdb\\x1a\\xf58\\x97\\x19y^\\x1f\\x01y\\xcbw\\xc5\\xc4V\\x95M\\x88\\xf3'\n",
      "hex       3: 72fe069c51c81a20775928c7879d4fd2a93c3acff3f69fe5fe2e9493a303d9ea98c4e5b60ae40a146058e7c787fbd09a1474e25dc865b5e6af865d4a40a61bfd384e06e0cfc1ccd356ff8853ac438905fa5fe3fd41cb3bbc8ac9\n",
      "bytes     3: b'r\\xfe\\x06\\x9cQ\\xc8\\x1a wY(\\xc7\\x87\\x9dO\\xd2\\xa9<:\\xcf\\xf3\\xf6\\x9f\\xe5\\xfe.\\x94\\x93\\xa3\\x03\\xd9\\xea\\x98\\xc4\\xe5\\xb6\\n\\xe4\\n\\x14`X\\xe7\\xc7\\x87\\xfb\\xd0\\x9a\\x14t\\xe2]\\xc8e\\xb5\\xe6\\xaf\\x86]J@\\xa6\\x1b\\xfd8N\\x06\\xe0\\xcf\\xc1\\xcc\\xd3V\\xff\\x88S\\xacC\\x89\\x05\\xfa_\\xe3\\xfdA\\xcb;\\xbc\\x8a\\xc9'\n",
      "hex       4: 67e543885b9a5b2267177084cf8453ccb8633ad7fdb39de5b13f8a93a304d6bf8bc4f4ef5def110b6f56a3e186e2c68c1470ef5c9c2ffbd6a291571e40ba1afd3b4b1fe0c4cbccc15df5dc07b043da01fa6ae4fd158f37b3c0cd\n",
      "bytes     4: b'g\\xe5C\\x88[\\x9a[\"g\\x17p\\x84\\xcf\\x84S\\xcc\\xb8c:\\xd7\\xfd\\xb3\\x9d\\xe5\\xb1?\\x8a\\x93\\xa3\\x04\\xd6\\xbf\\x8b\\xc4\\xf4\\xef]\\xef\\x11\\x0boV\\xa3\\xe1\\x86\\xe2\\xc6\\x8c\\x14p\\xef\\\\\\x9c/\\xfb\\xd6\\xa2\\x91W\\x1e@\\xba\\x1a\\xfd;K\\x1f\\xe0\\xc4\\xcb\\xcc\\xc1]\\xf5\\xdc\\x07\\xb0C\\xda\\x01\\xfaj\\xe4\\xfd\\x15\\x8f7\\xb3\\xc0\\xcd'\n",
      "hex       5: 71fe029a148c1236320d7192878a59cfbc3a6ec5e7f68befb13196d6ea1ec4ea81d9e3fe50ea0f196d02a2f7cfe2c29c5577e35d8630baf6ea80465b01aa1abc394f57a1f4ccccda59ff8846e44b8805bb5cabe608c231f2dec8364ae7d90ab4358c5c3a421b06\n",
      "bytes     5: b'q\\xfe\\x02\\x9a\\x14\\x8c\\x1262\\rq\\x92\\x87\\x8aY\\xcf\\xbc:n\\xc5\\xe7\\xf6\\x8b\\xef\\xb11\\x96\\xd6\\xea\\x1e\\xc4\\xea\\x81\\xd9\\xe3\\xfeP\\xea\\x0f\\x19m\\x02\\xa2\\xf7\\xcf\\xe2\\xc2\\x9cUw\\xe3]\\x860\\xba\\xf6\\xea\\x80F[\\x01\\xaa\\x1a\\xbc9OW\\xa1\\xf4\\xcc\\xcc\\xdaY\\xff\\x88F\\xe4K\\x88\\x05\\xbb\\\\\\xab\\xe6\\x08\\xc21\\xf2\\xde\\xc86J\\xe7\\xd9\\n\\xb45\\x8c\\\\:B\\x1b\\x06'\n",
      "hex       6: 6ef914ce5989152b321a769ad79c42c7be6f6ad2fab19de1fc339d84f04ad3a589dfa0ff09ab0c196f13e7e780b4c097556ded57c871fbeea393464a01aa0ab1381848cfd2d6898918efc046b00b8940bb08e3f313cb23b3dfd8645cfcd80ff82489\n",
      "bytes     6: b'n\\xf9\\x14\\xceY\\x89\\x15+2\\x1av\\x9a\\xd7\\x9cB\\xc7\\xbeoj\\xd2\\xfa\\xb1\\x9d\\xe1\\xfc3\\x9d\\x84\\xf0J\\xd3\\xa5\\x89\\xdf\\xa0\\xff\\t\\xab\\x0c\\x19o\\x13\\xe7\\xe7\\x80\\xb4\\xc0\\x97Um\\xedW\\xc8q\\xfb\\xee\\xa3\\x93FJ\\x01\\xaa\\n\\xb18\\x18H\\xcf\\xd2\\xd6\\x89\\x89\\x18\\xef\\xc0F\\xb0\\x0b\\x89@\\xbb\\x08\\xe3\\xf3\\x13\\xcb#\\xb3\\xdf\\xd8d\\\\\\xfc\\xd8\\x0f\\xf8$\\x89'\n",
      "hex       7: 71fe1ace4389087266117cd7c4865bd2b93b7fd2b5a58ce9f4308c9ff01e97ab82cbf2ef5dfc101d6a56b3fb8ab4d08b4167ef5c9c30b8f0ab97455b45e81efd364605e49ddb83df48eedc42b60c900fb14db4b229ca74b6c4d96442e1c34df8288f5c3a450a527ecc7c82865b8e\n",
      "bytes     7: b'q\\xfe\\x1a\\xceC\\x89\\x08rf\\x11|\\xd7\\xc4\\x86[\\xd2\\xb9;\\x7f\\xd2\\xb5\\xa5\\x8c\\xe9\\xf40\\x8c\\x9f\\xf0\\x1e\\x97\\xab\\x82\\xcb\\xf2\\xef]\\xfc\\x10\\x1djV\\xb3\\xfb\\x8a\\xb4\\xd0\\x8bAg\\xef\\\\\\x9c0\\xb8\\xf0\\xab\\x97E[E\\xe8\\x1e\\xfd6F\\x05\\xe4\\x9d\\xdb\\x83\\xdfH\\xee\\xdcB\\xb6\\x0c\\x90\\x0f\\xb1M\\xb4\\xb2)\\xcat\\xb6\\xc4\\xd9dB\\xe1\\xc3M\\xf8(\\x8f\\\\:E\\nR~\\xcc|\\x82\\x86[\\x8e'\n",
      "hex       8: 71fe029a148c1437615978d7c58854dbec2c75cde5a39be5e37e9b97ef0697a285dfa0f01cff101d764983f29bf5\n",
      "bytes     8: b'q\\xfe\\x02\\x9a\\x14\\x8c\\x147aYx\\xd7\\xc5\\x88T\\xdb\\xec,u\\xcd\\xe5\\xa3\\x9b\\xe5\\xe3~\\x9b\\x97\\xef\\x06\\x97\\xa2\\x85\\xdf\\xa0\\xf0\\x1c\\xff\\x10\\x1dvI\\x83\\xf2\\x9b\\xf5'\n",
      "hex       9: 71fe1ace50875b31730d6ad7cb8640c7ec3c73d4e1bf81e7b13796d6e518d8a4988ceff05dff101d2415a8fe9fe1d79a4623eb5e8430bfe3b3d442514faf40fd18420be0c8cb89924cf3cd5ee448950efd5cabe500c120f2d9d26440ebc34de029811977430b01748276d79012955cc6a65aebb9054becda5c9278\n",
      "bytes     9: b'q\\xfe\\x1a\\xceP\\x87[1s\\rj\\xd7\\xcb\\x86@\\xc7\\xec<s\\xd4\\xe1\\xbf\\x81\\xe7\\xb17\\x96\\xd6\\xe5\\x18\\xd8\\xa4\\x98\\x8c\\xef\\xf0]\\xff\\x10\\x1d$\\x15\\xa8\\xfe\\x9f\\xe1\\xd7\\x9aF#\\xeb^\\x840\\xbf\\xe3\\xb3\\xd4BQO\\xaf@\\xfd\\x18B\\x0b\\xe0\\xc8\\xcb\\x89\\x92L\\xf3\\xcd^\\xe4H\\x95\\x0e\\xfd\\\\\\xab\\xe5\\x00\\xc1 \\xf2\\xd9\\xd2d@\\xeb\\xc3M\\xe0)\\x81\\x19wC\\x0b\\x01t\\x82v\\xd7\\x90\\x12\\x95\\\\\\xc6\\xa6Z\\xeb\\xb9\\x05K\\xec\\xda\\\\\\x92x'\n",
      "Max length of key: 246\n",
      "Bytes in hex                                      : \\x71\\xfe\\x1a\\xce\\x50\\x87\\x5b\\x31\\x73\\x0d\\x6a\\xd7\\xcb\\x86\\x40\\xc7\\xec\\x3c\\x73\\xd4\\xe1\\xbf\\x81\\xe7\\xb1\\x37\\x96\\xd6\\xe5\\x18\\xd8\\xa4\\x98\\x8c\\xef\\xf0\\x5d\\xff\\x10\\x1d\\x24\\x15\\xa8\\xfe\\x9f\\xe1\\xd7\\x9a\\x46\\x23\\xeb\\x5e\\x84\\x30\\xbf\\xe3\\xb3\\xd4\\x42\\x51\\x4f\\xaf\\x40\\xfd\\x18\\x42\\x0b\\xe0\\xc8\\xcb\\x89\\x92\\x4c\\xf3\\xcd\\x5e\\xe4\\x48\\x95\\x0e\\xfd\\x5c\\xab\\xe5\\x00\\xc1\\x20\\xf2\\xd9\\xd2\\x64\\x40\\xeb\\xc3\\x4d\\xe0\\x29\\x81\\x19\\x77\\x43\\x0b\\x01\\x74\\x82\\x76\\xd7\\x90\\x12\\x95\\x5c\\xc6\\xa6\\x5a\\xeb\\xb9\\x05\\x4b\\xec\\xda\\x5c\\x92\\x78\n",
      "Counter()\n",
      "b'q\\xfe\\x02\\x9a\\x14\\x8c\\x147aYx\\xd7\\xc5\\x88T\\xdb\\xec,u\\xcd\\xe5\\xa3\\x9b\\xe5\\xe3~\\x9b\\x97\\xef\\x06\\x97\\xa2\\x85\\xdf\\xa0\\xf0\\x1c\\xff\\x10\\x1dvI\\x83\\xf2\\x9b\\xf5'\n",
      "b'q\\xfe\\x1a\\xceP\\x87[1s\\rj\\xd7\\xcb\\x86@\\xc7\\xec<s\\xd4\\xe1\\xbf\\x81\\xe7\\xb17\\x96\\xd6\\xe5\\x18\\xd8\\xa4\\x98\\x8c\\xef\\xf0]\\xff\\x10\\x1d$\\x15\\xa8\\xfe\\x9f\\xe1\\xd7\\x9aF#\\xeb^\\x840\\xbf\\xe3\\xb3\\xd4BQO\\xaf@\\xfd\\x18B\\x0b\\xe0\\xc8\\xcb\\x89\\x92L\\xf3\\xcd^\\xe4H\\x95\\x0e\\xfd\\\\\\xab\\xe5\\x00\\xc1 \\xf2\\xd9\\xd2d@\\xeb\\xc3M\\xe0)\\x81\\x19wC\\x0b\\x01t\\x82v\\xd7\\x90\\x12\\x95\\\\\\xc6\\xa6Z\\xeb\\xb9\\x05K\\xec\\xda\\\\\\x92x'\n",
      "b'q\\xfe\\x02\\x9a\\x14\\x8c\\x147aYx\\xd7\\xc5\\x88T\\xdb\\xec,u\\xcd\\xe5\\xa3\\x9b\\xe5\\xe3~\\x9b\\x97\\xef\\x06\\x97\\xa2\\x85\\xdf\\xa0\\xf0\\x1c\\xff\\x10\\x1dvI\\x83\\xf2\\x9b\\xf5'\n",
      "46\n",
      "b'q\\xfe\\x02\\x9a\\x14\\x8c\\x147aYx\\xd7\\xc5\\x88T\\xdb\\xec,u\\xcd\\xe5\\xa3\\x9b\\xe5\\xe3~\\x9b\\x97\\xef\\x06\\x97\\xa2\\x85\\xdf\\xa0\\xf0\\x1c\\xff\\x10\\x1dvI\\x83\\xf2\\x9b\\xf5'\n",
      "b'q\\xfe\\x1a\\xceP\\x87[1s\\rj\\xd7\\xcb\\x86@\\xc7\\xec<s\\xd4\\xe1\\xbf\\x81\\xe7\\xb17\\x96\\xd6\\xe5\\x18\\xd8\\xa4\\x98\\x8c\\xef\\xf0]\\xff\\x10\\x1d$\\x15\\xa8\\xfe\\x9f\\xe1'\n",
      "One time pad: b'\\x00\\x00\\x18TD\\x0bO\\x06\\x12T\\x12\\x00\\x0e\\x0e\\x14\\x1c\\x00\\x10\\x06\\x19\\x04\\x1c\\x1a\\x02RI\\rA\\n\\x1eO\\x06\\x1dSO\\x00A\\x00\\x00\\x00R\\\\+\\x0c\\x04\\x14'\n"
     ]
    },
    {
     "data": {
      "text/plain": [
       "b'q\\xfe\\x1a\\xceP\\x87[1s\\rj\\xd7\\xcb\\x86@\\xc7\\xec<s\\xd4\\xe1\\xbf\\x81\\xe7\\xb17\\x96\\xd6\\xe5\\x18\\xd8\\xa4\\x98\\x8c\\xef\\xf0]\\xff\\x10\\x1d$\\x15\\xa8\\xfe\\x9f\\xe1'"
      ]
     },
     "execution_count": 33,
     "metadata": {},
     "output_type": "execute_result"
    }
   ],
   "execution_count": 33
  }
 ],
 "metadata": {
  "kernelspec": {
   "display_name": "Python 3",
   "language": "python",
   "name": "python3"
  },
  "language_info": {
   "codemirror_mode": {
    "name": "ipython",
    "version": 2
   },
   "file_extension": ".py",
   "mimetype": "text/x-python",
   "name": "python",
   "nbconvert_exporter": "python",
   "pygments_lexer": "ipython2",
   "version": "2.7.6"
  },
  "colab": {
   "provenance": []
  }
 },
 "nbformat": 4,
 "nbformat_minor": 5
}
