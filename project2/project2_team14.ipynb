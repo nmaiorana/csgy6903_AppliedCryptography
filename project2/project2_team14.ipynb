{
  "nbformat": 4,
  "nbformat_minor": 0,
  "metadata": {
    "colab": {
      "provenance": []
    },
    "kernelspec": {
      "name": "python3",
      "display_name": "Python 3"
    },
    "language_info": {
      "name": "python"
    }
  },
  "cells": [
    {
      "cell_type": "markdown",
      "source": [
        "# Exploring the Security of One-Time and Many-Time Pads\n",
        "\n",
        "## Overview\n",
        "This team project investigates the cryptographic security of the one-time pad, known for its perfect security under certain conditions, and explores the implications of reusing a key, referred to as a many-time pad. We will examine the practical aspects of implementing these encryption methods, analyze their vulnerabilities, and develop strategies to exploit these vulnerabilities in a controlled environment. Here is some background story in signal intelligence. https://en.wikipedia.org/wiki/Venona_project\n",
        "## Objectives\n",
        "1. Understand One-Time Pad\n",
        "Examine the concept of the one-time pad, its implementation, and why it is considered perfectly secure.\n",
        "2. Implement One-Time Pad Encryption and Decryption\n",
        "Develop a Python program that simulates the encryption and decryption process between two parties.\n",
        "3. Explore Many-Time Pad\n",
        "Extend the one-time pad implementation to simulate a many-time pad scenario, where a single key is used to encrypt multiple messages.\n",
        "4. Cryptanalysis of Many-Time Pad\n",
        "Design and execute an attack strategy to decrypt messages encrypted with a many-time pad, focusing on exploiting the vulnerabilities introduced by key reuse."
      ],
      "metadata": {
        "id": "DjAIBiIUZDdg"
      }
    },
    {
      "cell_type": "markdown",
      "source": [
        "## Problem 1: Understanding One-Time Pad\n",
        "Tasks:\n",
        "1. Research the theoretical basis of the one-time pad, including its requirements and operational principles."
      ],
      "metadata": {
        "id": "SZOsHhzJZLwo"
      }
    },
    {
      "cell_type": "markdown",
      "source": [
        "The one-time pad (OTP) is an encryption technique that provides perfect secrecy when certain requirements are met.\n",
        "\n",
        "Here is a summary of its theoretical basis, requirements, and operational\n",
        "principles based on the search results:\n",
        "\n",
        "The OTP is an encryption method that involves pairing a plaintext with a random secret key (one-time pad), where each bit or character of the plaintext is encrypted by combining it with the corresponding bit or character from the pad.\n",
        "\n",
        "The key concepts and principles behind the one-time pad include:\n",
        "Perfect Secrecy:\n",
        "\n",
        "When utilized appropriately, the one-time pad achieves perfect secrecy, or Shannon secrecy. Perfect secrecy implies that even with unlimited computational capabilities, an attacker cannot learn anything about the plaintext without knowing the key. Claude Shannon demonstrated this characteristic in his seminal paper \"Communication Theory of Secrecy Systems\" in 1949.\n",
        "\n",
        "Key Length: The key in a one-time pad must be at least the same length as the plaintext message. This ensures that each bit of plaintext is encrypted with a distinct, independent bit of the key. The key length criterion is critical for ensuring complete secrecy. If the key is shorter than the plaintext, or if it is reused, the one-time pad's security is jeopardized.\n",
        "\n",
        "Key Distribution: Since the security of the one-time pad is fully dependent on the secrecy of the key, securely disseminating the key to both the sender and the recipient is critical. Any compromise in key distribution may jeopardize the confidentiality of communication. Secure key distribution mechanisms, such as physically handing the key in person or using secure communication channels, are required to ensure the one-time pad's security.\n",
        "\n",
        "Key Generation: The key to a one-time pad should be produced using a completely random technique. This ensures that the key is random and cannot be predicted or guessed by an attacker.\n",
        " Pseudo-random number generators (PRNGs) are unsuitable for producing one-time\n",
        "pad keys because they are deterministic and susceptible to attacks.\n",
        "\n",
        "Key Usage: As the name implies, the key in a one-time pad should only be used once. Reusing the key, even partially, jeopardizes the security of the encryption scheme. If the same key is used to encrypt several messages, an attacker can utilize statistical analysis and patterns in the ciphertext to obtain information about the plaintext.\n",
        "\n",
        "Modular Arithmetic: The operational principles of the one-time pad include modular arithmetic. In encryption, each character of the plaintext is merged with the matching character of the key using modular addition. Decryption entails reversing this procedure using modular subtraction.\n",
        "\n",
        "Modular arithmetic ensures that the ciphertext stays inside a specific range, usually modulo the\n",
        "size of the alphabet or character set being employed.\n",
        "Requirements:\n",
        "1. The key must be at least as long as the plaintext.\n",
        "2. The key must be random, entirely sampled from a non-algorithmic source like a hardware\n",
        "random number generator.\n",
        "3. The key must never be reused in whole or in part.\n",
        "4. The key must be kept completely secret by the communicating parties\n",
        "\n",
        "Operational Principles:\n",
        "· The OTP encryption involves combining each bit of the plaintext with the\n",
        "corresponding bit from the one-time pad using XOR operation.\n",
        "\n",
        "· The resulting ciphertext is impossible to decrypt or break if the four conditionsmentioned above are met\n",
        "\n",
        "Security: The OTP provides perfect secrecy, meaning that even with infinite computational power, an attacker cannot retrieve the plaintext if the requirements are fulfilled\n",
        "\n",
        "Challenges: While theoretically secure, OTP has practical challenges such as secure key distribution, making it impractical for most applications due to the difficulty in meeting its stringent requirements\n",
        "\n",
        "In conclusion, the one-time pad stands out as a theoretically unbreakable cipher when implemented correctly, offering unparalleled security through its unique operational principles and strict key management requirements"
      ],
      "metadata": {
        "id": "7E0Xy5XdmXQP"
      }
    },
    {
      "cell_type": "markdown",
      "source": [
        "## Problem 2: One-Time Pad Implementation\n",
        "Tasks: the encryption and decryption process between two parties, Alice and Bob.\n",
        "1. Alice's Program\n",
        "Should prompt for a message input (plaintext), then display the ciphertext, and save both the ciphertext (in hex) and the key (in hex) in separate files.\n",
        "2. Bob's Program:\n",
        "Should read the key and ciphertext from their respective files and display the decrypted plaintext."
      ],
      "metadata": {
        "id": "suul_3oVZRem"
      }
    },
    {
      "cell_type": "code",
      "source": [
        "# Problem 2 - Implement One-Time Pad Encryption and Decryption\n",
        "\n",
        "import string;\n",
        "import random;\n",
        "\n",
        "def generateKey(length):\n",
        "  # This string function will get the ascii value which includes digits and special characters\n",
        "  letters = string.ascii_letters + string.digits + string.punctuation;\n",
        "  # Select random letters based on the length of input msg\n",
        "  key = ''.join(random.choice(letters) for i in range(length));\n",
        "  print(\"Key value\", key);\n",
        "  return key;\n",
        "\n",
        "# This function will encrypt the message the user provided\n",
        "def encrypt(message,key):\n",
        "  # loop over the message since key and msg is same length use ord to convert to ASCII and XOR the value\n",
        "  cipherText = \"\".join(chr(ord(message[i]) ^ ord(key[i])) for i in range(len(message)))\n",
        "  print(\"Here is the cipherText: \", cipherText)\n",
        "  return cipherText;\n",
        "\n",
        "def decrypt(cipherText,key):\n",
        "  # Same as encrypt but with cipher text and key\n",
        "  plainText = \"\".join(chr(ord(cipherText[i]) ^ ord(key[i])) for i in range(len(cipherText)))\n",
        "  print(\"Here is the Orginial: \", plainText)\n",
        "  return plainText;\n",
        "\n",
        "def savefile(fileName,data):\n",
        "  with open(fileName, \"w\") as f:\n",
        "    f.write(data)\n",
        "  print(\"File saved: \", fileName);\n",
        "\n",
        "def openfile(fileName):\n",
        "  with open(fileName, \"r\") as f:\n",
        "    return f.read()\n",
        "\n",
        "# Prompt the user for the message\n",
        "plaintText = input(\"Enter the plaintext: \");\n",
        "plaintTextLength = len(plaintText);\n",
        "print(\"Here is plainText: \", plaintText, \" Length: \", plaintTextLength);\n",
        "\n",
        "# Generate random key based on length\n",
        "key= generateKey(plaintTextLength);\n",
        "# Encode to hex\n",
        "keyHex = key.encode(\"utf-8\").hex()\n",
        "print(\"Here is the key in Hex: \", keyHex);\n",
        "# Save to file\n",
        "savefile(\"key.txt\",keyHex);\n",
        "\n",
        "# Encryption method using msg and key\n",
        "cipherText = encrypt(plaintText,key);\n",
        "cipherTextHex = cipherText.encode(\"utf-8\").hex()\n",
        "print(\"Here is the cipherText in Hex: \", cipherTextHex);\n",
        "# Save to file\n",
        "savefile(\"cipherText.txt\",cipherTextHex);\n",
        "\n",
        "# Decrpyt msg - Open the cipherText file\n",
        "fileCipherTextHex = openfile(\"cipherText.txt\");\n",
        "#Decrpty from hex\n",
        "cipherTextFromFile = bytes.fromhex(fileCipherTextHex).decode(\"utf-8\")\n",
        "print(\"Here is the cipherText From File: \", cipherTextFromFile);\n",
        "\n",
        "# open the key File\n",
        "fileKeyHex = openfile(\"key.txt\");\n",
        "keyFromFile = bytes.fromhex(fileKeyHex).decode(\"utf-8\")\n",
        "print(\"Here is the Key From File: \", keyFromFile);\n",
        "\n",
        "# Decrypt the msg\n",
        "\n",
        "originalText = decrypt(cipherTextFromFile,keyFromFile);\n",
        "if(originalText == plaintText):\n",
        "  print(\"Decryption Successful\")\n",
        "else:\n",
        "  print(\"Decryption Failed\")"
      ],
      "metadata": {
        "colab": {
          "base_uri": "https://localhost:8080/"
        },
        "id": "TeWy81hrZe6Y",
        "outputId": "208d2b62-a2e7-4913-d646-414e46c6a795"
      },
      "execution_count": null,
      "outputs": [
        {
          "output_type": "stream",
          "name": "stdout",
          "text": [
            "Enter the plaintext: This is atest\n",
            "Here is plainText:  This is atest  Length:  13\n",
            "Key value ,sV!*N*Y[/t%v\n",
            "Here is the key in Hex:  2c7356212a4e2a595b2f742576\n",
            "File saved:  key.txt\n",
            "Here is the cipherText:  x\u001b?R\n",
            "'Yy:[\u0011V\u0002\n",
            "Here is the cipherText in Hex:  781b3f520a2759793a5b115602\n",
            "File saved:  cipherText.txt\n",
            "Here is the cipherText From File:  x\u001b?R\n",
            "'Yy:[\u0011V\u0002\n",
            "Here is the Key From File:  ,sV!*N*Y[/t%v\n",
            "Here is the Orginial:  This is atest\n",
            "Decryption Successful\n"
          ]
        }
      ]
    },
    {
      "cell_type": "markdown",
      "source": [
        "\n",
        "## Problem 3: Explore Many-Time Pad\n",
        "Tasks:\n",
        "1. Extend the one-time pad implementation to simulate a many-time pad scenario, where a single key is used to encrypt multiple messages.\n"
      ],
      "metadata": {
        "id": "yKAaXqcuqQWV"
      }
    },
    {
      "cell_type": "code",
      "source": [
        "from pathlib import Path\n",
        "import os\n",
        "\n",
        "# Print formatted output for better readability\n",
        "def print_formatted(description:str, data:str):\n",
        "    print(f'{description:<50}: {data}')\n",
        "\n",
        "# Create a mailbox directory to store messages\n",
        "def create_data_directory(directory_name:str) -> Path:\n",
        "    file_directory = Path(f'./{directory_name}/')\n",
        "    file_directory.mkdir(exist_ok=True)\n",
        "    print_formatted('Using data directory', file_directory.name)\n",
        "    return file_directory\n",
        "\n",
        "def string_to_bytes(text_string:str) -> bytes:\n",
        "    return text_string.encode('utf-8')\n",
        "\n",
        "def bytes_to_string(byte_data:bytes) -> str:\n",
        "    return byte_data.decode('utf-8')\n",
        "\n",
        "# Generate a random key of a given length\n",
        "def generate_key(length:int) -> bytes:\n",
        "    return os.urandom(length)\n",
        "\n",
        "# XOR the bytes of the message with the bytes of the key\n",
        "def xor_bytes(data:bytes, key:bytes) -> bytes:\n",
        "    return bytes(a ^ b for a, b in zip(data, key))\n",
        "\n",
        "# For storing and retreiving from file in hex\n",
        "def string_to_hex(string:str) -> str:\n",
        "    return string.encode('utf-8').hex()\n",
        "\n",
        "def hex_to_string(hex_string:str) -> str:\n",
        "    return bytes.fromhex(hex_string).decode('utf-8')\n",
        "\n",
        "# Many-time pad encryption for multiple plaintexts using the same key\n",
        "def many_time_pad_encrypt(plaintexts: list, key: bytes) -> list:\n",
        "    ciphertexts = []\n",
        "    for plaintext in plaintexts:\n",
        "        ciphertexts.append(xor_bytes(string_to_bytes(plaintext), key))\n",
        "    return ciphertexts\n",
        "\n",
        "# Many-time pad decryption for multiple ciphertexts using the same key\n",
        "def many_time_pad_decrypt(ciphertexts: list, keys: list) -> list:\n",
        "    plaintexts = []\n",
        "    for key, ciphertext in zip(keys, ciphertexts):\n",
        "        plaintexts.append(bytes_to_string(xor_bytes(ciphertext, key)))\n",
        "    return plaintexts\n",
        "\n",
        "# Write and read many-time pad data to/from files\n",
        "# The format of the files is key,plaintext,ciphertext\n",
        "# The key, plaintext, and ciphertext are in hex format\n",
        "\n",
        "# Write and read data to/from files\n",
        "# Project requirements to store data as hex\n",
        "# Convert string to hex and vice versa\n",
        "def bytes_to_hex(byte_data: bytes) -> str:\n",
        "    return byte_data.hex()\n",
        "\n",
        "def hex_to_bytes(hex_string:str) -> bytes:\n",
        "    return bytes.fromhex(hex_string)\n",
        "\n",
        "def write_many_time_pad_data(directory_path: Path, file_name:str, key: bytes, plaintexts:list, ciphertexts: list) -> None:\n",
        "    data_file = directory_path / f'{file_name}.txt'\n",
        "    with data_file.open('w') as f:\n",
        "        for plaintext, ciphertext in zip(plaintexts, ciphertexts):\n",
        "            f.write(f'{bytes_to_hex(key)},{string_to_hex(plaintext)},{bytes_to_hex(ciphertext)}\\n')\n",
        "\n",
        "def read_many_time_pad_data(directory_path: Path, file_name:str) -> tuple:\n",
        "    keys = []\n",
        "    plaintexts = []\n",
        "    ciphertexts = []\n",
        "    data_file = directory_path / f'{file_name}.txt'\n",
        "    with data_file.open() as f:\n",
        "        for line in f:\n",
        "            k, p, c = line.split(',')\n",
        "            keys.append(hex_to_bytes(k.strip()))\n",
        "            plaintexts.append(hex_to_string(p.strip()))\n",
        "            ciphertexts.append(hex_to_bytes(c.strip()))\n",
        "    return keys, plaintexts, ciphertexts\n",
        "\n",
        "# Many-time pad encryption and decryption for multiple messages\n",
        "# 10 even longer messages to test\n",
        "mtp_messages = [\n",
        "    'hello world, how are you doing today?',\n",
        "    'python programming is fun and challenging',\n",
        "    'data science is the future of technology',\n",
        "    'machine learning is a subset of artificial intelligence',\n",
        "    'deep neural network is a type of machine learning',\n",
        "    'cryptography is the practice and study of secure communication',\n",
        "    'information security is the protection of information',\n",
        "    'computer science is the study of computation',\n",
        "    'software engineering is the application of engineering to software',\n",
        "    'data analytics is the science of analyzing raw data'\n",
        "    ]\n",
        "\n",
        "mtp_key = generate_key(100)\n",
        "mtp_ciphertexts = many_time_pad_encrypt(mtp_messages, mtp_key)\n",
        "many_time_pad_data_directory = create_data_directory('mtp_data')\n",
        "many_time_pad_file_name = 'many_time_pad_data'\n",
        "write_many_time_pad_data(many_time_pad_data_directory, many_time_pad_file_name, mtp_key, mtp_messages, mtp_ciphertexts)\n",
        "mtp_keys, mtp_plaintexts, mtp_ciphertexts = read_many_time_pad_data(many_time_pad_data_directory, many_time_pad_file_name)\n",
        "print(\"Many-Time Pad Data:\")\n",
        "for i in range(len(mtp_messages)):\n",
        "    print_formatted('Message', str(i+1))\n",
        "    print_formatted('Many-Time Pad Key', mtp_keys[i])\n",
        "    print_formatted('Many-Time Pad Plaintext', mtp_plaintexts[i])\n",
        "    print_formatted('Many-Time Pad Ciphertext', mtp_ciphertexts[i])\n",
        "\n",
        "print(\"Many-Time Pad Data decrypted:\")\n",
        "mtp_plaintexts_2 = many_time_pad_decrypt(mtp_ciphertexts, mtp_keys)\n",
        "assert mtp_plaintexts == mtp_plaintexts_2\n",
        "for plaintext in mtp_plaintexts_2:\n",
        "    print_formatted('Many-Time Pad Decrypted Plaintext', plaintext)"
      ],
      "metadata": {
        "colab": {
          "base_uri": "https://localhost:8080/"
        },
        "id": "Wz1oP2tQqnAm",
        "outputId": "87af5297-adaf-4b98-e21e-b6ee3ebe77fe"
      },
      "execution_count": null,
      "outputs": [
        {
          "output_type": "stream",
          "name": "stdout",
          "text": [
            "Using data directory                              : mtp_data\n",
            "Many-Time Pad Data:\n",
            "Message                                           : 1\n",
            "Many-Time Pad Key                                 : b'?\\x08<\\xed\\x9aI\\x7fX\\xf9-\\xf2\\xec\\x16\\xc0\\xc1\\x18\\x92\\x1fb\\xd7\\xcb\\xf7\\xd9K\\x18\\x9a\\x01\\xe8vu9\\xa1\\x99h\\xf1\\xe1\\xf7RT\\x91)\\x9a* \\x16\\x90\\xc8\\x81J\\xcb4\\xa7\\xa6\\xdc\\xe2\\xf1v\\x96\\'\\x90\\'\\xdb\\xad\\xab\\xd4xf\\xfey\\x9cs\\xca\\xc7\\xe5\\x923\\xba\\xeep\\x8d\\xb5\\xb8(\\xd8\"d\\xdb\\xf2\\xda\\x9c\\x10\\xe7\\xa4\\xc4\\x14\\xbb0O\\xffX'\n",
            "Many-Time Pad Plaintext                           : hello world, how are you doing today?\n",
            "Many-Time Pad Ciphertext                          : b'WmP\\x81\\xf5i\\x087\\x8bA\\x96\\xc06\\xa8\\xaeo\\xb2~\\x10\\xb2\\xeb\\x8e\\xb6>8\\xfen\\x81\\x18\\x12\\x19\\xd5\\xf6\\x0c\\x90\\x98\\xc8'\n",
            "Message                                           : 2\n",
            "Many-Time Pad Key                                 : b'?\\x08<\\xed\\x9aI\\x7fX\\xf9-\\xf2\\xec\\x16\\xc0\\xc1\\x18\\x92\\x1fb\\xd7\\xcb\\xf7\\xd9K\\x18\\x9a\\x01\\xe8vu9\\xa1\\x99h\\xf1\\xe1\\xf7RT\\x91)\\x9a* \\x16\\x90\\xc8\\x81J\\xcb4\\xa7\\xa6\\xdc\\xe2\\xf1v\\x96\\'\\x90\\'\\xdb\\xad\\xab\\xd4xf\\xfey\\x9cs\\xca\\xc7\\xe5\\x923\\xba\\xeep\\x8d\\xb5\\xb8(\\xd8\"d\\xdb\\xf2\\xda\\x9c\\x10\\xe7\\xa4\\xc4\\x14\\xbb0O\\xffX'\n",
            "Many-Time Pad Plaintext                           : python programming is fun and challenging\n",
            "Many-Time Pad Ciphertext                          : b\"OqH\\x85\\xf5'_(\\x8bB\\x95\\x9ew\\xad\\xacq\\xfcxB\\xbe\\xb8\\xd7\\xbf>v\\xba`\\x86\\x12UZ\\xc9\\xf8\\x04\\x9d\\x84\\x995=\\xffN\"\n",
            "Message                                           : 3\n",
            "Many-Time Pad Key                                 : b'?\\x08<\\xed\\x9aI\\x7fX\\xf9-\\xf2\\xec\\x16\\xc0\\xc1\\x18\\x92\\x1fb\\xd7\\xcb\\xf7\\xd9K\\x18\\x9a\\x01\\xe8vu9\\xa1\\x99h\\xf1\\xe1\\xf7RT\\x91)\\x9a* \\x16\\x90\\xc8\\x81J\\xcb4\\xa7\\xa6\\xdc\\xe2\\xf1v\\x96\\'\\x90\\'\\xdb\\xad\\xab\\xd4xf\\xfey\\x9cs\\xca\\xc7\\xe5\\x923\\xba\\xeep\\x8d\\xb5\\xb8(\\xd8\"d\\xdb\\xf2\\xda\\x9c\\x10\\xe7\\xa4\\xc4\\x14\\xbb0O\\xffX'\n",
            "Many-Time Pad Plaintext                           : data science is the future of technology\n",
            "Many-Time Pad Ciphertext                          : b'[iH\\x8c\\xba:\\x1c1\\x9cC\\x91\\x896\\xa9\\xb28\\xe6w\\x07\\xf7\\xad\\x82\\xad>j\\xff!\\x87\\x10UM\\xc4\\xfa\\x00\\x9f\\x8e\\x9b=3\\xe8'\n",
            "Message                                           : 4\n",
            "Many-Time Pad Key                                 : b'?\\x08<\\xed\\x9aI\\x7fX\\xf9-\\xf2\\xec\\x16\\xc0\\xc1\\x18\\x92\\x1fb\\xd7\\xcb\\xf7\\xd9K\\x18\\x9a\\x01\\xe8vu9\\xa1\\x99h\\xf1\\xe1\\xf7RT\\x91)\\x9a* \\x16\\x90\\xc8\\x81J\\xcb4\\xa7\\xa6\\xdc\\xe2\\xf1v\\x96\\'\\x90\\'\\xdb\\xad\\xab\\xd4xf\\xfey\\x9cs\\xca\\xc7\\xe5\\x923\\xba\\xeep\\x8d\\xb5\\xb8(\\xd8\"d\\xdb\\xf2\\xda\\x9c\\x10\\xe7\\xa4\\xc4\\x14\\xbb0O\\xffX'\n",
            "Many-Time Pad Plaintext                           : machine learning is a subset of artificial intelligence\n",
            "Many-Time Pad Ciphertext                          : b\"Ri_\\x85\\xf3'\\x1ax\\x95H\\x93\\x9ex\\xa9\\xaf\\x7f\\xb2v\\x11\\xf7\\xaa\\xd7\\xaa>z\\xe9d\\x9cV\\x1a_\\x81\\xf8\\x1a\\x85\\x88\\x91;7\\xf8H\\xf6\\nIx\\xe4\\xad\\xed&\\xa2S\\xc2\\xc8\\xbf\\x87\"\n",
            "Message                                           : 5\n",
            "Many-Time Pad Key                                 : b'?\\x08<\\xed\\x9aI\\x7fX\\xf9-\\xf2\\xec\\x16\\xc0\\xc1\\x18\\x92\\x1fb\\xd7\\xcb\\xf7\\xd9K\\x18\\x9a\\x01\\xe8vu9\\xa1\\x99h\\xf1\\xe1\\xf7RT\\x91)\\x9a* \\x16\\x90\\xc8\\x81J\\xcb4\\xa7\\xa6\\xdc\\xe2\\xf1v\\x96\\'\\x90\\'\\xdb\\xad\\xab\\xd4xf\\xfey\\x9cs\\xca\\xc7\\xe5\\x923\\xba\\xeep\\x8d\\xb5\\xb8(\\xd8\"d\\xdb\\xf2\\xda\\x9c\\x10\\xe7\\xa4\\xc4\\x14\\xbb0O\\xffX'\n",
            "Many-Time Pad Plaintext                           : deep neural network is a type of machine learning\n",
            "Many-Time Pad Ciphertext                          : b\"[mY\\x9d\\xba'\\x1a-\\x8bL\\x9e\\xccx\\xa5\\xb5o\\xfdm\\t\\xf7\\xa2\\x84\\xf9*8\\xeex\\x98\\x13UV\\xc7\\xb9\\x05\\x90\\x82\\x9f;:\\xf4\\t\\xf6OAd\\xfe\\xa1\\xef-\"\n",
            "Message                                           : 6\n",
            "Many-Time Pad Key                                 : b'?\\x08<\\xed\\x9aI\\x7fX\\xf9-\\xf2\\xec\\x16\\xc0\\xc1\\x18\\x92\\x1fb\\xd7\\xcb\\xf7\\xd9K\\x18\\x9a\\x01\\xe8vu9\\xa1\\x99h\\xf1\\xe1\\xf7RT\\x91)\\x9a* \\x16\\x90\\xc8\\x81J\\xcb4\\xa7\\xa6\\xdc\\xe2\\xf1v\\x96\\'\\x90\\'\\xdb\\xad\\xab\\xd4xf\\xfey\\x9cs\\xca\\xc7\\xe5\\x923\\xba\\xeep\\x8d\\xb5\\xb8(\\xd8\"d\\xdb\\xf2\\xda\\x9c\\x10\\xe7\\xa4\\xc4\\x14\\xbb0O\\xffX'\n",
            "Many-Time Pad Plaintext                           : cryptography is the practice and study of secure communication\n",
            "Many-Time Pad Ciphertext                          : b'\\\\zE\\x9d\\xee&\\x18*\\x98]\\x9a\\x956\\xa9\\xb28\\xe6w\\x07\\xf7\\xbb\\x85\\xb8(l\\xf3b\\x8dV\\x14W\\xc5\\xb9\\x1b\\x85\\x94\\x93+t\\xfeO\\xbaYEu\\xe5\\xba\\xe4j\\xa8[\\xca\\xcb\\xa9\\x8c\\x98\\x15\\xf7S\\xf9H\\xb5'\n",
            "Message                                           : 7\n",
            "Many-Time Pad Key                                 : b'?\\x08<\\xed\\x9aI\\x7fX\\xf9-\\xf2\\xec\\x16\\xc0\\xc1\\x18\\x92\\x1fb\\xd7\\xcb\\xf7\\xd9K\\x18\\x9a\\x01\\xe8vu9\\xa1\\x99h\\xf1\\xe1\\xf7RT\\x91)\\x9a* \\x16\\x90\\xc8\\x81J\\xcb4\\xa7\\xa6\\xdc\\xe2\\xf1v\\x96\\'\\x90\\'\\xdb\\xad\\xab\\xd4xf\\xfey\\x9cs\\xca\\xc7\\xe5\\x923\\xba\\xeep\\x8d\\xb5\\xb8(\\xd8\"d\\xdb\\xf2\\xda\\x9c\\x10\\xe7\\xa4\\xc4\\x14\\xbb0O\\xffX'\n",
            "Many-Time Pad Plaintext                           : information security is the protection of information\n",
            "Many-Time Pad Ciphertext                          : b'VfZ\\x82\\xe8$\\x1e,\\x90B\\x9c\\xcce\\xa5\\xa2m\\xe0v\\x16\\xae\\xeb\\x9e\\xaakl\\xf2d\\xc8\\x06\\x07V\\xd5\\xfc\\x0b\\x85\\x88\\x98<t\\xfeO\\xbaCNp\\xff\\xba\\xec+\\xbf]\\xc8\\xc8'\n",
            "Message                                           : 8\n",
            "Many-Time Pad Key                                 : b'?\\x08<\\xed\\x9aI\\x7fX\\xf9-\\xf2\\xec\\x16\\xc0\\xc1\\x18\\x92\\x1fb\\xd7\\xcb\\xf7\\xd9K\\x18\\x9a\\x01\\xe8vu9\\xa1\\x99h\\xf1\\xe1\\xf7RT\\x91)\\x9a* \\x16\\x90\\xc8\\x81J\\xcb4\\xa7\\xa6\\xdc\\xe2\\xf1v\\x96\\'\\x90\\'\\xdb\\xad\\xab\\xd4xf\\xfey\\x9cs\\xca\\xc7\\xe5\\x923\\xba\\xeep\\x8d\\xb5\\xb8(\\xd8\"d\\xdb\\xf2\\xda\\x9c\\x10\\xe7\\xa4\\xc4\\x14\\xbb0O\\xffX'\n",
            "Many-Time Pad Plaintext                           : computer science is the study of computation\n",
            "Many-Time Pad Ciphertext                          : b\"\\\\gQ\\x9d\\xef=\\x1a*\\xd9^\\x91\\x85s\\xae\\xa2}\\xb2v\\x11\\xf7\\xbf\\x9f\\xbckk\\xeet\\x8c\\x0fUV\\xc7\\xb9\\x0b\\x9e\\x8c\\x87' \\xf0]\\xf3EN\"\n",
            "Message                                           : 9\n",
            "Many-Time Pad Key                                 : b'?\\x08<\\xed\\x9aI\\x7fX\\xf9-\\xf2\\xec\\x16\\xc0\\xc1\\x18\\x92\\x1fb\\xd7\\xcb\\xf7\\xd9K\\x18\\x9a\\x01\\xe8vu9\\xa1\\x99h\\xf1\\xe1\\xf7RT\\x91)\\x9a* \\x16\\x90\\xc8\\x81J\\xcb4\\xa7\\xa6\\xdc\\xe2\\xf1v\\x96\\'\\x90\\'\\xdb\\xad\\xab\\xd4xf\\xfey\\x9cs\\xca\\xc7\\xe5\\x923\\xba\\xeep\\x8d\\xb5\\xb8(\\xd8\"d\\xdb\\xf2\\xda\\x9c\\x10\\xe7\\xa4\\xc4\\x14\\xbb0O\\xffX'\n",
            "Many-Time Pad Plaintext                           : software engineering is the application of engineering to software\n",
            "Many-Time Pad Ciphertext                          : b'LgZ\\x99\\xed(\\r=\\xd9H\\x9c\\x8b\\x7f\\xae\\xa4}\\xe0v\\x0c\\xb0\\xeb\\x9e\\xaakl\\xf2d\\xc8\\x17\\x05I\\xcd\\xf0\\x0b\\x90\\x95\\x9e=:\\xb1F\\xfc\\nEx\\xf7\\xa1\\xef/\\xaeF\\xce\\xc8\\xbb\\xc2\\x85\\x19\\xb6T\\xffA\\xaf\\xda\\xca\\xa6\\x1d'\n",
            "Message                                           : 10\n",
            "Many-Time Pad Key                                 : b'?\\x08<\\xed\\x9aI\\x7fX\\xf9-\\xf2\\xec\\x16\\xc0\\xc1\\x18\\x92\\x1fb\\xd7\\xcb\\xf7\\xd9K\\x18\\x9a\\x01\\xe8vu9\\xa1\\x99h\\xf1\\xe1\\xf7RT\\x91)\\x9a* \\x16\\x90\\xc8\\x81J\\xcb4\\xa7\\xa6\\xdc\\xe2\\xf1v\\x96\\'\\x90\\'\\xdb\\xad\\xab\\xd4xf\\xfey\\x9cs\\xca\\xc7\\xe5\\x923\\xba\\xeep\\x8d\\xb5\\xb8(\\xd8\"d\\xdb\\xf2\\xda\\x9c\\x10\\xe7\\xa4\\xc4\\x14\\xbb0O\\xffX'\n",
            "Many-Time Pad Plaintext                           : data analytics is the science of analyzing raw data\n",
            "Many-Time Pad Ciphertext                          : b'[iH\\x8c\\xba(\\x119\\x95T\\x86\\x85u\\xb3\\xe1q\\xe1?\\x16\\xbf\\xae\\xd7\\xaa(q\\xffo\\x8b\\x13UV\\xc7\\xb9\\t\\x9f\\x80\\x9b+.\\xf8G\\xfd\\nRw\\xe7\\xe8\\xe5+\\xbfU'\n",
            "Many-Time Pad Data decrypted:\n",
            "Many-Time Pad Decrypted Plaintext                 : hello world, how are you doing today?\n",
            "Many-Time Pad Decrypted Plaintext                 : python programming is fun and challenging\n",
            "Many-Time Pad Decrypted Plaintext                 : data science is the future of technology\n",
            "Many-Time Pad Decrypted Plaintext                 : machine learning is a subset of artificial intelligence\n",
            "Many-Time Pad Decrypted Plaintext                 : deep neural network is a type of machine learning\n",
            "Many-Time Pad Decrypted Plaintext                 : cryptography is the practice and study of secure communication\n",
            "Many-Time Pad Decrypted Plaintext                 : information security is the protection of information\n",
            "Many-Time Pad Decrypted Plaintext                 : computer science is the study of computation\n",
            "Many-Time Pad Decrypted Plaintext                 : software engineering is the application of engineering to software\n",
            "Many-Time Pad Decrypted Plaintext                 : data analytics is the science of analyzing raw data\n"
          ]
        }
      ]
    },
    {
      "cell_type": "markdown",
      "source": [
        "## Problem 4: Cryptanalysis of Many-Time Pad1\n",
        "Tasks: Develop a strategy to decrypt messages encrypted with a many-time pad. More specifically, assume Eva has collected the 10 ciphertexts and she knew they are generated by the same key. In addition, all the plaintexts are in English. Space, comma, period, and question mark are being used in the plaintext, but no other special characters are allowed. Eva wants to decrypt the last message (target message).\n",
        "Collected ciphertexts:\n",
        "1. 71fe1ace4389087266117cd7c98c4182851b3acff3b086e3f83f94d6eb05c4ba85d8e1fa14f11d1c3b568ff6cff5c09c5d67ef5c9c71b7eeb3d45a5154ab17b83e071ce9d8988adb4afedf46a840\n",
        "2.\n",
        "71fe1ace559a1e7266117cd7ce8745d7be2e74c3f0f68eeef57e8884e607debf81dfa0f012f95819681ae7f29fe4839b5175ef5e8760bef0b9d44b504eba12b22f5404f89dd085d550a48865a14f9b15a94dabe609ca2df2cccf210cefdb1af5389719795e1f0179cb77c5c456954d88f3\n",
        "3.\n",
        "72fe069c51c81a20775928c7879d4fd2a93c3acff3f69fe5fe2e9493a303d9ea98c4e5b60ae40a146058e7c787fbd09a1474e25dc865b5e6af865d4a40a61bfd384e06e0cfc1ccd356ff8853ac438905fa5fe3fd41cb3bbc8ac9\n",
        "4.\n",
        "67e543885b9a5b2267177084cf8453ccb8633ad7fdb39de5b13f8a93a304d6bf8bc4f4ef5def110b6f56a3e186e2c68c1470ef5c9c2ffbd6a291571e40ba1afd3b4b1fe0c4cbccc15df5dc07b043da01fa6ae4fd158f37b3c0cd\n",
        "5.\n",
        "71fe029a148c1236320d7192878a59cfbc3a6ec5e7f68befb13196d6ea1ec4ea81d9e3fe50ea0f196d02a2f7cfe2c29c5577e35d8630baf6ea80465b01aa1abc394f57a1f4ccccda59ff8846e44b8805bb5cabe608c231f2dec8364ae7d90ab4358c5c3a421b06\n",
        "6.\n",
        "6ef914ce5989152b321a769ad79c42c7be6f6ad2fab19de1fc339d84f04ad3a589dfa0ff09ab0c196f13e7e780b4c097556ded57c871fbeea393464a01aa0ab1381848cfd2d6898918efc046b00b8940bb08e3f313cb23b3dfd8645cfcd80ff82489\n",
        "7.\n",
        "71fe1ace4389087266117cd7c4865bd2b93b7fd2b5a58ce9f4308c9ff01e97ab82cbf2ef5dfc101d6a56b3fb8ab4d08b4167ef5c9c30b8f0ab97455b45e81efd364605e49ddb83df48eedc42b60c900fb14db4b229ca74b6c4d96442e1c34df8288f5c3a450a527ecc7c82865b8e\n",
        "8.\n",
        "71fe029a148c1437615978d7c58854dbec2c75cde5a39be5e37e9b97ef0697a285dfa0f01cff101d764983f29bf5\n",
        "9.\n",
        "71fe1ace50875b31730d6ad7cb8640c7ec3c73d4e1bf81e7b13796d6e518d8a4988ceff05dff101d2415a8fe9fe1d79a4623eb5e8430bfe3b3d442514faf40fd18420be0c8cb89924cf3cd5ee448950efd5cabe500c120f2d9d26440ebc34de029811977430b01748276d79012955cc6a65aebb9054becda5c9278\n"
      ],
      "metadata": {
        "id": "C5TrBt_ormBO"
      }
    },
    {
      "cell_type": "markdown",
      "source": [
        "**Theoretical Explanation: Cryptanalysis of a Many-Time Pad**\n",
        "\n",
        "**Problem 4 Overview**\n",
        "\n",
        "As we known the One-Time Pad (OTP) is a theoretically unbreakable encryption scheme if the key is truly random and used only once. However, when the same key is reused across multiple messages, it introduces a vulnerability known as the Many-Time Pad Attack.\n",
        "\n",
        "In this assignment, Eva (the attacker) has collected 10 ciphertexts that were encrypted with the same key. She also knows that the plaintexts are in English and only contain letters, numbers, spaces, commas, periods, and question marks. Her goal is to recover the key and use it to decrypt the target message (the 11th ciphertext).\n",
        "\n",
        "**Strategy for Decrypting the Target Message on problem 4**\n",
        "\n",
        "\n",
        "\n",
        "1.   XOR and Key Recovery (XORing Ciphertexts to Identify Plaintext Patterns)\n",
        "    *   When two ciphertexts are XORed together, the key cancels out, leaving us with:\n",
        "\n",
        "              C1 ⊕ C2 = P1 ⊕ P2\n",
        "\n",
        "    *   If a particular plaintext character is known or can be guessed, the corresponding key byte can be recovered\n",
        "\n",
        "\n",
        "2.   Using XOR to Find Plaintext Hints (Identifying Spaces and Common Characters)\n",
        "      *  By XORing ciphertexts against each other, patterns emerge where spaces and common letters exist.\n",
        "      * In English text, the space character (0x20 in ASCII) is very common.\n",
        "      * If a character in the XOR result looks like an uppercase or lowercase letter, it suggests that one of the plaintexts had a space in that position.\n",
        "\n",
        "      Example:\n",
        "           If P1 [ 𝑗 ] ⊕ P2 [ 𝑗 ] P1 [j]⊕P2 [j] produces an ASCII letter, then one of the plaintexts likely had a space (0x20). Using this, we can recover parts of the key using:\n",
        "                     k[𝑗] = ci[𝑗] ⊕ 0x20\n",
        "\n",
        "\n",
        "3. Decrypting the Target Ciphertext (Using the Recovered Key to Decrypt the Target Ciphertext)\n",
        "      * Once some key bytes are recovered, we XOR them with the target ciphertext to reveal parts of the plaintext.\n",
        "      * This process is repeated iteratively until most (or all) of the target plaintext is revealed.\n",
        "\n",
        "\n",
        "## Solution:\n",
        "The code below is used to perform all the actions described above. The code evovled as we enoutered new issues, so how it's used at the beginning is slightly different then the end. The notebook should run from the start of the code until the end in order.\n",
        "\n",
        " The solution for this problem for the 9th ciphertext is:\n",
        "\n",
        "- \"Why do cats love sitting in front of the computer all day long? Because they don't want to let the mouse out of u\"\n",
        "\n",
        "Since this ciphertext was the largest of the set, we maxed out at 113 characters."
      ],
      "metadata": {
        "id": "3NSHBz4fYUrh"
      }
    },
    {
      "cell_type": "code",
      "source": [
        "# Print formatted output for better readability\n",
        "def print_formatted(description:str, data:str):\n",
        "    print(f'{description:<10}: {data}')\n",
        "\n",
        "def bytes_to_hex(byte_data: bytes) -> str:\n",
        "    return byte_data.hex()\n",
        "\n",
        "def hex_to_bytes(hex_string:str) -> bytes:\n",
        "    return bytes.fromhex(hex_string)\n",
        "\n",
        "def string_to_bytes(text_string:str) -> bytes:\n",
        "    return text_string.encode('latin1')\n",
        "\n",
        "def bytes_to_string(byte_data:bytes) -> str:\n",
        "    return byte_data.decode('latin1')\n",
        "\n",
        "def xor_bytes(data:bytes, key:bytes) -> bytes:\n",
        "    return bytes(a ^ b for a, b in zip(data, key))\n",
        "\n",
        "# For storing and retreiving from file in hex\n",
        "def string_to_hex(string:str) -> str:\n",
        "    return string.encode('utf-8').hex()\n",
        "\n",
        "def hex_to_string(hex_string:str) -> str:\n",
        "    return bytes.fromhex(hex_string).decode('utf-8')\n",
        "\n",
        "collected_cyphertexts = [\n",
        "  \"71fe1ace4389087266117cd7c98c4182851b3acff3b086e3f83f94d6eb05c4ba85d8e1fa14f11d1c3b568ff6cff5c09c5d67ef5c9c71b7eeb3d45a5154ab17b83e071ce9d8988adb4afedf46a840\",\n",
        "  \"71fe1ace559a1e7266117cd7ce8745d7be2e74c3f0f68eeef57e8884e607debf81dfa0f012f95819681ae7f29fe4839b5175ef5e8760bef0b9d44b504eba12b22f5404f89dd085d550a48865a14f9b15a94dabe609ca2df2cccf210cefdb1af5389719795e1f0179cb77c5c456954d88f3\",\n",
        "  \"72fe069c51c81a20775928c7879d4fd2a93c3acff3f69fe5fe2e9493a303d9ea98c4e5b60ae40a146058e7c787fbd09a1474e25dc865b5e6af865d4a40a61bfd384e06e0cfc1ccd356ff8853ac438905fa5fe3fd41cb3bbc8ac9\",\n",
        "  \"67e543885b9a5b2267177084cf8453ccb8633ad7fdb39de5b13f8a93a304d6bf8bc4f4ef5def110b6f56a3e186e2c68c1470ef5c9c2ffbd6a291571e40ba1afd3b4b1fe0c4cbccc15df5dc07b043da01fa6ae4fd158f37b3c0cd\",\n",
        "  \"71fe029a148c1236320d7192878a59cfbc3a6ec5e7f68befb13196d6ea1ec4ea81d9e3fe50ea0f196d02a2f7cfe2c29c5577e35d8630baf6ea80465b01aa1abc394f57a1f4ccccda59ff8846e44b8805bb5cabe608c231f2dec8364ae7d90ab4358c5c3a421b06\",\n",
        "  \"6ef914ce5989152b321a769ad79c42c7be6f6ad2fab19de1fc339d84f04ad3a589dfa0ff09ab0c196f13e7e780b4c097556ded57c871fbeea393464a01aa0ab1381848cfd2d6898918efc046b00b8940bb08e3f313cb23b3dfd8645cfcd80ff82489\",\n",
        "  \"71fe1ace4389087266117cd7c4865bd2b93b7fd2b5a58ce9f4308c9ff01e97ab82cbf2ef5dfc101d6a56b3fb8ab4d08b4167ef5c9c30b8f0ab97455b45e81efd364605e49ddb83df48eedc42b60c900fb14db4b229ca74b6c4d96442e1c34df8288f5c3a450a527ecc7c82865b8e\",\n",
        "  \"71fe029a148c1437615978d7c58854dbec2c75cde5a39be5e37e9b97ef0697a285dfa0f01cff101d764983f29bf5\",\n",
        "  \"71fe1ace50875b31730d6ad7cb8640c7ec3c73d4e1bf81e7b13796d6e518d8a4988ceff05dff101d2415a8fe9fe1d79a4623eb5e8430bfe3b3d442514faf40fd18420be0c8cb89924cf3cd5ee448950efd5cabe500c120f2d9d26440ebc34de029811977430b01748276d79012955cc6a65aebb9054becda5c9278\"\n",
        "]\n",
        "\n",
        "max_len = 0\n",
        "byte_texts = []\n",
        "for c, c_text in enumerate(collected_cyphertexts):\n",
        "    byte_text = hex_to_bytes(c_text)\n",
        "    print_formatted(f\"Hex {c} ({len(byte_text)}):\", byte_text)\n",
        "    max_len = max(max_len, len(byte_text))\n",
        "    byte_texts.append(byte_text)\n",
        "\n",
        "print(f'Max length of key: {max_len}')\n",
        "source_ciphertexts = byte_texts[0:9]\n",
        "target_ciphertext = byte_texts[8]\n"
      ],
      "metadata": {
        "id": "y8tr0GUHrzJE",
        "colab": {
          "base_uri": "https://localhost:8080/"
        },
        "outputId": "4f9fe03b-106a-490c-c9b4-931d0b0b58a6"
      },
      "execution_count": 409,
      "outputs": [
        {
          "output_type": "stream",
          "name": "stdout",
          "text": [
            "Hex 0 (78):: b'q\\xfe\\x1a\\xceC\\x89\\x08rf\\x11|\\xd7\\xc9\\x8cA\\x82\\x85\\x1b:\\xcf\\xf3\\xb0\\x86\\xe3\\xf8?\\x94\\xd6\\xeb\\x05\\xc4\\xba\\x85\\xd8\\xe1\\xfa\\x14\\xf1\\x1d\\x1c;V\\x8f\\xf6\\xcf\\xf5\\xc0\\x9c]g\\xef\\\\\\x9cq\\xb7\\xee\\xb3\\xd4ZQT\\xab\\x17\\xb8>\\x07\\x1c\\xe9\\xd8\\x98\\x8a\\xdbJ\\xfe\\xdfF\\xa8@'\n",
            "Hex 1 (113):: b'q\\xfe\\x1a\\xceU\\x9a\\x1erf\\x11|\\xd7\\xce\\x87E\\xd7\\xbe.t\\xc3\\xf0\\xf6\\x8e\\xee\\xf5~\\x88\\x84\\xe6\\x07\\xde\\xbf\\x81\\xdf\\xa0\\xf0\\x12\\xf9X\\x19h\\x1a\\xe7\\xf2\\x9f\\xe4\\x83\\x9bQu\\xef^\\x87`\\xbe\\xf0\\xb9\\xd4KPN\\xba\\x12\\xb2/T\\x04\\xf8\\x9d\\xd0\\x85\\xd5P\\xa4\\x88e\\xa1O\\x9b\\x15\\xa9M\\xab\\xe6\\t\\xca-\\xf2\\xcc\\xcf!\\x0c\\xef\\xdb\\x1a\\xf58\\x97\\x19y^\\x1f\\x01y\\xcbw\\xc5\\xc4V\\x95M\\x88\\xf3'\n",
            "Hex 2 (90):: b'r\\xfe\\x06\\x9cQ\\xc8\\x1a wY(\\xc7\\x87\\x9dO\\xd2\\xa9<:\\xcf\\xf3\\xf6\\x9f\\xe5\\xfe.\\x94\\x93\\xa3\\x03\\xd9\\xea\\x98\\xc4\\xe5\\xb6\\n\\xe4\\n\\x14`X\\xe7\\xc7\\x87\\xfb\\xd0\\x9a\\x14t\\xe2]\\xc8e\\xb5\\xe6\\xaf\\x86]J@\\xa6\\x1b\\xfd8N\\x06\\xe0\\xcf\\xc1\\xcc\\xd3V\\xff\\x88S\\xacC\\x89\\x05\\xfa_\\xe3\\xfdA\\xcb;\\xbc\\x8a\\xc9'\n",
            "Hex 3 (90):: b'g\\xe5C\\x88[\\x9a[\"g\\x17p\\x84\\xcf\\x84S\\xcc\\xb8c:\\xd7\\xfd\\xb3\\x9d\\xe5\\xb1?\\x8a\\x93\\xa3\\x04\\xd6\\xbf\\x8b\\xc4\\xf4\\xef]\\xef\\x11\\x0boV\\xa3\\xe1\\x86\\xe2\\xc6\\x8c\\x14p\\xef\\\\\\x9c/\\xfb\\xd6\\xa2\\x91W\\x1e@\\xba\\x1a\\xfd;K\\x1f\\xe0\\xc4\\xcb\\xcc\\xc1]\\xf5\\xdc\\x07\\xb0C\\xda\\x01\\xfaj\\xe4\\xfd\\x15\\x8f7\\xb3\\xc0\\xcd'\n",
            "Hex 4 (103):: b'q\\xfe\\x02\\x9a\\x14\\x8c\\x1262\\rq\\x92\\x87\\x8aY\\xcf\\xbc:n\\xc5\\xe7\\xf6\\x8b\\xef\\xb11\\x96\\xd6\\xea\\x1e\\xc4\\xea\\x81\\xd9\\xe3\\xfeP\\xea\\x0f\\x19m\\x02\\xa2\\xf7\\xcf\\xe2\\xc2\\x9cUw\\xe3]\\x860\\xba\\xf6\\xea\\x80F[\\x01\\xaa\\x1a\\xbc9OW\\xa1\\xf4\\xcc\\xcc\\xdaY\\xff\\x88F\\xe4K\\x88\\x05\\xbb\\\\\\xab\\xe6\\x08\\xc21\\xf2\\xde\\xc86J\\xe7\\xd9\\n\\xb45\\x8c\\\\:B\\x1b\\x06'\n",
            "Hex 5 (98):: b'n\\xf9\\x14\\xceY\\x89\\x15+2\\x1av\\x9a\\xd7\\x9cB\\xc7\\xbeoj\\xd2\\xfa\\xb1\\x9d\\xe1\\xfc3\\x9d\\x84\\xf0J\\xd3\\xa5\\x89\\xdf\\xa0\\xff\\t\\xab\\x0c\\x19o\\x13\\xe7\\xe7\\x80\\xb4\\xc0\\x97Um\\xedW\\xc8q\\xfb\\xee\\xa3\\x93FJ\\x01\\xaa\\n\\xb18\\x18H\\xcf\\xd2\\xd6\\x89\\x89\\x18\\xef\\xc0F\\xb0\\x0b\\x89@\\xbb\\x08\\xe3\\xf3\\x13\\xcb#\\xb3\\xdf\\xd8d\\\\\\xfc\\xd8\\x0f\\xf8$\\x89'\n",
            "Hex 6 (110):: b'q\\xfe\\x1a\\xceC\\x89\\x08rf\\x11|\\xd7\\xc4\\x86[\\xd2\\xb9;\\x7f\\xd2\\xb5\\xa5\\x8c\\xe9\\xf40\\x8c\\x9f\\xf0\\x1e\\x97\\xab\\x82\\xcb\\xf2\\xef]\\xfc\\x10\\x1djV\\xb3\\xfb\\x8a\\xb4\\xd0\\x8bAg\\xef\\\\\\x9c0\\xb8\\xf0\\xab\\x97E[E\\xe8\\x1e\\xfd6F\\x05\\xe4\\x9d\\xdb\\x83\\xdfH\\xee\\xdcB\\xb6\\x0c\\x90\\x0f\\xb1M\\xb4\\xb2)\\xcat\\xb6\\xc4\\xd9dB\\xe1\\xc3M\\xf8(\\x8f\\\\:E\\nR~\\xcc|\\x82\\x86[\\x8e'\n",
            "Hex 7 (46):: b'q\\xfe\\x02\\x9a\\x14\\x8c\\x147aYx\\xd7\\xc5\\x88T\\xdb\\xec,u\\xcd\\xe5\\xa3\\x9b\\xe5\\xe3~\\x9b\\x97\\xef\\x06\\x97\\xa2\\x85\\xdf\\xa0\\xf0\\x1c\\xff\\x10\\x1dvI\\x83\\xf2\\x9b\\xf5'\n",
            "Hex 8 (123):: b'q\\xfe\\x1a\\xceP\\x87[1s\\rj\\xd7\\xcb\\x86@\\xc7\\xec<s\\xd4\\xe1\\xbf\\x81\\xe7\\xb17\\x96\\xd6\\xe5\\x18\\xd8\\xa4\\x98\\x8c\\xef\\xf0]\\xff\\x10\\x1d$\\x15\\xa8\\xfe\\x9f\\xe1\\xd7\\x9aF#\\xeb^\\x840\\xbf\\xe3\\xb3\\xd4BQO\\xaf@\\xfd\\x18B\\x0b\\xe0\\xc8\\xcb\\x89\\x92L\\xf3\\xcd^\\xe4H\\x95\\x0e\\xfd\\\\\\xab\\xe5\\x00\\xc1 \\xf2\\xd9\\xd2d@\\xeb\\xc3M\\xe0)\\x81\\x19wC\\x0b\\x01t\\x82v\\xd7\\x90\\x12\\x95\\\\\\xc6\\xa6Z\\xeb\\xb9\\x05K\\xec\\xda\\\\\\x92x'\n",
            "Max length of key: 123\n"
          ]
        }
      ]
    },
    {
      "cell_type": "code",
      "source": [
        "import re\n",
        "# regex pattern for allowable characters\n",
        "\n",
        "def contains_allowable_characters(text: str) -> bool:\n",
        "    # regex pattern for allowable characters\n",
        "    pattern = r'^[a-zA-Z0-9\\s.,?]+$'\n",
        "    return bool(re.match(pattern, text))\n",
        "\n",
        "def identify_malformed_sequences(text: str) -> bool:\n",
        "    # Define a pattern for valid sequences (e.g., words with only letters, numbers, spaces, and punctuation)\n",
        "    valid_pattern = r'^[a-zA-Z]+[0-9]*[.,!?]*$'\n",
        "\n",
        "    # Find all sequences in the text\n",
        "    all_sequences = re.findall(r'\\S+', text)\n",
        "\n",
        "    # Identify malformed sequences\n",
        "    return len([seq for seq in all_sequences if not re.fullmatch(valid_pattern, seq)]) != 0\n",
        "\n",
        "def evaluate_possible_plaintext(possible_plaintext: bytes) -> bool:\n",
        "    decoded_text = possible_plaintext.decode('latin1')\n",
        "    return contains_allowable_characters(decoded_text) and not identify_malformed_sequences(decoded_text)\n",
        "\n",
        "# Update the value of the key at a specific position\n",
        "def set_key(key: list, position: int, value: bytes) -> list:\n",
        "    for i in range(len(value)):\n",
        "        key[position + i] = value[i]\n",
        "    return key\n",
        "\n",
        "def set_key_from(key: bytes, position: int, ciphertext: bytes, value: bytes) -> (bytes, int):\n",
        "    new_key = xor_bytes(ciphertext[position:position + len(value)], value)\n",
        "    return bytes(set_key(list(key), position, new_key)), position + len(value)\n",
        "\n",
        "def crib_drag(ciphertext: bytes, eval_ciphertext: bytes, test_ciphertext: bytes, crib: bytes) -> list:\n",
        "    new_key = list(key)\n",
        "    crib_length = len(crib)\n",
        "    found_plaintexts = []\n",
        "    min_len = min(len(ciphertext), len(eval_ciphertext))\n",
        "    # Drag the crib\n",
        "    for i in range(min_len - crib_length + 1):\n",
        "        # If you already have this key position filled out, skip\n",
        "        if new_key[i] != 0:\n",
        "            continue\n",
        "\n",
        "        # Get the segment of the ciphertext from the target and source\n",
        "        segment1 = ciphertext[i:i + crib_length]\n",
        "        segment2 = eval_ciphertext[i:i + crib_length]\n",
        "\n",
        "        # Skip if the segments are the same, this will result in a xor of 0x00\n",
        "        if segment1 == segment2:\n",
        "            continue\n",
        "\n",
        "        xor_segment = xor_bytes(segment1, segment2)\n",
        "        possible_plaintext = xor_bytes(xor_segment, crib)\n",
        "\n",
        "        # Generate the possible key from the crib against the source and the target. Since we don't\n",
        "        # know if the crib is in the target or the source, we need to check both possibilities.\n",
        "        # Evaluate the possible key against all the source texts. If the key is good, update the key.\n",
        "        # If not, update the key with the source text xor'd with the crib\n",
        "        if evaluate_possible_plaintext(possible_plaintext):\n",
        "\n",
        "            possible_key = xor_bytes(segment1, crib)\n",
        "            test_text = xor_bytes(test_ciphertext[i:i + crib_length], possible_key)\n",
        "            if evaluate_possible_plaintext(test_text):\n",
        "                new_key = set_key(new_key, i, possible_key)\n",
        "                found_plaintexts.append([i,crib, possible_plaintext])\n",
        "\n",
        "            else:\n",
        "                possible_key = xor_bytes(segment1, possible_plaintext)\n",
        "                test_text = xor_bytes(test_ciphertext[i:i + crib_length], possible_key)\n",
        "                if evaluate_possible_plaintext(test_text):\n",
        "                    new_key = set_key(new_key, i, possible_key)\n",
        "                    found_plaintexts.append([i,crib, possible_plaintext])\n",
        "\n",
        "    return found_plaintexts\n",
        "\n",
        "# Run through a list of cribs and append all the results together\n",
        "def run_cribs(cribs: list, ct1:bytes, ct2:bytes) -> list:\n",
        "    texts = []\n",
        "    for crib in cribs:\n",
        "        texts += crib_drag(source_ciphertexts[ct1], source_ciphertexts[ct2], target_ciphertext, crib)\n",
        "    print_results(texts)\n",
        "    return texts\n",
        "\n",
        "# Replace a found plaintext into the 2 target strings that generated them\n",
        "def plug_value(string:str, value:str, position:int) -> str:\n",
        "    return string[:position] + value + string[position + len(value):]\n",
        "\n",
        "# Replace a found plaintext into the 2 target strings that generated them.\n",
        "# Provide a mechanism to switch the values.\n",
        "def plug_values(string1: str, string2: str, packet: list, switch:bool = False) -> (str, str):\n",
        "    position, crib, possible_plaintext = packet\n",
        "    if switch:\n",
        "        ret_str_1 = plug_value(string1, possible_plaintext.decode('latin1'), position)\n",
        "        ret_str_2 = plug_value(string2, crib.decode('latin1'), position)\n",
        "    else:\n",
        "        ret_str_1 = plug_value(string1, crib.decode('latin1'), position)\n",
        "        ret_str_2 = plug_value(string2, possible_plaintext.decode('latin1'), position)\n",
        "    return ret_str_1, ret_str_2\n",
        "\n",
        "# print the results so we can see their inexes and values\n",
        "def print_results(results: list) -> None:\n",
        "    for i, result in enumerate(results):\n",
        "        print(i, result)\n",
        "\n",
        "key = bytes(max_len)"
      ],
      "metadata": {
        "id": "ZtJvu_UwADTi"
      },
      "execution_count": 411,
      "outputs": []
    },
    {
      "cell_type": "code",
      "source": [
        "cribs = [\n",
        "    b' the ',\n",
        "    b' these ',\n",
        "    b' there ',\n",
        "    b' where ',\n",
        "    b' and ',\n",
        "    b' that ',\n",
        "    b' why ',\n",
        "    b' how ',\n",
        "    b' when ',\n",
        "    b'Why ',\n",
        "    b'There ',\n",
        "    b' are ',\n",
        "    b' this ',\n",
        "    b' secret ',\n",
        "    b' message ',\n",
        "    b' attack ',\n",
        "    b' encryption ',\n",
        "    b' are ',\n",
        "    b' many ',\n",
        "    b' do ',\n",
        "    b' had ',\n",
        "    b' you ',\n",
        "    b' hand '\n",
        "]"
      ],
      "metadata": {
        "id": "hHJVYPT2i4Kw"
      },
      "execution_count": 412,
      "outputs": []
    },
    {
      "cell_type": "code",
      "source": [
        "string1 = ' ' * max_len\n",
        "string2 = ' ' * max_len\n",
        "string3 = ' ' * max_len\n",
        "string4 = ' ' * max_len"
      ],
      "metadata": {
        "id": "xhx6n2J-qLOo"
      },
      "execution_count": 413,
      "outputs": []
    },
    {
      "cell_type": "code",
      "source": [
        "ct1 = 2\n",
        "ct2 = 0\n",
        "results = run_cribs(cribs, ct1, ct2)"
      ],
      "metadata": {
        "colab": {
          "base_uri": "https://localhost:8080/"
        },
        "id": "w81lJUA6i9ad",
        "outputId": "f892999f-e59e-4450-8425-65ce475dd57f"
      },
      "execution_count": 414,
      "outputs": [
        {
          "output_type": "stream",
          "name": "stdout",
          "text": [
            "0 [12, b' the ', b'nef5\\x0c']\n",
            "1 [31, b' the ', b'pital']\n",
            "2 [65, b' the ', b'inary']\n",
            "3 [70, b' and ', b'firew']\n",
            "4 [57, b' that ', b'rssuy,']\n",
            "5 [48, b' why ', b'idext']\n",
            "6 [21, b' how ', b'fqiq1']\n",
            "7 [0, b'Why ', b'Ther']\n",
            "8 [18, b'Why ', b'Whyf']\n",
            "9 [0, b'There ', b'Why wa']\n",
            "10 [5, b' are ', b'as th']\n",
            "11 [70, b' are ', b'findw']\n",
            "12 [15, b' this ', b'pXOis ']\n",
            "13 [5, b' are ', b'as th']\n",
            "14 [70, b' are ', b'findw']\n",
            "15 [44, b' many ', b'hcqh03']\n",
            "16 [15, b' do ', b'pHH ']\n",
            "17 [12, b' had ', b'nyo4\\x0c']\n",
            "18 [65, b' you ', b'icfby']\n"
          ]
        }
      ]
    },
    {
      "cell_type": "code",
      "source": [
        "string1, string2 = plug_values(string1, string2, results[9])\n",
        "string1, string2 = plug_values(string1, string2, results[10])\n",
        "string1, string2 = plug_values(string1, string2, results[13])\n",
        "print(string1)\n",
        "print(string2)"
      ],
      "metadata": {
        "colab": {
          "base_uri": "https://localhost:8080/"
        },
        "id": "3-WdF-8NjIBc",
        "outputId": "8d19574b-85fa-4cda-996a-fac32cb3d3b3"
      },
      "execution_count": 415,
      "outputs": [
        {
          "output_type": "stream",
          "name": "stdout",
          "text": [
            "There are                                                                                                                  \n",
            "Why was th                                                                                                                 \n"
          ]
        }
      ]
    },
    {
      "cell_type": "code",
      "source": [
        "# Test the partial key to see if we can derive more words (may have to switch some words around)\n",
        "blank_key = bytes(max_len)\n",
        "possible_key = xor_bytes(source_ciphertexts[ct1], string_to_bytes(string1))\n",
        "possible_key = xor_bytes(possible_key, blank_key)\n",
        "target_plaintext = xor_bytes(target_ciphertext, possible_key)\n",
        "target_plaintext"
      ],
      "metadata": {
        "colab": {
          "base_uri": "https://localhost:8080/"
        },
        "id": "PlBDcOUWjKvi",
        "outputId": "078b2cb7-51c2-4e57-98e8-a11498db56f1"
      },
      "execution_count": 416,
      "outputs": [
        {
          "output_type": "execute_result",
          "data": {
            "text/plain": [
              "b'Why do catb0l;/5e i;2i>\"o9\"ef;!n h*fw;:)dmo\\x198:\\' rw)#lu*%<r?;/){ \\x00,- \\'*ea:,e-h+<+\\'#h8a*;ns;'"
            ]
          },
          "metadata": {},
          "execution_count": 416
        }
      ]
    },
    {
      "cell_type": "code",
      "source": [
        "ct1 = 2\n",
        "ct3 = 3\n",
        "results = run_cribs(cribs, ct1, ct3)"
      ],
      "metadata": {
        "colab": {
          "base_uri": "https://localhost:8080/"
        },
        "id": "jQLE8TJljOu7",
        "outputId": "ab13bb39-d68e-4129-869c-58fc4d751af3"
      },
      "execution_count": 417,
      "outputs": [
        {
          "output_type": "stream",
          "name": "stdout",
          "text": [
            "0 [24, b' the ', b'oeve ']\n",
            "1 [31, b' the ', b'ughty']\n",
            "2 [18, b' these ', b' lf qeo']\n",
            "3 [18, b' there ', b' lf peo']\n",
            "4 [18, b' where ', b' of peo']\n",
            "5 [12, b' and ', b'hxrz1']\n",
            "6 [70, b' and ', b' sent']\n",
            "7 [12, b' why ', b'hntg1']\n",
            "8 [21, b' why ', b'euh61']\n",
            "9 [31, b' why ', b'udhhy']\n",
            "10 [48, b' why ', b' sext']\n",
            "11 [21, b' how ', b'ejo81']\n",
            "12 [63, b' how ', b' kjn ']\n",
            "13 [13, b'Why ', b'Ntg1']\n",
            "14 [18, b'Why ', b'Wpwe']\n",
            "15 [22, b'Why ', b'Uh61']\n",
            "16 [32, b'Why ', b'Dhhy']\n",
            "17 [44, b'Why ', b'Vqo6']\n",
            "18 [67, b'Why ', b'Wcs ']\n",
            "19 [81, b'Why ', b'boyt']\n",
            "20 [0, b'There ', b'As for']\n",
            "21 [19, b'There ', b'Lf peo']\n",
            "22 [65, b'There ', b'Qqeyo ']\n",
            "23 [5, b' are ', b'r pun']\n",
            "24 [24, b' are ', b'ople ']\n",
            "25 [59, b' are ', b'tand ']\n",
            "26 [67, b' are ', b' jxe2']\n",
            "27 [42, b' this ', b'dRipe6']\n",
            "28 [63, b' attack ', b' bqmaha ']\n",
            "29 [5, b' are ', b'r pun']\n",
            "30 [24, b' are ', b'ople ']\n",
            "31 [59, b' are ', b'tand ']\n",
            "32 [67, b' are ', b' jxe2']\n",
            "33 [21, b' do ', b'efoo']\n",
            "34 [36, b' do ', b'wot?']\n",
            "35 [63, b' do ', b' gj9']\n",
            "36 [67, b' do ', b' oe ']\n",
            "37 [63, b' you ', b' zjl ']\n"
          ]
        }
      ]
    },
    {
      "cell_type": "code",
      "source": [
        "string1, string3 = plug_values(string1, string3, results[1], True)\n",
        "string1, string3 = plug_values(string1, string3, results[4], True)\n",
        "string1, string3 = plug_values(string1, string3, results[6], True)\n",
        "string1, string3 = plug_values(string1, string3, results[20])\n",
        "print(string1)\n",
        "print(string2)\n",
        "print(string3)"
      ],
      "metadata": {
        "colab": {
          "base_uri": "https://localhost:8080/"
        },
        "id": "BzwBKNlKjS77",
        "outputId": "ca1f1599-ea45-4f10-e6a2-d763f7eeeb0d"
      },
      "execution_count": 418,
      "outputs": [
        {
          "output_type": "stream",
          "name": "stdout",
          "text": [
            "There are          of peo      ughty                                   sent                                                \n",
            "Why was th                                                                                                                 \n",
            "As for             where        the                                    and                                                 \n"
          ]
        }
      ]
    },
    {
      "cell_type": "code",
      "source": [
        "results = crib_drag(source_ciphertexts[ct1], source_ciphertexts[ct3], target_ciphertext, b' naughty ')\n",
        "print_results(results)"
      ],
      "metadata": {
        "colab": {
          "base_uri": "https://localhost:8080/"
        },
        "id": "_OnSjjCZjYav",
        "outputId": "fcca9065-b5e4-455f-9324-62dd5f2cd565"
      },
      "execution_count": 419,
      "outputs": [
        {
          "output_type": "stream",
          "name": "stdout",
          "text": [
            "0 [28, b' naughty ', b' in the w']\n"
          ]
        }
      ]
    },
    {
      "cell_type": "code",
      "source": [
        "string1, string3 = plug_values(string1, string3, results[0], True)\n",
        "print(string1)\n",
        "print(string2)\n",
        "print(string3)"
      ],
      "metadata": {
        "colab": {
          "base_uri": "https://localhost:8080/"
        },
        "id": "JvwmYOeyja-4",
        "outputId": "4252b7ed-9c64-4d6b-cb03-b5e0659cde23"
      },
      "execution_count": 420,
      "outputs": [
        {
          "output_type": "stream",
          "name": "stdout",
          "text": [
            "There are          of peo    in the w                                  sent                                                \n",
            "Why was th                                                                                                                 \n",
            "As for             where     naughty                                   and                                                 \n"
          ]
        }
      ]
    },
    {
      "cell_type": "code",
      "source": [
        "results = crib_drag(source_ciphertexts[ct1], source_ciphertexts[ct3], target_ciphertext, b' world ')\n",
        "print_results(results)"
      ],
      "metadata": {
        "colab": {
          "base_uri": "https://localhost:8080/"
        },
        "id": "sTSJbKpxkuHD",
        "outputId": "d5ffbfcd-21b3-488a-e77e-c59dbe715435"
      },
      "execution_count": 421,
      "outputs": [
        {
          "output_type": "stream",
          "name": "stdout",
          "text": [
            "0 [35, b' world ', b'y disk.']\n",
            "1 [42, b' world ', b'dQnkzr ']\n"
          ]
        }
      ]
    },
    {
      "cell_type": "code",
      "source": [
        "string1, string3 = plug_values(string1, string3, results[0], False)\n",
        "print(string1)\n",
        "print(string2)\n",
        "print(string3)"
      ],
      "metadata": {
        "colab": {
          "base_uri": "https://localhost:8080/"
        },
        "id": "8HsC2vTek0gX",
        "outputId": "ee3e0c36-b7d5-47f2-a628-4be4cf2504b1"
      },
      "execution_count": 422,
      "outputs": [
        {
          "output_type": "stream",
          "name": "stdout",
          "text": [
            "There are          of peo    in the world                              sent                                                \n",
            "Why was th                                                                                                                 \n",
            "As for             where     naughty disk.                             and                                                 \n"
          ]
        }
      ]
    },
    {
      "cell_type": "code",
      "source": [
        "# Test the partial key to see if we can derive more words (may have to switch some words around)\n",
        "blank_key = bytes(max_len)\n",
        "possible_key = xor_bytes(source_ciphertexts[ct3], string_to_bytes(string3))\n",
        "possible_key = xor_bytes(possible_key, blank_key)\n",
        "target_plaintext = xor_bytes(target_ciphertext, possible_key)\n",
        "print(target_plaintext.decode('latin1'))"
      ],
      "metadata": {
        "colab": {
          "base_uri": "https://localhost:8080/"
        },
        "id": "9LEyCxUejtWt",
        "outputId": "fb46dee3-7e9e-47b4-dece-c8f417695b0b"
      },
      "execution_count": 423,
      "outputs": [
        {
          "output_type": "stream",
          "name": "stdout",
          "text": [
            "Why do 34::s$\"3+titting (<efront of the m+?9#16rs$\"8?d\u00151e5o/5z \u0003)4 , e2b1yt+o/'\u0016o85n7a9?\n"
          ]
        }
      ]
    },
    {
      "cell_type": "code",
      "source": [
        "ct1 = 2\n",
        "ct4 = 4\n",
        "results = run_cribs(cribs, ct1, ct4)"
      ],
      "metadata": {
        "colab": {
          "base_uri": "https://localhost:8080/"
        },
        "id": "BZOZ5kLdlmbW",
        "outputId": "1bee0b1a-374f-4f54-e126-ee562cf64e21"
      },
      "execution_count": 424,
      "outputs": [
        {
          "output_type": "stream",
          "name": "stdout",
          "text": [
            "0 [24, b' the ', b'okj i']\n",
            "1 [31, b' the ', b' much']\n",
            "2 [56, b' the ', b'ersta']\n",
            "3 [74, b' these ', b' a mrea']\n",
            "4 [74, b' there ', b' a msea']\n",
            "5 [74, b' where ', b' b msea']\n",
            "6 [12, b' and ', b' vxy5']\n",
            "7 [70, b' and ', b' had ']\n",
            "8 [76, b' and ', b'hioda']\n",
            "9 [21, b' why ', b' cb6?']\n",
            "10 [28, b' why ', b'ijuy9']\n",
            "11 [48, b' why ', b'atiyn']\n",
            "12 [28, b' how ', b'iurw9']\n",
            "13 [22, b'Why ', b'Cb6?']\n",
            "14 [28, b'Why ', b'\\x1eud ']\n",
            "15 [38, b'Why ', b'Retz']\n",
            "16 [81, b'Why ', b'T bi']\n",
            "17 [0, b'There ', b'What d']\n",
            "18 [75, b'There ', b'A msea']\n",
            "19 [5, b' are ', b'did t']\n",
            "20 [12, b' are ', b' vdx5']\n",
            "21 [76, b' are ', b'hisea']\n",
            "22 [5, b' are ', b'did t']\n",
            "23 [12, b' are ', b' vdx5']\n",
            "24 [76, b' are ', b'hisea']\n",
            "25 [21, b' do ', b' peo']\n",
            "26 [84, b' do ', b'imen']\n",
            "27 [44, b' had ', b'hqsba']\n",
            "28 [70, b' had ', b' and ']\n"
          ]
        }
      ]
    },
    {
      "cell_type": "code",
      "source": [
        "string1, string4 = plug_values(string1, string4, results[1])\n",
        "string1, string4 = plug_values(string1, string4, results[7])\n",
        "string1, string4 = plug_values(string1, string4, results[17])\n",
        "string1, string4 = plug_values(string1, string4, results[19])\n",
        "string1, string4 = plug_values(string1, string4, results[22])\n",
        "string1, string4 = plug_values(string1, string4, results[28])\n",
        "print(string1)\n",
        "print(string2)\n",
        "print(string3)\n",
        "print(string4)"
      ],
      "metadata": {
        "colab": {
          "base_uri": "https://localhost:8080/"
        },
        "id": "eRpdO302lxnA",
        "outputId": "d1911b34-2330-4e4c-d389-6ad96bce9635"
      },
      "execution_count": 425,
      "outputs": [
        {
          "output_type": "stream",
          "name": "stdout",
          "text": [
            "There are          of peo    in the world                              had                                                 \n",
            "Why was th                                                                                                                 \n",
            "As for             where     naughty disk.                             and                                                 \n",
            "What did t                      much                                   and                                                 \n"
          ]
        }
      ]
    },
    {
      "cell_type": "markdown",
      "source": [
        "### At this point I decided not to create as many cells. So I run the crib drag and print the results. Then I add the plug_values statements and print statements after. So from now on in the notebook, I actually run the cells twice."
      ],
      "metadata": {
        "id": "lJrzlSYOWY9R"
      }
    },
    {
      "cell_type": "code",
      "source": [
        "results = crib_drag(source_ciphertexts[ct1], source_ciphertexts[ct4], target_ciphertext, b' people ')\n",
        "print_results(results)\n",
        "string1, string4 = plug_values(string1, string4, results[0])\n",
        "print(string1)\n",
        "print(string2)\n",
        "print(string3)\n",
        "print(string4)"
      ],
      "metadata": {
        "colab": {
          "base_uri": "https://localhost:8080/"
        },
        "id": "D5oyHFsUmi5l",
        "outputId": "c86040c7-7f38-4817-a89c-cb3099a55cd7"
      },
      "execution_count": 426,
      "outputs": [
        {
          "output_type": "stream",
          "name": "stdout",
          "text": [
            "0 [21, b' people ', b' do on i']\n",
            "There are          of people in the world                              had                                                 \n",
            "Why was th                                                                                                                 \n",
            "As for             where     naughty disk.                             and                                                 \n",
            "What did t            do on i   much                                   and                                                 \n"
          ]
        }
      ]
    },
    {
      "cell_type": "code",
      "source": [
        "results = crib_drag(source_ciphertexts[ct1], source_ciphertexts[ct4], target_ciphertext, b' in ')\n",
        "print_results(results)\n",
        "string1, string4 = plug_values(string1, string4, results[1])\n",
        "print(string1)\n",
        "print(string2)\n",
        "print(string3)\n",
        "print(string4)"
      ],
      "metadata": {
        "colab": {
          "base_uri": "https://localhost:8080/"
        },
        "id": "leQBkj3zm8yA",
        "outputId": "c1d638a8-e027-498d-a51a-632e3d621753"
      },
      "execution_count": 427,
      "outputs": [
        {
          "output_type": "stream",
          "name": "stdout",
          "text": [
            "0 [24, b' in ', b'ovle']\n",
            "1 [28, b' in ', b'its ']\n",
            "2 [67, b' in ', b'aRc ']\n",
            "There are          of people in the world                              had                                                 \n",
            "Why was th                                                                                                                 \n",
            "As for             where     naughty disk.                             and                                                 \n",
            "What did t            do on its much                                   and                                                 \n"
          ]
        }
      ]
    },
    {
      "cell_type": "code",
      "source": [
        "# Dig some more words out of ct2\n",
        "blank_key = bytes(max_len)\n",
        "possible_key = xor_bytes(source_ciphertexts[ct1], string_to_bytes(string1))\n",
        "possible_key = xor_bytes(possible_key, blank_key)\n",
        "target_plaintext = xor_bytes(source_ciphertexts[ct2], possible_key)\n",
        "print(target_plaintext.decode('latin1'))"
      ],
      "metadata": {
        "colab": {
          "base_uri": "https://localhost:8080/"
        },
        "id": "cAXgkAiPnYtk",
        "outputId": "eb5c7ccb-d0f4-4dda-951d-147fccabfde7"
      },
      "execution_count": 428,
      "outputs": [
        {
          "output_type": "stream",
          "name": "stdout",
          "text": [
            "Why was tht0n1.p\f\u0007 official hospitalized?.H\u0011h.0&i3-!t4\"(<r';4-,e&i:)7yf`}ew5$#\n"
          ]
        }
      ]
    },
    {
      "cell_type": "code",
      "source": [
        "results = crib_drag(source_ciphertexts[ct1], source_ciphertexts[ct2], target_ciphertext, b' hospitalized?')\n",
        "print_results(results)\n",
        "string1, string2 = plug_values(string1, string2, results[0], True)\n",
        "print(string1)\n",
        "print(string2)\n",
        "print(string3)\n",
        "print(string4)"
      ],
      "metadata": {
        "colab": {
          "base_uri": "https://localhost:8080/"
        },
        "id": "2PdPAYJXny9_",
        "outputId": "0245a3c9-3acb-4895-8514-c46e4cdafac7"
      },
      "execution_count": 429,
      "outputs": [
        {
          "output_type": "stream",
          "name": "stdout",
          "text": [
            "0 [27, b' hospitalized?', b'e in the world']\n",
            "There are          of people in the world                              had                                                 \n",
            "Why was th                  hospitalized?                                                                                  \n",
            "As for             where     naughty disk.                             and                                                 \n",
            "What did t            do on its much                                   and                                                 \n"
          ]
        }
      ]
    },
    {
      "cell_type": "code",
      "source": [
        "results = crib_drag(source_ciphertexts[ct1], source_ciphertexts[ct2], target_ciphertext, b' official ')\n",
        "print_results(results)\n",
        "string1, string2 = plug_values(string1, string2, results[0], True)\n",
        "print(string1)\n",
        "print(string2)\n",
        "print(string3)\n",
        "print(string4)"
      ],
      "metadata": {
        "colab": {
          "base_uri": "https://localhost:8080/"
        },
        "id": "cfEukQwAoXsq",
        "outputId": "2b9b690e-307e-40f7-a962-d9671a356de0"
      },
      "execution_count": 430,
      "outputs": [
        {
          "output_type": "stream",
          "name": "stdout",
          "text": [
            "0 [18, b' official ', b' of people']\n",
            "There are          of people in the world                              had                                                 \n",
            "Why was th         official hospitalized?                                                                                  \n",
            "As for             where     naughty disk.                             and                                                 \n",
            "What did t            do on its much                                   and                                                 \n"
          ]
        }
      ]
    },
    {
      "cell_type": "code",
      "source": [
        "string5 = ' ' * max_len\n",
        "ct1 = 2\n",
        "ct5 = 5\n",
        "results = run_cribs(cribs, ct1, ct5)\n",
        "string1, string5 = plug_values(string1, string5, results[12], True)\n",
        "string1, string5 = plug_values(string1, string5, results[15], True)\n",
        "string1, string5 = plug_values(string1, string5, results[17])\n",
        "\n",
        "print(string1)\n",
        "print(string2)\n",
        "print(string3)\n",
        "print(string4)\n",
        "print(string5)"
      ],
      "metadata": {
        "colab": {
          "base_uri": "https://localhost:8080/"
        },
        "id": "SKHgEKUDtyB1",
        "outputId": "89caa541-b6b3-438b-86fe-7343b1869801"
      },
      "execution_count": 431,
      "outputs": [
        {
          "output_type": "stream",
          "name": "stdout",
          "text": [
            "0 [12, b' the ', b'puep7']\n",
            "1 [31, b' the ', b'oes i']\n",
            "2 [66, b' and ', b'nNsse']\n",
            "3 [12, b' that ', b'puetcs']\n",
            "4 [72, b' that ', b'nd thh']\n",
            "5 [12, b' why ', b'pvel7']\n",
            "6 [48, b' why ', b'angs ']\n",
            "7 [66, b' why ', b'nXune']\n",
            "8 [0, b'Why ', b'Kokr']\n",
            "9 [13, b'Why ', b'Vel7']\n",
            "10 [29, b'Why ', b'\\x1eb61']\n",
            "11 [67, b'Why ', b'xune']\n",
            "12 [0, b'There ', b'How ma']\n",
            "13 [5, b' are ', b'any c']\n",
            "14 [66, b' are ', b'nNore']\n",
            "15 [5, b' are ', b'any c']\n",
            "16 [66, b' are ', b'nNore']\n",
            "17 [3, b' many ', b're are']\n",
            "18 [45, b' do ', b'otba']\n",
            "19 [12, b' had ', b'pilq7']\n",
            "20 [45, b' you ', b'oib49']\n",
            "21 [66, b' you ', b'nVrbe']\n",
            "How many c         of people in the world                              had                                                 \n",
            "Why was th         official hospitalized?                                                                                  \n",
            "As for             where     naughty disk.                             and                                                 \n",
            "What did t            do on its much                                   and                                                 \n",
            "There are                                                                                                                  \n"
          ]
        }
      ]
    },
    {
      "cell_type": "code",
      "source": [
        "# Dig some more words out of ct5\n",
        "blank_key = bytes(max_len)\n",
        "possible_key = xor_bytes(source_ciphertexts[ct1], string_to_bytes(string1))\n",
        "possible_key = xor_bytes(possible_key, blank_key)\n",
        "target_plaintext = xor_bytes(source_ciphertexts[ct5], possible_key)\n",
        "print(target_plaintext.decode('latin1'))"
      ],
      "metadata": {
        "colab": {
          "base_uri": "https://localhost:8080/"
        },
        "id": "rtRuekykvU-Z",
        "outputId": "133f484f-b6c8-490d-fcf2-a387125762b2"
      },
      "execution_count": 432,
      "outputs": [
        {
          "output_type": "stream",
          "name": "stdout",
          "text": [
            "There are ~}p!-57sprogrammers does it takk \u0000'o0-a9/* 4n(,5; a,1l vn\u000f=7e2/th5<h eaw .r 8/u1\n"
          ]
        }
      ]
    },
    {
      "cell_type": "code",
      "source": [
        "results = crib_drag(source_ciphertexts[ct1], source_ciphertexts[ct5], target_ciphertext, b' programmers ')\n",
        "print_results(results)\n",
        "string1, string5 = plug_values(string1, string5, results[0], True)\n",
        "\n",
        "print(string1)\n",
        "print(string2)\n",
        "print(string3)\n",
        "print(string4)\n",
        "print(string5)"
      ],
      "metadata": {
        "colab": {
          "base_uri": "https://localhost:8080/"
        },
        "id": "s08kKoctvuEn",
        "outputId": "879b725c-1a40-4c82-e699-6454550d0f60"
      },
      "execution_count": 433,
      "outputs": [
        {
          "output_type": "stream",
          "name": "stdout",
          "text": [
            "0 [17, b' programmers ', b's of people i']\n",
            "How many c       s of people in the world                              had                                                 \n",
            "Why was th         official hospitalized?                                                                                  \n",
            "As for             where     naughty disk.                             and                                                 \n",
            "What did t            do on its much                                   and                                                 \n",
            "There are         programmers                                                                                              \n"
          ]
        }
      ]
    },
    {
      "cell_type": "code",
      "source": [
        "results = crib_drag(source_ciphertexts[ct1], source_ciphertexts[ct5], target_ciphertext, b' does it take ')\n",
        "print_results(results)\n",
        "string1, string5 = plug_values(string1, string5, results[0], True)\n",
        "\n",
        "print(string1)\n",
        "print(string2)\n",
        "print(string3)\n",
        "print(string4)\n",
        "print(string5)"
      ],
      "metadata": {
        "colab": {
          "base_uri": "https://localhost:8080/"
        },
        "id": "A6nDGVm2wUpI",
        "outputId": "c822c6c0-984b-4dd4-cf04-c42da8760a4a"
      },
      "execution_count": 434,
      "outputs": [
        {
          "output_type": "stream",
          "name": "stdout",
          "text": [
            "0 [29, b' does it take ', b'in the world. ']\n",
            "How many c       s of people in the world.                             had                                                 \n",
            "Why was th         official hospitalized?                                                                                  \n",
            "As for             where     naughty disk.                             and                                                 \n",
            "What did t            do on its much                                   and                                                 \n",
            "There are         programmers does it take                                                                                 \n"
          ]
        }
      ]
    },
    {
      "cell_type": "code",
      "source": [
        "# Test the partial key to see if we can derive more words (may have to switch some words around)\n",
        "blank_key = bytes(max_len)\n",
        "possible_key = xor_bytes(source_ciphertexts[ct2], string_to_bytes(string2))\n",
        "possible_key = xor_bytes(possible_key, blank_key)\n",
        "target_plaintext = xor_bytes(target_ciphertext, possible_key)\n",
        "print(target_plaintext.decode('latin1'))"
      ],
      "metadata": {
        "colab": {
          "base_uri": "https://localhost:8080/"
        },
        "id": "jgYoEOW9xHFg",
        "outputId": "d234f0f8-da0d-485d-fc7c-197c42e28608"
      },
      "execution_count": 435,
      "outputs": [
        {
          "output_type": "stream",
          "name": "stdout",
          "text": [
            "Why do cat6 \"*!eI\u0007itting in front of the c\u0007(p47&;d$\"8a(-  8 ;$we\u0006e7)0s#i&-28l(\n"
          ]
        }
      ]
    },
    {
      "cell_type": "code",
      "source": [
        "string8 = ' ' * max_len\n",
        "ct1 = 2\n",
        "ct8 = 8\n",
        "results = run_cribs(cribs, ct1, ct8)\n",
        "string1, string8 = plug_values(string1, string8, results[3], True)\n",
        "string1, string8 = plug_values(string1, string8, results[9], True)\n",
        "string1, string8 = plug_values(string1, string8, results[23], True)\n",
        "string1, string8 = plug_values(string1, string8, results[33])\n",
        "string1, string8 = plug_values(string1, string8, results[35])\n",
        "string1, string8 = plug_values(string1, string8, results[48], True)\n",
        "\n",
        "print(string1)\n",
        "print(string2)\n",
        "print(string3)\n",
        "print(string4)\n",
        "print(string5)\n",
        "print(string8)"
      ],
      "metadata": {
        "colab": {
          "base_uri": "https://localhost:8080/"
        },
        "id": "60KMcysnyCnh",
        "outputId": "d2c90666-de1a-45e6-ed48-6fb3107f7879"
      },
      "execution_count": 436,
      "outputs": [
        {
          "output_type": "stream",
          "name": "stdout",
          "text": [
            "0 [12, b' the ', b'logpe']\n",
            "1 [24, b' the ', b'omj f']\n",
            "2 [31, b' the ', b'nt of']\n",
            "3 [36, b' the ', b'world']\n",
            "4 [63, b' the ', b' Tdh ']\n",
            "5 [12, b' and ', b'lzaqe']\n",
            "6 [36, b' and ', b'wztmd']\n",
            "7 [53, b' and ', b'ukkxr']\n",
            "8 [63, b' and ', b' Abi ']\n",
            "9 [70, b' and ', b'e the']\n",
            "10 [6, b' that ', b'ael560']\n",
            "11 [12, b' that ', b'logt1 ']\n",
            "12 [12, b' why ', b'llgle']\n",
            "13 [21, b' why ', b'iij69']\n",
            "14 [28, b' why ', b'fli7 ']\n",
            "15 [36, b' why ', b'wlrpd']\n",
            "16 [48, b' why ', b'r azl']\n",
            "17 [63, b' why ', b' Wdt ']\n",
            "18 [21, b' how ', b'ivm89']\n",
            "19 [28, b' how ', b'fsn9 ']\n",
            "20 [53, b' how ', b'ubjkr']\n",
            "21 [63, b' how ', b' Hcz ']\n",
            "22 [71, b' when ', b'amd ch']\n",
            "23 [0, b'Why ', b'Ther']\n",
            "24 [13, b'Why ', b'Lgle']\n",
            "25 [18, b'Why ', b'\\x1eski']\n",
            "26 [22, b'Why ', b'Ij69']\n",
            "27 [29, b'Why ', b'Li7 ']\n",
            "28 [37, b'Why ', b'Lrpd']\n",
            "29 [45, b'Why ', b'Moyr']\n",
            "30 [62, b'Why ', b'\\x0chY,']\n",
            "31 [67, b'Why ', b'Wose']\n",
            "32 [80, b'Why ', b'Pk18']\n",
            "33 [0, b'There ', b'Why do']\n",
            "34 [65, b'There ', b'Xeeuoe']\n",
            "35 [5, b' are ', b'o cat']\n",
            "36 [24, b' are ', b'oxp f']\n",
            "37 [36, b' are ', b'wzhld']\n",
            "38 [53, b' are ', b'ukwyr']\n",
            "39 [67, b' are ', b' fx a']\n",
            "40 [42, b' this ', b'oMpst ']\n",
            "41 [63, b' attack ', b' Axyadae']\n",
            "42 [5, b' are ', b'o cat']\n",
            "43 [24, b' are ', b'oxp f']\n",
            "44 [36, b' are ', b'wzhld']\n",
            "45 [53, b' are ', b'ukwyr']\n",
            "46 [67, b' are ', b' fx a']\n",
            "47 [82, b' many ', b'hu dbn']\n",
            "48 [3, b' do ', b're a']\n",
            "49 [21, b' do ', b'izmo']\n",
            "50 [49, b' do ', b'wmll']\n",
            "51 [67, b' do ', b' cee']\n",
            "52 [84, b' do ', b'antn']\n",
            "53 [12, b' had ', b'lsnqe']\n",
            "54 [53, b' had ', b'ubdxr']\n",
            "55 [63, b' had ', b' Hmi ']\n",
            "56 [40, b' you ', b'd4 L8']\n",
            "57 [53, b' you ', b'usjir']\n",
            "58 [63, b' you ', b' Ycx ']\n",
            "59 [42, b' hand ', b'oQytc ']\n",
            "60 [53, b' hand ', b'ubdr6?']\n",
            "There are        s of people in the world.                            e the                                                \n",
            "Why was th         official hospitalized?                                                                                  \n",
            "As for             where     naughty disk.                             and                                                 \n",
            "What did t            do on its much                                   and                                                 \n",
            "There are         programmers does it take                                                                                 \n",
            "Why do cat                           the                               and                                                 \n"
          ]
        }
      ]
    },
    {
      "cell_type": "code",
      "source": [
        "results = crib_drag(source_ciphertexts[ct2], source_ciphertexts[ct8], target_ciphertext, b'Why do cats love sitting in front of the c')\n",
        "print_results(results)\n",
        "string2, string8 = plug_values(string2, string8, results[0], True)\n",
        "\n",
        "print(string1)\n",
        "print(string2)\n",
        "print(string3)\n",
        "print(string4)\n",
        "print(string5)\n",
        "print(string8)"
      ],
      "metadata": {
        "colab": {
          "base_uri": "https://localhost:8080/"
        },
        "id": "0_E2q6052oSK",
        "outputId": "44d1dd33-bb6e-4106-c4a6-33af585adc5a"
      },
      "execution_count": 437,
      "outputs": [
        {
          "output_type": "stream",
          "name": "stdout",
          "text": [
            "0 [0, b'Why do cats love sitting in front of the c', b'Why was the new IT official hospitalized? ']\n",
            "There are        s of people in the world.                            e the                                                \n",
            "Why was the new IT official hospitalized?                                                                                  \n",
            "As for             where     naughty disk.                             and                                                 \n",
            "What did t            do on its much                                   and                                                 \n",
            "There are         programmers does it take                                                                                 \n",
            "Why do cats love sitting in front of the c                             and                                                 \n"
          ]
        }
      ]
    },
    {
      "cell_type": "code",
      "source": [
        "# See what ct1 should be\n",
        "blank_key = bytes(max_len)\n",
        "possible_key = xor_bytes(source_ciphertexts[ct8], string_to_bytes(string8))\n",
        "possible_key = xor_bytes(possible_key, blank_key)\n",
        "target_plaintext = xor_bytes(source_ciphertexts[ct1], possible_key)\n",
        "print(target_plaintext.decode('latin1'))"
      ],
      "metadata": {
        "colab": {
          "base_uri": "https://localhost:8080/"
        },
        "id": "WIQpGiyH3mKn",
        "outputId": "6dbd7723-aef3-4cbc-ee3a-7581c75d67c6"
      },
      "execution_count": 438,
      "outputs": [
        {
          "output_type": "stream",
          "name": "stdout",
          "text": [
            "There are 10 types of people in the world.o\u00198:' rw)#lu*%<r?;/){ \u0000,- '*e the-h+<+'#h8a*;ns;\n"
          ]
        }
      ]
    },
    {
      "cell_type": "code",
      "source": [
        "# See what ct1 should be\n",
        "blank_key = bytes(max_len)\n",
        "possible_key = xor_bytes(source_ciphertexts[ct8], string_to_bytes(string8))\n",
        "possible_key = xor_bytes(possible_key, blank_key)\n",
        "target_plaintext = xor_bytes(source_ciphertexts[ct2], possible_key)\n",
        "print(target_plaintext.decode('latin1'))"
      ],
      "metadata": {
        "colab": {
          "base_uri": "https://localhost:8080/"
        },
        "id": "faNDTa-X4U2-",
        "outputId": "36fc28c7-b3d8-4cd7-eb6f-e68235dbb9e9"
      },
      "execution_count": 439,
      "outputs": [
        {
          "output_type": "stream",
          "name": "stdout",
          "text": [
            "Why was the new IT official hospitalized? \u0007(p47&;d$\"8a(-  8 ;$we\u0006e7)0s#(hi28l(\n"
          ]
        }
      ]
    },
    {
      "cell_type": "code",
      "source": [
        "results = crib_drag(source_ciphertexts[ct2], source_ciphertexts[ct8], target_ciphertext, b' Because ')\n",
        "print_results(results)\n",
        "string2, string8 = plug_values(string2, string8, results[1], True)\n",
        "\n",
        "print(string1)\n",
        "print(string2)\n",
        "print(string3)\n",
        "print(string4)\n",
        "print(string5)\n",
        "print(string8)"
      ],
      "metadata": {
        "colab": {
          "base_uri": "https://localhost:8080/"
        },
        "id": "jGICCyu14msx",
        "outputId": "90dfc9bf-0e46-41d9-8b41-ef7613d92576"
      },
      "execution_count": 440,
      "outputs": [
        {
          "output_type": "stream",
          "name": "stdout",
          "text": [
            "0 [7, b' Because ', b'cWyuawyde']\n",
            "1 [63, b' Because ', b'ed the fi']\n",
            "There are        s of people in the world.                            e the                                                \n",
            "Why was the new IT official hospitalized?                      ed the fi                                                   \n",
            "As for             where     naughty disk.                             and                                                 \n",
            "What did t            do on its much                                   and                                                 \n",
            "There are         programmers does it take                                                                                 \n",
            "Why do cats love sitting in front of the c                      Because nd                                                 \n"
          ]
        }
      ]
    },
    {
      "cell_type": "code",
      "source": [
        "# Lets look at all the cts\n",
        "blank_key = bytes(max_len)\n",
        "possible_key = xor_bytes(source_ciphertexts[ct8], string_to_bytes(string8))\n",
        "possible_key = xor_bytes(possible_key, blank_key)\n",
        "for ciphertext in source_ciphertexts:\n",
        "    target_plaintext = xor_bytes(ciphertext, possible_key)\n",
        "    print(target_plaintext.decode('latin1'))"
      ],
      "metadata": {
        "colab": {
          "base_uri": "https://localhost:8080/"
        },
        "id": "hobpxxr8W7Gs",
        "outputId": "43bbeb29-1311-4952-e03c-d4aef47c33a9"
      },
      "execution_count": 441,
      "outputs": [
        {
          "output_type": "stream",
          "name": "stdout",
          "text": [
            "Why was the new IT official hospitalized? \u0007(p47&;d$\"8a(-  8 ;$wed the fihi28l(\n",
            "Why are the insurance and premiums for allo, %t!7v$ #p!3* )!!5rously higr3e\u001be'.;t1 #)+- 5=el$8w516 .=4 -i!2td 1nu\n",
            "There are 10 types of people in the world.o\u00198:' rw)#lu*%<r?;/){ binary athe-h+<+'#h8a*;ns;\n",
            "As for punishment, where are naughty disk +?9#16rs$\"8?d\u00151e5o/5z always sb1yt+o/'\u0016o85n7a9?\n",
            "What did the computer do on its much-await*)p#5&3t(#\" %5yt$*n%zach? It h{he8 #=+f  #(#1 ':r*,:gt<-em!0'\n",
            "How many computer programmers does it takeo9?u7-3n&)lad-0g$;n%jlb? None;:x-8tc<nfth63*#a&* <7;b8-(\n",
            "Why was the computer scientist angry when ;%5u'1'd$\"8 '38c'**g~ lame comjy1<rd%!l1?w\t+td=+ \"*  8!.em&!s*n*u6i;\n",
            "What does a baby computer call his father?\u000b,$4\n",
            "Why do cats love sitting in front of the c                      Because nd                                                 \n"
          ]
        }
      ]
    },
    {
      "cell_type": "code",
      "source": [
        "results = crib_drag(source_ciphertexts[ct1], source_ciphertexts[ct8], target_ciphertext, b' Because ')\n",
        "print_results(results)\n",
        "string1, string8 = plug_values(string1, string8, results[0], True)\n",
        "\n",
        "print(string1)\n",
        "print(string2)\n",
        "print(string3)\n",
        "print(string4)\n",
        "print(string5)\n",
        "print(string8)"
      ],
      "metadata": {
        "colab": {
          "base_uri": "https://localhost:8080/"
        },
        "id": "H3IiTwoaYRgG",
        "outputId": "a268dea2-ee25-4f1b-9bce-df98a07715b9"
      },
      "execution_count": 442,
      "outputs": [
        {
          "output_type": "stream",
          "name": "stdout",
          "text": [
            "0 [63, b' Because ', b' binary a']\n",
            "There are        s of people in the world.                      binary athe                                                \n",
            "Why was the new IT official hospitalized?                      ed the fi                                                   \n",
            "As for             where     naughty disk.                             and                                                 \n",
            "What did t            do on its much                                   and                                                 \n",
            "There are         programmers does it take                                                                                 \n",
            "Why do cats love sitting in front of the c                      Because nd                                                 \n"
          ]
        }
      ]
    },
    {
      "cell_type": "code",
      "source": [
        "results = crib_drag(source_ciphertexts[ct1], source_ciphertexts[ct8], target_ciphertext, b' computer ')\n",
        "results += crib_drag(source_ciphertexts[ct3], source_ciphertexts[ct8], target_ciphertext, b' monitor? ')\n",
        "print_results(results)\n",
        "string1, string8 = plug_values(string1, string8, results[0], True)\n",
        "\n",
        "print(string1)\n",
        "print(string2)\n",
        "print(string3)\n",
        "print(string4)\n",
        "print(string5)\n",
        "print(string8)"
      ],
      "metadata": {
        "colab": {
          "base_uri": "https://localhost:8080/"
        },
        "id": "FWpR7hVnZQIg",
        "outputId": "ab695427-4ce8-4c62-b2d8-6b448e58482d"
      },
      "execution_count": 443,
      "outputs": [
        {
          "output_type": "stream",
          "name": "stdout",
          "text": [
            "0 [40, b' computer ', b'd. Those w']\n",
            "There are        s of people in the world. Those w              binary athe                                                \n",
            "Why was the new IT official hospitalized?                      ed the fi                                                   \n",
            "As for             where     naughty disk.                             and                                                 \n",
            "What did t            do on its much                                   and                                                 \n",
            "There are         programmers does it take                                                                                 \n",
            "Why do cats love sitting in front of the computer               Because nd                                                 \n"
          ]
        }
      ]
    },
    {
      "cell_type": "markdown",
      "source": [
        "### Checkpoint ******\n",
        "At this point I'm going to align all the ciphertexts with the plaintexts so that CT0 and PT0 are in order."
      ],
      "metadata": {
        "id": "QmtnRPb6jSAw"
      }
    },
    {
      "cell_type": "code",
      "source": [
        "blank_key = bytes(max_len)\n",
        "possible_key = xor_bytes(source_ciphertexts[ct8], string_to_bytes(string8))\n",
        "possible_key = xor_bytes(possible_key, blank_key)\n",
        "plaintexts = []\n",
        "for ciphertext in source_ciphertexts:\n",
        "    target_plaintext = xor_bytes(ciphertext, possible_key)\n",
        "    plaintexts.append(target_plaintext.decode('latin1'))\n",
        "    print(target_plaintext.decode('latin1'))"
      ],
      "metadata": {
        "colab": {
          "base_uri": "https://localhost:8080/"
        },
        "id": "aEFpa4YhjNes",
        "outputId": "d613612d-593d-4eac-e5a0-f365eda00b58"
      },
      "execution_count": 444,
      "outputs": [
        {
          "output_type": "stream",
          "name": "stdout",
          "text": [
            "Why was the new IT official hospitalized? He accid$\"8a(-  8 ;$wed the fihi28l(\n",
            "Why are the insurance and premiums for all app dev$ #p!3* )!!5rously higr3e\u001be'.;t1 #)+- 5=el$8w516 .=4 -i!2td 1nu\n",
            "There are 10 types of people in the world. Those w)#lu*%<r?;/){ binary athe-h+<+'#h8a*;ns;\n",
            "As for punishment, where are naughty disk drives s$\"8?d\u00151e5o/5z always sb1yt+o/'\u0016o85n7a9?\n",
            "What did the computer do on its much-awaited vacat(#\" %5yt$*n%zach? It h{he8 #=+f  #(#1 ':r*,:gt<-em!0'\n",
            "How many computer programmers does it take to chan&)lad-0g$;n%jlb? None;:x-8tc<nfth63*#a&* <7;b8-(\n",
            "Why was the computer scientist angry when the stud$\"8 '38c'**g~ lame comjy1<rd%!l1?w\t+td=+ \"*  8!.em&!s*n*u6i;\n",
            "What does a baby computer call his father?Data\n",
            "Why do cats love sitting in front of the computer               Because nd                                                 \n"
          ]
        }
      ]
    },
    {
      "cell_type": "code",
      "source": [
        "def align_ciphertexts(ciphertext: bytes, plaintext: str) -> list:\n",
        "  possible_key = xor_bytes(ciphertext, string_to_bytes(plaintext))\n",
        "  plaintexts = []\n",
        "  for ct, ciphertext in enumerate(source_ciphertexts):\n",
        "    target_plaintext = xor_bytes(ciphertext, possible_key)\n",
        "    plaintexts.append(target_plaintext.decode('latin1'))\n",
        "  print_plaintexts(plaintexts)\n",
        "  return plaintexts\n",
        "\n",
        "def print_plaintexts(plaintexts: list) -> None:\n",
        "  for i, plaintext in enumerate(plaintexts):\n",
        "    print(i, plaintext)\n",
        "\n",
        "plaintexts = align_ciphertexts(source_ciphertexts[ct8], string8)"
      ],
      "metadata": {
        "colab": {
          "base_uri": "https://localhost:8080/"
        },
        "id": "4b69KhlYmCtz",
        "outputId": "8588dc57-b0f4-414a-8c2a-5d1e9e1cdfea"
      },
      "execution_count": 445,
      "outputs": [
        {
          "output_type": "stream",
          "name": "stdout",
          "text": [
            "0 Why was the new IT official hospitalized? He accid$\"8a(-  8 ;$wed the fihi28l(\n",
            "1 Why are the insurance and premiums for all app dev$ #p!3* )!!5rously higr3e\u001be'.;t1 #)+- 5=el$8w516 .=4 -i!2td 1nu\n",
            "2 There are 10 types of people in the world. Those w)#lu*%<r?;/){ binary athe-h+<+'#h8a*;ns;\n",
            "3 As for punishment, where are naughty disk drives s$\"8?d\u00151e5o/5z always sb1yt+o/'\u0016o85n7a9?\n",
            "4 What did the computer do on its much-awaited vacat(#\" %5yt$*n%zach? It h{he8 #=+f  #(#1 ':r*,:gt<-em!0'\n",
            "5 How many computer programmers does it take to chan&)lad-0g$;n%jlb? None;:x-8tc<nfth63*#a&* <7;b8-(\n",
            "6 Why was the computer scientist angry when the stud$\"8 '38c'**g~ lame comjy1<rd%!l1?w\t+td=+ \"*  8!.em&!s*n*u6i;\n",
            "7 What does a baby computer call his father?Data\n",
            "8 Why do cats love sitting in front of the computer               Because nd                                                 \n"
          ]
        }
      ]
    },
    {
      "cell_type": "code",
      "source": [
        "results = crib_drag(source_ciphertexts[0], source_ciphertexts[8], target_ciphertext, b' accidentally ')\n",
        "results += crib_drag(source_ciphertexts[0], source_ciphertexts[8], target_ciphertext, b' long? ')\n",
        "print_results(results)\n",
        "\n",
        "plaintexts[0], plaintexts[8] = plug_values(plaintexts[0], plaintexts[8], results[0])\n",
        "plaintexts[0], plaintexts[8] = plug_values(plaintexts[0], plaintexts[8], results[1], True)\n",
        "print_plaintexts(plaintexts)"
      ],
      "metadata": {
        "colab": {
          "base_uri": "https://localhost:8080/"
        },
        "id": "680ZKo5Nj6bP",
        "outputId": "1015eb17-8aac-40f6-cb5a-d1e3f4cec76d"
      },
      "execution_count": 446,
      "outputs": [
        {
          "output_type": "stream",
          "name": "stdout",
          "text": [
            "0 [44, b' accidentally ', b'puter all day ']\n",
            "1 [57, b' long? ', b' touche']\n",
            "0 Why was the new IT official hospitalized? He accidentally touched the fihi28l(\n",
            "1 Why are the insurance and premiums for all app dev$ #p!3* )!!5rously higr3e\u001be'.;t1 #)+- 5=el$8w516 .=4 -i!2td 1nu\n",
            "2 There are 10 types of people in the world. Those w)#lu*%<r?;/){ binary athe-h+<+'#h8a*;ns;\n",
            "3 As for punishment, where are naughty disk drives s$\"8?d\u00151e5o/5z always sb1yt+o/'\u0016o85n7a9?\n",
            "4 What did the computer do on its much-awaited vacat(#\" %5yt$*n%zach? It h{he8 #=+f  #(#1 ':r*,:gt<-em!0'\n",
            "5 How many computer programmers does it take to chan&)lad-0g$;n%jlb? None;:x-8tc<nfth63*#a&* <7;b8-(\n",
            "6 Why was the computer scientist angry when the stud$\"8 '38c'**g~ lame comjy1<rd%!l1?w\t+td=+ \"*  8!.em&!s*n*u6i;\n",
            "7 What does a baby computer call his father?Data\n",
            "8 Why do cats love sitting in front of the computer all day long? Because nd                                                 \n"
          ]
        }
      ]
    },
    {
      "cell_type": "code",
      "source": [
        "results = crib_drag(source_ciphertexts[6], source_ciphertexts[8], target_ciphertext, b' student ')\n",
        "results += crib_drag(source_ciphertexts[6], source_ciphertexts[8], target_ciphertext, b' computer ')\n",
        "results += crib_drag(source_ciphertexts[6], source_ciphertexts[8], target_ciphertext, b' joke.')\n",
        "print_results(results)\n",
        "\n",
        "plaintexts[6], plaintexts[8] = plug_values(plaintexts[6], plaintexts[8], results[1])\n",
        "plaintexts[6], plaintexts[8] = plug_values(plaintexts[6], plaintexts[8], results[4])\n",
        "plaintexts = align_ciphertexts(source_ciphertexts[8], plaintexts[8])"
      ],
      "metadata": {
        "colab": {
          "base_uri": "https://localhost:8080/"
        },
        "id": "H3W4cdd7o_-4",
        "outputId": "c8dbc0d1-a9a2-4022-dec6-172a577e822f"
      },
      "execution_count": 447,
      "outputs": [
        {
          "output_type": "stream",
          "name": "stdout",
          "text": [
            "0 [7, b' student ', b'cfhcdjno5']\n",
            "1 [45, b' student ', b'uter all ']\n",
            "2 [11, b' computer ', b' love sitt']\n",
            "3 [40, b' computer ', b'n the stud']\n",
            "4 [68, b' computer ', b'use they d']\n",
            "5 [0, b' joke.', b' jokv ']\n",
            "6 [16, b' joke.', b'umcm14']\n",
            "7 [33, b' joke.', b'gwpkf.']\n",
            "8 [90, b' joke.', b' heke6']\n",
            "0 Why was the new IT official hospitalized? He accidentally touched the firewall\n",
            "1 Why are the insurance and premiums for all app developers enormously high? Bec.;t1 #)+- 5=el$8w516 .=4 -i!2td 1nu\n",
            "2 There are 10 types of people in the world. Those who understand binary and tho<+'#h8a*;ns;\n",
            "3 As for punishment, where are naughty disk drives sent? They are always sent too/'\u0016o85n7a9?\n",
            "4 What did the computer do on its much-awaited vacation at the beach? It had a g=+f  #(#1 ':r*,:gt<-em!0'\n",
            "5 How many computer programmers does it take to change a light bulb? None; that'<nfth63*#a&* <7;b8-(\n",
            "6 Why was the computer scientist angry when the student cracked a lame computer %!l1?w\t+td=+ \"*  8!.em&!s*n*u6i;\n",
            "7 What does a baby computer call his father?Data\n",
            "8 Why do cats love sitting in front of the computer all day long? Because they d                                             \n"
          ]
        }
      ]
    },
    {
      "cell_type": "code",
      "source": [
        "results = crib_drag(source_ciphertexts[5], source_ciphertexts[8], target_ciphertext, b' that\\'s ')\n",
        "print_results(results)\n",
        "\n",
        "plaintexts[5], plaintexts[8] = plug_values(plaintexts[5], plaintexts[8], results[0])\n",
        "plaintexts = align_ciphertexts(source_ciphertexts[1], plaintexts[1])"
      ],
      "metadata": {
        "colab": {
          "base_uri": "https://localhost:8080/"
        },
        "id": "-2mtAW4qqpdd",
        "outputId": "050b10cc-6a6f-4409-a917-8809868c46f9"
      },
      "execution_count": 448,
      "outputs": [
        {
          "output_type": "stream",
          "name": "stdout",
          "text": [
            "0 [72, b\" that's \", b'they don']\n",
            "0 Why was the new IT official hospitalized? He accidentally touched the firewall\n",
            "1 Why are the insurance and premiums for all app developers enormously high? Bec.;t1 #)+- 5=el$8w516 .=4 -i!2td 1nu\n",
            "2 There are 10 types of people in the world. Those who understand binary and tho<+'#h8a*;ns;\n",
            "3 As for punishment, where are naughty disk drives sent? They are always sent too/'\u0016o85n7a9?\n",
            "4 What did the computer do on its much-awaited vacation at the beach? It had a g=+f  #(#1 ':r*,:gt<-em!0'\n",
            "5 How many computer programmers does it take to change a light bulb? None; that'<nfth63*#a&* <7;b8-(\n",
            "6 Why was the computer scientist angry when the student cracked a lame computer %!l1?w\t+td=+ \"*  8!.em&!s*n*u6i;\n",
            "7 What does a baby computer call his father?Data\n",
            "8 Why do cats love sitting in front of the computer all day long? Because they d                                   \n"
          ]
        }
      ]
    },
    {
      "cell_type": "code",
      "source": [
        "results = crib_drag(source_ciphertexts[1], source_ciphertexts[4], source_ciphertexts[1], b' great ')\n",
        "results += crib_drag(source_ciphertexts[1], source_ciphertexts[4], source_ciphertexts[1], b' time ')\n",
        "results += crib_drag(source_ciphertexts[1], source_ciphertexts[4], source_ciphertexts[1], b' surfing ')\n",
        "results += crib_drag(source_ciphertexts[1], source_ciphertexts[4], source_ciphertexts[1], b' always ')\n",
        "results += crib_drag(source_ciphertexts[1], source_ciphertexts[4], source_ciphertexts[1], b' the www')\n",
        "print_results(results)\n",
        "\n",
        "plaintexts[1], plaintexts[4] = plug_values(plaintexts[1], plaintexts[4], results[3], True)\n",
        "plaintexts[1], plaintexts[4] = plug_values(plaintexts[1], plaintexts[4], results[6], True)\n",
        "plaintexts[1], plaintexts[4] = plug_values(plaintexts[1], plaintexts[4], results[7], True)\n",
        "plaintexts[1], plaintexts[4] = plug_values(plaintexts[1], plaintexts[4], results[10])\n",
        "plaintexts = align_ciphertexts(source_ciphertexts[1], plaintexts[1])"
      ],
      "metadata": {
        "colab": {
          "base_uri": "https://localhost:8080/"
        },
        "id": "nlStHQdhtt0W",
        "outputId": "931cf59c-c1f3-4bff-f8e4-4c583c4c4867"
      },
      "execution_count": 449,
      "outputs": [
        {
          "output_type": "stream",
          "name": "stdout",
          "text": [
            "0 [0, b' great ', b' gj1 b,']\n",
            "1 [25, b' great ', b'oy ixnu']\n",
            "2 [60, b' great ', b'owzkwos']\n",
            "3 [76, b' great ', b'ecause ']\n",
            "4 [12, b' time ', b'iyuug4']\n",
            "5 [27, b' time ', b'rxpw0 ']\n",
            "6 [82, b' time ', b' they ']\n",
            "7 [87, b' surfing ', b' are alwa']\n",
            "8 [46, b' always ', b'afhumzrp']\n",
            "9 [60, b' always ', b'oqdywb y']\n",
            "10 [91, b' always ', b'fing the']\n",
            "11 [8, b' the www', b'the izko']\n",
            "12 [95, b' the www', b'ays cksp']\n",
            "0 Why was the new IT official hospitalized? He accidentally touched the firewall\n",
            "1 Why are the insurance and premiums for all app developers enormously high? Because they are always .=4 -i!2td 1nu\n",
            "2 There are 10 types of people in the world. Those who understand binary and those who don't\n",
            "3 As for punishment, where are naughty disk drives sent? They are always sent to a Boot camp\n",
            "4 What did the computer do on its much-awaited vacation at the beach? It had a great time surfing them!0'\n",
            "5 How many computer programmers does it take to change a light bulb? None; that's a hardware problem\n",
            "6 Why was the computer scientist angry when the student cracked a lame computer joke? He did not likem&!s*n*u6i;\n",
            "7 What does a baby computer call his father?Data\n",
            "8 Why do cats love sitting in front of the computer all day long? Because they don't want to let the               \n"
          ]
        }
      ]
    },
    {
      "cell_type": "code",
      "source": [
        "results = crib_drag(source_ciphertexts[1], source_ciphertexts[5], source_ciphertexts[1], b' hardware ')\n",
        "results += crib_drag(source_ciphertexts[1], source_ciphertexts[6], source_ciphertexts[1], b' like ')\n",
        "results += crib_drag(source_ciphertexts[1], source_ciphertexts[8], source_ciphertexts[1], b' mouse ')\n",
        "results += crib_drag(source_ciphertexts[1], source_ciphertexts[8], source_ciphertexts[1], b' crashing ')\n",
        "results += crib_drag(source_ciphertexts[1], source_ciphertexts[6], source_ciphertexts[1], b' bit')\n",
        "results += crib_drag(source_ciphertexts[1], source_ciphertexts[8], source_ciphertexts[1], b' down ')\n",
        "print_results(results)\n",
        "\n",
        "plaintexts[1], plaintexts[5] = plug_values(plaintexts[1], plaintexts[5], results[0], True)\n",
        "plaintexts[1], plaintexts[6] = plug_values(plaintexts[1], plaintexts[6], results[3], True)\n",
        "plaintexts[1], plaintexts[8] = plug_values(plaintexts[1], plaintexts[8], results[6], True)\n",
        "plaintexts[1], plaintexts[8] = plug_values(plaintexts[1], plaintexts[8], results[9])\n",
        "plaintexts[1], plaintexts[6] = plug_values(plaintexts[1], plaintexts[6], results[18], True)\n",
        "plaintexts[1], plaintexts[8] = plug_values(plaintexts[1], plaintexts[8], results[22])\n",
        "plaintexts = align_ciphertexts(source_ciphertexts[8], plaintexts[8])"
      ],
      "metadata": {
        "colab": {
          "base_uri": "https://localhost:8080/"
        },
        "id": "y8kQPG5f7lp9",
        "outputId": "f7df8325-c46a-477f-a45c-30a92247c97b"
      },
      "execution_count": 450,
      "outputs": [
        {
          "output_type": "stream",
          "name": "stdout",
          "text": [
            "0 [81, b' hardware ', b'e they are']\n",
            "1 [0, b' like ', b' liks3']\n",
            "2 [77, b' like ', b'cgsse?']\n",
            "3 [94, b' like ', b'ways c']\n",
            "4 [0, b' mouse ', b' mouvxe']\n",
            "5 [11, b' mouse ', b' hnpc72']\n",
            "6 [98, b' mouse ', b' crashi']\n",
            "7 [7, b' crashing ', b'cvnwsmhkwr']\n",
            "8 [53, b' crashing ', b'pbaksahorr']\n",
            "9 [98, b' crashing ', b' mouse out']\n",
            "10 [1, b' bit', b' bib']\n",
            "11 [10, b' bit', b' bcu']\n",
            "12 [25, b' bit', b'nfrb']\n",
            "13 [38, b' bit', b'hfk8']\n",
            "14 [46, b' bit', b'sryf']\n",
            "15 [53, b' bit', b'pdif']\n",
            "16 [77, b' bit', b'cisl']\n",
            "17 [94, b' bit', b'woyl']\n",
            "18 [106, b' bit', b'g do']\n",
            "19 [1, b' down ', b' dorse']\n",
            "20 [27, b' down ', b'rgpqu9']\n",
            "21 [63, b' down ', b'oSyxvu']\n",
            "22 [107, b' down ', b't of u']\n",
            "0 Why was the new IT official hospitalized? He accidentally touched the firewall\n",
            "1 Why are the insurance and premiums for all app developers enormously high? Because they are always crashing down \n",
            "2 There are 10 types of people in the world. Those who understand binary and those who don't\n",
            "3 As for punishment, where are naughty disk drives sent? They are always sent to a Boot camp\n",
            "4 What did the computer do on its much-awaited vacation at the beach? It had a great time surfing the net\n",
            "5 How many computer programmers does it take to change a light bulb? None; that's a hardware problem\n",
            "6 Why was the computer scientist angry when the student cracked a lame computer joke? He did not like it one bit\n",
            "7 What does a baby computer call his father?Data\n",
            "8 Why do cats love sitting in front of the computer all day long? Because they don't want to let the mouse out of u\n"
          ]
        }
      ]
    },
    {
      "cell_type": "code",
      "source": [
        "print(len(plaintexts[1]))\n",
        "print(len(plaintexts[8]))\n"
      ],
      "metadata": {
        "colab": {
          "base_uri": "https://localhost:8080/"
        },
        "id": "5MgAejfpQ3yh",
        "outputId": "1ea49774-fec6-4a17-e991-16a1039e5ebf"
      },
      "execution_count": 451,
      "outputs": [
        {
          "output_type": "stream",
          "name": "stdout",
          "text": [
            "113\n",
            "113\n"
          ]
        }
      ]
    }
  ]
}