{
 "cells": [
  {
   "metadata": {},
   "cell_type": "markdown",
   "source": "## Part III: Code Project\n",
   "id": "664491a30c44b70e"
  },
  {
   "metadata": {},
   "cell_type": "code",
   "outputs": [],
   "execution_count": null,
   "source": "!pip install graphviz",
   "id": "a5c659f95e1ae2c3"
  },
  {
   "metadata": {},
   "cell_type": "markdown",
   "source": [
    "\n",
    "### 1 - Merkle Tree Implementation\n",
    "- Implement Merkle trees using SHA256 or some other hashing algorithms. Students can utilize existing crypto packages for hashing functions.\n",
    "- Each leaf node references a plaintext file.\n",
    "- Conduct a test with four leaf nodes, displaying the tree structure and hashes.\n",
    "- Conduct a second test with six leaf nodes, displaying the tree structure and hashes.\n"
   ],
   "id": "b855acf9a320e4f8"
  },
  {
   "metadata": {},
   "cell_type": "markdown",
   "source": "### Conduct a test with four leaf nodes, displaying the tree structure and hashes.",
   "id": "4ce1da626f9012f6"
  },
  {
   "metadata": {
    "ExecuteTime": {
     "end_time": "2025-03-26T00:44:30.686833Z",
     "start_time": "2025-03-26T00:44:30.674716Z"
    }
   },
   "cell_type": "code",
   "source": [
    "import hashlib\n",
    "from graphviz import Digraph\n",
    "\n",
    "def sha256(data):\n",
    "    return hashlib.sha256(data.encode('utf-8')).hexdigest()\n",
    "\n",
    "class MerkleTree:\n",
    "    def __init__(self, data_list):\n",
    "        self.leaves = [sha256(data) for data in data_list]\n",
    "        self.tree = self.build_tree(self.leaves)\n",
    "\n",
    "    def build_tree(self, leaves):\n",
    "        tree = [leaves]\n",
    "        while len(leaves) > 1:\n",
    "            if len(leaves) % 2 != 0:\n",
    "                leaves.append(leaves[-1])\n",
    "            leaves = [sha256(leaves[i] + leaves[i + 1]) for i in range(0, len(leaves), 2)]\n",
    "            tree.append(leaves)\n",
    "        return tree\n",
    "\n",
    "    def get_root(self):\n",
    "        return self.tree[-1][0] if self.tree else None\n",
    "\n",
    "    def display_tree(self):\n",
    "        for level in self.tree:\n",
    "            print(level)\n",
    "\n",
    "    def visualize_tree(self, filename='merkle_tree'):\n",
    "        dot = Digraph()\n",
    "        for i, level in enumerate(reversed(self.tree)):\n",
    "            for j, node in enumerate(level):\n",
    "                dot.node(f'{len(self.tree) - 1 - i}-{j}', node[:8])  # Display only the first 8 characters of the hash\n",
    "                if i > 0:\n",
    "                    parent_index = j // 2\n",
    "                    dot.edge(f'{len(self.tree) - i}-{parent_index}', f'{len(self.tree) - 1 - i}-{j}')\n",
    "        dot.render(filename, format='png', cleanup=True)\n",
    "        return filename + '.png'\n",
    "\n",
    "    def save_markdown(self, md_filename='merkle_tree.md', img_filename='merkle_tree.png'):\n",
    "        with open(md_filename, 'w') as f:\n",
    "            f.write(f'![Merkle Tree]({img_filename})\\n')\n",
    "\n"
   ],
   "id": "b72db264d7b48ba0",
   "outputs": [],
   "execution_count": 21
  },
  {
   "metadata": {
    "ExecuteTime": {
     "end_time": "2025-03-26T01:08:26.897723Z",
     "start_time": "2025-03-26T01:08:26.689407Z"
    }
   },
   "cell_type": "code",
   "source": [
    "# Part 3 - Merkle Tree\n",
    "\n",
    "import hashlib\n",
    "import os\n",
    "from graphviz import Digraph\n",
    "\n",
    "# Node class for Merkle tree\n",
    "class Node:\n",
    "    def __init__(self, left=None, right=None, hashValue=None, fileName=None):\n",
    "        self.left = left\n",
    "        self.right = right\n",
    "        self.hash = hashValue  # store hash as bytes\n",
    "        self.fileName = fileName  # non-null for leaf nodes\n",
    "\n",
    "# Function to compute SHA256 hash of given data (in bytes)\n",
    "def computeHash(data: bytes) -> bytes:\n",
    "    return hashlib.sha256(data).digest()\n",
    "\n",
    "# Build the Merkle tree from a list of file paths.\n",
    "def buildMerkleTree(fileName):\n",
    "    print('Here is file paths: ', fileName)\n",
    "    # Create leaf nodes by reading file contents and computing their hashes.\n",
    "    leaves = []\n",
    "    for x in fileName:\n",
    "        with open(x, 'rb') as f:\n",
    "            data = f.read()\n",
    "        hashData = computeHash(data)\n",
    "        print('Here is hash value: \\n', hashData)\n",
    "        node = Node(hashValue=hashData, fileName=x)\n",
    "        leaves.append(node)\n",
    "\n",
    "    # Build the tree level by level until only the root remains.\n",
    "    while len(leaves) > 1:\n",
    "        # If the number of nodes is odd, duplicate the last node.\n",
    "        if len(leaves) % 2 == 1:\n",
    "            leaves.append(leaves[-1])\n",
    "        temp = []\n",
    "        # Pair nodes and compute parent node hash as SHA256(left.hash + right.hash)\n",
    "        for i in range(0, len(leaves), 2):\n",
    "            left = leaves[i]\n",
    "            right = leaves[i+1]\n",
    "            combined = left.hash + right.hash\n",
    "            parentHash = computeHash(combined)\n",
    "            parent = Node(left=left, right=right, hashValue=parentHash)\n",
    "            temp.append(parent)\n",
    "        leaves = temp\n",
    "    return leaves[0]\n",
    "\n",
    "# Recursively print the Merkle tree structure and hashes.\n",
    "def printTree(node, level=0):\n",
    "    if node.fileName:\n",
    "        # This is a leaf node.\n",
    "        print(f\"Leaf - {node.fileName}: {node.hash.hex()}\")\n",
    "    else:\n",
    "        # This is an internal node.\n",
    "        print(f\"Node: {node.hash.hex()}\")\n",
    "        if node.left:\n",
    "            printTree(node.left, level+1)\n",
    "        if node.right:\n",
    "            printTree(node.right, level+1)\n",
    "\n",
    "# Visualize the Merkle tree using graphviz\n",
    "def visualizeTree(node, filename='merkle_tree'):\n",
    "    dot = Digraph()\n",
    "    def addNodesEdges(node, parent=None):\n",
    "        if node.fileName:\n",
    "            node_id = node.fileName\n",
    "            label = f\"{node.fileName}\\n{node.hash.hex()[:8]}\"\n",
    "        else:\n",
    "            node_id = node.hash.hex()\n",
    "            label = node.hash.hex()[:8]\n",
    "        dot.node(node_id, label)\n",
    "        if parent:\n",
    "            dot.edge(parent, node_id)\n",
    "        if node.left:\n",
    "            addNodesEdges(node.left, node_id)\n",
    "        if node.right:\n",
    "            addNodesEdges(node.right, node_id)\n",
    "    addNodesEdges(node)\n",
    "    dot.render(filename, format='png', cleanup=True)\n",
    "    return filename + '.png'\n",
    "\n",
    "# Create sample files based on the object key and values.\n",
    "def savefile(fileObject):\n",
    "    for fileName, content in fileObject.items():\n",
    "        with open(fileName, 'w') as f:\n",
    "            f.write(content)\n",
    "        print(\"File saved: \", fileName)\n",
    "\n",
    "# Define file names and contents\n",
    "fileData = {\n",
    "    \"sampleFile1.txt\": \"Sample Data 1.\",\n",
    "    \"sampleFile2.txt\": \"Sample Data 2.\",\n",
    "    \"sampleFile3.txt\": \"Sample Data 3.\",\n",
    "    \"sampleFile4.txt\": \"Sample Data 4.\"\n",
    "}\n",
    "\n",
    "savefile(fileData)\n",
    "\n",
    "# Build the Merkle tree with the fileData Object keys(Name)\n",
    "merkTree = buildMerkleTree(list(fileData.keys()))\n",
    "print('\\n')\n",
    "print(\"Here is the Merkle Tree: \")\n",
    "printTree(merkTree)\n",
    "\n",
    "# Visualize the Merkle tree\n",
    "img_file = visualizeTree(merkTree, 'merkle_tree')\n",
    "print(f\"Merkle tree visualization saved as {img_file}\")"
   ],
   "id": "898e14c28a8caea9",
   "outputs": [
    {
     "name": "stdout",
     "output_type": "stream",
     "text": [
      "File saved:  sampleFile1.txt\n",
      "File saved:  sampleFile2.txt\n",
      "File saved:  sampleFile3.txt\n",
      "File saved:  sampleFile4.txt\n",
      "Here is file paths:  ['sampleFile1.txt', 'sampleFile2.txt', 'sampleFile3.txt', 'sampleFile4.txt']\n",
      "Here is hash value: \n",
      " b'\\xe6\\x9bh.\\xc3\\xa1\\xcd\\x19\\x0e\\x86\\x19\\x97 b\\x95Pb\\r\\x04\\xa36\\xc0) \\xbf\\xa25\\x9e{\\xa1\\xc6$'\n",
      "Here is hash value: \n",
      " b'\\x11qI\\xc2k\\xa5_\\xf6\\xcc\\xcf\\x91;\\xaf.\\xa8\\xcf\\xb9F[\"\\xd7D\\t\\xd3\\xb2\\xec\\xc8\\xa0g\\xd1(x'\n",
      "Here is hash value: \n",
      " b'\\xf4\\x1c\\x04\\xaa\\x04\\x0b\\xdd)n\\xa1\\x8f\\xd6\\xe9x\\x81-t\\x1ba\\x9f!\\x97W\\x1d\\xb0\\x03uZ\\xa7 \\xcej'\n",
      "Here is hash value: \n",
      " b'\\xef\\xfb\\xa6f\\x0f&\\xc0\\xeb\\xdb-Y\\x06\\xf5/\\x8d`\\x8e\\t\\x07\\x14\\x95H\\x98\\x04 O\\xa2\\x95\\xc1\\xec;\\xd3'\n",
      "\n",
      "\n",
      "Here is the Merkle Tree: \n",
      "Node: ddf61bf634b0b650ff4441dca2478a126789aabbce062457dc4dbc8b24534bee\n",
      "Node: bb86d04919c8fb4b512041626ecbc06a1cc91e0af6265cfddd3f3e3e64dd79f7\n",
      "Leaf - sampleFile1.txt: e69b682ec3a1cd190e86199720629550620d04a336c02920bfa2359e7ba1c624\n",
      "Leaf - sampleFile2.txt: 117149c26ba55ff6cccf913baf2ea8cfb9465b22d74409d3b2ecc8a067d12878\n",
      "Node: f332fe94cfba9b4ab96482730e79adbbee0e2c305a69e01801adbc2c5a913fe1\n",
      "Leaf - sampleFile3.txt: f41c04aa040bdd296ea18fd6e978812d741b619f2197571db003755aa720ce6a\n",
      "Leaf - sampleFile4.txt: effba6660f26c0ebdb2d5906f52f8d608e09071495489804204fa295c1ec3bd3\n",
      "Merkle tree visualization saved as merkle_tree.png\n"
     ]
    }
   ],
   "execution_count": 31
  },
  {
   "metadata": {},
   "cell_type": "markdown",
   "source": [
    "### Visual representation of tree:\n",
    "![Merkle Tree](merkle_tree.png)"
   ],
   "id": "faf4ac139ebafcec"
  },
  {
   "metadata": {
    "ExecuteTime": {
     "end_time": "2025-03-26T00:50:40.626630Z",
     "start_time": "2025-03-26T00:50:40.506377Z"
    }
   },
   "cell_type": "code",
   "source": [
    "# Example usage\n",
    "# Generate 4 text files with different content each\n",
    "data_list = []\n",
    "for i in range(1, 5):\n",
    "    with open(f'file{i}.txt', 'w') as f:\n",
    "        f.write(f'This is the content of file {i}.\\n')\n",
    "    with open(f'file{i}.txt', 'r') as f:\n",
    "        data_list.append(f.read())\n",
    "\n",
    "merkle_tree = MerkleTree(data_list)\n",
    "merkle_tree.display_tree()\n",
    "print(f\"Root Hash: {merkle_tree.get_root()}\")\n",
    "img_file = merkle_tree.visualize_tree('merkle_tree_orig_4_nodes')"
   ],
   "id": "a51be24d0cf94a1b",
   "outputs": [
    {
     "name": "stdout",
     "output_type": "stream",
     "text": [
      "['b5589cac35442c4ac06e4ea1749a9c5f9bdf158081abd94fe4700df4beb2d99d', '5af94e431a67ac051e9ebe6cbffba1929b05aabf6334eb0d8b5d391154d27d00', '3e7dfac18d844fca9f8895416e8fd5b1a3b8bd21cfed79483deede6594222f24', 'c17106bd1d5efd752aba18667d29461169cdfe6969cdfec86c3b5b63c85d7acb']\n",
      "['312c56be398bdd9fb52ff109358c2dc9663e12f311cb0fd3145151d470024f49', 'cf391a952852f5cd5f6df2bf89c66cbe488cd31b371b9aa1ce1feb869821e97f']\n",
      "['8e909b5d2fd4df2d058a74b42e44d4f522c3dab96cc76cbb595b7f044e4c074b']\n",
      "Root Hash: 8e909b5d2fd4df2d058a74b42e44d4f522c3dab96cc76cbb595b7f044e4c074b\n"
     ]
    }
   ],
   "execution_count": 25
  },
  {
   "metadata": {},
   "cell_type": "markdown",
   "source": [
    "### Visual representation of tree:\n",
    "![Merkle Tree](merkle_tree_orig_4_nodes.png)"
   ],
   "id": "b5ca3e2fdb5435"
  },
  {
   "metadata": {},
   "cell_type": "markdown",
   "source": "### Conduct a second test with six leaf nodes, displaying the tree structure and hashes.",
   "id": "3d4c03a9107b62d1"
  },
  {
   "metadata": {
    "ExecuteTime": {
     "end_time": "2025-03-26T00:54:53.192908Z",
     "start_time": "2025-03-26T00:54:52.923876Z"
    }
   },
   "cell_type": "code",
   "source": [
    "# Example usage\n",
    "# Generate 6 text files with different content each (duplicating the last 2 files to balance the tree)\n",
    "data_list = []\n",
    "for i in range(1, 7):\n",
    "    with open(f'file{i}.txt', 'w') as f:\n",
    "        f.write(f'This is the content of file {i}.\\n')\n",
    "    with open(f'file{i}.txt', 'r') as f:\n",
    "        data_list.append(f.read())\n",
    "\n",
    "data_list.append(data_list[-1])\n",
    "data_list.append(data_list[-1])\n",
    "merkle_tree = MerkleTree(data_list)\n",
    "merkle_tree.display_tree()\n",
    "print(f\"Root Hash: {merkle_tree.get_root()}\")\n",
    "img_file = merkle_tree.visualize_tree('merkle_tree_orig_6_nodes')"
   ],
   "id": "310331072f823fca",
   "outputs": [
    {
     "name": "stdout",
     "output_type": "stream",
     "text": [
      "['b5589cac35442c4ac06e4ea1749a9c5f9bdf158081abd94fe4700df4beb2d99d', '5af94e431a67ac051e9ebe6cbffba1929b05aabf6334eb0d8b5d391154d27d00', '3e7dfac18d844fca9f8895416e8fd5b1a3b8bd21cfed79483deede6594222f24', 'c17106bd1d5efd752aba18667d29461169cdfe6969cdfec86c3b5b63c85d7acb', 'b14677e78354c132d2126ca6abbac366422ff5199009868422549dac0c20c4a7', '2592df5550a8214c14487868b93233499a200bc137c1ff72257ac506e4eb7be0', '2592df5550a8214c14487868b93233499a200bc137c1ff72257ac506e4eb7be0', '2592df5550a8214c14487868b93233499a200bc137c1ff72257ac506e4eb7be0']\n",
      "['312c56be398bdd9fb52ff109358c2dc9663e12f311cb0fd3145151d470024f49', 'cf391a952852f5cd5f6df2bf89c66cbe488cd31b371b9aa1ce1feb869821e97f', '2aed9c99cae6d2d8d241d165954ae521d17f7157f35bcf78356ab3034b866ef6', '668b15a36b7d85b648bc299672f332370971e6bdbd2b8ef4e3a8929d4b8ca0d5']\n",
      "['8e909b5d2fd4df2d058a74b42e44d4f522c3dab96cc76cbb595b7f044e4c074b', 'e0ca8dcd2998bd47e8e40a9ba3a5574c46b0f2a4b65c9c475395b634b1179d66']\n",
      "['bae910a7129fdb0574d6ba1e840747f6c415db3269e52593c16ed577f6272816']\n",
      "Root Hash: bae910a7129fdb0574d6ba1e840747f6c415db3269e52593c16ed577f6272816\n"
     ]
    }
   ],
   "execution_count": 28
  },
  {
   "metadata": {},
   "cell_type": "markdown",
   "source": [
    "### Visual representation of tree:\n",
    "![Merkle Tree](merkle_tree_orig_6_nodes.png)"
   ],
   "id": "f6b9680056e7a141"
  },
  {
   "metadata": {
    "ExecuteTime": {
     "end_time": "2025-03-26T00:56:25.574054Z",
     "start_time": "2025-03-26T00:56:25.435872Z"
    }
   },
   "cell_type": "code",
   "source": [
    "# Modify the contents of 'file2.txt'\n",
    "with open('file2.txt', 'w') as f:\n",
    "    f.write('This is the modified content of file 2.\\n')\n",
    "\n",
    "# Read the updated contents of the files\n",
    "data_list = []\n",
    "for i in range(1, 5):\n",
    "    with open(f'file{i}.txt', 'r') as f:\n",
    "        data_list.append(f.read())\n",
    "\n",
    "# Rebuild the Merkle tree with the updated data\n",
    "merkle_tree = MerkleTree(data_list)\n",
    "merkle_tree.display_tree()\n",
    "print(f\"Root Hash: {merkle_tree.get_root()}\")\n",
    "img_file = merkle_tree.visualize_tree('merkle_tree_updated_4_nodes')"
   ],
   "id": "7428829d356171bf",
   "outputs": [
    {
     "name": "stdout",
     "output_type": "stream",
     "text": [
      "['b5589cac35442c4ac06e4ea1749a9c5f9bdf158081abd94fe4700df4beb2d99d', '1d68662e61e5b506da002b064ed5d8f9cf1f50df38cda86f04e4ce5f2a7fe5b0', '3e7dfac18d844fca9f8895416e8fd5b1a3b8bd21cfed79483deede6594222f24', 'c17106bd1d5efd752aba18667d29461169cdfe6969cdfec86c3b5b63c85d7acb']\n",
      "['9cd28de5b24362d42d507fde8509f53c2c36146ab284ea01f845db3f2fd2e1c6', 'cf391a952852f5cd5f6df2bf89c66cbe488cd31b371b9aa1ce1feb869821e97f']\n",
      "['bba9f404e9cdf0efc2ca6a63dd9626699f67fc73dce6919c68a6771675f6d44c']\n",
      "Root Hash: bba9f404e9cdf0efc2ca6a63dd9626699f67fc73dce6919c68a6771675f6d44c\n"
     ]
    }
   ],
   "execution_count": 30
  },
  {
   "metadata": {},
   "cell_type": "markdown",
   "source": [
    "### Updated contents of file 2 representation of tree:\n",
    "#### Original 4 nodes\n",
    "![Merkle Tree](merkle_tree_orig_4_nodes.png)\n",
    "#### Updated file 2\n",
    "![Merkle Tree](merkle_tree_updated_4_nodes.png)"
   ],
   "id": "a16ee4664d342667"
  }
 ],
 "metadata": {
  "kernelspec": {
   "display_name": "Python 3",
   "language": "python",
   "name": "python3"
  },
  "language_info": {
   "codemirror_mode": {
    "name": "ipython",
    "version": 2
   },
   "file_extension": ".py",
   "mimetype": "text/x-python",
   "name": "python",
   "nbconvert_exporter": "python",
   "pygments_lexer": "ipython2",
   "version": "2.7.6"
  }
 },
 "nbformat": 4,
 "nbformat_minor": 5
}
