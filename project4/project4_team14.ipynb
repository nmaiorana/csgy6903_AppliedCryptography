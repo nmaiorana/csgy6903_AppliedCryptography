{
  "cells": [
    {
      "cell_type": "markdown",
      "metadata": {
        "id": "M7SROr-06OAM"
      },
      "source": [
        "# **Project: Cryptographic Hash**\n",
        "\n",
        "## Part I: Literature Review\n",
        "\n",
        "A literature review refers to a comprehensive survey of existing research, studies, and scholarly articles\n",
        "related to specific topics. In this project, students are asked to familiarize themselves with the topics on\n",
        "Merkle trees, hash collisions, and hash puzzles. Students are expected to identify and analyze sources that\n",
        "discuss these concepts and their recent developments.\n",
        "\n",
        "Requirements:\n",
        "\n",
        "  • Compile a reference list of at least three sources that provide insight into the concepts of Merkle trees,\n",
        "hash collisions, hash puzzles, and their recent development.\n",
        "\n",
        "  • For each reference, summarize the main ideas in a brief paragraph.\n",
        "\n",
        "  • Sources can include book chapters, peer-reviewed journal articles, conference papers, or credible\n",
        "internet sources.\n",
        "\n",
        "  • The following references are provided as starting points but must not be used in your list:\n",
        "\n",
        "  • B. Weber and X. Zhang. Parallel hash collision search by rho method with distinguished\n",
        "points. Proc. of the 14th IEEE LISAT 2018, Farmingdale, NY, May 4, 2018, pp. 1-7.\n",
        "\n",
        "  • Mark Stamp's book (as listed in the course syllabus), specifically sections 5.2 (Birthday\n",
        "attack, Nostradamus attack) and 5.3 (MD4).\n",
        "• J. Kelsey and T. Kohno, Herding hash functions and the Nostradamus attack,\n",
        "eprint.iacr.org/2005/28l.pdf.\n",
        "\n",
        "\n",
        "\n",
        "\n",
        "### Source 1: Merkle Trees\n",
        "\n",
        "  Title: Merkle trees in blockchain: A Study of collision probability and security implications     \n",
        "  Authors: Oleksandr Kuznetsov, Alex Rusnak, Anton Yezhov, Kateryna Kuznetsova, Dzianis Kanonik, Oleksandr Domin    \n",
        "  Publication: Internet of Things, Volume 26, 2024, 101193, ISSN 2542-6605              \n",
        "  Reference:  O. Kuznetsov, A. Rusnak, A. Yezhov, K. Kuznetsova, D. Kanonik, and O. Domin, \"Merkle trees in blockchain: A study of collision probability and security implications,\" Internet of Things, Elsevier, Jul. 2024.\n",
        "\n",
        "  Summary:  \n",
        "   This study examines the security of Merkle Trees, a core component of blockchain systems like Ethereum, focusing on their vulnerability to hash collisions and preimage attacks. Through theoretical and empirical analysis, the researchers assess how hash length and path length influence collision probabilities. Findings reveal that longer hash lengths enhance security, while longer paths increase collision risks. These insights help improve blockchain resilience, particularly in applications like XMSS digital signatures, which rely on Merkle Trees for quantum-resistant security.\n",
        "\n",
        "\n",
        "### Source 2: Hash Collisions\n",
        "Title: Finding Collisions in the Full SHA-1     \n",
        "Authors: Xiaoyun Wang, Yiqun Lisa Yin, and Hongbo Yu      \n",
        "Publication: CRYPTO 2005: Advances in Cryptology    \n",
        "Reference: Wang, X., Yin, Y. L., & Yu, H. (2005). Finding Collisions in the Full SHA-1. CRYPTO 2005: Advances in Cryptology.\n",
        "\n",
        "Summary:  \n",
        "This groundbreaking work demonstrates the first practical cryptanalysis of full SHA-1, achieving collisions below the theoretical security threshold through three key innovations: (1) a novel disturbance vector optimization technique that relaxes traditional constraints to uncover low-probability differential paths, (2) strategic exploitation of arithmetic carries and Boolean function properties to control difference propagation, and (3) an efficient two-block attack framework that converts near-collisions into full collisions. By reducing the attack complexity to 2⁶⁹ operations - significantly beneath SHA-1's 2⁸⁰ design strength - and experimentally validating the approach with 58-step collisions (2³³ complexity), the research exposes fundamental vulnerabilities in SHA-1's structure, directly contributing to its deprecation in cryptographic applications and reshaping modern hash function security standards.\n",
        "\n",
        "\n",
        "### Source 3: Hash Puzzles\n",
        "\n",
        "Title: Proofs of Work and Bread Pudding Protocols  \n",
        "Authors: Markus Jakobsson and Ari Juels     \n",
        "Publication: Springer, Boston, MA (Print ISBN: 78-1-4757-6487-1)  \n",
        "\n",
        "Summary:\n",
        "\n",
        "This paper formalizes proofs of work (PoW) as cryptographic protocols where a prover verifiably demonstrates computational effort—rather than secret knowledge—and introduces bread pudding protocols, which repurpose PoW computations for useful tasks (like MicroMint coin minting). By breaking intensive operations into parallelizable PoWs, the authors show how \"wasted\" work can be transformed into productive outputs while maintaining security, laying early groundwork for blockchain consensus and decentralized trust mechanisms.\n",
        "\n",
        "\n",
        "\n",
        "\n",
        "## Part II: Essay Questions\n",
        "\n",
        "1) Explain why hash collisions are a mathematical inevitability?\n",
        "\n",
        "Think of a hash function as a clever chef who takes ingredients—inputs of all shapes and sizes—and whips them into a dish of fixed portions, like the 256-bit servings you get from SHA-256. But here's the catch: sometimes, totally different recipes end up tasting the same. That's what we call a hash collision, and it's not a fluke—it's baked into the math. The Pigeonhole Principle is the kitchen rule here: if you've got more ingredients than plates to serve them on, some dishes are bound to double up. Sure, 2^256 possible hash outputs sounds like a feast, but it's still a limited menu compared to the endless pantry of possible inputs. So, no matter how big the table, you can't escape it—collisions are just part of the deal when you're squeezing an infinite world into a finite box.\n",
        "\n",
        "Mathematically: Hash collisions are inevitable due to the Pigeonhole Principle, as an infinite input space (|I| → ∞) maps to a finite output space (|O| = 2ⁿ), ensuring at least one pair of distinct inputs (x ≠ y) where H(x) = H(y) for any fixed-size hash function.\n",
        "\n",
        "2) Considering a room with N people, including Trudy, what's the probability that at least one other\n",
        "person shares Trudy's birthday? At what minimum N does this probability exceed 50%?\n",
        "\n",
        "Step 1: Compute the probability that no one shares Trudy's birthday   \n",
        "There are 365 possible birthdays (ignoring leap years).     \n",
        "Each of the other N - 1 people has a 364 / 365 probability of not having the same birthday as Trudy.      \n",
        "The probability that none of the N - 1 people share Trudy's birthday is:\n",
        "\n",
        "\tP(no match) = (364/365)^N - 1\n",
        "\n",
        "Step 2: Compute the probability that at least one person shares Trudy's birthday\n",
        "\n",
        "    P(at least one match) = 1 - P(no match) = 1 - (364/365)^N - 1\n",
        "\n",
        "Step 3: Solve for N where the probability exceeds 50%\n",
        "\n",
        "\n",
        "    1 - (364/365)^N - 1 > 0.5\n",
        "    = (364/365)^N - 1 < 0.5\n",
        "    = (N -1)ln(364/365) < ln(0.5) \"taking the natural logarithm of both sides\"\n",
        "    = Since ln(364/365) is negative -0.0027, dividing by it reverses the inequality: N -1 > (ln(0.5)/ln(364/365)\n",
        "    =  N -1 > (-0.6931/-0.0027)\n",
        "    ≈ 252.66\n",
        "    Therefore, N >253.66\n",
        "    The smallest integer N that satisfies this condition is (254).  \n",
        "    The minimum number of people for this probability to exceed 50% is 254.\n",
        "\n",
        "3)In a room of N people (N ≤ 365), what's the probability of any two sharing a birthday, and what's the\n",
        "minimum N for this probability to be over 50%?\n",
        "\n",
        "a - Probability calculation:\n",
        "\n",
        "1st person: 365/365, 2nd person: 364/365, 3rd person: 363/365, continues until N-th person: (365 - N + 1)/365\n",
        "\n",
        "P(all unique) = (365 x 364 x ... x (365-N+1)) / 365^N\n",
        "\n",
        "    P (all unique) = 365!/365^N(365 - N)!\n",
        "\n",
        "    P(at least one shared) = 1 - P(all unique)\n",
        "\n",
        "b - Find the smallest N for which this probability exceeds 50%\n",
        "\n",
        "1 - P(no shared birthday) > 0.5\n",
        "\n",
        "by using calculation\n",
        "\n",
        "    N=1: P = 1 = 100% (trivially true)\n",
        "    N=10 P ≈ 0.883 (88.3%)\n",
        "    N=20 P ≈ 0.588 (58.8%)\n",
        "    N=23 P ≈ 0.493 (49.3%) First time it drops below 50%\n",
        "\n",
        "    we find that N=23 is the smallest number where the probability of at least one birthday match surpasses 50%.\n",
        "\n",
        "By 70 people, the probability exceeds 99.9%\n",
        "\n",
        "\n",
        "4) Describe the principle of the birthday attack on hashing and how it offers efficiency over brute-force attacks.\n",
        "\n",
        "Hash functions create digital fingerprints, but their fixed-length design hides a critical flaw: unavoidable collisions.\n",
        "\n",
        "Hash functions create digital fingerprints, but their fixed-length design hides a critical flaw: unavoidable collisions. The birthday attack exploits this by leveraging probability theory—instead of brute-forcing a specific hash match (requiring ~2ⁿ attempts for n-bit hashes), it hunts for any two colliding inputs using just ~√(total outputs) attempts (~2ⁿ/²).  requiringThis clever shortcut makes finding collisions exponentially faster: while SHA-256 would need ~2²⁵⁶ guesses to reverse a specific hash, a birthday attack finds random collisions in ~2¹²⁸ tries. That's why broken hashes like MD5 fell to this method, forcing modern systems to adopt longer outputs (SHA-3/512) that push collision searches beyond practical reach—turning a mathematical inevitability into a manageable security tradeoff.\n",
        "\n",
        "5) Discuss the main issues associated with hash functions created using the Merkle-Damgård\n",
        "Construction process.\n",
        "\n",
        "The Merkle-Damgård construction is a classic method for building cryptographic hash functions, used in algorithms like MD5, SHA-1, and SHA-256. but it has several well-known vulnerabilities and weaknesses:\n",
        "\n",
        "####a - Length Extension Attacks:\n",
        "\n",
        "The Fatal Flaw: Given Hash(M), attackers can calculate Hash(M || padding || M') without knowing M—breaking authentication in naive MAC implementations\n",
        "\n",
        "####b - Collision-Finding Vulnerabilities:\n",
        "\n",
        "Domino Effect: A single collision in the compression function extends to the full hash, as each block's output feeds into the next. This doomed MD5 and SHA-1\n",
        "\n",
        "####c - Predictable Padding:\n",
        "\n",
        "Fixed Structure: Appending message length before processing creates patterns exploitable in chosen-prefix attacks.\n",
        "\n",
        "####d - Rigid Initialization:\n",
        "\n",
        "Static IV: The fixed initial value (IV) lacks adaptability, making certain attacks easier if the compression function has weaknesses.\n",
        "\n",
        "\n",
        "\n",
        "\n",
        "## Part III: Code Project\n",
        "\n",
        "Use jupyter notebook to do the coding problems.\n",
        "1. Merkle Tree Implementation\n",
        "  \n",
        "  • Implement Merkle trees using SHA256 or some other hashing algorithms. Students can utilize\n",
        "existing crypto packages for hashing functions.\n",
        "  \n",
        "  • Each leaf node references a plaintext file.\n",
        "  \n",
        "  • Conduct a test with four leaf nodes, displaying the tree structure and hashes.\n",
        "  \n",
        "  • Conduct a second test with six leaf nodes, displaying the tree structure and hashes.\n",
        "\n",
        "2. Root Hash Observation\n",
        "  \n",
        "  • Modify the content of one text file in the four-leaf-node scenario and compare the root hashes.\n",
        "Discuss your observations.\n",
        "\n",
        "3. Hash Collision\n",
        "\n",
        "  • Define a hash function using SHA256 but take only 4 bits as hash output.\n",
        "\n",
        "  • Use the implementation in step 1(Merkle Tree Implementation) with this hash function.\n",
        "\n",
        "  • Attempt to generate multiple text files with identical meanings but different hashes by altering\n",
        "file contents (e.g., adding spaces).\n",
        "\n",
        "  • Find a hash collision among the text files. Discuss how many such files need to be generated.\n",
        "• Discuss strategies for finding collisions with hashes ranging from 4-bit to 160-bit in length.\n",
        "\n",
        "4. Hash Puzzle\n",
        "\n",
        "  • Using the chosen hashing algorithm (4 bits output), solve hash puzzles by finding hashes with a\n",
        "leading 1 zero bit, and then 2 zero bits.\n",
        "\n",
        "  • Briefly discuss the workload involved in solving a puzzle requiring a 20-bit zero prefix for the\n",
        "SHA256."
      ]
    },
    {
      "cell_type": "markdown",
      "metadata": {
        "id": "dAuq_gwViL50"
      },
      "source": [
        "## Merkle Tree Implementation\n",
        "  \n",
        "  • Implement Merkle trees using SHA256 or some other hashing algorithms. Students can utilize\n",
        "existing crypto packages for hashing functions.\n",
        "  \n",
        "  • Each leaf node references a plaintext file.\n",
        "  \n",
        "  • Conduct a test with four leaf nodes, displaying the tree structure and hashes.\n",
        "  \n",
        "  • Conduct a second test with six leaf nodes, displaying the tree structure and hashes."
      ]
    },
    {
      "cell_type": "code",
      "execution_count": null,
      "metadata": {
        "colab": {
          "base_uri": "https://localhost:8080/"
        },
        "id": "qzT4uCFEAZ9f",
        "outputId": "a27a7dee-4b60-49f9-8ca7-388a76044883"
      },
      "outputs": [
        {
          "name": "stdout",
          "output_type": "stream",
          "text": [
            "Requirement already satisfied: graphviz in /usr/local/lib/python3.11/dist-packages (0.20.3)\n"
          ]
        }
      ],
      "source": [
        "!pip install graphviz"
      ]
    },
    {
      "cell_type": "code",
      "execution_count": null,
      "metadata": {
        "id": "j139M2Yn9Joa"
      },
      "outputs": [],
      "source": [
        "# Part 3 - Merkle Tree\n",
        "\n",
        "# hashlib module implements a common interface for many secure cryptographic hash and message digest algorithms.\n",
        "import hashlib\n",
        "from graphviz import Digraph\n",
        "from IPython.display import display, SVG\n",
        "\n",
        "# Node class for Merkle tree\n",
        "class Node:\n",
        "    def __init__(self, left=None, right=None, hashValue=None, fileName=None):\n",
        "        self.left = left\n",
        "        self.right = right\n",
        "        self.hash = hashValue  # store hash as bytes\n",
        "        self.fileName = fileName  # non-null for leaf nodes\n",
        "\n",
        "# Function to compute SHA256 hash of given data (in bytes)\n",
        "def computeHash(data: bytes) -> bytes:\n",
        "    return hashlib.sha256(data).digest()\n",
        "\n",
        "# Build the Merkle tree from a list of file paths.\n",
        "def buildMerkleTree(fileName):\n",
        "    print('Here is file paths: ', fileName)\n",
        "    # Create leaf nodes by reading file contents and computing their hashes.\n",
        "    leaves = []\n",
        "    for x in fileName:\n",
        "        with open(x, 'rb') as f:\n",
        "            data = f.read()\n",
        "        hashData = computeHash(data)\n",
        "        # print('Here is hash value: \\n', hashData.hex())\n",
        "        node = Node(hashValue=hashData, fileName=x)\n",
        "        leaves.append(node)\n",
        "\n",
        "    # Build the tree level by level until only the root remains.\n",
        "    while len(leaves) > 1:\n",
        "        # If the number of nodes is odd, duplicate the last node.\n",
        "        if len(leaves) % 2 == 1:\n",
        "            leaves.append(leaves[-1])\n",
        "        temp = []\n",
        "        # Pair nodes and compute parent node hash as SHA256(left.hash + right.hash)\n",
        "        for i in range(0, len(leaves), 2):\n",
        "            left = leaves[i]\n",
        "            right = leaves[i+1]\n",
        "            combined = left.hash + right.hash\n",
        "            parentHash = computeHash(combined)\n",
        "            parent = Node(left=left, right=right, hashValue=parentHash)\n",
        "            temp.append(parent)\n",
        "        leaves = temp\n",
        "    return leaves[0]\n",
        "\n",
        "# Recursively print the Merkle tree structure and hashes.\n",
        "def printTree(node,level=0):\n",
        "    if node.fileName:\n",
        "        # This is a leaf node.\n",
        "        print(f\"{'    ' * level}Leaf - {node.fileName}: {node.hash.hex()}\")\n",
        "    else:\n",
        "        # This is an internal node.\n",
        "        if level == 0:\n",
        "            print(\"Merkle Tree:\")\n",
        "            print(f\"Root Node: {node.hash.hex()}:\")\n",
        "        else:\n",
        "            print(f\"{'    ' * level}Node: {node.hash.hex()}\")\n",
        "        if node.left:\n",
        "            printTree(node.left, level+1)\n",
        "        if node.right:\n",
        "            printTree(node.right, level+1)\n",
        "\n",
        "# Visualize the Merkle tree using graphviz\n",
        "def visualizeTree(node):\n",
        "    dot = Digraph()\n",
        "    def addNodesEdges(node, parent=None):\n",
        "        if node.fileName:\n",
        "            node_id = node.fileName\n",
        "            label = f\"{node.fileName}\\n{node.hash.hex()[:8]}\"\n",
        "        else:\n",
        "            node_id = node.hash.hex()\n",
        "            label = node.hash.hex()[:8]\n",
        "        dot.node(node_id, label)\n",
        "        if parent:\n",
        "            dot.edge(parent, node_id)\n",
        "        if node.left:\n",
        "            addNodesEdges(node.left, node_id)\n",
        "        if node.right:\n",
        "            addNodesEdges(node.right, node_id)\n",
        "    addNodesEdges(node)\n",
        "    svg_data = dot.pipe(format='svg')\n",
        "    display(SVG(svg_data))  # Display the SVG directly\n",
        "\n",
        "# Create sample files based on the object key and values.\n",
        "def savefile(fileObject):\n",
        "    for fileName, content in fileObject.items():\n",
        "        with open(fileName, 'w') as f:\n",
        "            f.write(content)\n",
        "        print(\"File saved: \", fileName);"
      ]
    },
    {
      "cell_type": "markdown",
      "metadata": {
        "id": "cRz2IKKWERqb"
      },
      "source": [
        "### 1.1 - Each leaf node references a plaintext file.\n",
        "Generate 4 text files with different content each"
      ]
    },
    {
      "cell_type": "code",
      "execution_count": null,
      "metadata": {
        "colab": {
          "base_uri": "https://localhost:8080/",
          "height": 576
        },
        "id": "U54cLIBkAuE6",
        "outputId": "33d89310-07e3-4848-8091-46dc089134b0"
      },
      "outputs": [
        {
          "output_type": "stream",
          "name": "stdout",
          "text": [
            "File saved:  sampleFile1.txt\n",
            "File saved:  sampleFile2.txt\n",
            "File saved:  sampleFile3.txt\n",
            "File saved:  sampleFile4.txt\n",
            "Here is file paths:  ['sampleFile1.txt', 'sampleFile2.txt', 'sampleFile3.txt', 'sampleFile4.txt']\n",
            "\n",
            "\n",
            "Merkle Tree:\n",
            "Root Node: ddf61bf634b0b650ff4441dca2478a126789aabbce062457dc4dbc8b24534bee:\n",
            "    Node: bb86d04919c8fb4b512041626ecbc06a1cc91e0af6265cfddd3f3e3e64dd79f7\n",
            "        Leaf - sampleFile1.txt: e69b682ec3a1cd190e86199720629550620d04a336c02920bfa2359e7ba1c624\n",
            "        Leaf - sampleFile2.txt: 117149c26ba55ff6cccf913baf2ea8cfb9465b22d74409d3b2ecc8a067d12878\n",
            "    Node: f332fe94cfba9b4ab96482730e79adbbee0e2c305a69e01801adbc2c5a913fe1\n",
            "        Leaf - sampleFile3.txt: f41c04aa040bdd296ea18fd6e978812d741b619f2197571db003755aa720ce6a\n",
            "        Leaf - sampleFile4.txt: effba6660f26c0ebdb2d5906f52f8d608e09071495489804204fa295c1ec3bd3\n"
          ]
        },
        {
          "output_type": "display_data",
          "data": {
            "text/plain": [
              "<IPython.core.display.SVG object>"
            ],
            "image/svg+xml": "<svg xmlns=\"http://www.w3.org/2000/svg\" xmlns:xlink=\"http://www.w3.org/1999/xlink\" width=\"634pt\" height=\"206pt\" viewBox=\"0.00 0.00 633.84 205.74\">\n<g id=\"graph0\" class=\"graph\" transform=\"scale(1 1) rotate(0) translate(4 201.74)\">\n<title>%3</title>\n<polygon fill=\"white\" stroke=\"transparent\" points=\"-4,4 -4,-201.74 629.84,-201.74 629.84,4 -4,4\"/>\n<!-- ddf61bf634b0b650ff4441dca2478a126789aabbce062457dc4dbc8b24534bee -->\n<g id=\"node1\" class=\"node\">\n<title>ddf61bf634b0b650ff4441dca2478a126789aabbce062457dc4dbc8b24534bee</title>\n<ellipse fill=\"none\" stroke=\"black\" cx=\"312.42\" cy=\"-179.74\" rx=\"42.79\" ry=\"18\"/>\n<text text-anchor=\"middle\" x=\"312.42\" y=\"-176.04\" font-family=\"Times,serif\" font-size=\"14.00\">ddf61bf6</text>\n</g>\n<!-- bb86d04919c8fb4b512041626ecbc06a1cc91e0af6265cfddd3f3e3e64dd79f7 -->\n<g id=\"node2\" class=\"node\">\n<title>bb86d04919c8fb4b512041626ecbc06a1cc91e0af6265cfddd3f3e3e64dd79f7</title>\n<ellipse fill=\"none\" stroke=\"black\" cx=\"232.42\" cy=\"-107.74\" rx=\"46.29\" ry=\"18\"/>\n<text text-anchor=\"middle\" x=\"232.42\" y=\"-104.04\" font-family=\"Times,serif\" font-size=\"14.00\">bb86d049</text>\n</g>\n<!-- ddf61bf634b0b650ff4441dca2478a126789aabbce062457dc4dbc8b24534bee&#45;&gt;bb86d04919c8fb4b512041626ecbc06a1cc91e0af6265cfddd3f3e3e64dd79f7 -->\n<g id=\"edge1\" class=\"edge\">\n<title>ddf61bf634b0b650ff4441dca2478a126789aabbce062457dc4dbc8b24534bee-&gt;bb86d04919c8fb4b512041626ecbc06a1cc91e0af6265cfddd3f3e3e64dd79f7</title>\n<path fill=\"none\" stroke=\"black\" d=\"M294.66,-163.2C283.97,-153.85 270.16,-141.76 258.26,-131.36\"/>\n<polygon fill=\"black\" stroke=\"black\" points=\"260.23,-128.43 250.4,-124.47 255.62,-133.69 260.23,-128.43\"/>\n</g>\n<!-- f332fe94cfba9b4ab96482730e79adbbee0e2c305a69e01801adbc2c5a913fe1 -->\n<g id=\"node5\" class=\"node\">\n<title>f332fe94cfba9b4ab96482730e79adbbee0e2c305a69e01801adbc2c5a913fe1</title>\n<ellipse fill=\"none\" stroke=\"black\" cx=\"393.42\" cy=\"-107.74\" rx=\"42.49\" ry=\"18\"/>\n<text text-anchor=\"middle\" x=\"393.42\" y=\"-104.04\" font-family=\"Times,serif\" font-size=\"14.00\">f332fe94</text>\n</g>\n<!-- ddf61bf634b0b650ff4441dca2478a126789aabbce062457dc4dbc8b24534bee&#45;&gt;f332fe94cfba9b4ab96482730e79adbbee0e2c305a69e01801adbc2c5a913fe1 -->\n<g id=\"edge4\" class=\"edge\">\n<title>ddf61bf634b0b650ff4441dca2478a126789aabbce062457dc4dbc8b24534bee-&gt;f332fe94cfba9b4ab96482730e79adbbee0e2c305a69e01801adbc2c5a913fe1</title>\n<path fill=\"none\" stroke=\"black\" d=\"M330.39,-163.2C341.41,-153.69 355.67,-141.36 367.85,-130.84\"/>\n<polygon fill=\"black\" stroke=\"black\" points=\"370.21,-133.42 375.49,-124.23 365.64,-128.12 370.21,-133.42\"/>\n</g>\n<!-- sampleFile1.txt -->\n<g id=\"node3\" class=\"node\">\n<title>sampleFile1.txt</title>\n<ellipse fill=\"none\" stroke=\"black\" cx=\"71.42\" cy=\"-26.87\" rx=\"71.34\" ry=\"26.74\"/>\n<text text-anchor=\"middle\" x=\"71.42\" y=\"-30.67\" font-family=\"Times,serif\" font-size=\"14.00\">sampleFile1.txt</text>\n<text text-anchor=\"middle\" x=\"71.42\" y=\"-15.67\" font-family=\"Times,serif\" font-size=\"14.00\">e69b682e</text>\n</g>\n<!-- bb86d04919c8fb4b512041626ecbc06a1cc91e0af6265cfddd3f3e3e64dd79f7&#45;&gt;sampleFile1.txt -->\n<g id=\"edge2\" class=\"edge\">\n<title>bb86d04919c8fb4b512041626ecbc06a1cc91e0af6265cfddd3f3e3e64dd79f7-&gt;sampleFile1.txt</title>\n<path fill=\"none\" stroke=\"black\" d=\"M204.74,-93.18C182.29,-82.18 150.01,-66.37 122.84,-53.06\"/>\n<polygon fill=\"black\" stroke=\"black\" points=\"124.37,-49.91 113.85,-48.65 121.29,-56.2 124.37,-49.91\"/>\n</g>\n<!-- sampleFile2.txt -->\n<g id=\"node4\" class=\"node\">\n<title>sampleFile2.txt</title>\n<ellipse fill=\"none\" stroke=\"black\" cx=\"232.42\" cy=\"-26.87\" rx=\"71.34\" ry=\"26.74\"/>\n<text text-anchor=\"middle\" x=\"232.42\" y=\"-30.67\" font-family=\"Times,serif\" font-size=\"14.00\">sampleFile2.txt</text>\n<text text-anchor=\"middle\" x=\"232.42\" y=\"-15.67\" font-family=\"Times,serif\" font-size=\"14.00\">117149c2</text>\n</g>\n<!-- bb86d04919c8fb4b512041626ecbc06a1cc91e0af6265cfddd3f3e3e64dd79f7&#45;&gt;sampleFile2.txt -->\n<g id=\"edge3\" class=\"edge\">\n<title>bb86d04919c8fb4b512041626ecbc06a1cc91e0af6265cfddd3f3e3e64dd79f7-&gt;sampleFile2.txt</title>\n<path fill=\"none\" stroke=\"black\" d=\"M232.42,-89.63C232.42,-82.14 232.42,-73.05 232.42,-64.17\"/>\n<polygon fill=\"black\" stroke=\"black\" points=\"235.92,-63.95 232.42,-53.95 228.92,-63.95 235.92,-63.95\"/>\n</g>\n<!-- sampleFile3.txt -->\n<g id=\"node6\" class=\"node\">\n<title>sampleFile3.txt</title>\n<ellipse fill=\"none\" stroke=\"black\" cx=\"393.42\" cy=\"-26.87\" rx=\"71.34\" ry=\"26.74\"/>\n<text text-anchor=\"middle\" x=\"393.42\" y=\"-30.67\" font-family=\"Times,serif\" font-size=\"14.00\">sampleFile3.txt</text>\n<text text-anchor=\"middle\" x=\"393.42\" y=\"-15.67\" font-family=\"Times,serif\" font-size=\"14.00\">f41c04aa</text>\n</g>\n<!-- f332fe94cfba9b4ab96482730e79adbbee0e2c305a69e01801adbc2c5a913fe1&#45;&gt;sampleFile3.txt -->\n<g id=\"edge5\" class=\"edge\">\n<title>f332fe94cfba9b4ab96482730e79adbbee0e2c305a69e01801adbc2c5a913fe1-&gt;sampleFile3.txt</title>\n<path fill=\"none\" stroke=\"black\" d=\"M393.42,-89.63C393.42,-82.14 393.42,-73.05 393.42,-64.17\"/>\n<polygon fill=\"black\" stroke=\"black\" points=\"396.92,-63.95 393.42,-53.95 389.92,-63.95 396.92,-63.95\"/>\n</g>\n<!-- sampleFile4.txt -->\n<g id=\"node7\" class=\"node\">\n<title>sampleFile4.txt</title>\n<ellipse fill=\"none\" stroke=\"black\" cx=\"554.42\" cy=\"-26.87\" rx=\"71.34\" ry=\"26.74\"/>\n<text text-anchor=\"middle\" x=\"554.42\" y=\"-30.67\" font-family=\"Times,serif\" font-size=\"14.00\">sampleFile4.txt</text>\n<text text-anchor=\"middle\" x=\"554.42\" y=\"-15.67\" font-family=\"Times,serif\" font-size=\"14.00\">effba666</text>\n</g>\n<!-- f332fe94cfba9b4ab96482730e79adbbee0e2c305a69e01801adbc2c5a913fe1&#45;&gt;sampleFile4.txt -->\n<g id=\"edge6\" class=\"edge\">\n<title>f332fe94cfba9b4ab96482730e79adbbee0e2c305a69e01801adbc2c5a913fe1-&gt;sampleFile4.txt</title>\n<path fill=\"none\" stroke=\"black\" d=\"M420,-93.72C442.47,-82.71 475.31,-66.62 502.9,-53.11\"/>\n<polygon fill=\"black\" stroke=\"black\" points=\"504.6,-56.17 512.04,-48.63 501.52,-49.89 504.6,-56.17\"/>\n</g>\n</g>\n</svg>"
          },
          "metadata": {}
        }
      ],
      "source": [
        "# Define file names and contents\n",
        "fileData = {\n",
        "    \"sampleFile1.txt\": \"Sample Data 1.\",\n",
        "    \"sampleFile2.txt\": \"Sample Data 2.\",\n",
        "    \"sampleFile3.txt\": \"Sample Data 3.\",\n",
        "    \"sampleFile4.txt\": \"Sample Data 4.\"\n",
        "}\n",
        "\n",
        "savefile(fileData)\n",
        "\n",
        "# Build the Merkle tree with the fileData Object keys(Name)\n",
        "merkTree = buildMerkleTree(list(fileData.keys()))\n",
        "print('\\n')\n",
        "printTree(merkTree)\n",
        "# Visualize the Merkle tree\n",
        "visualizeTree(merkTree)"
      ]
    },
    {
      "cell_type": "markdown",
      "metadata": {
        "id": "3_lPBGlLEuCr"
      },
      "source": [
        "### 1.2 - Conduct a second test with six leaf nodes, displaying the tree structure and hashes.\n",
        "Generate 6 text files with different content each. Repeating the last file to balance the tree. This was reccomended by the professor."
      ]
    },
    {
      "cell_type": "code",
      "execution_count": null,
      "metadata": {
        "colab": {
          "base_uri": "https://localhost:8080/",
          "height": 880
        },
        "id": "XfD7meplE9_P",
        "outputId": "4de2fca8-f99d-4d61-8949-a2800a3ab63f"
      },
      "outputs": [
        {
          "output_type": "stream",
          "name": "stdout",
          "text": [
            "File saved:  sampleFile1.txt\n",
            "File saved:  sampleFile2.txt\n",
            "File saved:  sampleFile3.txt\n",
            "File saved:  sampleFile4.txt\n",
            "File saved:  sampleFile5.txt\n",
            "File saved:  sampleFile6.1.txt\n",
            "File saved:  sampleFile6.2.txt\n",
            "File saved:  sampleFile6.3.txt\n",
            "Here is file paths:  ['sampleFile1.txt', 'sampleFile2.txt', 'sampleFile3.txt', 'sampleFile4.txt', 'sampleFile5.txt', 'sampleFile6.1.txt', 'sampleFile6.2.txt', 'sampleFile6.3.txt']\n",
            "\n",
            "\n",
            "Merkle Tree:\n",
            "Root Node: b8667dbdceaae9ec538262937ff58e77f40e5f9f5cd5a97610ebf1b461b9fec0:\n",
            "    Node: ddf61bf634b0b650ff4441dca2478a126789aabbce062457dc4dbc8b24534bee\n",
            "        Node: bb86d04919c8fb4b512041626ecbc06a1cc91e0af6265cfddd3f3e3e64dd79f7\n",
            "            Leaf - sampleFile1.txt: e69b682ec3a1cd190e86199720629550620d04a336c02920bfa2359e7ba1c624\n",
            "            Leaf - sampleFile2.txt: 117149c26ba55ff6cccf913baf2ea8cfb9465b22d74409d3b2ecc8a067d12878\n",
            "        Node: f332fe94cfba9b4ab96482730e79adbbee0e2c305a69e01801adbc2c5a913fe1\n",
            "            Leaf - sampleFile3.txt: f41c04aa040bdd296ea18fd6e978812d741b619f2197571db003755aa720ce6a\n",
            "            Leaf - sampleFile4.txt: effba6660f26c0ebdb2d5906f52f8d608e09071495489804204fa295c1ec3bd3\n",
            "    Node: 310eb95279582f0695867699676e54b60765ce15c3f57094e08159b4f8f8f41f\n",
            "        Node: ff3b82f6dbd9cc55fa699a78fea5ae453eeba3ec97a6aba110f1fefcdb2c4b2f\n",
            "            Leaf - sampleFile5.txt: c1cf1b540d950854698926e2ec1c23d34cf4e9bbc213814f9184c4709dd5230a\n",
            "            Leaf - sampleFile6.1.txt: 5dd40139c92796738b7f41eb665c67d6807958ab0aead620143778b0fc8d2dad\n",
            "        Node: dafe51e5ba8a7f06b2a2ad703d41968cddc605a6de1c2afa19154d077806f1e2\n",
            "            Leaf - sampleFile6.2.txt: 5dd40139c92796738b7f41eb665c67d6807958ab0aead620143778b0fc8d2dad\n",
            "            Leaf - sampleFile6.3.txt: 5dd40139c92796738b7f41eb665c67d6807958ab0aead620143778b0fc8d2dad\n"
          ]
        },
        {
          "output_type": "display_data",
          "data": {
            "text/plain": [
              "<IPython.core.display.SVG object>"
            ],
            "image/svg+xml": "<svg xmlns=\"http://www.w3.org/2000/svg\" xmlns:xlink=\"http://www.w3.org/1999/xlink\" width=\"1324pt\" height=\"278pt\" viewBox=\"0.00 0.00 1323.61 277.74\">\n<g id=\"graph0\" class=\"graph\" transform=\"scale(1 1) rotate(0) translate(4 273.74)\">\n<title>%3</title>\n<polygon fill=\"white\" stroke=\"transparent\" points=\"-4,4 -4,-273.74 1319.61,-273.74 1319.61,4 -4,4\"/>\n<!-- b8667dbdceaae9ec538262937ff58e77f40e5f9f5cd5a97610ebf1b461b9fec0 -->\n<g id=\"node1\" class=\"node\">\n<title>b8667dbdceaae9ec538262937ff58e77f40e5f9f5cd5a97610ebf1b461b9fec0</title>\n<ellipse fill=\"none\" stroke=\"black\" cx=\"634.42\" cy=\"-251.74\" rx=\"46.29\" ry=\"18\"/>\n<text text-anchor=\"middle\" x=\"634.42\" y=\"-248.04\" font-family=\"Times,serif\" font-size=\"14.00\">b8667dbd</text>\n</g>\n<!-- ddf61bf634b0b650ff4441dca2478a126789aabbce062457dc4dbc8b24534bee -->\n<g id=\"node2\" class=\"node\">\n<title>ddf61bf634b0b650ff4441dca2478a126789aabbce062457dc4dbc8b24534bee</title>\n<ellipse fill=\"none\" stroke=\"black\" cx=\"473.42\" cy=\"-179.74\" rx=\"42.79\" ry=\"18\"/>\n<text text-anchor=\"middle\" x=\"473.42\" y=\"-176.04\" font-family=\"Times,serif\" font-size=\"14.00\">ddf61bf6</text>\n</g>\n<!-- b8667dbdceaae9ec538262937ff58e77f40e5f9f5cd5a97610ebf1b461b9fec0&#45;&gt;ddf61bf634b0b650ff4441dca2478a126789aabbce062457dc4dbc8b24534bee -->\n<g id=\"edge1\" class=\"edge\">\n<title>b8667dbdceaae9ec538262937ff58e77f40e5f9f5cd5a97610ebf1b461b9fec0-&gt;ddf61bf634b0b650ff4441dca2478a126789aabbce062457dc4dbc8b24534bee</title>\n<path fill=\"none\" stroke=\"black\" d=\"M604.89,-237.9C578.63,-226.48 540.07,-209.72 511.49,-197.3\"/>\n<polygon fill=\"black\" stroke=\"black\" points=\"512.79,-194.04 502.22,-193.26 509.99,-200.46 512.79,-194.04\"/>\n</g>\n<!-- 310eb95279582f0695867699676e54b60765ce15c3f57094e08159b4f8f8f41f -->\n<g id=\"node9\" class=\"node\">\n<title>310eb95279582f0695867699676e54b60765ce15c3f57094e08159b4f8f8f41f</title>\n<ellipse fill=\"none\" stroke=\"black\" cx=\"799.42\" cy=\"-179.74\" rx=\"45.49\" ry=\"18\"/>\n<text text-anchor=\"middle\" x=\"799.42\" y=\"-176.04\" font-family=\"Times,serif\" font-size=\"14.00\">310eb952</text>\n</g>\n<!-- b8667dbdceaae9ec538262937ff58e77f40e5f9f5cd5a97610ebf1b461b9fec0&#45;&gt;310eb95279582f0695867699676e54b60765ce15c3f57094e08159b4f8f8f41f -->\n<g id=\"edge8\" class=\"edge\">\n<title>b8667dbdceaae9ec538262937ff58e77f40e5f9f5cd5a97610ebf1b461b9fec0-&gt;310eb95279582f0695867699676e54b60765ce15c3f57094e08159b4f8f8f41f</title>\n<path fill=\"none\" stroke=\"black\" d=\"M664.68,-237.9C691.51,-226.52 730.87,-209.82 760.12,-197.41\"/>\n<polygon fill=\"black\" stroke=\"black\" points=\"761.79,-200.51 769.62,-193.38 759.05,-194.06 761.79,-200.51\"/>\n</g>\n<!-- bb86d04919c8fb4b512041626ecbc06a1cc91e0af6265cfddd3f3e3e64dd79f7 -->\n<g id=\"node3\" class=\"node\">\n<title>bb86d04919c8fb4b512041626ecbc06a1cc91e0af6265cfddd3f3e3e64dd79f7</title>\n<ellipse fill=\"none\" stroke=\"black\" cx=\"232.42\" cy=\"-107.74\" rx=\"46.29\" ry=\"18\"/>\n<text text-anchor=\"middle\" x=\"232.42\" y=\"-104.04\" font-family=\"Times,serif\" font-size=\"14.00\">bb86d049</text>\n</g>\n<!-- ddf61bf634b0b650ff4441dca2478a126789aabbce062457dc4dbc8b24534bee&#45;&gt;bb86d04919c8fb4b512041626ecbc06a1cc91e0af6265cfddd3f3e3e64dd79f7 -->\n<g id=\"edge2\" class=\"edge\">\n<title>ddf61bf634b0b650ff4441dca2478a126789aabbce062457dc4dbc8b24534bee-&gt;bb86d04919c8fb4b512041626ecbc06a1cc91e0af6265cfddd3f3e3e64dd79f7</title>\n<path fill=\"none\" stroke=\"black\" d=\"M439.14,-168.79C396.92,-156.52 325.05,-135.64 278.15,-122.02\"/>\n<polygon fill=\"black\" stroke=\"black\" points=\"279.12,-118.66 268.54,-119.23 277.17,-125.38 279.12,-118.66\"/>\n</g>\n<!-- f332fe94cfba9b4ab96482730e79adbbee0e2c305a69e01801adbc2c5a913fe1 -->\n<g id=\"node6\" class=\"node\">\n<title>f332fe94cfba9b4ab96482730e79adbbee0e2c305a69e01801adbc2c5a913fe1</title>\n<ellipse fill=\"none\" stroke=\"black\" cx=\"473.42\" cy=\"-107.74\" rx=\"42.49\" ry=\"18\"/>\n<text text-anchor=\"middle\" x=\"473.42\" y=\"-104.04\" font-family=\"Times,serif\" font-size=\"14.00\">f332fe94</text>\n</g>\n<!-- ddf61bf634b0b650ff4441dca2478a126789aabbce062457dc4dbc8b24534bee&#45;&gt;f332fe94cfba9b4ab96482730e79adbbee0e2c305a69e01801adbc2c5a913fe1 -->\n<g id=\"edge5\" class=\"edge\">\n<title>ddf61bf634b0b650ff4441dca2478a126789aabbce062457dc4dbc8b24534bee-&gt;f332fe94cfba9b4ab96482730e79adbbee0e2c305a69e01801adbc2c5a913fe1</title>\n<path fill=\"none\" stroke=\"black\" d=\"M473.42,-161.44C473.42,-153.72 473.42,-144.45 473.42,-135.85\"/>\n<polygon fill=\"black\" stroke=\"black\" points=\"476.92,-135.84 473.42,-125.84 469.92,-135.84 476.92,-135.84\"/>\n</g>\n<!-- sampleFile1.txt -->\n<g id=\"node4\" class=\"node\">\n<title>sampleFile1.txt</title>\n<ellipse fill=\"none\" stroke=\"black\" cx=\"71.42\" cy=\"-26.87\" rx=\"71.34\" ry=\"26.74\"/>\n<text text-anchor=\"middle\" x=\"71.42\" y=\"-30.67\" font-family=\"Times,serif\" font-size=\"14.00\">sampleFile1.txt</text>\n<text text-anchor=\"middle\" x=\"71.42\" y=\"-15.67\" font-family=\"Times,serif\" font-size=\"14.00\">e69b682e</text>\n</g>\n<!-- bb86d04919c8fb4b512041626ecbc06a1cc91e0af6265cfddd3f3e3e64dd79f7&#45;&gt;sampleFile1.txt -->\n<g id=\"edge3\" class=\"edge\">\n<title>bb86d04919c8fb4b512041626ecbc06a1cc91e0af6265cfddd3f3e3e64dd79f7-&gt;sampleFile1.txt</title>\n<path fill=\"none\" stroke=\"black\" d=\"M204.74,-93.18C182.29,-82.18 150.01,-66.37 122.84,-53.06\"/>\n<polygon fill=\"black\" stroke=\"black\" points=\"124.37,-49.91 113.85,-48.65 121.29,-56.2 124.37,-49.91\"/>\n</g>\n<!-- sampleFile2.txt -->\n<g id=\"node5\" class=\"node\">\n<title>sampleFile2.txt</title>\n<ellipse fill=\"none\" stroke=\"black\" cx=\"232.42\" cy=\"-26.87\" rx=\"71.34\" ry=\"26.74\"/>\n<text text-anchor=\"middle\" x=\"232.42\" y=\"-30.67\" font-family=\"Times,serif\" font-size=\"14.00\">sampleFile2.txt</text>\n<text text-anchor=\"middle\" x=\"232.42\" y=\"-15.67\" font-family=\"Times,serif\" font-size=\"14.00\">117149c2</text>\n</g>\n<!-- bb86d04919c8fb4b512041626ecbc06a1cc91e0af6265cfddd3f3e3e64dd79f7&#45;&gt;sampleFile2.txt -->\n<g id=\"edge4\" class=\"edge\">\n<title>bb86d04919c8fb4b512041626ecbc06a1cc91e0af6265cfddd3f3e3e64dd79f7-&gt;sampleFile2.txt</title>\n<path fill=\"none\" stroke=\"black\" d=\"M232.42,-89.63C232.42,-82.14 232.42,-73.05 232.42,-64.17\"/>\n<polygon fill=\"black\" stroke=\"black\" points=\"235.92,-63.95 232.42,-53.95 228.92,-63.95 235.92,-63.95\"/>\n</g>\n<!-- sampleFile3.txt -->\n<g id=\"node7\" class=\"node\">\n<title>sampleFile3.txt</title>\n<ellipse fill=\"none\" stroke=\"black\" cx=\"393.42\" cy=\"-26.87\" rx=\"71.34\" ry=\"26.74\"/>\n<text text-anchor=\"middle\" x=\"393.42\" y=\"-30.67\" font-family=\"Times,serif\" font-size=\"14.00\">sampleFile3.txt</text>\n<text text-anchor=\"middle\" x=\"393.42\" y=\"-15.67\" font-family=\"Times,serif\" font-size=\"14.00\">f41c04aa</text>\n</g>\n<!-- f332fe94cfba9b4ab96482730e79adbbee0e2c305a69e01801adbc2c5a913fe1&#45;&gt;sampleFile3.txt -->\n<g id=\"edge6\" class=\"edge\">\n<title>f332fe94cfba9b4ab96482730e79adbbee0e2c305a69e01801adbc2c5a913fe1-&gt;sampleFile3.txt</title>\n<path fill=\"none\" stroke=\"black\" d=\"M457.23,-90.78C448.1,-81.78 436.38,-70.22 425.47,-59.47\"/>\n<polygon fill=\"black\" stroke=\"black\" points=\"427.68,-56.73 418.1,-52.2 422.76,-61.71 427.68,-56.73\"/>\n</g>\n<!-- sampleFile4.txt -->\n<g id=\"node8\" class=\"node\">\n<title>sampleFile4.txt</title>\n<ellipse fill=\"none\" stroke=\"black\" cx=\"554.42\" cy=\"-26.87\" rx=\"71.34\" ry=\"26.74\"/>\n<text text-anchor=\"middle\" x=\"554.42\" y=\"-30.67\" font-family=\"Times,serif\" font-size=\"14.00\">sampleFile4.txt</text>\n<text text-anchor=\"middle\" x=\"554.42\" y=\"-15.67\" font-family=\"Times,serif\" font-size=\"14.00\">effba666</text>\n</g>\n<!-- f332fe94cfba9b4ab96482730e79adbbee0e2c305a69e01801adbc2c5a913fe1&#45;&gt;sampleFile4.txt -->\n<g id=\"edge7\" class=\"edge\">\n<title>f332fe94cfba9b4ab96482730e79adbbee0e2c305a69e01801adbc2c5a913fe1-&gt;sampleFile4.txt</title>\n<path fill=\"none\" stroke=\"black\" d=\"M489.81,-90.78C499.05,-81.78 510.92,-70.22 521.96,-59.47\"/>\n<polygon fill=\"black\" stroke=\"black\" points=\"524.71,-61.68 529.43,-52.2 519.82,-56.67 524.71,-61.68\"/>\n</g>\n<!-- ff3b82f6dbd9cc55fa699a78fea5ae453eeba3ec97a6aba110f1fefcdb2c4b2f -->\n<g id=\"node10\" class=\"node\">\n<title>ff3b82f6dbd9cc55fa699a78fea5ae453eeba3ec97a6aba110f1fefcdb2c4b2f</title>\n<ellipse fill=\"none\" stroke=\"black\" cx=\"799.42\" cy=\"-107.74\" rx=\"41.69\" ry=\"18\"/>\n<text text-anchor=\"middle\" x=\"799.42\" y=\"-104.04\" font-family=\"Times,serif\" font-size=\"14.00\">ff3b82f6</text>\n</g>\n<!-- 310eb95279582f0695867699676e54b60765ce15c3f57094e08159b4f8f8f41f&#45;&gt;ff3b82f6dbd9cc55fa699a78fea5ae453eeba3ec97a6aba110f1fefcdb2c4b2f -->\n<g id=\"edge9\" class=\"edge\">\n<title>310eb95279582f0695867699676e54b60765ce15c3f57094e08159b4f8f8f41f-&gt;ff3b82f6dbd9cc55fa699a78fea5ae453eeba3ec97a6aba110f1fefcdb2c4b2f</title>\n<path fill=\"none\" stroke=\"black\" d=\"M799.42,-161.44C799.42,-153.72 799.42,-144.45 799.42,-135.85\"/>\n<polygon fill=\"black\" stroke=\"black\" points=\"802.92,-135.84 799.42,-125.84 795.92,-135.84 802.92,-135.84\"/>\n</g>\n<!-- dafe51e5ba8a7f06b2a2ad703d41968cddc605a6de1c2afa19154d077806f1e2 -->\n<g id=\"node13\" class=\"node\">\n<title>dafe51e5ba8a7f06b2a2ad703d41968cddc605a6de1c2afa19154d077806f1e2</title>\n<ellipse fill=\"none\" stroke=\"black\" cx=\"1060.42\" cy=\"-107.74\" rx=\"42.79\" ry=\"18\"/>\n<text text-anchor=\"middle\" x=\"1060.42\" y=\"-104.04\" font-family=\"Times,serif\" font-size=\"14.00\">dafe51e5</text>\n</g>\n<!-- 310eb95279582f0695867699676e54b60765ce15c3f57094e08159b4f8f8f41f&#45;&gt;dafe51e5ba8a7f06b2a2ad703d41968cddc605a6de1c2afa19154d077806f1e2 -->\n<g id=\"edge12\" class=\"edge\">\n<title>310eb95279582f0695867699676e54b60765ce15c3f57094e08159b4f8f8f41f-&gt;dafe51e5ba8a7f06b2a2ad703d41968cddc605a6de1c2afa19154d077806f1e2</title>\n<path fill=\"none\" stroke=\"black\" d=\"M835.98,-168.93C883.07,-156.3 964.86,-134.37 1015.63,-120.75\"/>\n<polygon fill=\"black\" stroke=\"black\" points=\"1016.6,-124.12 1025.35,-118.15 1014.79,-117.36 1016.6,-124.12\"/>\n</g>\n<!-- sampleFile5.txt -->\n<g id=\"node11\" class=\"node\">\n<title>sampleFile5.txt</title>\n<ellipse fill=\"none\" stroke=\"black\" cx=\"715.42\" cy=\"-26.87\" rx=\"71.34\" ry=\"26.74\"/>\n<text text-anchor=\"middle\" x=\"715.42\" y=\"-30.67\" font-family=\"Times,serif\" font-size=\"14.00\">sampleFile5.txt</text>\n<text text-anchor=\"middle\" x=\"715.42\" y=\"-15.67\" font-family=\"Times,serif\" font-size=\"14.00\">c1cf1b54</text>\n</g>\n<!-- ff3b82f6dbd9cc55fa699a78fea5ae453eeba3ec97a6aba110f1fefcdb2c4b2f&#45;&gt;sampleFile5.txt -->\n<g id=\"edge10\" class=\"edge\">\n<title>ff3b82f6dbd9cc55fa699a78fea5ae453eeba3ec97a6aba110f1fefcdb2c4b2f-&gt;sampleFile5.txt</title>\n<path fill=\"none\" stroke=\"black\" d=\"M782.82,-91.16C773.1,-82.03 760.46,-70.16 748.76,-59.17\"/>\n<polygon fill=\"black\" stroke=\"black\" points=\"750.93,-56.41 741.24,-52.12 746.14,-61.51 750.93,-56.41\"/>\n</g>\n<!-- sampleFile6.1.txt -->\n<g id=\"node12\" class=\"node\">\n<title>sampleFile6.1.txt</title>\n<ellipse fill=\"none\" stroke=\"black\" cx=\"884.42\" cy=\"-26.87\" rx=\"79.39\" ry=\"26.74\"/>\n<text text-anchor=\"middle\" x=\"884.42\" y=\"-30.67\" font-family=\"Times,serif\" font-size=\"14.00\">sampleFile6.1.txt</text>\n<text text-anchor=\"middle\" x=\"884.42\" y=\"-15.67\" font-family=\"Times,serif\" font-size=\"14.00\">5dd40139</text>\n</g>\n<!-- ff3b82f6dbd9cc55fa699a78fea5ae453eeba3ec97a6aba110f1fefcdb2c4b2f&#45;&gt;sampleFile6.1.txt -->\n<g id=\"edge11\" class=\"edge\">\n<title>ff3b82f6dbd9cc55fa699a78fea5ae453eeba3ec97a6aba110f1fefcdb2c4b2f-&gt;sampleFile6.1.txt</title>\n<path fill=\"none\" stroke=\"black\" d=\"M816.21,-91.16C825.97,-82.1 838.64,-70.35 850.4,-59.44\"/>\n<polygon fill=\"black\" stroke=\"black\" points=\"853,-61.79 857.95,-52.42 848.24,-56.66 853,-61.79\"/>\n</g>\n<!-- sampleFile6.2.txt -->\n<g id=\"node14\" class=\"node\">\n<title>sampleFile6.2.txt</title>\n<ellipse fill=\"none\" stroke=\"black\" cx=\"1060.42\" cy=\"-26.87\" rx=\"79.39\" ry=\"26.74\"/>\n<text text-anchor=\"middle\" x=\"1060.42\" y=\"-30.67\" font-family=\"Times,serif\" font-size=\"14.00\">sampleFile6.2.txt</text>\n<text text-anchor=\"middle\" x=\"1060.42\" y=\"-15.67\" font-family=\"Times,serif\" font-size=\"14.00\">5dd40139</text>\n</g>\n<!-- dafe51e5ba8a7f06b2a2ad703d41968cddc605a6de1c2afa19154d077806f1e2&#45;&gt;sampleFile6.2.txt -->\n<g id=\"edge13\" class=\"edge\">\n<title>dafe51e5ba8a7f06b2a2ad703d41968cddc605a6de1c2afa19154d077806f1e2-&gt;sampleFile6.2.txt</title>\n<path fill=\"none\" stroke=\"black\" d=\"M1060.42,-89.63C1060.42,-82.14 1060.42,-73.05 1060.42,-64.17\"/>\n<polygon fill=\"black\" stroke=\"black\" points=\"1063.92,-63.95 1060.42,-53.95 1056.92,-63.95 1063.92,-63.95\"/>\n</g>\n<!-- sampleFile6.3.txt -->\n<g id=\"node15\" class=\"node\">\n<title>sampleFile6.3.txt</title>\n<ellipse fill=\"none\" stroke=\"black\" cx=\"1236.42\" cy=\"-26.87\" rx=\"79.39\" ry=\"26.74\"/>\n<text text-anchor=\"middle\" x=\"1236.42\" y=\"-30.67\" font-family=\"Times,serif\" font-size=\"14.00\">sampleFile6.3.txt</text>\n<text text-anchor=\"middle\" x=\"1236.42\" y=\"-15.67\" font-family=\"Times,serif\" font-size=\"14.00\">5dd40139</text>\n</g>\n<!-- dafe51e5ba8a7f06b2a2ad703d41968cddc605a6de1c2afa19154d077806f1e2&#45;&gt;sampleFile6.3.txt -->\n<g id=\"edge14\" class=\"edge\">\n<title>dafe51e5ba8a7f06b2a2ad703d41968cddc605a6de1c2afa19154d077806f1e2-&gt;sampleFile6.3.txt</title>\n<path fill=\"none\" stroke=\"black\" d=\"M1088.7,-94.07C1113.44,-82.98 1150.11,-66.54 1180.73,-52.83\"/>\n<polygon fill=\"black\" stroke=\"black\" points=\"1182.32,-55.95 1190.02,-48.66 1179.46,-49.56 1182.32,-55.95\"/>\n</g>\n</g>\n</svg>"
          },
          "metadata": {}
        }
      ],
      "source": [
        "# Define file names and contents\n",
        "fileData = {\n",
        "    \"sampleFile1.txt\": \"Sample Data 1.\",\n",
        "    \"sampleFile2.txt\": \"Sample Data 2.\",\n",
        "    \"sampleFile3.txt\": \"Sample Data 3.\",\n",
        "    \"sampleFile4.txt\": \"Sample Data 4.\",\n",
        "    \"sampleFile5.txt\": \"Sample Data 5.\",\n",
        "    \"sampleFile6.1.txt\": \"Sample Data 6.\",\n",
        "    \"sampleFile6.2.txt\": \"Sample Data 6.\",\n",
        "    \"sampleFile6.3.txt\": \"Sample Data 6.\"\n",
        "}\n",
        "\n",
        "savefile(fileData)\n",
        "\n",
        "# Build the Merkle tree with the fileData Object keys(Name)\n",
        "merkTree = buildMerkleTree(list(fileData.keys()))\n",
        "print('\\n')\n",
        "printTree(merkTree)\n",
        "visualizeTree(merkTree)"
      ]
    },
    {
      "cell_type": "markdown",
      "metadata": {
        "id": "Ttj_637BFuS2"
      },
      "source": [
        "### 2 - Root Hash Observation\n",
        "\n",
        "Modify the content of one text file in the four-leaf-node scenario and compare the root hashes. Discuss your observations.\n",
        "\n",
        "Generate 4 text files with file 2 haveing different content than the first generation"
      ]
    },
    {
      "cell_type": "code",
      "execution_count": null,
      "metadata": {
        "colab": {
          "base_uri": "https://localhost:8080/",
          "height": 1000
        },
        "id": "Cbx5MBYjF3Td",
        "outputId": "58436c12-8520-4469-e5cf-8bd9222c41d5"
      },
      "outputs": [
        {
          "output_type": "stream",
          "name": "stdout",
          "text": [
            "File saved:  sampleFile1.txt\n",
            "File saved:  sampleFile2.txt\n",
            "File saved:  sampleFile3.txt\n",
            "File saved:  sampleFile4.txt\n",
            "Here is file paths:  ['sampleFile1.txt', 'sampleFile2.txt', 'sampleFile3.txt', 'sampleFile4.txt']\n",
            "File saved:  sampleFile1.txt\n",
            "File saved:  sampleFile2.txt\n",
            "File saved:  sampleFile3.txt\n",
            "File saved:  sampleFile4.txt\n",
            "Here is file paths:  ['sampleFile1.txt', 'sampleFile2.txt', 'sampleFile3.txt', 'sampleFile4.txt']\n",
            "\n",
            "Original Tree\n",
            "\n",
            "Merkle Tree:\n",
            "Root Node: ddf61bf634b0b650ff4441dca2478a126789aabbce062457dc4dbc8b24534bee:\n",
            "    Node: bb86d04919c8fb4b512041626ecbc06a1cc91e0af6265cfddd3f3e3e64dd79f7\n",
            "        Leaf - sampleFile1.txt: e69b682ec3a1cd190e86199720629550620d04a336c02920bfa2359e7ba1c624\n",
            "        Leaf - sampleFile2.txt: 117149c26ba55ff6cccf913baf2ea8cfb9465b22d74409d3b2ecc8a067d12878\n",
            "    Node: f332fe94cfba9b4ab96482730e79adbbee0e2c305a69e01801adbc2c5a913fe1\n",
            "        Leaf - sampleFile3.txt: f41c04aa040bdd296ea18fd6e978812d741b619f2197571db003755aa720ce6a\n",
            "        Leaf - sampleFile4.txt: effba6660f26c0ebdb2d5906f52f8d608e09071495489804204fa295c1ec3bd3\n",
            "\n",
            "Modified File 2 Tree\n",
            "\n",
            "Merkle Tree:\n",
            "Root Node: 8a346cc014d5811cffbf8baaf09d9c8aefbd6a739d95182a879a1bd7f9b16411:\n",
            "    Node: 1ec34b1e9a37118e899b389eb0a1b4742b8a7ad39828dbecff7a483413792707\n",
            "        Leaf - sampleFile1.txt: e69b682ec3a1cd190e86199720629550620d04a336c02920bfa2359e7ba1c624\n",
            "        Leaf - sampleFile2.txt: 161739594b36f554dd0031d208eaef02cb3f69e8a0a3091cf08487bc4d62eab5\n",
            "    Node: f332fe94cfba9b4ab96482730e79adbbee0e2c305a69e01801adbc2c5a913fe1\n",
            "        Leaf - sampleFile3.txt: f41c04aa040bdd296ea18fd6e978812d741b619f2197571db003755aa720ce6a\n",
            "        Leaf - sampleFile4.txt: effba6660f26c0ebdb2d5906f52f8d608e09071495489804204fa295c1ec3bd3\n",
            "\n",
            "Original Tree\n",
            "\n"
          ]
        },
        {
          "output_type": "display_data",
          "data": {
            "text/plain": [
              "<IPython.core.display.SVG object>"
            ],
            "image/svg+xml": "<svg xmlns=\"http://www.w3.org/2000/svg\" xmlns:xlink=\"http://www.w3.org/1999/xlink\" width=\"634pt\" height=\"206pt\" viewBox=\"0.00 0.00 633.84 205.74\">\n<g id=\"graph0\" class=\"graph\" transform=\"scale(1 1) rotate(0) translate(4 201.74)\">\n<title>%3</title>\n<polygon fill=\"white\" stroke=\"transparent\" points=\"-4,4 -4,-201.74 629.84,-201.74 629.84,4 -4,4\"/>\n<!-- ddf61bf634b0b650ff4441dca2478a126789aabbce062457dc4dbc8b24534bee -->\n<g id=\"node1\" class=\"node\">\n<title>ddf61bf634b0b650ff4441dca2478a126789aabbce062457dc4dbc8b24534bee</title>\n<ellipse fill=\"none\" stroke=\"black\" cx=\"312.42\" cy=\"-179.74\" rx=\"42.79\" ry=\"18\"/>\n<text text-anchor=\"middle\" x=\"312.42\" y=\"-176.04\" font-family=\"Times,serif\" font-size=\"14.00\">ddf61bf6</text>\n</g>\n<!-- bb86d04919c8fb4b512041626ecbc06a1cc91e0af6265cfddd3f3e3e64dd79f7 -->\n<g id=\"node2\" class=\"node\">\n<title>bb86d04919c8fb4b512041626ecbc06a1cc91e0af6265cfddd3f3e3e64dd79f7</title>\n<ellipse fill=\"none\" stroke=\"black\" cx=\"232.42\" cy=\"-107.74\" rx=\"46.29\" ry=\"18\"/>\n<text text-anchor=\"middle\" x=\"232.42\" y=\"-104.04\" font-family=\"Times,serif\" font-size=\"14.00\">bb86d049</text>\n</g>\n<!-- ddf61bf634b0b650ff4441dca2478a126789aabbce062457dc4dbc8b24534bee&#45;&gt;bb86d04919c8fb4b512041626ecbc06a1cc91e0af6265cfddd3f3e3e64dd79f7 -->\n<g id=\"edge1\" class=\"edge\">\n<title>ddf61bf634b0b650ff4441dca2478a126789aabbce062457dc4dbc8b24534bee-&gt;bb86d04919c8fb4b512041626ecbc06a1cc91e0af6265cfddd3f3e3e64dd79f7</title>\n<path fill=\"none\" stroke=\"black\" d=\"M294.66,-163.2C283.97,-153.85 270.16,-141.76 258.26,-131.36\"/>\n<polygon fill=\"black\" stroke=\"black\" points=\"260.23,-128.43 250.4,-124.47 255.62,-133.69 260.23,-128.43\"/>\n</g>\n<!-- f332fe94cfba9b4ab96482730e79adbbee0e2c305a69e01801adbc2c5a913fe1 -->\n<g id=\"node5\" class=\"node\">\n<title>f332fe94cfba9b4ab96482730e79adbbee0e2c305a69e01801adbc2c5a913fe1</title>\n<ellipse fill=\"none\" stroke=\"black\" cx=\"393.42\" cy=\"-107.74\" rx=\"42.49\" ry=\"18\"/>\n<text text-anchor=\"middle\" x=\"393.42\" y=\"-104.04\" font-family=\"Times,serif\" font-size=\"14.00\">f332fe94</text>\n</g>\n<!-- ddf61bf634b0b650ff4441dca2478a126789aabbce062457dc4dbc8b24534bee&#45;&gt;f332fe94cfba9b4ab96482730e79adbbee0e2c305a69e01801adbc2c5a913fe1 -->\n<g id=\"edge4\" class=\"edge\">\n<title>ddf61bf634b0b650ff4441dca2478a126789aabbce062457dc4dbc8b24534bee-&gt;f332fe94cfba9b4ab96482730e79adbbee0e2c305a69e01801adbc2c5a913fe1</title>\n<path fill=\"none\" stroke=\"black\" d=\"M330.39,-163.2C341.41,-153.69 355.67,-141.36 367.85,-130.84\"/>\n<polygon fill=\"black\" stroke=\"black\" points=\"370.21,-133.42 375.49,-124.23 365.64,-128.12 370.21,-133.42\"/>\n</g>\n<!-- sampleFile1.txt -->\n<g id=\"node3\" class=\"node\">\n<title>sampleFile1.txt</title>\n<ellipse fill=\"none\" stroke=\"black\" cx=\"71.42\" cy=\"-26.87\" rx=\"71.34\" ry=\"26.74\"/>\n<text text-anchor=\"middle\" x=\"71.42\" y=\"-30.67\" font-family=\"Times,serif\" font-size=\"14.00\">sampleFile1.txt</text>\n<text text-anchor=\"middle\" x=\"71.42\" y=\"-15.67\" font-family=\"Times,serif\" font-size=\"14.00\">e69b682e</text>\n</g>\n<!-- bb86d04919c8fb4b512041626ecbc06a1cc91e0af6265cfddd3f3e3e64dd79f7&#45;&gt;sampleFile1.txt -->\n<g id=\"edge2\" class=\"edge\">\n<title>bb86d04919c8fb4b512041626ecbc06a1cc91e0af6265cfddd3f3e3e64dd79f7-&gt;sampleFile1.txt</title>\n<path fill=\"none\" stroke=\"black\" d=\"M204.74,-93.18C182.29,-82.18 150.01,-66.37 122.84,-53.06\"/>\n<polygon fill=\"black\" stroke=\"black\" points=\"124.37,-49.91 113.85,-48.65 121.29,-56.2 124.37,-49.91\"/>\n</g>\n<!-- sampleFile2.txt -->\n<g id=\"node4\" class=\"node\">\n<title>sampleFile2.txt</title>\n<ellipse fill=\"none\" stroke=\"black\" cx=\"232.42\" cy=\"-26.87\" rx=\"71.34\" ry=\"26.74\"/>\n<text text-anchor=\"middle\" x=\"232.42\" y=\"-30.67\" font-family=\"Times,serif\" font-size=\"14.00\">sampleFile2.txt</text>\n<text text-anchor=\"middle\" x=\"232.42\" y=\"-15.67\" font-family=\"Times,serif\" font-size=\"14.00\">117149c2</text>\n</g>\n<!-- bb86d04919c8fb4b512041626ecbc06a1cc91e0af6265cfddd3f3e3e64dd79f7&#45;&gt;sampleFile2.txt -->\n<g id=\"edge3\" class=\"edge\">\n<title>bb86d04919c8fb4b512041626ecbc06a1cc91e0af6265cfddd3f3e3e64dd79f7-&gt;sampleFile2.txt</title>\n<path fill=\"none\" stroke=\"black\" d=\"M232.42,-89.63C232.42,-82.14 232.42,-73.05 232.42,-64.17\"/>\n<polygon fill=\"black\" stroke=\"black\" points=\"235.92,-63.95 232.42,-53.95 228.92,-63.95 235.92,-63.95\"/>\n</g>\n<!-- sampleFile3.txt -->\n<g id=\"node6\" class=\"node\">\n<title>sampleFile3.txt</title>\n<ellipse fill=\"none\" stroke=\"black\" cx=\"393.42\" cy=\"-26.87\" rx=\"71.34\" ry=\"26.74\"/>\n<text text-anchor=\"middle\" x=\"393.42\" y=\"-30.67\" font-family=\"Times,serif\" font-size=\"14.00\">sampleFile3.txt</text>\n<text text-anchor=\"middle\" x=\"393.42\" y=\"-15.67\" font-family=\"Times,serif\" font-size=\"14.00\">f41c04aa</text>\n</g>\n<!-- f332fe94cfba9b4ab96482730e79adbbee0e2c305a69e01801adbc2c5a913fe1&#45;&gt;sampleFile3.txt -->\n<g id=\"edge5\" class=\"edge\">\n<title>f332fe94cfba9b4ab96482730e79adbbee0e2c305a69e01801adbc2c5a913fe1-&gt;sampleFile3.txt</title>\n<path fill=\"none\" stroke=\"black\" d=\"M393.42,-89.63C393.42,-82.14 393.42,-73.05 393.42,-64.17\"/>\n<polygon fill=\"black\" stroke=\"black\" points=\"396.92,-63.95 393.42,-53.95 389.92,-63.95 396.92,-63.95\"/>\n</g>\n<!-- sampleFile4.txt -->\n<g id=\"node7\" class=\"node\">\n<title>sampleFile4.txt</title>\n<ellipse fill=\"none\" stroke=\"black\" cx=\"554.42\" cy=\"-26.87\" rx=\"71.34\" ry=\"26.74\"/>\n<text text-anchor=\"middle\" x=\"554.42\" y=\"-30.67\" font-family=\"Times,serif\" font-size=\"14.00\">sampleFile4.txt</text>\n<text text-anchor=\"middle\" x=\"554.42\" y=\"-15.67\" font-family=\"Times,serif\" font-size=\"14.00\">effba666</text>\n</g>\n<!-- f332fe94cfba9b4ab96482730e79adbbee0e2c305a69e01801adbc2c5a913fe1&#45;&gt;sampleFile4.txt -->\n<g id=\"edge6\" class=\"edge\">\n<title>f332fe94cfba9b4ab96482730e79adbbee0e2c305a69e01801adbc2c5a913fe1-&gt;sampleFile4.txt</title>\n<path fill=\"none\" stroke=\"black\" d=\"M420,-93.72C442.47,-82.71 475.31,-66.62 502.9,-53.11\"/>\n<polygon fill=\"black\" stroke=\"black\" points=\"504.6,-56.17 512.04,-48.63 501.52,-49.89 504.6,-56.17\"/>\n</g>\n</g>\n</svg>"
          },
          "metadata": {}
        },
        {
          "output_type": "stream",
          "name": "stdout",
          "text": [
            "\n",
            "Modified File 2 Tree\n",
            "\n"
          ]
        },
        {
          "output_type": "display_data",
          "data": {
            "text/plain": [
              "<IPython.core.display.SVG object>"
            ],
            "image/svg+xml": "<svg xmlns=\"http://www.w3.org/2000/svg\" xmlns:xlink=\"http://www.w3.org/1999/xlink\" width=\"634pt\" height=\"206pt\" viewBox=\"0.00 0.00 633.84 205.74\">\n<g id=\"graph0\" class=\"graph\" transform=\"scale(1 1) rotate(0) translate(4 201.74)\">\n<title>%3</title>\n<polygon fill=\"white\" stroke=\"transparent\" points=\"-4,4 -4,-201.74 629.84,-201.74 629.84,4 -4,4\"/>\n<!-- 8a346cc014d5811cffbf8baaf09d9c8aefbd6a739d95182a879a1bd7f9b16411 -->\n<g id=\"node1\" class=\"node\">\n<title>8a346cc014d5811cffbf8baaf09d9c8aefbd6a739d95182a879a1bd7f9b16411</title>\n<ellipse fill=\"none\" stroke=\"black\" cx=\"312.42\" cy=\"-179.74\" rx=\"44.39\" ry=\"18\"/>\n<text text-anchor=\"middle\" x=\"312.42\" y=\"-176.04\" font-family=\"Times,serif\" font-size=\"14.00\">8a346cc0</text>\n</g>\n<!-- 1ec34b1e9a37118e899b389eb0a1b4742b8a7ad39828dbecff7a483413792707 -->\n<g id=\"node2\" class=\"node\">\n<title>1ec34b1e9a37118e899b389eb0a1b4742b8a7ad39828dbecff7a483413792707</title>\n<ellipse fill=\"none\" stroke=\"black\" cx=\"232.42\" cy=\"-107.74\" rx=\"44.39\" ry=\"18\"/>\n<text text-anchor=\"middle\" x=\"232.42\" y=\"-104.04\" font-family=\"Times,serif\" font-size=\"14.00\">1ec34b1e</text>\n</g>\n<!-- 8a346cc014d5811cffbf8baaf09d9c8aefbd6a739d95182a879a1bd7f9b16411&#45;&gt;1ec34b1e9a37118e899b389eb0a1b4742b8a7ad39828dbecff7a483413792707 -->\n<g id=\"edge1\" class=\"edge\">\n<title>8a346cc014d5811cffbf8baaf09d9c8aefbd6a739d95182a879a1bd7f9b16411-&gt;1ec34b1e9a37118e899b389eb0a1b4742b8a7ad39828dbecff7a483413792707</title>\n<path fill=\"none\" stroke=\"black\" d=\"M294.66,-163.2C283.97,-153.85 270.16,-141.76 258.26,-131.36\"/>\n<polygon fill=\"black\" stroke=\"black\" points=\"260.23,-128.43 250.4,-124.47 255.62,-133.69 260.23,-128.43\"/>\n</g>\n<!-- f332fe94cfba9b4ab96482730e79adbbee0e2c305a69e01801adbc2c5a913fe1 -->\n<g id=\"node5\" class=\"node\">\n<title>f332fe94cfba9b4ab96482730e79adbbee0e2c305a69e01801adbc2c5a913fe1</title>\n<ellipse fill=\"none\" stroke=\"black\" cx=\"393.42\" cy=\"-107.74\" rx=\"42.49\" ry=\"18\"/>\n<text text-anchor=\"middle\" x=\"393.42\" y=\"-104.04\" font-family=\"Times,serif\" font-size=\"14.00\">f332fe94</text>\n</g>\n<!-- 8a346cc014d5811cffbf8baaf09d9c8aefbd6a739d95182a879a1bd7f9b16411&#45;&gt;f332fe94cfba9b4ab96482730e79adbbee0e2c305a69e01801adbc2c5a913fe1 -->\n<g id=\"edge4\" class=\"edge\">\n<title>8a346cc014d5811cffbf8baaf09d9c8aefbd6a739d95182a879a1bd7f9b16411-&gt;f332fe94cfba9b4ab96482730e79adbbee0e2c305a69e01801adbc2c5a913fe1</title>\n<path fill=\"none\" stroke=\"black\" d=\"M330.39,-163.2C341.41,-153.69 355.67,-141.36 367.85,-130.84\"/>\n<polygon fill=\"black\" stroke=\"black\" points=\"370.21,-133.42 375.49,-124.23 365.64,-128.12 370.21,-133.42\"/>\n</g>\n<!-- sampleFile1.txt -->\n<g id=\"node3\" class=\"node\">\n<title>sampleFile1.txt</title>\n<ellipse fill=\"none\" stroke=\"black\" cx=\"71.42\" cy=\"-26.87\" rx=\"71.34\" ry=\"26.74\"/>\n<text text-anchor=\"middle\" x=\"71.42\" y=\"-30.67\" font-family=\"Times,serif\" font-size=\"14.00\">sampleFile1.txt</text>\n<text text-anchor=\"middle\" x=\"71.42\" y=\"-15.67\" font-family=\"Times,serif\" font-size=\"14.00\">e69b682e</text>\n</g>\n<!-- 1ec34b1e9a37118e899b389eb0a1b4742b8a7ad39828dbecff7a483413792707&#45;&gt;sampleFile1.txt -->\n<g id=\"edge2\" class=\"edge\">\n<title>1ec34b1e9a37118e899b389eb0a1b4742b8a7ad39828dbecff7a483413792707-&gt;sampleFile1.txt</title>\n<path fill=\"none\" stroke=\"black\" d=\"M205.11,-93.36C182.62,-82.34 150.11,-66.42 122.78,-53.03\"/>\n<polygon fill=\"black\" stroke=\"black\" points=\"124.25,-49.85 113.73,-48.6 121.17,-56.14 124.25,-49.85\"/>\n</g>\n<!-- sampleFile2.txt -->\n<g id=\"node4\" class=\"node\">\n<title>sampleFile2.txt</title>\n<ellipse fill=\"none\" stroke=\"black\" cx=\"232.42\" cy=\"-26.87\" rx=\"71.34\" ry=\"26.74\"/>\n<text text-anchor=\"middle\" x=\"232.42\" y=\"-30.67\" font-family=\"Times,serif\" font-size=\"14.00\">sampleFile2.txt</text>\n<text text-anchor=\"middle\" x=\"232.42\" y=\"-15.67\" font-family=\"Times,serif\" font-size=\"14.00\">16173959</text>\n</g>\n<!-- 1ec34b1e9a37118e899b389eb0a1b4742b8a7ad39828dbecff7a483413792707&#45;&gt;sampleFile2.txt -->\n<g id=\"edge3\" class=\"edge\">\n<title>1ec34b1e9a37118e899b389eb0a1b4742b8a7ad39828dbecff7a483413792707-&gt;sampleFile2.txt</title>\n<path fill=\"none\" stroke=\"black\" d=\"M232.42,-89.63C232.42,-82.14 232.42,-73.05 232.42,-64.17\"/>\n<polygon fill=\"black\" stroke=\"black\" points=\"235.92,-63.95 232.42,-53.95 228.92,-63.95 235.92,-63.95\"/>\n</g>\n<!-- sampleFile3.txt -->\n<g id=\"node6\" class=\"node\">\n<title>sampleFile3.txt</title>\n<ellipse fill=\"none\" stroke=\"black\" cx=\"393.42\" cy=\"-26.87\" rx=\"71.34\" ry=\"26.74\"/>\n<text text-anchor=\"middle\" x=\"393.42\" y=\"-30.67\" font-family=\"Times,serif\" font-size=\"14.00\">sampleFile3.txt</text>\n<text text-anchor=\"middle\" x=\"393.42\" y=\"-15.67\" font-family=\"Times,serif\" font-size=\"14.00\">f41c04aa</text>\n</g>\n<!-- f332fe94cfba9b4ab96482730e79adbbee0e2c305a69e01801adbc2c5a913fe1&#45;&gt;sampleFile3.txt -->\n<g id=\"edge5\" class=\"edge\">\n<title>f332fe94cfba9b4ab96482730e79adbbee0e2c305a69e01801adbc2c5a913fe1-&gt;sampleFile3.txt</title>\n<path fill=\"none\" stroke=\"black\" d=\"M393.42,-89.63C393.42,-82.14 393.42,-73.05 393.42,-64.17\"/>\n<polygon fill=\"black\" stroke=\"black\" points=\"396.92,-63.95 393.42,-53.95 389.92,-63.95 396.92,-63.95\"/>\n</g>\n<!-- sampleFile4.txt -->\n<g id=\"node7\" class=\"node\">\n<title>sampleFile4.txt</title>\n<ellipse fill=\"none\" stroke=\"black\" cx=\"554.42\" cy=\"-26.87\" rx=\"71.34\" ry=\"26.74\"/>\n<text text-anchor=\"middle\" x=\"554.42\" y=\"-30.67\" font-family=\"Times,serif\" font-size=\"14.00\">sampleFile4.txt</text>\n<text text-anchor=\"middle\" x=\"554.42\" y=\"-15.67\" font-family=\"Times,serif\" font-size=\"14.00\">effba666</text>\n</g>\n<!-- f332fe94cfba9b4ab96482730e79adbbee0e2c305a69e01801adbc2c5a913fe1&#45;&gt;sampleFile4.txt -->\n<g id=\"edge6\" class=\"edge\">\n<title>f332fe94cfba9b4ab96482730e79adbbee0e2c305a69e01801adbc2c5a913fe1-&gt;sampleFile4.txt</title>\n<path fill=\"none\" stroke=\"black\" d=\"M420,-93.72C442.47,-82.71 475.31,-66.62 502.9,-53.11\"/>\n<polygon fill=\"black\" stroke=\"black\" points=\"504.6,-56.17 512.04,-48.63 501.52,-49.89 504.6,-56.17\"/>\n</g>\n</g>\n</svg>"
          },
          "metadata": {}
        }
      ],
      "source": [
        "# Define file names and contents\n",
        "fileData = {\n",
        "    \"sampleFile1.txt\": \"Sample Data 1.\",\n",
        "    \"sampleFile2.txt\": \"Sample Data 2.\",\n",
        "    \"sampleFile3.txt\": \"Sample Data 3.\",\n",
        "    \"sampleFile4.txt\": \"Sample Data 4.\",\n",
        "}\n",
        "\n",
        "savefile(fileData)\n",
        "\n",
        "# Build the Merkle tree with the fileData Object keys(Name)\n",
        "merkTree_orig = buildMerkleTree(list(fileData.keys()))\n",
        "\n",
        "# Define file names and contents\n",
        "fileData = {\n",
        "    \"sampleFile1.txt\": \"Sample Data 1.\",\n",
        "    \"sampleFile2.txt\": \"Different Data 2.\",\n",
        "    \"sampleFile3.txt\": \"Sample Data 3.\",\n",
        "    \"sampleFile4.txt\": \"Sample Data 4.\",\n",
        "}\n",
        "\n",
        "savefile(fileData)\n",
        "\n",
        "# Build the Merkle tree with the fileData Object keys(Name)\n",
        "merkTree_modified = buildMerkleTree(list(fileData.keys()))\n",
        "\n",
        "print('\\nOriginal Tree\\n')\n",
        "printTree(merkTree_orig)\n",
        "print(\"\\nModified File 2 Tree\\n\")\n",
        "printTree(merkTree_modified)\n",
        "print('\\nOriginal Tree\\n')\n",
        "visualizeTree(merkTree_orig)\n",
        "print(\"\\nModified File 2 Tree\\n\")\n",
        "visualizeTree(merkTree_modified)"
      ]
    },
    {
      "cell_type": "markdown",
      "metadata": {
        "id": "cT4h9UDBrqk_"
      },
      "source": [
        "#### Obvervation of modifying a file\n",
        "As you can see the hash of the root node has changed while the nodes in the branches not including the modified file have remained the same. This can be used to quickly identify which source file has been modified by traversing the original tree and following the branches where the hashes to not match."
      ]
    },
    {
      "cell_type": "markdown",
      "metadata": {
        "id": "SeS8QR3StkQ2"
      },
      "source": [
        "### 3. Hash Collision\n",
        "\n",
        "  • Define a hash function using SHA256 but take only 4 bits as hash output.\n",
        "\n",
        "  • Use the implementation in step 1(Merkle Tree Implementation) with this hash function.\n",
        "\n",
        "  • Attempt to generate multiple text files with identical meanings but different hashes by altering\n",
        "file contents (e.g., adding spaces).\n",
        "\n",
        "  • Find a hash collision among the text files. Discuss how many such files need to be generated.\n",
        "\n",
        "  • Discuss strategies for finding collisions with hashes ranging from 4-bit to 160-bit in length."
      ]
    },
    {
      "cell_type": "markdown",
      "source": [
        "### 3.1 & 3.2\n",
        "- Define a hash function using SHA256 but take only 4 bits as hash output.\n",
        "- Use the implementation in step 1(Merkle Tree Implementation) with this hash function."
      ],
      "metadata": {
        "id": "Al655XMJSMLl"
      }
    },
    {
      "cell_type": "code",
      "execution_count": null,
      "metadata": {
        "id": "EQ-791AxuM6M"
      },
      "outputs": [],
      "source": [
        "# Part 3.1 & 3.2 - Merkle Tree with Optional bit size setting\n",
        "\n",
        "# hashlib module implements a common interface for many secure cryptographic hash and message digest algorithms.\n",
        "import hashlib\n",
        "from graphviz import Digraph\n",
        "from IPython.display import display, SVG\n",
        "\n",
        "# Node class for Merkle tree\n",
        "class Node:\n",
        "    def __init__(self, left=None, right=None, hashValue=None, fileName=None):\n",
        "        self.left = left\n",
        "        self.right = right\n",
        "        self.hash = hashValue  # store hash as bytes\n",
        "        self.fileName = fileName  # non-null for leaf nodes\n",
        "\n",
        "# Function to compute SHA256 hash of given data (in bytes) but defined the number of bits to be used.\n",
        "def computeHash4Bits(data: bytes) -> str:\n",
        "    \"\"\"Computes the SHA256 hash and returns the most significant 4 bits as a binary string.\"\"\"\n",
        "    full_hash = hashlib.sha256(data).digest()\n",
        "\n",
        "    # Get the most significant 4 bits from the first byte\n",
        "    most_significant_4_bits = (full_hash[0] >> 4) & 0x0F\n",
        "\n",
        "    # Convert to binary string representation\n",
        "    binary_string = f'{most_significant_4_bits:04b}'\n",
        "\n",
        "    return binary_string\n",
        "\n",
        "# Build the Merkle tree from a list of file paths.\n",
        "def buildMerkleTree4Bits(fileName):\n",
        "    # Create leaf nodes by reading file contents and computing their hashes.\n",
        "    leaves = []\n",
        "    for x in fileName:\n",
        "        with open(x, 'rb') as f:\n",
        "            data = f.read()\n",
        "        hashData = computeHash4Bits(data)\n",
        "        # print('Here is hash value: \\n', hashData.hex())\n",
        "        node = Node(hashValue=hashData, fileName=x)\n",
        "        leaves.append(node)\n",
        "\n",
        "    # Build the tree level by level until only the root remains.\n",
        "    while len(leaves) > 1:\n",
        "        # If the number of nodes is odd, duplicate the last node.\n",
        "        if len(leaves) % 2 == 1:\n",
        "            leaves.append(leaves[-1])\n",
        "        temp = []\n",
        "        # Pair nodes and compute parent node hash as SHA256(left.hash + right.hash)\n",
        "        for i in range(0, len(leaves), 2):\n",
        "            left = leaves[i]\n",
        "            right = leaves[i+1]\n",
        "            combined = (left.hash + right.hash).encode()\n",
        "            parentHash = computeHash4Bits(combined)\n",
        "            parent = Node(left=left, right=right, hashValue=parentHash)\n",
        "            temp.append(parent)\n",
        "        leaves = temp\n",
        "    return leaves[0]\n",
        "\n",
        "# Recursively print the Merkle tree structure and hashes.\n",
        "def printTree(node,level=0):\n",
        "    if node.fileName:\n",
        "        # This is a leaf node.\n",
        "        print(f\"{'    ' * level}Leaf - {node.fileName}: {node.hash}\")\n",
        "    else:\n",
        "        # This is an internal node.\n",
        "        if level == 0:\n",
        "            print(\"Merkle Tree:\")\n",
        "            print(f\"Root Node: {node.hash}:\")\n",
        "        else:\n",
        "            print(f\"{'    ' * level}Node: {node.hash}\")\n",
        "        if node.left:\n",
        "            printTree(node.left, level+1)\n",
        "        if node.right:\n",
        "            printTree(node.right, level+1)\n",
        "\n",
        "# Visualize the Merkle tree using graphviz\n",
        "def visualizeTree(node):\n",
        "    dot = Digraph()\n",
        "    def addNodesEdges(node, parent=None):\n",
        "        if node.fileName:\n",
        "            node_id = node.fileName\n",
        "            label = f\"{node.fileName}\\n{node.hash[:8]}\"\n",
        "        else:\n",
        "            node_id = node.hash\n",
        "            label = node.hash[:8]\n",
        "        dot.node(node_id, label)\n",
        "        if parent:\n",
        "            dot.edge(parent, node_id)\n",
        "        if node.left:\n",
        "            addNodesEdges(node.left, node_id)\n",
        "        if node.right:\n",
        "            addNodesEdges(node.right, node_id)\n",
        "    addNodesEdges(node)\n",
        "    svg_data = dot.pipe(format='svg')\n",
        "    display(SVG(svg_data))  # Display the SVG directly\n",
        "\n",
        "# Create sample files based on the object key and values.\n",
        "def savefile(fileObject):\n",
        "    for fileName, content in fileObject.items():\n",
        "        with open(fileName, 'w') as f:\n",
        "            f.write(content)\n",
        "        print(\"File saved: \", fileName);"
      ]
    },
    {
      "cell_type": "code",
      "source": [
        "# Define file names and contents\n",
        "fileData = {\n",
        "    \"sampleFile1.txt\": \"Sample Data 1.\",\n",
        "    \"sampleFile2.txt\": \"Sample Data 2.\",\n",
        "    \"sampleFile3.txt\": \"Sample Data 3.\",\n",
        "    \"sampleFile4.txt\": \"Sample Data 4.\"\n",
        "}\n",
        "\n",
        "savefile(fileData)\n",
        "\n",
        "# Build the Merkle tree with the fileData Object keys(Name)\n",
        "merkTree = buildMerkleTree4Bits(list(fileData.keys()))\n",
        "print('\\n')\n",
        "printTree(merkTree)\n",
        "# Visualize the Merkle tree\n",
        "visualizeTree(merkTree)"
      ],
      "metadata": {
        "colab": {
          "base_uri": "https://localhost:8080/",
          "height": 559
        },
        "id": "Kd9N3O1sLFBp",
        "outputId": "97ed3493-8a00-49cd-f1dd-aad8b5068e02"
      },
      "execution_count": null,
      "outputs": [
        {
          "output_type": "stream",
          "name": "stdout",
          "text": [
            "File saved:  sampleFile1.txt\n",
            "File saved:  sampleFile2.txt\n",
            "File saved:  sampleFile3.txt\n",
            "File saved:  sampleFile4.txt\n",
            "\n",
            "\n",
            "Merkle Tree:\n",
            "Root Node: 0010:\n",
            "    Node: 1011\n",
            "        Leaf - sampleFile1.txt: 1110\n",
            "        Leaf - sampleFile2.txt: 0001\n",
            "    Node: 1100\n",
            "        Leaf - sampleFile3.txt: 1111\n",
            "        Leaf - sampleFile4.txt: 1110\n"
          ]
        },
        {
          "output_type": "display_data",
          "data": {
            "text/plain": [
              "<IPython.core.display.SVG object>"
            ],
            "image/svg+xml": "<svg xmlns=\"http://www.w3.org/2000/svg\" xmlns:xlink=\"http://www.w3.org/1999/xlink\" width=\"634pt\" height=\"206pt\" viewBox=\"0.00 0.00 633.84 205.74\">\n<g id=\"graph0\" class=\"graph\" transform=\"scale(1 1) rotate(0) translate(4 201.74)\">\n<title>%3</title>\n<polygon fill=\"white\" stroke=\"transparent\" points=\"-4,4 -4,-201.74 629.84,-201.74 629.84,4 -4,4\"/>\n<!-- 0010 -->\n<g id=\"node1\" class=\"node\">\n<title>0010</title>\n<ellipse fill=\"none\" stroke=\"black\" cx=\"312.42\" cy=\"-179.74\" rx=\"28.7\" ry=\"18\"/>\n<text text-anchor=\"middle\" x=\"312.42\" y=\"-176.04\" font-family=\"Times,serif\" font-size=\"14.00\">0010</text>\n</g>\n<!-- 1011 -->\n<g id=\"node2\" class=\"node\">\n<title>1011</title>\n<ellipse fill=\"none\" stroke=\"black\" cx=\"232.42\" cy=\"-107.74\" rx=\"28.7\" ry=\"18\"/>\n<text text-anchor=\"middle\" x=\"232.42\" y=\"-104.04\" font-family=\"Times,serif\" font-size=\"14.00\">1011</text>\n</g>\n<!-- 0010&#45;&gt;1011 -->\n<g id=\"edge1\" class=\"edge\">\n<title>0010-&gt;1011</title>\n<path fill=\"none\" stroke=\"black\" d=\"M296.23,-164.57C284.73,-154.52 269.12,-140.85 256.21,-129.56\"/>\n<polygon fill=\"black\" stroke=\"black\" points=\"258.41,-126.84 248.58,-122.88 253.8,-132.1 258.41,-126.84\"/>\n</g>\n<!-- 1100 -->\n<g id=\"node5\" class=\"node\">\n<title>1100</title>\n<ellipse fill=\"none\" stroke=\"black\" cx=\"393.42\" cy=\"-107.74\" rx=\"28.7\" ry=\"18\"/>\n<text text-anchor=\"middle\" x=\"393.42\" y=\"-104.04\" font-family=\"Times,serif\" font-size=\"14.00\">1100</text>\n</g>\n<!-- 0010&#45;&gt;1100 -->\n<g id=\"edge4\" class=\"edge\">\n<title>0010-&gt;1100</title>\n<path fill=\"none\" stroke=\"black\" d=\"M328.81,-164.57C340.52,-154.45 356.47,-140.67 369.59,-129.33\"/>\n<polygon fill=\"black\" stroke=\"black\" points=\"372.05,-131.83 377.33,-122.65 367.47,-126.54 372.05,-131.83\"/>\n</g>\n<!-- sampleFile1.txt -->\n<g id=\"node3\" class=\"node\">\n<title>sampleFile1.txt</title>\n<ellipse fill=\"none\" stroke=\"black\" cx=\"71.42\" cy=\"-26.87\" rx=\"71.34\" ry=\"26.74\"/>\n<text text-anchor=\"middle\" x=\"71.42\" y=\"-30.67\" font-family=\"Times,serif\" font-size=\"14.00\">sampleFile1.txt</text>\n<text text-anchor=\"middle\" x=\"71.42\" y=\"-15.67\" font-family=\"Times,serif\" font-size=\"14.00\">1110</text>\n</g>\n<!-- 1011&#45;&gt;sampleFile1.txt -->\n<g id=\"edge2\" class=\"edge\">\n<title>1011-&gt;sampleFile1.txt</title>\n<path fill=\"none\" stroke=\"black\" d=\"M210.37,-95.94C187.99,-84.98 152.53,-67.6 123.03,-53.16\"/>\n<polygon fill=\"black\" stroke=\"black\" points=\"124.21,-49.84 113.69,-48.58 121.13,-56.12 124.21,-49.84\"/>\n</g>\n<!-- sampleFile2.txt -->\n<g id=\"node4\" class=\"node\">\n<title>sampleFile2.txt</title>\n<ellipse fill=\"none\" stroke=\"black\" cx=\"232.42\" cy=\"-26.87\" rx=\"71.34\" ry=\"26.74\"/>\n<text text-anchor=\"middle\" x=\"232.42\" y=\"-30.67\" font-family=\"Times,serif\" font-size=\"14.00\">sampleFile2.txt</text>\n<text text-anchor=\"middle\" x=\"232.42\" y=\"-15.67\" font-family=\"Times,serif\" font-size=\"14.00\">0001</text>\n</g>\n<!-- 1011&#45;&gt;sampleFile2.txt -->\n<g id=\"edge3\" class=\"edge\">\n<title>1011-&gt;sampleFile2.txt</title>\n<path fill=\"none\" stroke=\"black\" d=\"M232.42,-89.63C232.42,-82.14 232.42,-73.05 232.42,-64.17\"/>\n<polygon fill=\"black\" stroke=\"black\" points=\"235.92,-63.95 232.42,-53.95 228.92,-63.95 235.92,-63.95\"/>\n</g>\n<!-- sampleFile3.txt -->\n<g id=\"node6\" class=\"node\">\n<title>sampleFile3.txt</title>\n<ellipse fill=\"none\" stroke=\"black\" cx=\"393.42\" cy=\"-26.87\" rx=\"71.34\" ry=\"26.74\"/>\n<text text-anchor=\"middle\" x=\"393.42\" y=\"-30.67\" font-family=\"Times,serif\" font-size=\"14.00\">sampleFile3.txt</text>\n<text text-anchor=\"middle\" x=\"393.42\" y=\"-15.67\" font-family=\"Times,serif\" font-size=\"14.00\">1111</text>\n</g>\n<!-- 1100&#45;&gt;sampleFile3.txt -->\n<g id=\"edge5\" class=\"edge\">\n<title>1100-&gt;sampleFile3.txt</title>\n<path fill=\"none\" stroke=\"black\" d=\"M393.42,-89.63C393.42,-82.14 393.42,-73.05 393.42,-64.17\"/>\n<polygon fill=\"black\" stroke=\"black\" points=\"396.92,-63.95 393.42,-53.95 389.92,-63.95 396.92,-63.95\"/>\n</g>\n<!-- sampleFile4.txt -->\n<g id=\"node7\" class=\"node\">\n<title>sampleFile4.txt</title>\n<ellipse fill=\"none\" stroke=\"black\" cx=\"554.42\" cy=\"-26.87\" rx=\"71.34\" ry=\"26.74\"/>\n<text text-anchor=\"middle\" x=\"554.42\" y=\"-30.67\" font-family=\"Times,serif\" font-size=\"14.00\">sampleFile4.txt</text>\n<text text-anchor=\"middle\" x=\"554.42\" y=\"-15.67\" font-family=\"Times,serif\" font-size=\"14.00\">1110</text>\n</g>\n<!-- 1100&#45;&gt;sampleFile4.txt -->\n<g id=\"edge6\" class=\"edge\">\n<title>1100-&gt;sampleFile4.txt</title>\n<path fill=\"none\" stroke=\"black\" d=\"M415.47,-95.94C437.85,-84.98 473.31,-67.6 502.8,-53.16\"/>\n<polygon fill=\"black\" stroke=\"black\" points=\"504.7,-56.12 512.14,-48.58 501.62,-49.84 504.7,-56.12\"/>\n</g>\n</g>\n</svg>"
          },
          "metadata": {}
        }
      ]
    },
    {
      "cell_type": "markdown",
      "metadata": {
        "id": "ocKIsqb_v7Nn"
      },
      "source": [
        "### 3.2 4 Bit Hash"
      ]
    },
    {
      "cell_type": "code",
      "execution_count": null,
      "metadata": {
        "colab": {
          "base_uri": "https://localhost:8080/",
          "height": 559
        },
        "id": "Mpq4jTwdvZiD",
        "outputId": "d4e74ca9-5ed1-4c73-c2fb-ba8be057bf3f"
      },
      "outputs": [
        {
          "output_type": "stream",
          "name": "stdout",
          "text": [
            "File saved:  sampleFile1.txt\n",
            "File saved:  sampleFile2.txt\n",
            "File saved:  sampleFile3.txt\n",
            "File saved:  sampleFile4.txt\n",
            "\n",
            "\n",
            "Merkle Tree:\n",
            "Root Node: 0010:\n",
            "    Node: 1011\n",
            "        Leaf - sampleFile1.txt: 1110\n",
            "        Leaf - sampleFile2.txt: 0001\n",
            "    Node: 1100\n",
            "        Leaf - sampleFile3.txt: 1111\n",
            "        Leaf - sampleFile4.txt: 1110\n"
          ]
        },
        {
          "output_type": "display_data",
          "data": {
            "text/plain": [
              "<IPython.core.display.SVG object>"
            ],
            "image/svg+xml": "<svg xmlns=\"http://www.w3.org/2000/svg\" xmlns:xlink=\"http://www.w3.org/1999/xlink\" width=\"634pt\" height=\"206pt\" viewBox=\"0.00 0.00 633.84 205.74\">\n<g id=\"graph0\" class=\"graph\" transform=\"scale(1 1) rotate(0) translate(4 201.74)\">\n<title>%3</title>\n<polygon fill=\"white\" stroke=\"transparent\" points=\"-4,4 -4,-201.74 629.84,-201.74 629.84,4 -4,4\"/>\n<!-- 0010 -->\n<g id=\"node1\" class=\"node\">\n<title>0010</title>\n<ellipse fill=\"none\" stroke=\"black\" cx=\"312.42\" cy=\"-179.74\" rx=\"28.7\" ry=\"18\"/>\n<text text-anchor=\"middle\" x=\"312.42\" y=\"-176.04\" font-family=\"Times,serif\" font-size=\"14.00\">0010</text>\n</g>\n<!-- 1011 -->\n<g id=\"node2\" class=\"node\">\n<title>1011</title>\n<ellipse fill=\"none\" stroke=\"black\" cx=\"232.42\" cy=\"-107.74\" rx=\"28.7\" ry=\"18\"/>\n<text text-anchor=\"middle\" x=\"232.42\" y=\"-104.04\" font-family=\"Times,serif\" font-size=\"14.00\">1011</text>\n</g>\n<!-- 0010&#45;&gt;1011 -->\n<g id=\"edge1\" class=\"edge\">\n<title>0010-&gt;1011</title>\n<path fill=\"none\" stroke=\"black\" d=\"M296.23,-164.57C284.73,-154.52 269.12,-140.85 256.21,-129.56\"/>\n<polygon fill=\"black\" stroke=\"black\" points=\"258.41,-126.84 248.58,-122.88 253.8,-132.1 258.41,-126.84\"/>\n</g>\n<!-- 1100 -->\n<g id=\"node5\" class=\"node\">\n<title>1100</title>\n<ellipse fill=\"none\" stroke=\"black\" cx=\"393.42\" cy=\"-107.74\" rx=\"28.7\" ry=\"18\"/>\n<text text-anchor=\"middle\" x=\"393.42\" y=\"-104.04\" font-family=\"Times,serif\" font-size=\"14.00\">1100</text>\n</g>\n<!-- 0010&#45;&gt;1100 -->\n<g id=\"edge4\" class=\"edge\">\n<title>0010-&gt;1100</title>\n<path fill=\"none\" stroke=\"black\" d=\"M328.81,-164.57C340.52,-154.45 356.47,-140.67 369.59,-129.33\"/>\n<polygon fill=\"black\" stroke=\"black\" points=\"372.05,-131.83 377.33,-122.65 367.47,-126.54 372.05,-131.83\"/>\n</g>\n<!-- sampleFile1.txt -->\n<g id=\"node3\" class=\"node\">\n<title>sampleFile1.txt</title>\n<ellipse fill=\"none\" stroke=\"black\" cx=\"71.42\" cy=\"-26.87\" rx=\"71.34\" ry=\"26.74\"/>\n<text text-anchor=\"middle\" x=\"71.42\" y=\"-30.67\" font-family=\"Times,serif\" font-size=\"14.00\">sampleFile1.txt</text>\n<text text-anchor=\"middle\" x=\"71.42\" y=\"-15.67\" font-family=\"Times,serif\" font-size=\"14.00\">1110</text>\n</g>\n<!-- 1011&#45;&gt;sampleFile1.txt -->\n<g id=\"edge2\" class=\"edge\">\n<title>1011-&gt;sampleFile1.txt</title>\n<path fill=\"none\" stroke=\"black\" d=\"M210.37,-95.94C187.99,-84.98 152.53,-67.6 123.03,-53.16\"/>\n<polygon fill=\"black\" stroke=\"black\" points=\"124.21,-49.84 113.69,-48.58 121.13,-56.12 124.21,-49.84\"/>\n</g>\n<!-- sampleFile2.txt -->\n<g id=\"node4\" class=\"node\">\n<title>sampleFile2.txt</title>\n<ellipse fill=\"none\" stroke=\"black\" cx=\"232.42\" cy=\"-26.87\" rx=\"71.34\" ry=\"26.74\"/>\n<text text-anchor=\"middle\" x=\"232.42\" y=\"-30.67\" font-family=\"Times,serif\" font-size=\"14.00\">sampleFile2.txt</text>\n<text text-anchor=\"middle\" x=\"232.42\" y=\"-15.67\" font-family=\"Times,serif\" font-size=\"14.00\">0001</text>\n</g>\n<!-- 1011&#45;&gt;sampleFile2.txt -->\n<g id=\"edge3\" class=\"edge\">\n<title>1011-&gt;sampleFile2.txt</title>\n<path fill=\"none\" stroke=\"black\" d=\"M232.42,-89.63C232.42,-82.14 232.42,-73.05 232.42,-64.17\"/>\n<polygon fill=\"black\" stroke=\"black\" points=\"235.92,-63.95 232.42,-53.95 228.92,-63.95 235.92,-63.95\"/>\n</g>\n<!-- sampleFile3.txt -->\n<g id=\"node6\" class=\"node\">\n<title>sampleFile3.txt</title>\n<ellipse fill=\"none\" stroke=\"black\" cx=\"393.42\" cy=\"-26.87\" rx=\"71.34\" ry=\"26.74\"/>\n<text text-anchor=\"middle\" x=\"393.42\" y=\"-30.67\" font-family=\"Times,serif\" font-size=\"14.00\">sampleFile3.txt</text>\n<text text-anchor=\"middle\" x=\"393.42\" y=\"-15.67\" font-family=\"Times,serif\" font-size=\"14.00\">1111</text>\n</g>\n<!-- 1100&#45;&gt;sampleFile3.txt -->\n<g id=\"edge5\" class=\"edge\">\n<title>1100-&gt;sampleFile3.txt</title>\n<path fill=\"none\" stroke=\"black\" d=\"M393.42,-89.63C393.42,-82.14 393.42,-73.05 393.42,-64.17\"/>\n<polygon fill=\"black\" stroke=\"black\" points=\"396.92,-63.95 393.42,-53.95 389.92,-63.95 396.92,-63.95\"/>\n</g>\n<!-- sampleFile4.txt -->\n<g id=\"node7\" class=\"node\">\n<title>sampleFile4.txt</title>\n<ellipse fill=\"none\" stroke=\"black\" cx=\"554.42\" cy=\"-26.87\" rx=\"71.34\" ry=\"26.74\"/>\n<text text-anchor=\"middle\" x=\"554.42\" y=\"-30.67\" font-family=\"Times,serif\" font-size=\"14.00\">sampleFile4.txt</text>\n<text text-anchor=\"middle\" x=\"554.42\" y=\"-15.67\" font-family=\"Times,serif\" font-size=\"14.00\">1110</text>\n</g>\n<!-- 1100&#45;&gt;sampleFile4.txt -->\n<g id=\"edge6\" class=\"edge\">\n<title>1100-&gt;sampleFile4.txt</title>\n<path fill=\"none\" stroke=\"black\" d=\"M415.47,-95.94C437.85,-84.98 473.31,-67.6 502.8,-53.16\"/>\n<polygon fill=\"black\" stroke=\"black\" points=\"504.7,-56.12 512.14,-48.58 501.62,-49.84 504.7,-56.12\"/>\n</g>\n</g>\n</svg>"
          },
          "metadata": {}
        }
      ],
      "source": [
        "# Define file names and contents\n",
        "fileData = {\n",
        "    \"sampleFile1.txt\": \"Sample Data 1.\",\n",
        "    \"sampleFile2.txt\": \"Sample Data 2.\",\n",
        "    \"sampleFile3.txt\": \"Sample Data 3.\",\n",
        "    \"sampleFile4.txt\": \"Sample Data 4.\"\n",
        "}\n",
        "\n",
        "savefile(fileData)\n",
        "\n",
        "# Build the Merkle tree with the fileData Object keys(Name)\n",
        "merkTree = buildMerkleTree4Bits(list(fileData.keys()))\n",
        "print('\\n')\n",
        "printTree(merkTree)\n",
        "# Visualize the Merkle tree\n",
        "visualizeTree(merkTree)"
      ]
    },
    {
      "cell_type": "markdown",
      "metadata": {
        "id": "i2xYWJvWwDyp"
      },
      "source": [
        "### 3.3 Attempt to generate multiple text files with identical meanings but different hashes by altering file contents (e.g., adding spaces)."
      ]
    },
    {
      "cell_type": "code",
      "execution_count": null,
      "metadata": {
        "colab": {
          "base_uri": "https://localhost:8080/",
          "height": 559
        },
        "id": "MqbSy-OYwW8D",
        "outputId": "4411ab18-9cc3-4aee-ef75-5399ba8e2097"
      },
      "outputs": [
        {
          "output_type": "stream",
          "name": "stdout",
          "text": [
            "File saved:  collisionFile0.txt\n",
            "File saved:  collisionFile1.txt\n",
            "File saved:  collisionFile2.txt\n",
            "File saved:  collisionFile3.txt\n",
            "\n",
            "\n",
            "Merkle Tree:\n",
            "Root Node: 1101:\n",
            "    Node: 1111\n",
            "        Leaf - collisionFile0.txt: 1100\n",
            "        Leaf - collisionFile1.txt: 0000\n",
            "    Node: 1010\n",
            "        Leaf - collisionFile2.txt: 0000\n",
            "        Leaf - collisionFile3.txt: 0001\n"
          ]
        },
        {
          "output_type": "display_data",
          "data": {
            "text/plain": [
              "<IPython.core.display.SVG object>"
            ],
            "image/svg+xml": "<svg xmlns=\"http://www.w3.org/2000/svg\" xmlns:xlink=\"http://www.w3.org/1999/xlink\" width=\"678pt\" height=\"206pt\" viewBox=\"0.00 0.00 678.15 205.74\">\n<g id=\"graph0\" class=\"graph\" transform=\"scale(1 1) rotate(0) translate(4 201.74)\">\n<title>%3</title>\n<polygon fill=\"white\" stroke=\"transparent\" points=\"-4,4 -4,-201.74 674.15,-201.74 674.15,4 -4,4\"/>\n<!-- 1101 -->\n<g id=\"node1\" class=\"node\">\n<title>1101</title>\n<ellipse fill=\"none\" stroke=\"black\" cx=\"335.07\" cy=\"-179.74\" rx=\"28.7\" ry=\"18\"/>\n<text text-anchor=\"middle\" x=\"335.07\" y=\"-176.04\" font-family=\"Times,serif\" font-size=\"14.00\">1101</text>\n</g>\n<!-- 1111 -->\n<g id=\"node2\" class=\"node\">\n<title>1111</title>\n<ellipse fill=\"none\" stroke=\"black\" cx=\"249.07\" cy=\"-107.74\" rx=\"28.7\" ry=\"18\"/>\n<text text-anchor=\"middle\" x=\"249.07\" y=\"-104.04\" font-family=\"Times,serif\" font-size=\"14.00\">1111</text>\n</g>\n<!-- 1101&#45;&gt;1111 -->\n<g id=\"edge1\" class=\"edge\">\n<title>1101-&gt;1111</title>\n<path fill=\"none\" stroke=\"black\" d=\"M318.08,-164.91C305.48,-154.65 288.1,-140.51 273.94,-128.98\"/>\n<polygon fill=\"black\" stroke=\"black\" points=\"276,-126.14 266.03,-122.54 271.58,-131.57 276,-126.14\"/>\n</g>\n<!-- 1010 -->\n<g id=\"node5\" class=\"node\">\n<title>1010</title>\n<ellipse fill=\"none\" stroke=\"black\" cx=\"421.07\" cy=\"-107.74\" rx=\"28.7\" ry=\"18\"/>\n<text text-anchor=\"middle\" x=\"421.07\" y=\"-104.04\" font-family=\"Times,serif\" font-size=\"14.00\">1010</text>\n</g>\n<!-- 1101&#45;&gt;1010 -->\n<g id=\"edge4\" class=\"edge\">\n<title>1101-&gt;1010</title>\n<path fill=\"none\" stroke=\"black\" d=\"M352.07,-164.91C364.67,-154.65 382.05,-140.51 396.21,-128.98\"/>\n<polygon fill=\"black\" stroke=\"black\" points=\"398.57,-131.57 404.12,-122.54 394.15,-126.14 398.57,-131.57\"/>\n</g>\n<!-- collisionFile0.txt -->\n<g id=\"node3\" class=\"node\">\n<title>collisionFile0.txt</title>\n<ellipse fill=\"none\" stroke=\"black\" cx=\"77.07\" cy=\"-26.87\" rx=\"77.15\" ry=\"26.74\"/>\n<text text-anchor=\"middle\" x=\"77.07\" y=\"-30.67\" font-family=\"Times,serif\" font-size=\"14.00\">collisionFile0.txt</text>\n<text text-anchor=\"middle\" x=\"77.07\" y=\"-15.67\" font-family=\"Times,serif\" font-size=\"14.00\">1100</text>\n</g>\n<!-- 1111&#45;&gt;collisionFile0.txt -->\n<g id=\"edge2\" class=\"edge\">\n<title>1111-&gt;collisionFile0.txt</title>\n<path fill=\"none\" stroke=\"black\" d=\"M226.59,-96.43C202.64,-85.45 163.83,-67.65 131.76,-52.95\"/>\n<polygon fill=\"black\" stroke=\"black\" points=\"133.03,-49.68 122.48,-48.69 130.11,-56.04 133.03,-49.68\"/>\n</g>\n<!-- collisionFile1.txt -->\n<g id=\"node4\" class=\"node\">\n<title>collisionFile1.txt</title>\n<ellipse fill=\"none\" stroke=\"black\" cx=\"249.07\" cy=\"-26.87\" rx=\"77.15\" ry=\"26.74\"/>\n<text text-anchor=\"middle\" x=\"249.07\" y=\"-30.67\" font-family=\"Times,serif\" font-size=\"14.00\">collisionFile1.txt</text>\n<text text-anchor=\"middle\" x=\"249.07\" y=\"-15.67\" font-family=\"Times,serif\" font-size=\"14.00\">0000</text>\n</g>\n<!-- 1111&#45;&gt;collisionFile1.txt -->\n<g id=\"edge3\" class=\"edge\">\n<title>1111-&gt;collisionFile1.txt</title>\n<path fill=\"none\" stroke=\"black\" d=\"M249.07,-89.63C249.07,-82.14 249.07,-73.05 249.07,-64.17\"/>\n<polygon fill=\"black\" stroke=\"black\" points=\"252.57,-63.95 249.07,-53.95 245.57,-63.95 252.57,-63.95\"/>\n</g>\n<!-- collisionFile2.txt -->\n<g id=\"node6\" class=\"node\">\n<title>collisionFile2.txt</title>\n<ellipse fill=\"none\" stroke=\"black\" cx=\"421.07\" cy=\"-26.87\" rx=\"77.15\" ry=\"26.74\"/>\n<text text-anchor=\"middle\" x=\"421.07\" y=\"-30.67\" font-family=\"Times,serif\" font-size=\"14.00\">collisionFile2.txt</text>\n<text text-anchor=\"middle\" x=\"421.07\" y=\"-15.67\" font-family=\"Times,serif\" font-size=\"14.00\">0000</text>\n</g>\n<!-- 1010&#45;&gt;collisionFile2.txt -->\n<g id=\"edge5\" class=\"edge\">\n<title>1010-&gt;collisionFile2.txt</title>\n<path fill=\"none\" stroke=\"black\" d=\"M421.07,-89.63C421.07,-82.14 421.07,-73.05 421.07,-64.17\"/>\n<polygon fill=\"black\" stroke=\"black\" points=\"424.57,-63.95 421.07,-53.95 417.57,-63.95 424.57,-63.95\"/>\n</g>\n<!-- collisionFile3.txt -->\n<g id=\"node7\" class=\"node\">\n<title>collisionFile3.txt</title>\n<ellipse fill=\"none\" stroke=\"black\" cx=\"593.07\" cy=\"-26.87\" rx=\"77.15\" ry=\"26.74\"/>\n<text text-anchor=\"middle\" x=\"593.07\" y=\"-30.67\" font-family=\"Times,serif\" font-size=\"14.00\">collisionFile3.txt</text>\n<text text-anchor=\"middle\" x=\"593.07\" y=\"-15.67\" font-family=\"Times,serif\" font-size=\"14.00\">0001</text>\n</g>\n<!-- 1010&#45;&gt;collisionFile3.txt -->\n<g id=\"edge6\" class=\"edge\">\n<title>1010-&gt;collisionFile3.txt</title>\n<path fill=\"none\" stroke=\"black\" d=\"M443.56,-96.43C467.51,-85.45 506.32,-67.65 538.39,-52.95\"/>\n<polygon fill=\"black\" stroke=\"black\" points=\"540.04,-56.04 547.67,-48.69 537.12,-49.68 540.04,-56.04\"/>\n</g>\n</g>\n</svg>"
          },
          "metadata": {}
        }
      ],
      "source": [
        "# Define file names and contents\n",
        "fileData = {}\n",
        "for i in range(4):\n",
        "  contents = f\"Sample Data {' ' * i}.\"\n",
        "  fileData[f\"collisionFile{i}.txt\"] = contents\n",
        "\n",
        "savefile(fileData)\n",
        "\n",
        "# Build the Merkle tree with the fileData Object keys(Name)\n",
        "merkTree = buildMerkleTree4Bits(list(fileData.keys()))\n",
        "print('\\n')\n",
        "printTree(merkTree)\n",
        "# Visualize the Merkle tree\n",
        "visualizeTree(merkTree)"
      ]
    },
    {
      "cell_type": "markdown",
      "metadata": {
        "id": "NG_ZIwQIyEIl"
      },
      "source": [
        "### 3.4 Find a hash collision among the text files using 4 bit hashes.\n",
        "\n",
        "Discuss how many such files need to be generated.\n",
        "\n",
        "(In liu of storing the data in files, the string contents will be hashed to save space on disk.)\n"
      ]
    },
    {
      "cell_type": "code",
      "execution_count": null,
      "metadata": {
        "colab": {
          "base_uri": "https://localhost:8080/"
        },
        "id": "NHony8bpyNHF",
        "outputId": "14a6fc92-948e-4324-f0e3-f6ff78360655"
      },
      "outputs": [
        {
          "output_type": "stream",
          "name": "stdout",
          "text": [
            "After 100 trials using 4 bit hashes, the average number of files needed to generate a collision is: 5.84\n"
          ]
        }
      ],
      "source": [
        "# given some contents, continiously append a space to the contentes until a collision is found\n",
        "def find_collision(contents:str, bits:int = 4):\n",
        "  hashes = {}\n",
        "\n",
        "  # Generating 3 different example cases\n",
        "  while True:\n",
        "    contents = contents + \" \"\n",
        "    hash = computeHash4Bits(contents.encode())\n",
        "    if hash in hashes:\n",
        "      break\n",
        "    hashes[hash] = contents\n",
        "\n",
        "  hash_collision = len(hashes) + 1\n",
        "  # print(f'The number of files needed to generate a collision is: {hash_collision}')\n",
        "  return hash_collision\n",
        "\n",
        "collision_counts = []\n",
        "trials = 100\n",
        "bits = 4\n",
        "for i in range(trials):\n",
        "  collision_counts.append(find_collision(f\"Sample Data {i}.\", bits))\n",
        "\n",
        "print(f'After {trials} trials using {bits} bit hashes, the average number of files needed to generate a collision is: {sum(collision_counts) / len(collision_counts)}')\n"
      ]
    },
    {
      "cell_type": "markdown",
      "source": [
        "Since a 4 bit hash only has 16 different values, the number of files needed to generate a collision is slightly less than 50% at 5.84 after 100 trials."
      ],
      "metadata": {
        "id": "ehsF38VGS2QL"
      }
    },
    {
      "cell_type": "markdown",
      "source": [
        "### 3.5 Discuss strategies for finding collisions with hashes ranging from 4-bit to 160-bit in length.\n",
        "\n",
        "For the 4 bit collision check at 2^4 or 16 different values, a brute force option is possible. When we extend the bits to 160, this becomes more complicated since the number of values that can be generated in 160 bits is enormous. At 160 bites (2^160) or we get 1.46 × 10^48 different values. Even at 50%, 2^80 or 1.2 × 10^24, is quite large number and brute forcing would take considerable time."
      ],
      "metadata": {
        "id": "SOBHKIBHQ0xT"
      }
    },
    {
      "cell_type": "markdown",
      "source": [
        "## 4.0 Hash Puzzle\n",
        "- Using the chosen hashing algorithm (4 bits output), solve hash puzzles by finding hashes with a leading 1 zero bit, and then 2 zero bits.\n",
        "- Briefly discuss the workload involved in solving a puzzle requiring a 20-bit zero prefix for the SHA256.\n",
        "\n",
        "\n",
        "\n",
        "a - hashing algorithm (4 bits output), solve hash puzzles by finding hashes with a leading 1 zero bit, and then 2 zero bits.\n",
        "\n"
      ],
      "metadata": {
        "id": "0IfAC4RPBNhl"
      }
    },
    {
      "cell_type": "code",
      "source": [
        "import hashlib\n",
        "\n",
        "def computeHash4Bits(data):\n",
        "    # First compute a standard hash (SHA-256)\n",
        "    full_hash = hashlib.sha256(data).hexdigest()\n",
        "    # Then take just the first character (4 bits) of the hex representation\n",
        "    first_char = full_hash[0]\n",
        "    # Convert to binary (4 bits) and remove the '0b' prefix\n",
        "    binary_4bits = bin(int(first_char, 16))[2:].zfill(4)\n",
        "    return binary_4bits\n",
        "\n",
        "def solve_hash_puzzle(message, target_bits=1):\n",
        "    nonce = 0\n",
        "    iteration = 0\n",
        "    while True:\n",
        "        data = f\"{message}{nonce}\".encode()\n",
        "        hash_value = computeHash4Bits(data)\n",
        "\n",
        "        # Check if the most significant bits are 0\n",
        "        if hash_value.startswith('0' * target_bits):\n",
        "            return iteration, nonce, hash_value\n",
        "\n",
        "        nonce += 1\n",
        "        iteration += 1\n",
        "\n",
        "# Test cases\n",
        "message = \"Hello\"\n",
        "\n",
        "# 1 leading zero\n",
        "iterations, nonce, valid_hash = solve_hash_puzzle(message, target_bits=1)\n",
        "print(f\"Solution for 1 leading zero bit:\")\n",
        "print(f\"Iterations: {iterations}\")\n",
        "print(f\"Valid nonce: {nonce}\")\n",
        "print(f\"Hash: {valid_hash} (binary)\")\n",
        "\n",
        "# 2 leading zeros\n",
        "iterations, nonce, valid_hash = solve_hash_puzzle(message, target_bits=2)\n",
        "print(f\"\\nSolution for 2 leading zero bits:\")\n",
        "print(f\"Iterations: {iterations}\")\n",
        "print(f\"Valid nonce: {nonce}\")\n",
        "print(f\"Hash: {valid_hash} (binary)\")"
      ],
      "metadata": {
        "colab": {
          "base_uri": "https://localhost:8080/"
        },
        "id": "-Rnzktz6Xs2h",
        "outputId": "aa2127d7-c7ba-49df-f9d3-e3e389363d85"
      },
      "execution_count": null,
      "outputs": [
        {
          "output_type": "stream",
          "name": "stdout",
          "text": [
            "Solution for 1 leading zero bit:\n",
            "Iterations: 3\n",
            "Valid nonce: 3\n",
            "Hash: 0000 (binary)\n",
            "\n",
            "Solution for 2 leading zero bits:\n",
            "Iterations: 3\n",
            "Valid nonce: 3\n",
            "Hash: 0000 (binary)\n"
          ]
        }
      ]
    },
    {
      "cell_type": "markdown",
      "source": [
        "\n",
        "\n",
        "b -   Discussing Workload for SHA256 with a 20-bit Zero Prefix\n",
        "\n",
        "To find a hash that starts with 20 zero bits, we need to try many different inputs which by using a brute-forcing.\n",
        "\n",
        "we need the first 20 bits to all be 0 (e.g., 00000000000000000000 followed by 236 other bits).\n",
        "\n",
        "For each extra bit of 0, the number of tries doubles.\n",
        "\n",
        "1 zero bit → ~2 tries\n",
        "\n",
        "2 zero bits → ~4 tries\n",
        "\n",
        "3 zero bits → ~8 tries\n",
        "\n",
        ".\n",
        "\n",
        ".\n",
        "\n",
        ".\n",
        "\n",
        "20 zero bits → ~2²⁰ = 1,048,576 tries on average!\n",
        "\n",
        "Solving a SHA-256 hash puzzle that requires a 20-bit leading zero is computationally demanding. Statistically, you'd have to try around 2²⁰ different inputs—roughly 1,048,576 attempts—since only one out of every 2²⁰ hashes will begin with that many zeros. If the system can process a million hashes each second, it could take about a second to find a match, although actual time varies based on processing speed and chance. The difficulty increases rapidly as more leading zeros are required, turning the task into an exponential brute-force problem that demands considerable computing resources.\n",
        "\n",
        "\n",
        "\n"
      ],
      "metadata": {
        "id": "zPYmIykRYDr9"
      }
    }
  ],
  "metadata": {
    "colab": {
      "provenance": []
    },
    "kernelspec": {
      "display_name": "Python 3",
      "name": "python3"
    },
    "language_info": {
      "name": "python"
    }
  },
  "nbformat": 4,
  "nbformat_minor": 0
}