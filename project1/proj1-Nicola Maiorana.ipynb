{
 "cells": [
  {
   "metadata": {},
   "cell_type": "markdown",
   "source": [
    "\n",
    "# CS-GY 6903 Applied Cryptography\n",
    "## Project 1\n",
    "### Nicola Maiorana (nam10102)\n",
    "### Spring 2025, NYU Tandon School of Engineering\n",
    "\n",
    "Submission\n",
    "1. Project report using PDF format (proj1_your_name.pdf).\n",
    "    - Ensure that your submission is clear, well-organized, and comprehensively covers all aspects of the assignment.\n",
    "    - Use appropriate headings and mark the problem numbers clearly for easy reference.\n",
    "    - May include codes in the report. Students still need to submit the Jupyter Notebook.\n",
    "2. Jupyter Notebook (proj1-Your_name.ipynb)\n",
    "    - Students shall use Jupyter Notebook for the coding.\n",
    "    - The Jupyter Notebook file shall contain all the coding solutions. It should be well-commented, indicating what each segment does, and should correspond to the problems as numbered in the assignment.\n",
    "    - Ensure that the notebook is executable without errors and that the outputs of your code are visible. For example, add all the pip install statements in a code box at the top of your ipynb notebook if they are not installed already in the CA’s machine.\n"
   ],
   "id": "810d07d6991503ac"
  },
  {
   "metadata": {},
   "cell_type": "markdown",
   "source": "## Install the required modules",
   "id": "cd4b37331990bb51"
  },
  {
   "metadata": {
    "ExecuteTime": {
     "end_time": "2025-02-05T20:28:29.998391Z",
     "start_time": "2025-02-05T20:27:44.672300Z"
    }
   },
   "cell_type": "code",
   "source": [
    "!pip install jupyter==1.1.1\n",
    "!pip install notebook==7.3.2\n",
    "!pip install matplotlib==3.10.0\n"
   ],
   "id": "844008369cfc7d82",
   "outputs": [
    {
     "name": "stdout",
     "output_type": "stream",
     "text": [
      "Requirement already satisfied: jupyter==1.1.1 in c:\\users\\nmaiorana\\anaconda3\\envs\\csgy6903appliedcryptography\\lib\\site-packages (1.1.1)\n",
      "Requirement already satisfied: notebook in c:\\users\\nmaiorana\\anaconda3\\envs\\csgy6903appliedcryptography\\lib\\site-packages (from jupyter==1.1.1) (7.3.2)\n",
      "Requirement already satisfied: jupyter-console in c:\\users\\nmaiorana\\anaconda3\\envs\\csgy6903appliedcryptography\\lib\\site-packages (from jupyter==1.1.1) (6.6.3)\n",
      "Requirement already satisfied: nbconvert in c:\\users\\nmaiorana\\anaconda3\\envs\\csgy6903appliedcryptography\\lib\\site-packages (from jupyter==1.1.1) (7.16.5)\n",
      "Requirement already satisfied: ipykernel in c:\\users\\nmaiorana\\anaconda3\\envs\\csgy6903appliedcryptography\\lib\\site-packages (from jupyter==1.1.1) (6.29.5)\n",
      "Requirement already satisfied: ipywidgets in c:\\users\\nmaiorana\\anaconda3\\envs\\csgy6903appliedcryptography\\lib\\site-packages (from jupyter==1.1.1) (8.1.5)\n",
      "Requirement already satisfied: jupyterlab in c:\\users\\nmaiorana\\anaconda3\\envs\\csgy6903appliedcryptography\\lib\\site-packages (from jupyter==1.1.1) (4.3.4)\n",
      "Requirement already satisfied: comm>=0.1.1 in c:\\users\\nmaiorana\\anaconda3\\envs\\csgy6903appliedcryptography\\lib\\site-packages (from ipykernel->jupyter==1.1.1) (0.2.2)\n",
      "Requirement already satisfied: debugpy>=1.6.5 in c:\\users\\nmaiorana\\anaconda3\\envs\\csgy6903appliedcryptography\\lib\\site-packages (from ipykernel->jupyter==1.1.1) (1.8.12)\n",
      "Requirement already satisfied: ipython>=7.23.1 in c:\\users\\nmaiorana\\anaconda3\\envs\\csgy6903appliedcryptography\\lib\\site-packages (from ipykernel->jupyter==1.1.1) (8.31.0)\n",
      "Requirement already satisfied: jupyter-client>=6.1.12 in c:\\users\\nmaiorana\\anaconda3\\envs\\csgy6903appliedcryptography\\lib\\site-packages (from ipykernel->jupyter==1.1.1) (8.6.3)\n",
      "Requirement already satisfied: jupyter-core!=5.0.*,>=4.12 in c:\\users\\nmaiorana\\anaconda3\\envs\\csgy6903appliedcryptography\\lib\\site-packages (from ipykernel->jupyter==1.1.1) (5.7.2)\n",
      "Requirement already satisfied: matplotlib-inline>=0.1 in c:\\users\\nmaiorana\\anaconda3\\envs\\csgy6903appliedcryptography\\lib\\site-packages (from ipykernel->jupyter==1.1.1) (0.1.7)\n",
      "Requirement already satisfied: nest-asyncio in c:\\users\\nmaiorana\\anaconda3\\envs\\csgy6903appliedcryptography\\lib\\site-packages (from ipykernel->jupyter==1.1.1) (1.6.0)\n",
      "Requirement already satisfied: packaging in c:\\users\\nmaiorana\\anaconda3\\envs\\csgy6903appliedcryptography\\lib\\site-packages (from ipykernel->jupyter==1.1.1) (24.2)\n",
      "Requirement already satisfied: psutil in c:\\users\\nmaiorana\\anaconda3\\envs\\csgy6903appliedcryptography\\lib\\site-packages (from ipykernel->jupyter==1.1.1) (6.1.1)\n",
      "Requirement already satisfied: pyzmq>=24 in c:\\users\\nmaiorana\\anaconda3\\envs\\csgy6903appliedcryptography\\lib\\site-packages (from ipykernel->jupyter==1.1.1) (26.2.0)\n",
      "Requirement already satisfied: tornado>=6.1 in c:\\users\\nmaiorana\\anaconda3\\envs\\csgy6903appliedcryptography\\lib\\site-packages (from ipykernel->jupyter==1.1.1) (6.4.2)\n",
      "Requirement already satisfied: traitlets>=5.4.0 in c:\\users\\nmaiorana\\anaconda3\\envs\\csgy6903appliedcryptography\\lib\\site-packages (from ipykernel->jupyter==1.1.1) (5.14.3)\n",
      "Requirement already satisfied: widgetsnbextension~=4.0.12 in c:\\users\\nmaiorana\\anaconda3\\envs\\csgy6903appliedcryptography\\lib\\site-packages (from ipywidgets->jupyter==1.1.1) (4.0.13)\n",
      "Requirement already satisfied: jupyterlab-widgets~=3.0.12 in c:\\users\\nmaiorana\\anaconda3\\envs\\csgy6903appliedcryptography\\lib\\site-packages (from ipywidgets->jupyter==1.1.1) (3.0.13)\n",
      "Requirement already satisfied: prompt-toolkit>=3.0.30 in c:\\users\\nmaiorana\\anaconda3\\envs\\csgy6903appliedcryptography\\lib\\site-packages (from jupyter-console->jupyter==1.1.1) (3.0.50)\n",
      "Requirement already satisfied: pygments in c:\\users\\nmaiorana\\anaconda3\\envs\\csgy6903appliedcryptography\\lib\\site-packages (from jupyter-console->jupyter==1.1.1) (2.19.1)\n",
      "Requirement already satisfied: async-lru>=1.0.0 in c:\\users\\nmaiorana\\anaconda3\\envs\\csgy6903appliedcryptography\\lib\\site-packages (from jupyterlab->jupyter==1.1.1) (2.0.4)\n",
      "Requirement already satisfied: httpx>=0.25.0 in c:\\users\\nmaiorana\\anaconda3\\envs\\csgy6903appliedcryptography\\lib\\site-packages (from jupyterlab->jupyter==1.1.1) (0.28.1)\n",
      "Requirement already satisfied: jinja2>=3.0.3 in c:\\users\\nmaiorana\\anaconda3\\envs\\csgy6903appliedcryptography\\lib\\site-packages (from jupyterlab->jupyter==1.1.1) (3.1.5)\n",
      "Requirement already satisfied: jupyter-lsp>=2.0.0 in c:\\users\\nmaiorana\\anaconda3\\envs\\csgy6903appliedcryptography\\lib\\site-packages (from jupyterlab->jupyter==1.1.1) (2.2.5)\n",
      "Requirement already satisfied: jupyter-server<3,>=2.4.0 in c:\\users\\nmaiorana\\anaconda3\\envs\\csgy6903appliedcryptography\\lib\\site-packages (from jupyterlab->jupyter==1.1.1) (2.15.0)\n",
      "Requirement already satisfied: jupyterlab-server<3,>=2.27.1 in c:\\users\\nmaiorana\\anaconda3\\envs\\csgy6903appliedcryptography\\lib\\site-packages (from jupyterlab->jupyter==1.1.1) (2.27.3)\n",
      "Requirement already satisfied: notebook-shim>=0.2 in c:\\users\\nmaiorana\\anaconda3\\envs\\csgy6903appliedcryptography\\lib\\site-packages (from jupyterlab->jupyter==1.1.1) (0.2.4)\n",
      "Requirement already satisfied: setuptools>=40.8.0 in c:\\users\\nmaiorana\\anaconda3\\envs\\csgy6903appliedcryptography\\lib\\site-packages (from jupyterlab->jupyter==1.1.1) (75.8.0)\n",
      "Requirement already satisfied: beautifulsoup4 in c:\\users\\nmaiorana\\anaconda3\\envs\\csgy6903appliedcryptography\\lib\\site-packages (from nbconvert->jupyter==1.1.1) (4.12.3)\n",
      "Requirement already satisfied: bleach!=5.0.0 in c:\\users\\nmaiorana\\anaconda3\\envs\\csgy6903appliedcryptography\\lib\\site-packages (from bleach[css]!=5.0.0->nbconvert->jupyter==1.1.1) (6.2.0)\n",
      "Requirement already satisfied: defusedxml in c:\\users\\nmaiorana\\anaconda3\\envs\\csgy6903appliedcryptography\\lib\\site-packages (from nbconvert->jupyter==1.1.1) (0.7.1)\n",
      "Requirement already satisfied: jupyterlab-pygments in c:\\users\\nmaiorana\\anaconda3\\envs\\csgy6903appliedcryptography\\lib\\site-packages (from nbconvert->jupyter==1.1.1) (0.3.0)\n",
      "Requirement already satisfied: markupsafe>=2.0 in c:\\users\\nmaiorana\\anaconda3\\envs\\csgy6903appliedcryptography\\lib\\site-packages (from nbconvert->jupyter==1.1.1) (3.0.2)\n",
      "Requirement already satisfied: mistune<4,>=2.0.3 in c:\\users\\nmaiorana\\anaconda3\\envs\\csgy6903appliedcryptography\\lib\\site-packages (from nbconvert->jupyter==1.1.1) (3.1.0)\n",
      "Requirement already satisfied: nbclient>=0.5.0 in c:\\users\\nmaiorana\\anaconda3\\envs\\csgy6903appliedcryptography\\lib\\site-packages (from nbconvert->jupyter==1.1.1) (0.10.2)\n",
      "Requirement already satisfied: nbformat>=5.7 in c:\\users\\nmaiorana\\anaconda3\\envs\\csgy6903appliedcryptography\\lib\\site-packages (from nbconvert->jupyter==1.1.1) (5.10.4)\n",
      "Requirement already satisfied: pandocfilters>=1.4.1 in c:\\users\\nmaiorana\\anaconda3\\envs\\csgy6903appliedcryptography\\lib\\site-packages (from nbconvert->jupyter==1.1.1) (1.5.1)\n",
      "Requirement already satisfied: webencodings in c:\\users\\nmaiorana\\anaconda3\\envs\\csgy6903appliedcryptography\\lib\\site-packages (from bleach!=5.0.0->bleach[css]!=5.0.0->nbconvert->jupyter==1.1.1) (0.5.1)\n",
      "Requirement already satisfied: tinycss2<1.5,>=1.1.0 in c:\\users\\nmaiorana\\anaconda3\\envs\\csgy6903appliedcryptography\\lib\\site-packages (from bleach[css]!=5.0.0->nbconvert->jupyter==1.1.1) (1.4.0)\n",
      "Requirement already satisfied: anyio in c:\\users\\nmaiorana\\anaconda3\\envs\\csgy6903appliedcryptography\\lib\\site-packages (from httpx>=0.25.0->jupyterlab->jupyter==1.1.1) (4.8.0)\n",
      "Requirement already satisfied: certifi in c:\\users\\nmaiorana\\anaconda3\\envs\\csgy6903appliedcryptography\\lib\\site-packages (from httpx>=0.25.0->jupyterlab->jupyter==1.1.1) (2024.12.14)\n",
      "Requirement already satisfied: httpcore==1.* in c:\\users\\nmaiorana\\anaconda3\\envs\\csgy6903appliedcryptography\\lib\\site-packages (from httpx>=0.25.0->jupyterlab->jupyter==1.1.1) (1.0.7)\n",
      "Requirement already satisfied: idna in c:\\users\\nmaiorana\\anaconda3\\envs\\csgy6903appliedcryptography\\lib\\site-packages (from httpx>=0.25.0->jupyterlab->jupyter==1.1.1) (3.10)\n",
      "Requirement already satisfied: h11<0.15,>=0.13 in c:\\users\\nmaiorana\\anaconda3\\envs\\csgy6903appliedcryptography\\lib\\site-packages (from httpcore==1.*->httpx>=0.25.0->jupyterlab->jupyter==1.1.1) (0.14.0)\n",
      "Requirement already satisfied: colorama in c:\\users\\nmaiorana\\anaconda3\\envs\\csgy6903appliedcryptography\\lib\\site-packages (from ipython>=7.23.1->ipykernel->jupyter==1.1.1) (0.4.6)\n",
      "Requirement already satisfied: decorator in c:\\users\\nmaiorana\\anaconda3\\envs\\csgy6903appliedcryptography\\lib\\site-packages (from ipython>=7.23.1->ipykernel->jupyter==1.1.1) (5.1.1)\n",
      "Requirement already satisfied: jedi>=0.16 in c:\\users\\nmaiorana\\anaconda3\\envs\\csgy6903appliedcryptography\\lib\\site-packages (from ipython>=7.23.1->ipykernel->jupyter==1.1.1) (0.19.2)\n",
      "Requirement already satisfied: stack_data in c:\\users\\nmaiorana\\anaconda3\\envs\\csgy6903appliedcryptography\\lib\\site-packages (from ipython>=7.23.1->ipykernel->jupyter==1.1.1) (0.6.3)\n",
      "Requirement already satisfied: python-dateutil>=2.8.2 in c:\\users\\nmaiorana\\anaconda3\\envs\\csgy6903appliedcryptography\\lib\\site-packages (from jupyter-client>=6.1.12->ipykernel->jupyter==1.1.1) (2.9.0.post0)\n",
      "Requirement already satisfied: platformdirs>=2.5 in c:\\users\\nmaiorana\\anaconda3\\envs\\csgy6903appliedcryptography\\lib\\site-packages (from jupyter-core!=5.0.*,>=4.12->ipykernel->jupyter==1.1.1) (4.3.6)\n",
      "Requirement already satisfied: pywin32>=300 in c:\\users\\nmaiorana\\anaconda3\\envs\\csgy6903appliedcryptography\\lib\\site-packages (from jupyter-core!=5.0.*,>=4.12->ipykernel->jupyter==1.1.1) (308)\n",
      "Requirement already satisfied: argon2-cffi>=21.1 in c:\\users\\nmaiorana\\anaconda3\\envs\\csgy6903appliedcryptography\\lib\\site-packages (from jupyter-server<3,>=2.4.0->jupyterlab->jupyter==1.1.1) (23.1.0)\n",
      "Requirement already satisfied: jupyter-events>=0.11.0 in c:\\users\\nmaiorana\\anaconda3\\envs\\csgy6903appliedcryptography\\lib\\site-packages (from jupyter-server<3,>=2.4.0->jupyterlab->jupyter==1.1.1) (0.11.0)\n",
      "Requirement already satisfied: jupyter-server-terminals>=0.4.4 in c:\\users\\nmaiorana\\anaconda3\\envs\\csgy6903appliedcryptography\\lib\\site-packages (from jupyter-server<3,>=2.4.0->jupyterlab->jupyter==1.1.1) (0.5.3)\n",
      "Requirement already satisfied: overrides>=5.0 in c:\\users\\nmaiorana\\anaconda3\\envs\\csgy6903appliedcryptography\\lib\\site-packages (from jupyter-server<3,>=2.4.0->jupyterlab->jupyter==1.1.1) (7.7.0)\n",
      "Requirement already satisfied: prometheus-client>=0.9 in c:\\users\\nmaiorana\\anaconda3\\envs\\csgy6903appliedcryptography\\lib\\site-packages (from jupyter-server<3,>=2.4.0->jupyterlab->jupyter==1.1.1) (0.21.1)\n",
      "Requirement already satisfied: pywinpty>=2.0.1 in c:\\users\\nmaiorana\\anaconda3\\envs\\csgy6903appliedcryptography\\lib\\site-packages (from jupyter-server<3,>=2.4.0->jupyterlab->jupyter==1.1.1) (2.0.14)\n",
      "Requirement already satisfied: send2trash>=1.8.2 in c:\\users\\nmaiorana\\anaconda3\\envs\\csgy6903appliedcryptography\\lib\\site-packages (from jupyter-server<3,>=2.4.0->jupyterlab->jupyter==1.1.1) (1.8.3)\n",
      "Requirement already satisfied: terminado>=0.8.3 in c:\\users\\nmaiorana\\anaconda3\\envs\\csgy6903appliedcryptography\\lib\\site-packages (from jupyter-server<3,>=2.4.0->jupyterlab->jupyter==1.1.1) (0.18.1)\n",
      "Requirement already satisfied: websocket-client>=1.7 in c:\\users\\nmaiorana\\anaconda3\\envs\\csgy6903appliedcryptography\\lib\\site-packages (from jupyter-server<3,>=2.4.0->jupyterlab->jupyter==1.1.1) (1.8.0)\n",
      "Requirement already satisfied: babel>=2.10 in c:\\users\\nmaiorana\\anaconda3\\envs\\csgy6903appliedcryptography\\lib\\site-packages (from jupyterlab-server<3,>=2.27.1->jupyterlab->jupyter==1.1.1) (2.16.0)\n",
      "Requirement already satisfied: json5>=0.9.0 in c:\\users\\nmaiorana\\anaconda3\\envs\\csgy6903appliedcryptography\\lib\\site-packages (from jupyterlab-server<3,>=2.27.1->jupyterlab->jupyter==1.1.1) (0.10.0)\n",
      "Requirement already satisfied: jsonschema>=4.18.0 in c:\\users\\nmaiorana\\anaconda3\\envs\\csgy6903appliedcryptography\\lib\\site-packages (from jupyterlab-server<3,>=2.27.1->jupyterlab->jupyter==1.1.1) (4.23.0)\n",
      "Requirement already satisfied: requests>=2.31 in c:\\users\\nmaiorana\\anaconda3\\envs\\csgy6903appliedcryptography\\lib\\site-packages (from jupyterlab-server<3,>=2.27.1->jupyterlab->jupyter==1.1.1) (2.32.3)\n",
      "Requirement already satisfied: fastjsonschema>=2.15 in c:\\users\\nmaiorana\\anaconda3\\envs\\csgy6903appliedcryptography\\lib\\site-packages (from nbformat>=5.7->nbconvert->jupyter==1.1.1) (2.21.1)\n",
      "Requirement already satisfied: wcwidth in c:\\users\\nmaiorana\\anaconda3\\envs\\csgy6903appliedcryptography\\lib\\site-packages (from prompt-toolkit>=3.0.30->jupyter-console->jupyter==1.1.1) (0.2.13)\n",
      "Requirement already satisfied: soupsieve>1.2 in c:\\users\\nmaiorana\\anaconda3\\envs\\csgy6903appliedcryptography\\lib\\site-packages (from beautifulsoup4->nbconvert->jupyter==1.1.1) (2.6)\n",
      "Requirement already satisfied: sniffio>=1.1 in c:\\users\\nmaiorana\\anaconda3\\envs\\csgy6903appliedcryptography\\lib\\site-packages (from anyio->httpx>=0.25.0->jupyterlab->jupyter==1.1.1) (1.3.1)\n",
      "Requirement already satisfied: argon2-cffi-bindings in c:\\users\\nmaiorana\\anaconda3\\envs\\csgy6903appliedcryptography\\lib\\site-packages (from argon2-cffi>=21.1->jupyter-server<3,>=2.4.0->jupyterlab->jupyter==1.1.1) (21.2.0)\n",
      "Requirement already satisfied: parso<0.9.0,>=0.8.4 in c:\\users\\nmaiorana\\anaconda3\\envs\\csgy6903appliedcryptography\\lib\\site-packages (from jedi>=0.16->ipython>=7.23.1->ipykernel->jupyter==1.1.1) (0.8.4)\n",
      "Requirement already satisfied: attrs>=22.2.0 in c:\\users\\nmaiorana\\anaconda3\\envs\\csgy6903appliedcryptography\\lib\\site-packages (from jsonschema>=4.18.0->jupyterlab-server<3,>=2.27.1->jupyterlab->jupyter==1.1.1) (24.3.0)\n",
      "Requirement already satisfied: jsonschema-specifications>=2023.03.6 in c:\\users\\nmaiorana\\anaconda3\\envs\\csgy6903appliedcryptography\\lib\\site-packages (from jsonschema>=4.18.0->jupyterlab-server<3,>=2.27.1->jupyterlab->jupyter==1.1.1) (2024.10.1)\n",
      "Requirement already satisfied: referencing>=0.28.4 in c:\\users\\nmaiorana\\anaconda3\\envs\\csgy6903appliedcryptography\\lib\\site-packages (from jsonschema>=4.18.0->jupyterlab-server<3,>=2.27.1->jupyterlab->jupyter==1.1.1) (0.36.1)\n",
      "Requirement already satisfied: rpds-py>=0.7.1 in c:\\users\\nmaiorana\\anaconda3\\envs\\csgy6903appliedcryptography\\lib\\site-packages (from jsonschema>=4.18.0->jupyterlab-server<3,>=2.27.1->jupyterlab->jupyter==1.1.1) (0.22.3)\n",
      "Requirement already satisfied: python-json-logger>=2.0.4 in c:\\users\\nmaiorana\\anaconda3\\envs\\csgy6903appliedcryptography\\lib\\site-packages (from jupyter-events>=0.11.0->jupyter-server<3,>=2.4.0->jupyterlab->jupyter==1.1.1) (3.2.1)\n",
      "Requirement already satisfied: pyyaml>=5.3 in c:\\users\\nmaiorana\\anaconda3\\envs\\csgy6903appliedcryptography\\lib\\site-packages (from jupyter-events>=0.11.0->jupyter-server<3,>=2.4.0->jupyterlab->jupyter==1.1.1) (6.0.2)\n",
      "Requirement already satisfied: rfc3339-validator in c:\\users\\nmaiorana\\anaconda3\\envs\\csgy6903appliedcryptography\\lib\\site-packages (from jupyter-events>=0.11.0->jupyter-server<3,>=2.4.0->jupyterlab->jupyter==1.1.1) (0.1.4)\n",
      "Requirement already satisfied: rfc3986-validator>=0.1.1 in c:\\users\\nmaiorana\\anaconda3\\envs\\csgy6903appliedcryptography\\lib\\site-packages (from jupyter-events>=0.11.0->jupyter-server<3,>=2.4.0->jupyterlab->jupyter==1.1.1) (0.1.1)\n",
      "Requirement already satisfied: six>=1.5 in c:\\users\\nmaiorana\\anaconda3\\envs\\csgy6903appliedcryptography\\lib\\site-packages (from python-dateutil>=2.8.2->jupyter-client>=6.1.12->ipykernel->jupyter==1.1.1) (1.17.0)\n",
      "Requirement already satisfied: charset-normalizer<4,>=2 in c:\\users\\nmaiorana\\anaconda3\\envs\\csgy6903appliedcryptography\\lib\\site-packages (from requests>=2.31->jupyterlab-server<3,>=2.27.1->jupyterlab->jupyter==1.1.1) (3.4.1)\n",
      "Requirement already satisfied: urllib3<3,>=1.21.1 in c:\\users\\nmaiorana\\anaconda3\\envs\\csgy6903appliedcryptography\\lib\\site-packages (from requests>=2.31->jupyterlab-server<3,>=2.27.1->jupyterlab->jupyter==1.1.1) (2.3.0)\n",
      "Requirement already satisfied: executing>=1.2.0 in c:\\users\\nmaiorana\\anaconda3\\envs\\csgy6903appliedcryptography\\lib\\site-packages (from stack_data->ipython>=7.23.1->ipykernel->jupyter==1.1.1) (2.2.0)\n",
      "Requirement already satisfied: asttokens>=2.1.0 in c:\\users\\nmaiorana\\anaconda3\\envs\\csgy6903appliedcryptography\\lib\\site-packages (from stack_data->ipython>=7.23.1->ipykernel->jupyter==1.1.1) (3.0.0)\n",
      "Requirement already satisfied: pure-eval in c:\\users\\nmaiorana\\anaconda3\\envs\\csgy6903appliedcryptography\\lib\\site-packages (from stack_data->ipython>=7.23.1->ipykernel->jupyter==1.1.1) (0.2.3)\n",
      "Requirement already satisfied: fqdn in c:\\users\\nmaiorana\\anaconda3\\envs\\csgy6903appliedcryptography\\lib\\site-packages (from jsonschema[format-nongpl]>=4.18.0->jupyter-events>=0.11.0->jupyter-server<3,>=2.4.0->jupyterlab->jupyter==1.1.1) (1.5.1)\n",
      "Requirement already satisfied: isoduration in c:\\users\\nmaiorana\\anaconda3\\envs\\csgy6903appliedcryptography\\lib\\site-packages (from jsonschema[format-nongpl]>=4.18.0->jupyter-events>=0.11.0->jupyter-server<3,>=2.4.0->jupyterlab->jupyter==1.1.1) (20.11.0)\n",
      "Requirement already satisfied: jsonpointer>1.13 in c:\\users\\nmaiorana\\anaconda3\\envs\\csgy6903appliedcryptography\\lib\\site-packages (from jsonschema[format-nongpl]>=4.18.0->jupyter-events>=0.11.0->jupyter-server<3,>=2.4.0->jupyterlab->jupyter==1.1.1) (3.0.0)\n",
      "Requirement already satisfied: uri-template in c:\\users\\nmaiorana\\anaconda3\\envs\\csgy6903appliedcryptography\\lib\\site-packages (from jsonschema[format-nongpl]>=4.18.0->jupyter-events>=0.11.0->jupyter-server<3,>=2.4.0->jupyterlab->jupyter==1.1.1) (1.3.0)\n",
      "Requirement already satisfied: webcolors>=24.6.0 in c:\\users\\nmaiorana\\anaconda3\\envs\\csgy6903appliedcryptography\\lib\\site-packages (from jsonschema[format-nongpl]>=4.18.0->jupyter-events>=0.11.0->jupyter-server<3,>=2.4.0->jupyterlab->jupyter==1.1.1) (24.11.1)\n",
      "Requirement already satisfied: cffi>=1.0.1 in c:\\users\\nmaiorana\\anaconda3\\envs\\csgy6903appliedcryptography\\lib\\site-packages (from argon2-cffi-bindings->argon2-cffi>=21.1->jupyter-server<3,>=2.4.0->jupyterlab->jupyter==1.1.1) (1.17.1)\n",
      "Requirement already satisfied: pycparser in c:\\users\\nmaiorana\\anaconda3\\envs\\csgy6903appliedcryptography\\lib\\site-packages (from cffi>=1.0.1->argon2-cffi-bindings->argon2-cffi>=21.1->jupyter-server<3,>=2.4.0->jupyterlab->jupyter==1.1.1) (2.22)\n",
      "Requirement already satisfied: arrow>=0.15.0 in c:\\users\\nmaiorana\\anaconda3\\envs\\csgy6903appliedcryptography\\lib\\site-packages (from isoduration->jsonschema[format-nongpl]>=4.18.0->jupyter-events>=0.11.0->jupyter-server<3,>=2.4.0->jupyterlab->jupyter==1.1.1) (1.3.0)\n",
      "Requirement already satisfied: types-python-dateutil>=2.8.10 in c:\\users\\nmaiorana\\anaconda3\\envs\\csgy6903appliedcryptography\\lib\\site-packages (from arrow>=0.15.0->isoduration->jsonschema[format-nongpl]>=4.18.0->jupyter-events>=0.11.0->jupyter-server<3,>=2.4.0->jupyterlab->jupyter==1.1.1) (2.9.0.20241206)\n",
      "Requirement already satisfied: notebook==7.3.2 in c:\\users\\nmaiorana\\anaconda3\\envs\\csgy6903appliedcryptography\\lib\\site-packages (7.3.2)\n",
      "Requirement already satisfied: jupyter-server<3,>=2.4.0 in c:\\users\\nmaiorana\\anaconda3\\envs\\csgy6903appliedcryptography\\lib\\site-packages (from notebook==7.3.2) (2.15.0)\n",
      "Requirement already satisfied: jupyterlab-server<3,>=2.27.1 in c:\\users\\nmaiorana\\anaconda3\\envs\\csgy6903appliedcryptography\\lib\\site-packages (from notebook==7.3.2) (2.27.3)\n",
      "Requirement already satisfied: jupyterlab<4.4,>=4.3.4 in c:\\users\\nmaiorana\\anaconda3\\envs\\csgy6903appliedcryptography\\lib\\site-packages (from notebook==7.3.2) (4.3.4)\n",
      "Requirement already satisfied: notebook-shim<0.3,>=0.2 in c:\\users\\nmaiorana\\anaconda3\\envs\\csgy6903appliedcryptography\\lib\\site-packages (from notebook==7.3.2) (0.2.4)\n",
      "Requirement already satisfied: tornado>=6.2.0 in c:\\users\\nmaiorana\\anaconda3\\envs\\csgy6903appliedcryptography\\lib\\site-packages (from notebook==7.3.2) (6.4.2)\n",
      "Requirement already satisfied: anyio>=3.1.0 in c:\\users\\nmaiorana\\anaconda3\\envs\\csgy6903appliedcryptography\\lib\\site-packages (from jupyter-server<3,>=2.4.0->notebook==7.3.2) (4.8.0)\n",
      "Requirement already satisfied: argon2-cffi>=21.1 in c:\\users\\nmaiorana\\anaconda3\\envs\\csgy6903appliedcryptography\\lib\\site-packages (from jupyter-server<3,>=2.4.0->notebook==7.3.2) (23.1.0)\n",
      "Requirement already satisfied: jinja2>=3.0.3 in c:\\users\\nmaiorana\\anaconda3\\envs\\csgy6903appliedcryptography\\lib\\site-packages (from jupyter-server<3,>=2.4.0->notebook==7.3.2) (3.1.5)\n",
      "Requirement already satisfied: jupyter-client>=7.4.4 in c:\\users\\nmaiorana\\anaconda3\\envs\\csgy6903appliedcryptography\\lib\\site-packages (from jupyter-server<3,>=2.4.0->notebook==7.3.2) (8.6.3)\n",
      "Requirement already satisfied: jupyter-core!=5.0.*,>=4.12 in c:\\users\\nmaiorana\\anaconda3\\envs\\csgy6903appliedcryptography\\lib\\site-packages (from jupyter-server<3,>=2.4.0->notebook==7.3.2) (5.7.2)\n",
      "Requirement already satisfied: jupyter-events>=0.11.0 in c:\\users\\nmaiorana\\anaconda3\\envs\\csgy6903appliedcryptography\\lib\\site-packages (from jupyter-server<3,>=2.4.0->notebook==7.3.2) (0.11.0)\n",
      "Requirement already satisfied: jupyter-server-terminals>=0.4.4 in c:\\users\\nmaiorana\\anaconda3\\envs\\csgy6903appliedcryptography\\lib\\site-packages (from jupyter-server<3,>=2.4.0->notebook==7.3.2) (0.5.3)\n",
      "Requirement already satisfied: nbconvert>=6.4.4 in c:\\users\\nmaiorana\\anaconda3\\envs\\csgy6903appliedcryptography\\lib\\site-packages (from jupyter-server<3,>=2.4.0->notebook==7.3.2) (7.16.5)\n",
      "Requirement already satisfied: nbformat>=5.3.0 in c:\\users\\nmaiorana\\anaconda3\\envs\\csgy6903appliedcryptography\\lib\\site-packages (from jupyter-server<3,>=2.4.0->notebook==7.3.2) (5.10.4)\n",
      "Requirement already satisfied: overrides>=5.0 in c:\\users\\nmaiorana\\anaconda3\\envs\\csgy6903appliedcryptography\\lib\\site-packages (from jupyter-server<3,>=2.4.0->notebook==7.3.2) (7.7.0)\n",
      "Requirement already satisfied: packaging>=22.0 in c:\\users\\nmaiorana\\anaconda3\\envs\\csgy6903appliedcryptography\\lib\\site-packages (from jupyter-server<3,>=2.4.0->notebook==7.3.2) (24.2)\n",
      "Requirement already satisfied: prometheus-client>=0.9 in c:\\users\\nmaiorana\\anaconda3\\envs\\csgy6903appliedcryptography\\lib\\site-packages (from jupyter-server<3,>=2.4.0->notebook==7.3.2) (0.21.1)\n",
      "Requirement already satisfied: pywinpty>=2.0.1 in c:\\users\\nmaiorana\\anaconda3\\envs\\csgy6903appliedcryptography\\lib\\site-packages (from jupyter-server<3,>=2.4.0->notebook==7.3.2) (2.0.14)\n",
      "Requirement already satisfied: pyzmq>=24 in c:\\users\\nmaiorana\\anaconda3\\envs\\csgy6903appliedcryptography\\lib\\site-packages (from jupyter-server<3,>=2.4.0->notebook==7.3.2) (26.2.0)\n",
      "Requirement already satisfied: send2trash>=1.8.2 in c:\\users\\nmaiorana\\anaconda3\\envs\\csgy6903appliedcryptography\\lib\\site-packages (from jupyter-server<3,>=2.4.0->notebook==7.3.2) (1.8.3)\n",
      "Requirement already satisfied: terminado>=0.8.3 in c:\\users\\nmaiorana\\anaconda3\\envs\\csgy6903appliedcryptography\\lib\\site-packages (from jupyter-server<3,>=2.4.0->notebook==7.3.2) (0.18.1)\n",
      "Requirement already satisfied: traitlets>=5.6.0 in c:\\users\\nmaiorana\\anaconda3\\envs\\csgy6903appliedcryptography\\lib\\site-packages (from jupyter-server<3,>=2.4.0->notebook==7.3.2) (5.14.3)\n",
      "Requirement already satisfied: websocket-client>=1.7 in c:\\users\\nmaiorana\\anaconda3\\envs\\csgy6903appliedcryptography\\lib\\site-packages (from jupyter-server<3,>=2.4.0->notebook==7.3.2) (1.8.0)\n",
      "Requirement already satisfied: async-lru>=1.0.0 in c:\\users\\nmaiorana\\anaconda3\\envs\\csgy6903appliedcryptography\\lib\\site-packages (from jupyterlab<4.4,>=4.3.4->notebook==7.3.2) (2.0.4)\n",
      "Requirement already satisfied: httpx>=0.25.0 in c:\\users\\nmaiorana\\anaconda3\\envs\\csgy6903appliedcryptography\\lib\\site-packages (from jupyterlab<4.4,>=4.3.4->notebook==7.3.2) (0.28.1)\n",
      "Requirement already satisfied: ipykernel>=6.5.0 in c:\\users\\nmaiorana\\anaconda3\\envs\\csgy6903appliedcryptography\\lib\\site-packages (from jupyterlab<4.4,>=4.3.4->notebook==7.3.2) (6.29.5)\n",
      "Requirement already satisfied: jupyter-lsp>=2.0.0 in c:\\users\\nmaiorana\\anaconda3\\envs\\csgy6903appliedcryptography\\lib\\site-packages (from jupyterlab<4.4,>=4.3.4->notebook==7.3.2) (2.2.5)\n",
      "Requirement already satisfied: setuptools>=40.8.0 in c:\\users\\nmaiorana\\anaconda3\\envs\\csgy6903appliedcryptography\\lib\\site-packages (from jupyterlab<4.4,>=4.3.4->notebook==7.3.2) (75.8.0)\n",
      "Requirement already satisfied: babel>=2.10 in c:\\users\\nmaiorana\\anaconda3\\envs\\csgy6903appliedcryptography\\lib\\site-packages (from jupyterlab-server<3,>=2.27.1->notebook==7.3.2) (2.16.0)\n",
      "Requirement already satisfied: json5>=0.9.0 in c:\\users\\nmaiorana\\anaconda3\\envs\\csgy6903appliedcryptography\\lib\\site-packages (from jupyterlab-server<3,>=2.27.1->notebook==7.3.2) (0.10.0)\n",
      "Requirement already satisfied: jsonschema>=4.18.0 in c:\\users\\nmaiorana\\anaconda3\\envs\\csgy6903appliedcryptography\\lib\\site-packages (from jupyterlab-server<3,>=2.27.1->notebook==7.3.2) (4.23.0)\n",
      "Requirement already satisfied: requests>=2.31 in c:\\users\\nmaiorana\\anaconda3\\envs\\csgy6903appliedcryptography\\lib\\site-packages (from jupyterlab-server<3,>=2.27.1->notebook==7.3.2) (2.32.3)\n",
      "Requirement already satisfied: idna>=2.8 in c:\\users\\nmaiorana\\anaconda3\\envs\\csgy6903appliedcryptography\\lib\\site-packages (from anyio>=3.1.0->jupyter-server<3,>=2.4.0->notebook==7.3.2) (3.10)\n",
      "Requirement already satisfied: sniffio>=1.1 in c:\\users\\nmaiorana\\anaconda3\\envs\\csgy6903appliedcryptography\\lib\\site-packages (from anyio>=3.1.0->jupyter-server<3,>=2.4.0->notebook==7.3.2) (1.3.1)\n",
      "Requirement already satisfied: argon2-cffi-bindings in c:\\users\\nmaiorana\\anaconda3\\envs\\csgy6903appliedcryptography\\lib\\site-packages (from argon2-cffi>=21.1->jupyter-server<3,>=2.4.0->notebook==7.3.2) (21.2.0)\n",
      "Requirement already satisfied: certifi in c:\\users\\nmaiorana\\anaconda3\\envs\\csgy6903appliedcryptography\\lib\\site-packages (from httpx>=0.25.0->jupyterlab<4.4,>=4.3.4->notebook==7.3.2) (2024.12.14)\n",
      "Requirement already satisfied: httpcore==1.* in c:\\users\\nmaiorana\\anaconda3\\envs\\csgy6903appliedcryptography\\lib\\site-packages (from httpx>=0.25.0->jupyterlab<4.4,>=4.3.4->notebook==7.3.2) (1.0.7)\n",
      "Requirement already satisfied: h11<0.15,>=0.13 in c:\\users\\nmaiorana\\anaconda3\\envs\\csgy6903appliedcryptography\\lib\\site-packages (from httpcore==1.*->httpx>=0.25.0->jupyterlab<4.4,>=4.3.4->notebook==7.3.2) (0.14.0)\n",
      "Requirement already satisfied: comm>=0.1.1 in c:\\users\\nmaiorana\\anaconda3\\envs\\csgy6903appliedcryptography\\lib\\site-packages (from ipykernel>=6.5.0->jupyterlab<4.4,>=4.3.4->notebook==7.3.2) (0.2.2)\n",
      "Requirement already satisfied: debugpy>=1.6.5 in c:\\users\\nmaiorana\\anaconda3\\envs\\csgy6903appliedcryptography\\lib\\site-packages (from ipykernel>=6.5.0->jupyterlab<4.4,>=4.3.4->notebook==7.3.2) (1.8.12)\n",
      "Requirement already satisfied: ipython>=7.23.1 in c:\\users\\nmaiorana\\anaconda3\\envs\\csgy6903appliedcryptography\\lib\\site-packages (from ipykernel>=6.5.0->jupyterlab<4.4,>=4.3.4->notebook==7.3.2) (8.31.0)\n",
      "Requirement already satisfied: matplotlib-inline>=0.1 in c:\\users\\nmaiorana\\anaconda3\\envs\\csgy6903appliedcryptography\\lib\\site-packages (from ipykernel>=6.5.0->jupyterlab<4.4,>=4.3.4->notebook==7.3.2) (0.1.7)\n",
      "Requirement already satisfied: nest-asyncio in c:\\users\\nmaiorana\\anaconda3\\envs\\csgy6903appliedcryptography\\lib\\site-packages (from ipykernel>=6.5.0->jupyterlab<4.4,>=4.3.4->notebook==7.3.2) (1.6.0)\n",
      "Requirement already satisfied: psutil in c:\\users\\nmaiorana\\anaconda3\\envs\\csgy6903appliedcryptography\\lib\\site-packages (from ipykernel>=6.5.0->jupyterlab<4.4,>=4.3.4->notebook==7.3.2) (6.1.1)\n",
      "Requirement already satisfied: MarkupSafe>=2.0 in c:\\users\\nmaiorana\\anaconda3\\envs\\csgy6903appliedcryptography\\lib\\site-packages (from jinja2>=3.0.3->jupyter-server<3,>=2.4.0->notebook==7.3.2) (3.0.2)\n",
      "Requirement already satisfied: attrs>=22.2.0 in c:\\users\\nmaiorana\\anaconda3\\envs\\csgy6903appliedcryptography\\lib\\site-packages (from jsonschema>=4.18.0->jupyterlab-server<3,>=2.27.1->notebook==7.3.2) (24.3.0)\n",
      "Requirement already satisfied: jsonschema-specifications>=2023.03.6 in c:\\users\\nmaiorana\\anaconda3\\envs\\csgy6903appliedcryptography\\lib\\site-packages (from jsonschema>=4.18.0->jupyterlab-server<3,>=2.27.1->notebook==7.3.2) (2024.10.1)\n",
      "Requirement already satisfied: referencing>=0.28.4 in c:\\users\\nmaiorana\\anaconda3\\envs\\csgy6903appliedcryptography\\lib\\site-packages (from jsonschema>=4.18.0->jupyterlab-server<3,>=2.27.1->notebook==7.3.2) (0.36.1)\n",
      "Requirement already satisfied: rpds-py>=0.7.1 in c:\\users\\nmaiorana\\anaconda3\\envs\\csgy6903appliedcryptography\\lib\\site-packages (from jsonschema>=4.18.0->jupyterlab-server<3,>=2.27.1->notebook==7.3.2) (0.22.3)\n",
      "Requirement already satisfied: python-dateutil>=2.8.2 in c:\\users\\nmaiorana\\anaconda3\\envs\\csgy6903appliedcryptography\\lib\\site-packages (from jupyter-client>=7.4.4->jupyter-server<3,>=2.4.0->notebook==7.3.2) (2.9.0.post0)\n",
      "Requirement already satisfied: platformdirs>=2.5 in c:\\users\\nmaiorana\\anaconda3\\envs\\csgy6903appliedcryptography\\lib\\site-packages (from jupyter-core!=5.0.*,>=4.12->jupyter-server<3,>=2.4.0->notebook==7.3.2) (4.3.6)\n",
      "Requirement already satisfied: pywin32>=300 in c:\\users\\nmaiorana\\anaconda3\\envs\\csgy6903appliedcryptography\\lib\\site-packages (from jupyter-core!=5.0.*,>=4.12->jupyter-server<3,>=2.4.0->notebook==7.3.2) (308)\n",
      "Requirement already satisfied: python-json-logger>=2.0.4 in c:\\users\\nmaiorana\\anaconda3\\envs\\csgy6903appliedcryptography\\lib\\site-packages (from jupyter-events>=0.11.0->jupyter-server<3,>=2.4.0->notebook==7.3.2) (3.2.1)\n",
      "Requirement already satisfied: pyyaml>=5.3 in c:\\users\\nmaiorana\\anaconda3\\envs\\csgy6903appliedcryptography\\lib\\site-packages (from jupyter-events>=0.11.0->jupyter-server<3,>=2.4.0->notebook==7.3.2) (6.0.2)\n",
      "Requirement already satisfied: rfc3339-validator in c:\\users\\nmaiorana\\anaconda3\\envs\\csgy6903appliedcryptography\\lib\\site-packages (from jupyter-events>=0.11.0->jupyter-server<3,>=2.4.0->notebook==7.3.2) (0.1.4)\n",
      "Requirement already satisfied: rfc3986-validator>=0.1.1 in c:\\users\\nmaiorana\\anaconda3\\envs\\csgy6903appliedcryptography\\lib\\site-packages (from jupyter-events>=0.11.0->jupyter-server<3,>=2.4.0->notebook==7.3.2) (0.1.1)\n",
      "Requirement already satisfied: beautifulsoup4 in c:\\users\\nmaiorana\\anaconda3\\envs\\csgy6903appliedcryptography\\lib\\site-packages (from nbconvert>=6.4.4->jupyter-server<3,>=2.4.0->notebook==7.3.2) (4.12.3)\n",
      "Requirement already satisfied: bleach!=5.0.0 in c:\\users\\nmaiorana\\anaconda3\\envs\\csgy6903appliedcryptography\\lib\\site-packages (from bleach[css]!=5.0.0->nbconvert>=6.4.4->jupyter-server<3,>=2.4.0->notebook==7.3.2) (6.2.0)\n",
      "Requirement already satisfied: defusedxml in c:\\users\\nmaiorana\\anaconda3\\envs\\csgy6903appliedcryptography\\lib\\site-packages (from nbconvert>=6.4.4->jupyter-server<3,>=2.4.0->notebook==7.3.2) (0.7.1)\n",
      "Requirement already satisfied: jupyterlab-pygments in c:\\users\\nmaiorana\\anaconda3\\envs\\csgy6903appliedcryptography\\lib\\site-packages (from nbconvert>=6.4.4->jupyter-server<3,>=2.4.0->notebook==7.3.2) (0.3.0)\n",
      "Requirement already satisfied: mistune<4,>=2.0.3 in c:\\users\\nmaiorana\\anaconda3\\envs\\csgy6903appliedcryptography\\lib\\site-packages (from nbconvert>=6.4.4->jupyter-server<3,>=2.4.0->notebook==7.3.2) (3.1.0)\n",
      "Requirement already satisfied: nbclient>=0.5.0 in c:\\users\\nmaiorana\\anaconda3\\envs\\csgy6903appliedcryptography\\lib\\site-packages (from nbconvert>=6.4.4->jupyter-server<3,>=2.4.0->notebook==7.3.2) (0.10.2)\n",
      "Requirement already satisfied: pandocfilters>=1.4.1 in c:\\users\\nmaiorana\\anaconda3\\envs\\csgy6903appliedcryptography\\lib\\site-packages (from nbconvert>=6.4.4->jupyter-server<3,>=2.4.0->notebook==7.3.2) (1.5.1)\n",
      "Requirement already satisfied: pygments>=2.4.1 in c:\\users\\nmaiorana\\anaconda3\\envs\\csgy6903appliedcryptography\\lib\\site-packages (from nbconvert>=6.4.4->jupyter-server<3,>=2.4.0->notebook==7.3.2) (2.19.1)\n",
      "Requirement already satisfied: fastjsonschema>=2.15 in c:\\users\\nmaiorana\\anaconda3\\envs\\csgy6903appliedcryptography\\lib\\site-packages (from nbformat>=5.3.0->jupyter-server<3,>=2.4.0->notebook==7.3.2) (2.21.1)\n",
      "Requirement already satisfied: charset-normalizer<4,>=2 in c:\\users\\nmaiorana\\anaconda3\\envs\\csgy6903appliedcryptography\\lib\\site-packages (from requests>=2.31->jupyterlab-server<3,>=2.27.1->notebook==7.3.2) (3.4.1)\n",
      "Requirement already satisfied: urllib3<3,>=1.21.1 in c:\\users\\nmaiorana\\anaconda3\\envs\\csgy6903appliedcryptography\\lib\\site-packages (from requests>=2.31->jupyterlab-server<3,>=2.27.1->notebook==7.3.2) (2.3.0)\n",
      "Requirement already satisfied: webencodings in c:\\users\\nmaiorana\\anaconda3\\envs\\csgy6903appliedcryptography\\lib\\site-packages (from bleach!=5.0.0->bleach[css]!=5.0.0->nbconvert>=6.4.4->jupyter-server<3,>=2.4.0->notebook==7.3.2) (0.5.1)\n",
      "Requirement already satisfied: tinycss2<1.5,>=1.1.0 in c:\\users\\nmaiorana\\anaconda3\\envs\\csgy6903appliedcryptography\\lib\\site-packages (from bleach[css]!=5.0.0->nbconvert>=6.4.4->jupyter-server<3,>=2.4.0->notebook==7.3.2) (1.4.0)\n",
      "Requirement already satisfied: colorama in c:\\users\\nmaiorana\\anaconda3\\envs\\csgy6903appliedcryptography\\lib\\site-packages (from ipython>=7.23.1->ipykernel>=6.5.0->jupyterlab<4.4,>=4.3.4->notebook==7.3.2) (0.4.6)\n",
      "Requirement already satisfied: decorator in c:\\users\\nmaiorana\\anaconda3\\envs\\csgy6903appliedcryptography\\lib\\site-packages (from ipython>=7.23.1->ipykernel>=6.5.0->jupyterlab<4.4,>=4.3.4->notebook==7.3.2) (5.1.1)\n",
      "Requirement already satisfied: jedi>=0.16 in c:\\users\\nmaiorana\\anaconda3\\envs\\csgy6903appliedcryptography\\lib\\site-packages (from ipython>=7.23.1->ipykernel>=6.5.0->jupyterlab<4.4,>=4.3.4->notebook==7.3.2) (0.19.2)\n",
      "Requirement already satisfied: prompt_toolkit<3.1.0,>=3.0.41 in c:\\users\\nmaiorana\\anaconda3\\envs\\csgy6903appliedcryptography\\lib\\site-packages (from ipython>=7.23.1->ipykernel>=6.5.0->jupyterlab<4.4,>=4.3.4->notebook==7.3.2) (3.0.50)\n",
      "Requirement already satisfied: stack_data in c:\\users\\nmaiorana\\anaconda3\\envs\\csgy6903appliedcryptography\\lib\\site-packages (from ipython>=7.23.1->ipykernel>=6.5.0->jupyterlab<4.4,>=4.3.4->notebook==7.3.2) (0.6.3)\n",
      "Requirement already satisfied: fqdn in c:\\users\\nmaiorana\\anaconda3\\envs\\csgy6903appliedcryptography\\lib\\site-packages (from jsonschema[format-nongpl]>=4.18.0->jupyter-events>=0.11.0->jupyter-server<3,>=2.4.0->notebook==7.3.2) (1.5.1)\n",
      "Requirement already satisfied: isoduration in c:\\users\\nmaiorana\\anaconda3\\envs\\csgy6903appliedcryptography\\lib\\site-packages (from jsonschema[format-nongpl]>=4.18.0->jupyter-events>=0.11.0->jupyter-server<3,>=2.4.0->notebook==7.3.2) (20.11.0)\n",
      "Requirement already satisfied: jsonpointer>1.13 in c:\\users\\nmaiorana\\anaconda3\\envs\\csgy6903appliedcryptography\\lib\\site-packages (from jsonschema[format-nongpl]>=4.18.0->jupyter-events>=0.11.0->jupyter-server<3,>=2.4.0->notebook==7.3.2) (3.0.0)\n",
      "Requirement already satisfied: uri-template in c:\\users\\nmaiorana\\anaconda3\\envs\\csgy6903appliedcryptography\\lib\\site-packages (from jsonschema[format-nongpl]>=4.18.0->jupyter-events>=0.11.0->jupyter-server<3,>=2.4.0->notebook==7.3.2) (1.3.0)\n",
      "Requirement already satisfied: webcolors>=24.6.0 in c:\\users\\nmaiorana\\anaconda3\\envs\\csgy6903appliedcryptography\\lib\\site-packages (from jsonschema[format-nongpl]>=4.18.0->jupyter-events>=0.11.0->jupyter-server<3,>=2.4.0->notebook==7.3.2) (24.11.1)\n",
      "Requirement already satisfied: six>=1.5 in c:\\users\\nmaiorana\\anaconda3\\envs\\csgy6903appliedcryptography\\lib\\site-packages (from python-dateutil>=2.8.2->jupyter-client>=7.4.4->jupyter-server<3,>=2.4.0->notebook==7.3.2) (1.17.0)\n",
      "Requirement already satisfied: cffi>=1.0.1 in c:\\users\\nmaiorana\\anaconda3\\envs\\csgy6903appliedcryptography\\lib\\site-packages (from argon2-cffi-bindings->argon2-cffi>=21.1->jupyter-server<3,>=2.4.0->notebook==7.3.2) (1.17.1)\n",
      "Requirement already satisfied: soupsieve>1.2 in c:\\users\\nmaiorana\\anaconda3\\envs\\csgy6903appliedcryptography\\lib\\site-packages (from beautifulsoup4->nbconvert>=6.4.4->jupyter-server<3,>=2.4.0->notebook==7.3.2) (2.6)\n",
      "Requirement already satisfied: pycparser in c:\\users\\nmaiorana\\anaconda3\\envs\\csgy6903appliedcryptography\\lib\\site-packages (from cffi>=1.0.1->argon2-cffi-bindings->argon2-cffi>=21.1->jupyter-server<3,>=2.4.0->notebook==7.3.2) (2.22)\n",
      "Requirement already satisfied: parso<0.9.0,>=0.8.4 in c:\\users\\nmaiorana\\anaconda3\\envs\\csgy6903appliedcryptography\\lib\\site-packages (from jedi>=0.16->ipython>=7.23.1->ipykernel>=6.5.0->jupyterlab<4.4,>=4.3.4->notebook==7.3.2) (0.8.4)\n",
      "Requirement already satisfied: wcwidth in c:\\users\\nmaiorana\\anaconda3\\envs\\csgy6903appliedcryptography\\lib\\site-packages (from prompt_toolkit<3.1.0,>=3.0.41->ipython>=7.23.1->ipykernel>=6.5.0->jupyterlab<4.4,>=4.3.4->notebook==7.3.2) (0.2.13)\n",
      "Requirement already satisfied: arrow>=0.15.0 in c:\\users\\nmaiorana\\anaconda3\\envs\\csgy6903appliedcryptography\\lib\\site-packages (from isoduration->jsonschema[format-nongpl]>=4.18.0->jupyter-events>=0.11.0->jupyter-server<3,>=2.4.0->notebook==7.3.2) (1.3.0)\n",
      "Requirement already satisfied: executing>=1.2.0 in c:\\users\\nmaiorana\\anaconda3\\envs\\csgy6903appliedcryptography\\lib\\site-packages (from stack_data->ipython>=7.23.1->ipykernel>=6.5.0->jupyterlab<4.4,>=4.3.4->notebook==7.3.2) (2.2.0)\n",
      "Requirement already satisfied: asttokens>=2.1.0 in c:\\users\\nmaiorana\\anaconda3\\envs\\csgy6903appliedcryptography\\lib\\site-packages (from stack_data->ipython>=7.23.1->ipykernel>=6.5.0->jupyterlab<4.4,>=4.3.4->notebook==7.3.2) (3.0.0)\n",
      "Requirement already satisfied: pure-eval in c:\\users\\nmaiorana\\anaconda3\\envs\\csgy6903appliedcryptography\\lib\\site-packages (from stack_data->ipython>=7.23.1->ipykernel>=6.5.0->jupyterlab<4.4,>=4.3.4->notebook==7.3.2) (0.2.3)\n",
      "Requirement already satisfied: types-python-dateutil>=2.8.10 in c:\\users\\nmaiorana\\anaconda3\\envs\\csgy6903appliedcryptography\\lib\\site-packages (from arrow>=0.15.0->isoduration->jsonschema[format-nongpl]>=4.18.0->jupyter-events>=0.11.0->jupyter-server<3,>=2.4.0->notebook==7.3.2) (2.9.0.20241206)\n",
      "Collecting matplotlib==3.4.3\n",
      "  Downloading matplotlib-3.4.3.tar.gz (37.9 MB)\n",
      "     ---------------------------------------- 0.0/37.9 MB ? eta -:--:--\n",
      "     ------- -------------------------------- 7.3/37.9 MB 39.4 MB/s eta 0:00:01\n",
      "     ------------------ -------------------- 18.4/37.9 MB 43.2 MB/s eta 0:00:01\n",
      "     ---------------------------- ---------- 28.0/37.9 MB 44.9 MB/s eta 0:00:01\n",
      "     --------------------------------------  37.2/37.9 MB 45.1 MB/s eta 0:00:01\n",
      "     --------------------------------------- 37.9/37.9 MB 36.4 MB/s eta 0:00:00\n",
      "  Installing build dependencies: started\n",
      "  Installing build dependencies: finished with status 'done'\n",
      "  Getting requirements to build wheel: started\n",
      "  Getting requirements to build wheel: finished with status 'error'\n"
     ]
    },
    {
     "name": "stderr",
     "output_type": "stream",
     "text": [
      "  error: subprocess-exited-with-error\n",
      "  \n",
      "  Getting requirements to build wheel did not run successfully.\n",
      "  exit code: 1\n",
      "  \n",
      "  [42 lines of output]\n",
      "  <string>:34: SetuptoolsDeprecationWarning: The test command is disabled and references to it are deprecated.\n",
      "  !!\n",
      "  \n",
      "          ********************************************************************************\n",
      "          Please remove any references to `setuptools.command.test` in all supported versions of the affected package.\n",
      "  \n",
      "          This deprecation is overdue, please update your project and remove deprecated\n",
      "          calls to avoid build errors in the future.\n",
      "          ********************************************************************************\n",
      "  \n",
      "  !!\n",
      "  Traceback (most recent call last):\n",
      "    File \"C:\\Users\\nmaiorana\\anaconda3\\envs\\csgy6903AppliedCryptography\\Lib\\site-packages\\pip\\_vendor\\pyproject_hooks\\_in_process\\_in_process.py\", line 353, in <module>\n",
      "      main()\n",
      "      ~~~~^^\n",
      "    File \"C:\\Users\\nmaiorana\\anaconda3\\envs\\csgy6903AppliedCryptography\\Lib\\site-packages\\pip\\_vendor\\pyproject_hooks\\_in_process\\_in_process.py\", line 335, in main\n",
      "      json_out['return_val'] = hook(**hook_input['kwargs'])\n",
      "                               ~~~~^^^^^^^^^^^^^^^^^^^^^^^^\n",
      "    File \"C:\\Users\\nmaiorana\\anaconda3\\envs\\csgy6903AppliedCryptography\\Lib\\site-packages\\pip\\_vendor\\pyproject_hooks\\_in_process\\_in_process.py\", line 118, in get_requires_for_build_wheel\n",
      "      return hook(config_settings)\n",
      "    File \"C:\\Users\\nmaiorana\\AppData\\Local\\Temp\\pip-build-env-iya3m5az\\overlay\\Lib\\site-packages\\setuptools\\build_meta.py\", line 334, in get_requires_for_build_wheel\n",
      "      return self._get_build_requires(config_settings, requirements=[])\n",
      "             ~~~~~~~~~~~~~~~~~~~~~~~~^^^^^^^^^^^^^^^^^^^^^^^^^^^^^^^^^^\n",
      "    File \"C:\\Users\\nmaiorana\\AppData\\Local\\Temp\\pip-build-env-iya3m5az\\overlay\\Lib\\site-packages\\setuptools\\build_meta.py\", line 304, in _get_build_requires\n",
      "      self.run_setup()\n",
      "      ~~~~~~~~~~~~~~^^\n",
      "    File \"C:\\Users\\nmaiorana\\AppData\\Local\\Temp\\pip-build-env-iya3m5az\\overlay\\Lib\\site-packages\\setuptools\\build_meta.py\", line 522, in run_setup\n",
      "      super().run_setup(setup_script=setup_script)\n",
      "      ~~~~~~~~~~~~~~~~~^^^^^^^^^^^^^^^^^^^^^^^^^^^\n",
      "    File \"C:\\Users\\nmaiorana\\AppData\\Local\\Temp\\pip-build-env-iya3m5az\\overlay\\Lib\\site-packages\\setuptools\\build_meta.py\", line 320, in run_setup\n",
      "      exec(code, locals())\n",
      "      ~~~~^^^^^^^^^^^^^^^^\n",
      "    File \"<string>\", line 54, in <module>\n",
      "    File \"C:\\Users\\nmaiorana\\AppData\\Local\\Temp\\pip-install-3jlhpy2r\\matplotlib_58c80542b7aa4a42834bfaed7d70a80e\\versioneer.py\", line 1410, in get_version\n",
      "      return get_versions()[\"version\"]\n",
      "             ~~~~~~~~~~~~^^\n",
      "    File \"C:\\Users\\nmaiorana\\AppData\\Local\\Temp\\pip-install-3jlhpy2r\\matplotlib_58c80542b7aa4a42834bfaed7d70a80e\\versioneer.py\", line 1344, in get_versions\n",
      "      cfg = get_config_from_root(root)\n",
      "    File \"C:\\Users\\nmaiorana\\AppData\\Local\\Temp\\pip-install-3jlhpy2r\\matplotlib_58c80542b7aa4a42834bfaed7d70a80e\\versioneer.py\", line 401, in get_config_from_root\n",
      "      parser = configparser.SafeConfigParser()\n",
      "               ^^^^^^^^^^^^^^^^^^^^^^^^^^^^^\n",
      "  AttributeError: module 'configparser' has no attribute 'SafeConfigParser'. Did you mean: 'RawConfigParser'?\n",
      "  [end of output]\n",
      "  \n",
      "  note: This error originates from a subprocess, and is likely not a problem with pip.\n",
      "error: subprocess-exited-with-error\n",
      "\n",
      "Getting requirements to build wheel did not run successfully.\n",
      "exit code: 1\n",
      "\n",
      "See above for output.\n",
      "\n",
      "note: This error originates from a subprocess, and is likely not a problem with pip.\n"
     ]
    }
   ],
   "execution_count": 8
  },
  {
   "metadata": {},
   "cell_type": "markdown",
   "source": [
    "## Problem 1: Vigenère cipher\n",
    "\n",
    "(a) Encrypt the message using the Vigenère cipher with the given key, k = ‘apple’ to the message, m = ‘theclassistough’ to produce the ciphertext. Then (b) decrypt the ciphertext back to retrieve the original plaintext. Show your work.\n",
    "\n",
    "- Key is of the form K = (k0,k1,...,kn-1), Where each ki E {0,1,2,...,25}\n",
    "- Encryption:   ci= pi+ ki (mod n)(mod 26), i= 0,1,2, ... , L\n",
    "- Decryption:   pi= ci–ki (mod n)(mod 26), i= 0,1,2, ... , L\n",
    "- Just a repeating sequence of (shift by n) simple substitutions•Obviously, when n = 1, it reduces to the Caesar Cipher. 34\n"
   ],
   "id": "fda026ff5404e3ad"
  },
  {
   "metadata": {},
   "cell_type": "markdown",
   "source": "### Experimenting with the math",
   "id": "74ca626548f80d89"
  },
  {
   "metadata": {
    "ExecuteTime": {
     "end_time": "2025-02-01T17:20:27.248817Z",
     "start_time": "2025-02-01T17:20:27.236557Z"
    }
   },
   "cell_type": "code",
   "source": [
    "k = 'apple'\n",
    "p = 'theclassistough'\n",
    "n = len(p)\n",
    "print(f'n is {n}')\n",
    "\n",
    "# key Generation\n",
    "# Key is of the form K = (k0,k1,...,kn-1), Where each ki E {0,1,2,...,25}\n",
    "# The generated key ends up being the k value fit into the length of the message as many times as possible\n",
    "g = 'appleappleapplea'\n",
    "\n",
    "# Encryption\n",
    "# Encryption:   ci= pi+ ki (mod n)(mod 26), i= 0,1,2, ... , L\n",
    "# For the first letter\n",
    "pi = 't'\n",
    "ki = 'a'\n",
    "print(f\"'{pi}' is {ord(pi)}\")\n",
    "print(f\"'{ki}' is {ord(ki)}\")\n",
    "ki_mod_15 = ord(ki) % n\n",
    "print(f\"{ord(ki)} mod {n} is {ki_mod_15}\")\n",
    "ki_mod_15_mod_26 = ki_mod_15 % 26\n",
    "print(f'{ki_mod_15} mod 26  is {ki_mod_15_mod_26}')\n",
    "ci = ord(pi) + ki_mod_15_mod_26\n",
    "print(f\"ci is '{chr(ci)}': {ci} = {ord(pi)} + {ki_mod_15_mod_26}\")\n",
    "\n",
    "# Decryption\n",
    "# Decryption:   pi= ci–ki (mod n)(mod 26), i= 0,1,2, ... , L\n",
    "# For the first letter\n",
    "di = ci - ki_mod_15_mod_26\n",
    "print(f\"di is '{chr(di)}': {di} = {ci} - {ki_mod_15_mod_26}\")"
   ],
   "id": "4b6985c9b9d8c782",
   "outputs": [
    {
     "name": "stdout",
     "output_type": "stream",
     "text": [
      "n is 15\n",
      "'t' is 116\n",
      "'a' is 97\n",
      "97 mod 15 is 7\n",
      "7 mod 26  is 7\n",
      "ci is '{': 123 = 116 + 7\n",
      "di is 't': 116 = 123 - 7\n"
     ]
    }
   ],
   "execution_count": 15
  },
  {
   "metadata": {},
   "cell_type": "markdown",
   "source": [
    "## Key Generaton:\n",
    "Part of problem 1 a and b is to generate the key which is the original key, repeating as many times as needed to match the length of the message. Since our key is 'apple' and our message is 'theclassistough', our key will looke like this (showing the message above to demonstrate they are the same length):\n",
    "```plaintext\n",
    "'theclassistough'\n",
    "'appleappleapple'\n",
    "```\n",
    "\n",
    "## Part a: Encrypt the message using the Vigenère cipher with the given key, k = ‘apple’ to the message, m = ‘theclassistough’ to produce the ciphertext.\n",
    "For this we need to start by encoding the letters of both the message and they key:\n",
    "\n",
    "- 'theclassistough'\n",
    "    - t = 116\n",
    "    - h = 104\n",
    "    - e = 101\n",
    "    - c = 99\n",
    "    - l = 108\n",
    "    - a = 97\n",
    "    - s = 115\n",
    "    - s = 115\n",
    "    - i = 105\n",
    "    - s = 115\n",
    "    - t = 116\n",
    "    - o = 111\n",
    "    - u = 117\n",
    "    - g = 103\n",
    "    - h = 104\n",
    "- 'appleappleapple'\n",
    "    - a = 97\n",
    "    - p = 112\n",
    "    - p = 112\n",
    "    - l = 108\n",
    "    - e = 101\n",
    "    - a = 97\n",
    "    - p = 112\n",
    "    - p = 112\n",
    "    - l = 108\n",
    "    - e = 101\n",
    "    - a = 97\n",
    "    - p = 112\n",
    "    - p = 112\n",
    "    - l = 108\n",
    "    - e = 101\n",
    "\n",
    "Now that we have the ascii values for each of the characters, we can encrypt the message using the following formula:\n",
    "- ci= pi+ ki (mod n)(mod 26), i= 0,1,2, ... , L\n",
    "- n is 15 which is the number of characters in the message\n",
    "    - '{' or 123 = 116 + ((97 mod 15) mod 26)\n",
    "    - 'o' or 111 = 104 + ((112 mod 15) mod 26)\n",
    "    - 'l' or 108 = 101 + ((112 mod 15) mod 26)\n",
    "    - 'f' or 102 = 99 + ((108 mod 15) mod 26)\n",
    "    - 'w' or 119 = 108 + ((101 mod 15) mod 26)\n",
    "    - 'h' or 104 = 97 + ((97 mod 15) mod 26)\n",
    "    - 'z' or 122 = 115 + ((112 mod 15) mod 26)\n",
    "    - 'z' or 122 = 115 + ((112 mod 15) mod 26)\n",
    "    - 'l' or 108 = 105 + ((108 mod 15) mod 26)\n",
    "    - '~' or 126 = 115 + ((101 mod 15) mod 26)\n",
    "    - '{' or 123 = 116 + ((97 mod 15) mod 26)\n",
    "    - 'v' or 118 = 111 + ((112 mod 15) mod 26)\n",
    "    - '|' or 124 = 117 + ((112 mod 15) mod 26)\n",
    "    - 'j' or 106 = 103 + ((108 mod 15) mod 26)\n",
    "    - 's' or 115 = 104 + ((101 mod 15) mod 26)\n",
    "- And the ciphertext is: '{olfwhzzl~{v|js'\n",
    "\n",
    "## Part b: Decrypt the ciphertext back to retrieve the original plaintext. Show your work.\n",
    "- Decryption:   pi= ci–ki (mod n)(mod 26), i= 0,1,2, ... , L\n",
    "- n is 15 which is the number of characters in the ciphertext\n",
    "    - 't' or 116 = 123 - ((97 mod 15) mod 26)\n",
    "    - 'h' or 104 = 111 - ((112 mod 15) mod 26)\n",
    "    - 'e' or 101 = 108 - ((112 mod 15) mod 26)\n",
    "    - 'c' or 99 = 102 - ((108 mod 15) mod 26)\n",
    "    - 'l' or 108 = 119 - ((101 mod 15) mod 26)\n",
    "    - 'a' or 97 = 104 - ((97 mod 15) mod 26)\n",
    "    - 's' or 115 = 122 - ((112 mod 15) mod 26)\n",
    "    - 's' or 115 = 122 - ((112 mod 15) mod 26)\n",
    "    - 'i' or 105 = 108 - ((108 mod 15) mod 26)\n",
    "    - 's' or 115 = 126 - ((101 mod 15) mod 26)\n",
    "    - 't' or 116 = 123 - ((97 mod 15) mod 26)\n",
    "    - 'o' or 111 = 118 - ((112 mod 15) mod 26)\n",
    "    - 'u' or 117 = 124 - ((112 mod 15) mod 26)\n",
    "    - 'g' or 103 = 106 - ((108 mod 15) mod 26)\n",
    "    - 'h' or 104 = 115 - ((101 mod 15) mod 26)\n",
    "- And the plaintext is: 'theclassistough'"
   ],
   "id": "6df45ae37330ba9b"
  },
  {
   "metadata": {},
   "cell_type": "markdown",
   "source": [
    "## Problem2: Affine Cipher\n",
    "The Affine cipher is a type of monoalphabetic substitution cipher that employs modular arithmetic to encrypt the letters of a message. The encryption formula is c = (a * p + b) mod n, where 'p' is the plaintext letter, 'c' is the ciphertext letter, 'n' is the modulus. 'a' and 'b' are keys, and 'a' must be chosen such that 'a' and 'n' are coprime (relatively prime). In this cipher, each letter of the plaintext is converted into an integer, for example, A=0, B=1, C=2, and so on.\n",
    "\n",
    "p = a^-1(c - b) mod 26"
   ],
   "id": "c1b19c85c053709a"
  },
  {
   "metadata": {},
   "cell_type": "markdown",
   "source": [
    "### a) What is the size of key space for a fixed modular n?\n",
    "Students can use the notation of the Euler's totient Φ(n) which is defined as the number of integers less than n and relative prime to n.\n",
    "Since the key space is the number of possible keys that can be used, we need to find the number of possible keys for a fixed modular n. This is the same as finding the number of integers less than n that are relatively prime to n. The formula for the Euler's totient is:\n",
    "- Φ(n) = n * (1 - 1/p1) * (1 - 1/p2) * ... * (1 - 1/pn)\n",
    "\n",
    "where p1, p2, ..., pn are the prime factors of n.\n",
    "\n",
    "An example of this for n = 26 is:\n",
    "- Φ(26) = 26 * (1 - 1/2) * (1 - 1/13) = 12\n",
    "\n",
    "This means that key a has 12 numbers that are coprime to 26, so there are 12 possible keys.\n",
    "\n",
    "Key b can be any integer between 0 and 25 or 26 values. This means the total key space for n = 26 would be 12 X 26 or 312."
   ],
   "id": "160faea3a927701"
  },
  {
   "metadata": {},
   "cell_type": "markdown",
   "source": [
    "\n",
    "### b) Imagine you're a cryptographer tasked with sending a secure message using the Affine Cipher.\n",
    "Your message consists only of capital letters, and you've decided to use the encryption formula c = 5p+9 mod 26 and do it manually. What is the ciphertext for the plaintext “CRYPTOISFUN”?\n",
    "\n",
    "Using the encoding of A=0, B=1, C=2, ..., Z=25, we can find the following:\n",
    "\n",
    "- C = 2\n",
    "- R = 17\n",
    "- Y = 24\n",
    "- P = 15\n",
    "- T = 19\n",
    "- O = 14\n",
    "- I = 8\n",
    "- S = 18\n",
    "- F = 5\n",
    "- U = 20\n",
    "- N = 13\n",
    "\n",
    "Now we can encrypt the message using the formula c = 5p+9 mod 26:\n",
    "- 'C' to 'T' or 19 = (5 * 2 + 9) mod 26\n",
    "- 'R' to 'Q' or 16 = (5 * 17 + 9) mod 26\n",
    "- 'Y' to 'Z' or 25 = (5 * 24 + 9) mod 26\n",
    "- 'P' to 'G' or 6 = (5 * 15 + 9) mod 26\n",
    "- 'T' to 'A' or 0 = (5 * 19 + 9) mod 26\n",
    "- 'O' to 'B' or 1 = (5 * 14 + 9) mod 26\n",
    "- 'I' to 'X' or 23 = (5 * 8 + 9) mod 26\n",
    "- 'S' to 'V' or 21 = (5 * 18 + 9) mod 26\n",
    "- 'F' to 'I' or 8 = (5 * 5 + 9) mod 26\n",
    "- 'U' to 'F' or 5 = (5 * 20 + 9) mod 26\n",
    "- 'N' to 'W' or 22 = (5 * 13 + 9) mod 26\n",
    "- Ciphertext is 'TQZGABXVIFW'\n"
   ],
   "id": "992df60111f5c4e2"
  },
  {
   "metadata": {},
   "cell_type": "markdown",
   "source": [
    "\n",
    "### c) Eve has intercepted a ciphertext “QJKESREOGHGXXREOXEO” and,\n",
    " through her intelligence sources, discovered that it’s encrypted using an Affine Cipher. She also has limited information about the encryption process: the letter 'T' is encrypted to 'H' and 'O' to 'E'. With this knowledge, she aims to decrypt the message. Your challenge is to help Eve by developing a method to find the decryption function of the Affine Cipher using the given information. You do it manually. Show your work.\n",
    "\n",
    "We can help Eve by plugging in the know values for each known computation and subtracting the formulas from each other.\n",
    "\n",
    "We know:\n",
    "- 'T' or 19 encrypts to 'H' or 7 = (a * 19 + b) mod 26 = (19a + b) mod 26 = 7\n",
    "- 'O' or 14 encrypts to 'E' or 4 = (a * 14 + b) mod 26 = (14a + b) mod 26 = 4\n",
    "\n",
    "- 'H' or 7 decrypts to 'H' or 19 = a^-1(7 - b) mod 26\n",
    "- 'E' or 4 decrypts to 'O' or 14 = a^-1(4 - b) mod 26\n",
    "\n",
    "from class lecture:\n",
    "- $$ p = a^{-1}(c - b) mod 26 $$\n",
    "- $$ p = ca - ba mod 26 $$\n",
    "\n",
    "To solve for a we can subtract the 2 formulas to remove b:\n",
    "- 7 - 4 = ((a * 19 + b) mod 26) - ((a * 14 + b) mod 26)\n",
    "- 7 - 4 = (a * 19 + b - a * 14 - b) mod 26\n",
    "- 7 - 4 = (a * 19 - a * 14) mod 26\n",
    "- 7 - 4 = (a * (19 - 14)) mod 26\n",
    "- 3 = a5 mod 26\n",
    "\n",
    "solving for a:\n",
    "3 = a5 mod 26\n",
    "\n",
    "y1 - y2 = (a * (19 - 14)) mod 26\n",
    "a =\n",
    "\n",
    "\n",
    "```plaintext\n",
    "for a in [1, 3, 5, 7, 9, 11, 15, 17, 19, 21, 23, 25]:\n",
    "    for b in range(26):\n",
    "        if (a * 19 + b) % 26 == 7 and (a * 14 + b) % 26 == 4:\n",
    "            print(f'a: {a}, b: {b}')\n",
    "```"
   ],
   "id": "6a283c91650c918d"
  },
  {
   "metadata": {
    "ExecuteTime": {
     "end_time": "2025-02-06T04:02:59.076647Z",
     "start_time": "2025-02-06T04:02:59.051386Z"
    }
   },
   "cell_type": "code",
   "source": [
    "print(111 // 21, 111 % 21 )\n",
    "print(21 // 6, 21 % 6 )\n",
    "print( 7 * 16)"
   ],
   "id": "cd241b5b8acc9360",
   "outputs": [
    {
     "name": "stdout",
     "output_type": "stream",
     "text": [
      "5 6\n",
      "3 3\n",
      "112\n"
     ]
    }
   ],
   "execution_count": 20
  },
  {
   "metadata": {},
   "cell_type": "markdown",
   "source": [
    "## 3Problem 3 Frequency Analysis\n",
    "Alice has crafted a message for Bob using a simple substitution cipher. The encrypted message, segmented is \"TNFOS FOZSW PZLOC GQAOZ WAGQR PJZPN ABCZP QDOGR AMTHA RAXTB AGZJO GMTHA RAVAP ZW\", where spaces are not part of the original encryption and are added only for convenience. Eve, who has intercepted the message, knows that the word \"liberty\" appears somewhere in the plaintext."
   ],
   "id": "1d647bd36d3b64cb"
  },
  {
   "metadata": {},
   "cell_type": "markdown",
   "source": [
    "### a) Calculate the Size of the Key Space. Explain how the key space is calculated and its implications for the cipher's security.\n",
    "\n",
    "For a simple substitution the keyspace is 26! or 403X10^24. There are 26 letters in the alphabet and 26 possible letters to substitute for each letter. This means that there are 26! possible keys. This is a very large number and would be very difficult to brute force. The implications for the cipher's security is that it is very secure and would be difficult to break without knowing the key."
   ],
   "id": "3029615fa4632150"
  },
  {
   "metadata": {},
   "cell_type": "markdown",
   "source": [
    "### b) Given Eve's knowledge that the word \"liberty\" is in the plaintext, devise a strategy to decrypt the message.\n",
    "This task requires analyzing the ciphertext, making educated guesses, and testing hypotheses about the cipher's key. Your goal is to uncover the original message sent by Alice to Bob. You can solve it using any resources you have. A detailed explanation of your method is required.\n",
    "\n",
    "First, lets get the string normalized so we can do some statistical analysis on it. We will remove all spaces and make all the letters uppercase.\n",
    "\n"
   ],
   "id": "f182c702771456d8"
  },
  {
   "metadata": {
    "ExecuteTime": {
     "end_time": "2025-02-05T20:17:10.632120Z",
     "start_time": "2025-02-05T20:17:10.622567Z"
    }
   },
   "cell_type": "code",
   "source": [
    "# Normalize the string by removing spaces and making all the letters uppercase\n",
    "ciphertext = \"TNFOS FOZSW PZLOC GQAOZ WAGQR PJZPN ABCZP QDOGR AMTHA RAXTB AGZJO GMTHA RAVAP ZW\"\n",
    "ciphertext = ciphertext.replace(\" \", \"\").upper()\n",
    "print(f\"Normalized Ciphertext: '{ciphertext}'\")\n"
   ],
   "id": "778cbe7801cd074e",
   "outputs": [
    {
     "name": "stdout",
     "output_type": "stream",
     "text": [
      "Normalized Ciphertext: 'TNFOSFOZSWPZLOCGQAOZWAGQRPJZPNABCZPQDOGRAMTHARAXTBAGZJOGMTHARAVAPZW'\n"
     ]
    }
   ],
   "execution_count": 2
  },
  {
   "metadata": {
    "ExecuteTime": {
     "end_time": "2025-02-06T06:12:35.680182Z",
     "start_time": "2025-02-06T06:12:34.816059Z"
    }
   },
   "cell_type": "code",
   "source": [
    "# Count the frequency of each letter in the ciphertext\n",
    "from collections import Counter\n",
    "letter_freq = Counter(ciphertext)\n",
    "\n",
    "import matplotlib.pyplot as plt\n",
    "# Display the distribution of the letters sorted by alphabetical order\n",
    "\n",
    "\n",
    "\n",
    "\n",
    "# Calculate the frequency of each letter\n",
    "total = sum(letter_freq.values())\n",
    "letter_freq = {k: v / total for k, v in letter_freq.items()}\n",
    "top_letter_freq = sorted(letter_freq.items(), key=lambda x: x[1], reverse=True)[0:8]\n",
    "x, y = zip(*top_letter_freq)\n",
    "\n",
    "plt.bar(x, y)\n",
    "plt.xlabel(\"Letter\")\n",
    "plt.ylabel(\"Frequency\")\n",
    "plt.title(\"Letter Frequency\")\n",
    "plt.show()\n",
    "\n",
    "# Calculate the frequency of bigrams\n",
    "bigrams = [ciphertext[i:i+2] for i in range(len(ciphertext)-1)]\n",
    "bigram_freq = Counter(bigrams)\n",
    "total = sum(bigram_freq.values())\n",
    "bigram_freq = {k: v / total for k, v in bigram_freq.items()}\n",
    "top_bigram_freq = sorted(bigram_freq.items(), key=lambda x: x[1], reverse=True)[0:8]\n",
    "x, y = zip(*top_bigram_freq)\n",
    "plt.bar(x, y)\n",
    "plt.xlabel(\"Bigram\")\n",
    "plt.ylabel(\"Frequency\")\n",
    "plt.title(\"Bigram Frequency\")\n",
    "plt.show()\n",
    "\n",
    "# Calculate the frequency of trigrams\n",
    "trigrams = [ciphertext[i:i+3] for i in range(len(ciphertext)-2)]\n",
    "trigram_freq = Counter(trigrams)\n",
    "total = sum(trigram_freq.values())\n",
    "trigram_freq = {k: v / total for k, v in trigram_freq.items()}\n",
    "top_trigram_freq = sorted(trigram_freq.items(), key=lambda x: x[1], reverse=True)[0:8]\n",
    "x, y = zip(*top_trigram_freq)\n",
    "plt.bar(x, y)\n",
    "plt.xlabel(\"Trigram\")\n",
    "plt.ylabel(\"Frequency\")\n",
    "plt.title(\"Trigram Frequency\")\n",
    "plt.show()\n",
    "\n"
   ],
   "id": "6dedd1583acbf0ca",
   "outputs": [
    {
     "data": {
      "text/plain": [
       "<Figure size 640x480 with 1 Axes>"
      ],
      "image/png": "[encoded data removed]"
     },
     "metadata": {},
     "output_type": "display_data"
    },
    {
     "data": {
      "text/plain": [
       "<Figure size 640x480 with 1 Axes>"
      ],
      "image/png": "[encoded data removed]"
     },
     "metadata": {},
     "output_type": "display_data"
    },
    {
     "data": {
      "text/plain": [
       "<Figure size 640x480 with 1 Axes>"
      ],
      "image/png": "[encoded data removed]"
     },
     "metadata": {},
     "output_type": "display_data"
    }
   ],
   "execution_count": 80
  },
  {
   "metadata": {},
   "cell_type": "markdown",
   "source": [
    "```\n",
    "**E\n",
    "*E*\n",
    "E*E\n",
    "```"
   ],
   "id": "c9892e36ba46707c"
  },
  {
   "metadata": {},
   "cell_type": "markdown",
   "source": [
    "Using the frequency analysis, we can make some educated guesses about the letters using standrd english letter frequency\n",
    "\n",
    "- replace \"Z\" with \"T\"\n",
    "\n",
    "TNFOSFOZSWPZLOCGQAOZWAGQRPJZPNABCZPQDOGRAMTHARAXTBAGZJOGMTHARAVAPZW\n",
    "\n"
   ],
   "id": "82c94452f0d96bbf"
  },
  {
   "metadata": {
    "ExecuteTime": {
     "end_time": "2025-02-06T06:50:51.821799Z",
     "start_time": "2025-02-06T06:50:51.805648Z"
    }
   },
   "cell_type": "code",
   "source": [
    "print(ciphertext)\n",
    "p = ciphertext\n",
    "\n",
    "p = p.replace(\"E\", \"e\")\n",
    "p = p.replace(\"A\", \"E\")\n",
    "p = p.replace(\"T\", \"t\")\n",
    "p = p.replace(\"Z\", \"T\")\n",
    "p = p.replace(\"R\", \"r\")\n",
    "p = p.replace(\"G\", \"R\")\n",
    "p = p.replace(\"B\", \"B\")\n",
    "p = p.replace(\"B\", \"B\")\n",
    "p = p.replace(\"I\", \"i\")\n",
    "p = p.replace(\"t\", \"I\")\n",
    "p = p.replace(\"L\", \"l\")\n",
    "p = p.replace(\"X\", \"L\")\n",
    "p = p.replace(\"Y\", \"y\")\n",
    "p = p.replace(\"J\", \"Y\")\n",
    "p = p.replace(\"N\", \"n\")\n",
    "p = p.replace(\"P\", \"N\")\n",
    "p = p.replace(\"S\", \"s\")\n",
    "p = p.replace(\"W\", \"S\")\n",
    "\n",
    "\n",
    "print(p)"
   ],
   "id": "cb0b0f2b1ae62ad5",
   "outputs": [
    {
     "name": "stdout",
     "output_type": "stream",
     "text": [
      "TNFOSFOZSWPZLOCGQAOZWAGQRPJZPNABCZPQDOGRAMTHARAXTBAGZJOGMTHARAVAPZW\n",
      "InFOsFOTsSNTlOCRQEOTSERQrNYTNnEBCTNQDORrEMIHErELIBERTYORMIHErEVENTS\n"
     ]
    }
   ],
   "execution_count": 92
  },
  {
   "metadata": {},
   "cell_type": "markdown",
   "source": [
    "TNFOSFOZSWPZLOCGQAOZWAGQRPJZPNABCZPQDOGRAMTHARA XTBAGZJ OGMTHAR AVAPZW\n",
    "InFOsFOTsSNTlOCRQEOTSERQrNYTNnEBCTNQDORrEMIHErE LIBERTY ORMIHEr EVENTS\n",
    "                                                LIBERTY\n",
    "\n",
    "\n",
    "\n",
    "OTSEPTL\n",
    "LIBERTY\n",
    "```"
   ],
   "id": "16dbb44eb9620d5"
  },
  {
   "metadata": {
    "ExecuteTime": {
     "end_time": "2025-02-06T04:53:09.056960Z",
     "start_time": "2025-02-06T04:53:09.049765Z"
    }
   },
   "cell_type": "code",
   "source": [
    "p = (p.replace(\"C\", \"L\")\n",
    "     .replace(\"G\", \"I\").replace(\"Q\", \"B\").replace(\"O\", \"R\").replace(\"W\", \"Y\").replace(\"A\", \"E\").replace(\"P\", \"A\"))\n",
    "print(p)"
   ],
   "id": "2c7a75d5a1d4aed6",
   "outputs": [
    {
     "name": "stdout",
     "output_type": "stream",
     "text": [
      "TNFRSFRTSYATLRLIBERTYEIBRAJTANEBLTABDRIREMTHEREXTBEITJRIMTHEREVEATY\n"
     ]
    }
   ],
   "execution_count": 39
  },
  {
   "metadata": {},
   "cell_type": "markdown",
   "source": [
    "```\n",
    "TNFRSFRTSYPTLR LIBERTY EIBRPJTPNEBLTPBDRIREM THERE XTBEITJRIM THERE VEPTY\n",
    "```"
   ],
   "id": "a8ffd313e818ed61"
  },
  {
   "metadata": {
    "ExecuteTime": {
     "end_time": "2025-02-06T04:58:35.733301Z",
     "start_time": "2025-02-06T04:58:35.724218Z"
    }
   },
   "cell_type": "code",
   "source": [
    "p1 = \"TNFRSFRTSYPTLR LIBERTY EIBRPJTPNEBLTPBDRIREM THERE XTBEITJRIM THERE VEPTY\"\n",
    "P1 = p1.replace(\"G\", \"A\")\n",
    "print(P1)"
   ],
   "id": "49a6d8d4bc3bf427",
   "outputs": [
    {
     "name": "stdout",
     "output_type": "stream",
     "text": [
      "TNFRSFRTSYPTLR LIBERTY EIBRPJTPNEBLTPBDRIREM THERE XTBEITJRIM THERE VEPTY\n"
     ]
    }
   ],
   "execution_count": 43
  }
 ],
 "metadata": {
  "kernelspec": {
   "display_name": "Python 3",
   "language": "python",
   "name": "python3"
  },
  "language_info": {
   "codemirror_mode": {
    "name": "ipython",
    "version": 2
   },
   "file_extension": ".py",
   "mimetype": "text/x-python",
   "name": "python",
   "nbconvert_exporter": "python",
   "pygments_lexer": "ipython2",
   "version": "2.7.6"
  }
 },
 "nbformat": 4,
 "nbformat_minor": 5
}
